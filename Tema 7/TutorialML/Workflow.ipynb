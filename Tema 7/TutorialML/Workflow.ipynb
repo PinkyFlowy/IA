{
 "cells": [
  {
   "cell_type": "markdown",
   "metadata": {},
   "source": [
    "# Flujo de Trabajo en ML"
   ]
  },
  {
   "cell_type": "markdown",
   "metadata": {},
   "source": [
    "Antes de ejecutar ninguna celda, por favor asegúrate de activar e instanciar el entorno de paquetes para el tutorial. Para ello, usa los ficheros `Project.toml` y y `Manifest.toml` que se distribuyen en la página de la asignatura junto a este notebook (graba todo en una carpeta, por ejemplo de nombre `TutorialML`). Tras tener todo preparado, puedes volver a este notebook y comenzar a ejecutar las celdas.\n",
    "\n",
    "**Importante**: La siguiente celda prepara el entorno cargando los paquetes necesarios."
   ]
  },
  {
   "cell_type": "code",
   "execution_count": 2,
   "metadata": {},
   "outputs": [
    {
     "name": "stderr",
     "output_type": "stream",
     "text": [
      "\u001b[32m\u001b[1m  Activating\u001b[22m\u001b[39m project at `c:\\Users\\fsancho\\Nextcloud\\Clases\\IA\\IA24-25\\Practicas\\TutorialesML`\n"
     ]
    }
   ],
   "source": [
    "using Pkg; Pkg.activate(\"\"); Pkg.instantiate()"
   ]
  },
  {
   "cell_type": "code",
   "execution_count": 3,
   "metadata": {},
   "outputs": [
    {
     "data": {
      "text/plain": [
       "v\"0.20.7\""
      ]
     },
     "metadata": {},
     "output_type": "display_data"
    }
   ],
   "source": [
    "using MLJ\n",
    "MLJ_VERSION"
   ]
  },
  {
   "cell_type": "markdown",
   "metadata": {},
   "source": [
    "# Workflow de un vistazo"
   ]
  },
  {
   "cell_type": "markdown",
   "metadata": {},
   "source": [
    "![](img/image-15.png)"
   ]
  },
  {
   "cell_type": "markdown",
   "metadata": {},
   "source": [
    "# 1. Carga de Datos"
   ]
  },
  {
   "cell_type": "code",
   "execution_count": 6,
   "metadata": {},
   "outputs": [
    {
     "name": "stdout",
     "output_type": "stream",
     "text": [
      "┌─────────────────────────────────┬───────┬───────┬───────┬───────┐\n",
      "│\u001b[1m Sex                             \u001b[0m│\u001b[1m Entry \u001b[0m│\u001b[1m Exit  \u001b[0m│\u001b[1m Time  \u001b[0m│\u001b[1m Cens  \u001b[0m│\n",
      "│\u001b[90m CategoricalValue{String, UInt8} \u001b[0m│\u001b[90m Int32 \u001b[0m│\u001b[90m Int32 \u001b[0m│\u001b[90m Int32 \u001b[0m│\u001b[90m Int32 \u001b[0m│\n",
      "│\u001b[90m Multiclass{2}                   \u001b[0m│\u001b[90m Count \u001b[0m│\u001b[90m Count \u001b[0m│\u001b[90m Count \u001b[0m│\u001b[90m Count \u001b[0m│\n",
      "├─────────────────────────────────┼───────┼───────┼───────┼───────┤\n",
      "│ Male                            │ 782   │ 909   │ 127   │ 1     │\n",
      "│ Male                            │ 1020  │ 1128  │ 108   │ 1     │\n",
      "│ Male                            │ 856   │ 969   │ 113   │ 1     │\n",
      "│ Male                            │ 915   │ 957   │ 42    │ 1     │\n",
      "└─────────────────────────────────┴───────┴───────┴───────┴───────┘\n"
     ]
    }
   ],
   "source": [
    "import RDatasets\n",
    "channing = RDatasets.dataset(\"boot\", \"channing\")\n",
    "first(channing, 4) |> pretty"
   ]
  },
  {
   "cell_type": "markdown",
   "metadata": {},
   "source": [
    "Inspección de metadatos, incluidos los tipos científicos de columna:"
   ]
  },
  {
   "cell_type": "code",
   "execution_count": 7,
   "metadata": {},
   "outputs": [
    {
     "data": {
      "text/plain": [
       "┌───────┬───────────────┬─────────────────────────────────┐\n",
       "│\u001b[22m names \u001b[0m│\u001b[22m scitypes      \u001b[0m│\u001b[22m types                           \u001b[0m│\n",
       "├───────┼───────────────┼─────────────────────────────────┤\n",
       "│ Sex   │ Multiclass{2} │ CategoricalValue{String, UInt8} │\n",
       "│ Entry │ Count         │ Int32                           │\n",
       "│ Exit  │ Count         │ Int32                           │\n",
       "│ Time  │ Count         │ Int32                           │\n",
       "│ Cens  │ Count         │ Int32                           │\n",
       "└───────┴───────────────┴─────────────────────────────────┘\n"
      ]
     },
     "metadata": {},
     "output_type": "display_data"
    }
   ],
   "source": [
    "schema(channing)"
   ]
  },
  {
   "cell_type": "markdown",
   "metadata": {},
   "source": [
    "Dividir horizontalmente los datos y barajar las filas. \n",
    "\n",
    "Aquí `y` es la columna `:Exit` y `X` una tabla con todo lo demás:"
   ]
  },
  {
   "cell_type": "code",
   "execution_count": 10,
   "metadata": {},
   "outputs": [
    {
     "data": {
      "text/plain": [
       "(Int32[913, 911, 1001, 824, 1000, 985, 1013, 891, 952, 930  …  926, 1056, 932, 1024, 868, 1020, 804, 1012, 927, 1085], \u001b[1m462×4 DataFrame\u001b[0m\n",
       "\u001b[1m Row \u001b[0m│\u001b[1m Sex    \u001b[0m\u001b[1m Entry \u001b[0m\u001b[1m Time  \u001b[0m\u001b[1m Cens  \u001b[0m\n",
       "     │\u001b[90m Cat…   \u001b[0m\u001b[90m Int32 \u001b[0m\u001b[90m Int32 \u001b[0m\u001b[90m Int32 \u001b[0m\n",
       "─────┼─────────────────────────────\n",
       "   1 │ Female    881     32      0\n",
       "   2 │ Female    837     74      1\n",
       "   3 │ Male      969     32      0\n",
       "   4 │ Female    821      3      0\n",
       "   5 │ Female    889    111      1\n",
       "   6 │ Female    933     52      0\n",
       "   7 │ Female    972     41      0\n",
       "   8 │ Female    887      4      0\n",
       "  ⋮  │   ⋮       ⋮      ⋮      ⋮\n",
       " 456 │ Female    902    122      0\n",
       " 457 │ Female    828     40      1\n",
       " 458 │ Female    883    137      0\n",
       " 459 │ Female    748     56      1\n",
       " 460 │ Female    948     64      0\n",
       " 461 │ Female    894     33      0\n",
       " 462 │ Female    948    137      0\n",
       "\u001b[36m                   447 rows omitted\u001b[0m)"
      ]
     },
     "metadata": {},
     "output_type": "display_data"
    }
   ],
   "source": [
    "y, X = unpack(channing, ==(:Exit), rng=123)"
   ]
  },
  {
   "cell_type": "markdown",
   "metadata": {},
   "source": [
    "Aquí `y` es la columna `:Exit` y `X` todo lo demás excepto `:Time`:"
   ]
  },
  {
   "cell_type": "code",
   "execution_count": 11,
   "metadata": {},
   "outputs": [
    {
     "data": {
      "text/plain": [
       "AbstractVector{Count}\u001b[90m (alias for \u001b[39m\u001b[90mAbstractArray{Count, 1}\u001b[39m\u001b[90m)\u001b[39m"
      ]
     },
     "metadata": {},
     "output_type": "display_data"
    }
   ],
   "source": [
    "y, X = unpack(channing,\n",
    "              ==(:Exit),\n",
    "              !=(:Time);\n",
    "              rng=123);\n",
    "scitype(y)"
   ]
  },
  {
   "cell_type": "code",
   "execution_count": 12,
   "metadata": {},
   "outputs": [
    {
     "data": {
      "text/plain": [
       "┌───────┬───────────────┬─────────────────────────────────┐\n",
       "│\u001b[22m names \u001b[0m│\u001b[22m scitypes      \u001b[0m│\u001b[22m types                           \u001b[0m│\n",
       "├───────┼───────────────┼─────────────────────────────────┤\n",
       "│ Sex   │ Multiclass{2} │ CategoricalValue{String, UInt8} │\n",
       "│ Entry │ Count         │ Int32                           │\n",
       "│ Cens  │ Count         │ Int32                           │\n",
       "└───────┴───────────────┴─────────────────────────────────┘\n"
      ]
     },
     "metadata": {},
     "output_type": "display_data"
    }
   ],
   "source": [
    "schema(X)"
   ]
  },
  {
   "cell_type": "markdown",
   "metadata": {},
   "source": [
    "Corrección de tipos científicos erróneos en `X`:"
   ]
  },
  {
   "cell_type": "code",
   "execution_count": 13,
   "metadata": {},
   "outputs": [
    {
     "data": {
      "text/plain": [
       "┌───────┬───────────────┬─────────────────────────────────┐\n",
       "│\u001b[22m names \u001b[0m│\u001b[22m scitypes      \u001b[0m│\u001b[22m types                           \u001b[0m│\n",
       "├───────┼───────────────┼─────────────────────────────────┤\n",
       "│ Sex   │ Multiclass{2} │ CategoricalValue{String, UInt8} │\n",
       "│ Entry │ Continuous    │ Float64                         │\n",
       "│ Cens  │ Multiclass{2} │ CategoricalValue{Int32, UInt32} │\n",
       "└───────┴───────────────┴─────────────────────────────────┘\n"
      ]
     },
     "metadata": {},
     "output_type": "display_data"
    }
   ],
   "source": [
    "X = coerce(X, :Exit=>Continuous, :Entry=>Continuous, :Cens=>Multiclass);\n",
    "schema(X)"
   ]
  },
  {
   "cell_type": "markdown",
   "metadata": {},
   "source": [
    "Carga de un conjunto de datos supervisados integrado:"
   ]
  },
  {
   "cell_type": "code",
   "execution_count": 14,
   "metadata": {},
   "outputs": [
    {
     "data": {
      "text/plain": [
       "┌──────────────┬───────────────┬──────────────────────────────────┐\n",
       "│\u001b[22m names        \u001b[0m│\u001b[22m scitypes      \u001b[0m│\u001b[22m types                            \u001b[0m│\n",
       "├──────────────┼───────────────┼──────────────────────────────────┤\n",
       "│ sepal_length │ Continuous    │ Float64                          │\n",
       "│ sepal_width  │ Continuous    │ Float64                          │\n",
       "│ petal_length │ Continuous    │ Float64                          │\n",
       "│ petal_width  │ Continuous    │ Float64                          │\n",
       "│ target       │ Multiclass{3} │ CategoricalValue{String, UInt32} │\n",
       "└──────────────┴───────────────┴──────────────────────────────────┘\n"
      ]
     },
     "metadata": {},
     "output_type": "display_data"
    }
   ],
   "source": [
    "table = load_iris();\n",
    "schema(table)"
   ]
  },
  {
   "cell_type": "markdown",
   "metadata": {},
   "source": [
    "Carga de un conjunto de datos ya dividido en `X` e `y`:"
   ]
  },
  {
   "cell_type": "code",
   "execution_count": 15,
   "metadata": {},
   "outputs": [
    {
     "data": {
      "text/plain": [
       "(sepal_length = [5.1, 4.9, 4.7, 4.6],\n",
       " sepal_width = [3.5, 3.0, 3.2, 3.1],\n",
       " petal_length = [1.4, 1.4, 1.3, 1.5],\n",
       " petal_width = [0.2, 0.2, 0.2, 0.2],)"
      ]
     },
     "metadata": {},
     "output_type": "display_data"
    }
   ],
   "source": [
    "X, y = @load_iris;\n",
    "selectrows(X, 1:4) # selectrows funcions cuando `Tables.istable(X)==true`."
   ]
  },
  {
   "cell_type": "code",
   "execution_count": 16,
   "metadata": {},
   "outputs": [
    {
     "data": {
      "text/plain": [
       "4-element CategoricalArrays.CategoricalArray{String,1,UInt32}:\n",
       " \"setosa\"\n",
       " \"setosa\"\n",
       " \"setosa\"\n",
       " \"setosa\""
      ]
     },
     "metadata": {},
     "output_type": "display_data"
    }
   ],
   "source": [
    "y[1:4]"
   ]
  },
  {
   "cell_type": "markdown",
   "metadata": {},
   "source": [
    "Dividir los datos verticalmente después de barajar las filas:"
   ]
  },
  {
   "cell_type": "code",
   "execution_count": 18,
   "metadata": {},
   "outputs": [
    {
     "data": {
      "text/plain": [
       "(\u001b[1m277×5 DataFrame\u001b[0m\n",
       "\u001b[1m Row \u001b[0m│\u001b[1m Sex    \u001b[0m\u001b[1m Entry \u001b[0m\u001b[1m Exit  \u001b[0m\u001b[1m Time  \u001b[0m\u001b[1m Cens  \u001b[0m\n",
       "     │\u001b[90m Cat…   \u001b[0m\u001b[90m Int32 \u001b[0m\u001b[90m Int32 \u001b[0m\u001b[90m Int32 \u001b[0m\u001b[90m Int32 \u001b[0m\n",
       "─────┼────────────────────────────────────\n",
       "   1 │ Female    881    913     32      0\n",
       "   2 │ Female    837    911     74      1\n",
       "   3 │ Male      969   1001     32      0\n",
       "   4 │ Female    821    824      3      0\n",
       "   5 │ Female    889   1000    111      1\n",
       "   6 │ Female    933    985     52      0\n",
       "   7 │ Female    972   1013     41      0\n",
       "   8 │ Female    887    891      4      0\n",
       "  ⋮  │   ⋮       ⋮      ⋮      ⋮      ⋮\n",
       " 271 │ Female    965   1102    137      0\n",
       " 272 │ Female   1002   1010      8      0\n",
       " 273 │ Female    939    978     39      1\n",
       " 274 │ Female    900    926     26      0\n",
       " 275 │ Female    955    990     35      1\n",
       " 276 │ Female    919    931     12      1\n",
       " 277 │ Female    831    925     94      0\n",
       "\u001b[36m                          262 rows omitted\u001b[0m, \u001b[1m185×5 DataFrame\u001b[0m\n",
       "\u001b[1m Row \u001b[0m│\u001b[1m Sex    \u001b[0m\u001b[1m Entry \u001b[0m\u001b[1m Exit  \u001b[0m\u001b[1m Time  \u001b[0m\u001b[1m Cens  \u001b[0m\n",
       "     │\u001b[90m Cat…   \u001b[0m\u001b[90m Int32 \u001b[0m\u001b[90m Int32 \u001b[0m\u001b[90m Int32 \u001b[0m\u001b[90m Int32 \u001b[0m\n",
       "─────┼────────────────────────────────────\n",
       "   1 │ Female    888    919     31      1\n",
       "   2 │ Female    863   1000    137      0\n",
       "   3 │ Male      955   1055    100      1\n",
       "   4 │ Male      906   1012    106      1\n",
       "   5 │ Female    968    990     22      1\n",
       "   6 │ Female    838    975    137      0\n",
       "   7 │ Male      856    927     71      1\n",
       "   8 │ Male      982   1006     24      0\n",
       "  ⋮  │   ⋮       ⋮      ⋮      ⋮      ⋮\n",
       " 179 │ Female    902   1024    122      0\n",
       " 180 │ Female    828    868     40      1\n",
       " 181 │ Female    883   1020    137      0\n",
       " 182 │ Female    748    804     56      1\n",
       " 183 │ Female    948   1012     64      0\n",
       " 184 │ Female    894    927     33      0\n",
       " 185 │ Female    948   1085    137      0\n",
       "\u001b[36m                          170 rows omitted\u001b[0m)"
      ]
     },
     "metadata": {},
     "output_type": "display_data"
    }
   ],
   "source": [
    "channing_train, channing_test = partition(channing, 0.6, rng=123)"
   ]
  },
  {
   "cell_type": "markdown",
   "metadata": {},
   "source": [
    "O, si ya está dividido horizontalmente:"
   ]
  },
  {
   "cell_type": "code",
   "execution_count": 19,
   "metadata": {},
   "outputs": [
    {
     "data": {
      "text/plain": [
       "(((sepal_length = [6.7, 5.7, 7.2, 4.4, 5.6, 6.5, 4.4, 6.1, 5.4, 4.9  …  6.4, 5.5, 5.4, 4.8, 6.5, 4.9, 6.5, 6.7, 5.6, 6.4], sepal_width = [3.3, 2.8, 3.0, 2.9, 2.5, 3.0, 3.0, 2.9, 3.9, 2.5  …  3.1, 2.3, 3.7, 3.1, 3.0, 2.4, 2.8, 3.3, 2.9, 2.8], petal_length = [5.7, 4.1, 5.8, 1.4, 3.9, 5.2, 1.3, 4.7, 1.7, 4.5  …  5.5, 4.0, 1.5, 1.6, 5.5, 3.3, 4.6, 5.7, 3.6, 5.6], petal_width = [2.1, 1.3, 1.6, 0.2, 1.1, 2.0, 0.2, 1.4, 0.4, 1.7  …  1.8, 1.3, 0.2, 0.2, 1.8, 1.0, 1.5, 2.5, 1.3, 2.2]), (sepal_length = [6.0, 5.8, 6.7, 5.1, 5.0, 6.3, 5.7, 6.4, 6.1, 5.0  …  6.4, 6.8, 6.9, 6.1, 6.7, 5.0, 7.6, 6.3, 5.1, 5.0], sepal_width = [2.7, 2.6, 3.0, 3.8, 3.4, 2.8, 2.5, 3.2, 2.8, 3.5  …  2.7, 3.2, 3.1, 2.8, 2.5, 3.5, 3.0, 2.5, 3.8, 3.6], petal_length = [5.1, 4.0, 5.2, 1.9, 1.5, 5.1, 5.0, 4.5, 4.7, 1.6  …  5.3, 5.9, 5.4, 4.0, 5.8, 1.3, 6.6, 5.0, 1.6, 1.4], petal_width = [1.6, 1.2, 2.3, 0.4, 0.2, 1.5, 2.0, 1.5, 1.2, 0.6  …  1.9, 2.3, 2.1, 1.3, 1.8, 0.3, 2.1, 1.9, 0.2, 0.2])), (CategoricalArrays.CategoricalValue{String, UInt32}[\"virginica\", \"versicolor\", \"virginica\", \"setosa\", \"versicolor\", \"virginica\", \"setosa\", \"versicolor\", \"setosa\", \"virginica\"  …  \"virginica\", \"versicolor\", \"setosa\", \"setosa\", \"virginica\", \"versicolor\", \"versicolor\", \"virginica\", \"versicolor\", \"virginica\"], CategoricalArrays.CategoricalValue{String, UInt32}[\"versicolor\", \"versicolor\", \"virginica\", \"setosa\", \"setosa\", \"virginica\", \"virginica\", \"versicolor\", \"versicolor\", \"setosa\"  …  \"virginica\", \"virginica\", \"virginica\", \"versicolor\", \"virginica\", \"setosa\", \"virginica\", \"virginica\", \"setosa\", \"setosa\"]))"
      ]
     },
     "metadata": {},
     "output_type": "display_data"
    }
   ],
   "source": [
    "(Xtrain, Xtest), (ytrain, ytest) = partition((X, y), 0.6, multi=true, rng=123)"
   ]
  },
  {
   "cell_type": "markdown",
   "metadata": {},
   "source": [
    "## Búsqueda de modelos"
   ]
  },
  {
   "cell_type": "markdown",
   "metadata": {},
   "source": [
    "Búsqueda de un modelo supervisado:"
   ]
  },
  {
   "cell_type": "code",
   "execution_count": 20,
   "metadata": {},
   "outputs": [
    {
     "data": {
      "text/plain": [
       "70-element Vector{NamedTuple{(:name, :package_name, :is_supervised, :abstract_type, :constructor, :deep_properties, :docstring, :fit_data_scitype, :human_name, :hyperparameter_ranges, :hyperparameter_types, :hyperparameters, :implemented_methods, :inverse_transform_scitype, :is_pure_julia, :is_wrapper, :iteration_parameter, :load_path, :package_license, :package_url, :package_uuid, :predict_scitype, :prediction_type, :reporting_operations, :reports_feature_importances, :supports_class_weights, :supports_online, :supports_training_losses, :supports_weights, :target_in_fit, :transform_scitype, :input_scitype, :target_scitype, :output_scitype)}}:\n",
       " (name = ARDRegressor, package_name = MLJScikitLearnInterface, ... )\n",
       " (name = AdaBoostRegressor, package_name = MLJScikitLearnInterface, ... )\n",
       " (name = BaggingRegressor, package_name = MLJScikitLearnInterface, ... )\n",
       " (name = BayesianRidgeRegressor, package_name = MLJScikitLearnInterface, ... )\n",
       " (name = CatBoostRegressor, package_name = CatBoost, ... )\n",
       " (name = ConstantRegressor, package_name = MLJModels, ... )\n",
       " (name = DecisionTreeRegressor, package_name = BetaML, ... )\n",
       " (name = DecisionTreeRegressor, package_name = DecisionTree, ... )\n",
       " (name = DeterministicConstantRegressor, package_name = MLJModels, ... )\n",
       " (name = DummyRegressor, package_name = MLJScikitLearnInterface, ... )\n",
       " ⋮\n",
       " (name = SGDRegressor, package_name = MLJScikitLearnInterface, ... )\n",
       " (name = SRRegressor, package_name = SymbolicRegression, ... )\n",
       " (name = SVMLinearRegressor, package_name = MLJScikitLearnInterface, ... )\n",
       " (name = SVMNuRegressor, package_name = MLJScikitLearnInterface, ... )\n",
       " (name = SVMRegressor, package_name = MLJScikitLearnInterface, ... )\n",
       " (name = StableForestRegressor, package_name = SIRUS, ... )\n",
       " (name = StableRulesRegressor, package_name = SIRUS, ... )\n",
       " (name = TheilSenRegressor, package_name = MLJScikitLearnInterface, ... )\n",
       " (name = XGBoostRegressor, package_name = XGBoost, ... )"
      ]
     },
     "metadata": {},
     "output_type": "display_data"
    }
   ],
   "source": [
    "X, y = @load_boston\n",
    "ms = models(matching(X, y))"
   ]
  },
  {
   "cell_type": "code",
   "execution_count": 21,
   "metadata": {},
   "outputs": [
    {
     "data": {
      "text/plain": [
       "(name = \"ConstantRegressor\",\n",
       " package_name = \"MLJModels\",\n",
       " is_supervised = true,\n",
       " abstract_type = Probabilistic,\n",
       " constructor = nothing,\n",
       " deep_properties = (),\n",
       " docstring = \"```\\nConstantRegressor\\n```\\n\\nThis \\\"dummy\\\" probabilis...\",\n",
       " fit_data_scitype = Tuple{Table, AbstractVector{Continuous}},\n",
       " human_name = \"constant regressor\",\n",
       " hyperparameter_ranges = (nothing,),\n",
       " hyperparameter_types = (\"Type{D} where D<:Distributions.Sampleable\",),\n",
       " hyperparameters = (:distribution_type,),\n",
       " implemented_methods = [:fitted_params, :predict],\n",
       " inverse_transform_scitype = Unknown,\n",
       " is_pure_julia = true,\n",
       " is_wrapper = false,\n",
       " iteration_parameter = nothing,\n",
       " load_path = \"MLJModels.ConstantRegressor\",\n",
       " package_license = \"MIT\",\n",
       " package_url = \"https://github.com/JuliaAI/MLJModels.jl\",\n",
       " package_uuid = \"d491faf4-2d78-11e9-2867-c94bc002c0b7\",\n",
       " predict_scitype = AbstractVector{ScientificTypesBase.Density{Continuous}},\n",
       " prediction_type = :probabilistic,\n",
       " reporting_operations = (),\n",
       " reports_feature_importances = false,\n",
       " supports_class_weights = false,\n",
       " supports_online = false,\n",
       " supports_training_losses = false,\n",
       " supports_weights = false,\n",
       " target_in_fit = true,\n",
       " transform_scitype = Unknown,\n",
       " input_scitype = Table,\n",
       " target_scitype = AbstractVector{Continuous},\n",
       " output_scitype = Unknown)"
      ]
     },
     "metadata": {},
     "output_type": "display_data"
    }
   ],
   "source": [
    "ms[6]"
   ]
  },
  {
   "cell_type": "code",
   "execution_count": 22,
   "metadata": {},
   "outputs": [
    {
     "data": {
      "text/plain": [
       "28-element Vector{NamedTuple{(:name, :package_name, :is_supervised, :abstract_type, :constructor, :deep_properties, :docstring, :fit_data_scitype, :human_name, :hyperparameter_ranges, :hyperparameter_types, :hyperparameters, :implemented_methods, :inverse_transform_scitype, :is_pure_julia, :is_wrapper, :iteration_parameter, :load_path, :package_license, :package_url, :package_uuid, :predict_scitype, :prediction_type, :reporting_operations, :reports_feature_importances, :supports_class_weights, :supports_online, :supports_training_losses, :supports_weights, :target_in_fit, :transform_scitype, :input_scitype, :target_scitype, :output_scitype)}}:\n",
       " (name = ABODDetector, package_name = OutlierDetectionNeighbors, ... )\n",
       " (name = AdaBoostStumpClassifier, package_name = DecisionTree, ... )\n",
       " (name = COFDetector, package_name = OutlierDetectionNeighbors, ... )\n",
       " (name = DNNDetector, package_name = OutlierDetectionNeighbors, ... )\n",
       " (name = DecisionTreeClassifier, package_name = BetaML, ... )\n",
       " (name = DecisionTreeClassifier, package_name = DecisionTree, ... )\n",
       " (name = DecisionTreeRegressor, package_name = BetaML, ... )\n",
       " (name = DecisionTreeRegressor, package_name = DecisionTree, ... )\n",
       " (name = EvoTreeClassifier, package_name = EvoTrees, ... )\n",
       " (name = EvoTreeCount, package_name = EvoTrees, ... )\n",
       " ⋮\n",
       " (name = LOFDetector, package_name = OutlierDetectionNeighbors, ... )\n",
       " (name = MultitargetKNNClassifier, package_name = NearestNeighborModels, ... )\n",
       " (name = MultitargetKNNRegressor, package_name = NearestNeighborModels, ... )\n",
       " (name = OneRuleClassifier, package_name = OneRule, ... )\n",
       " (name = RandomForestClassifier, package_name = BetaML, ... )\n",
       " (name = RandomForestClassifier, package_name = DecisionTree, ... )\n",
       " (name = RandomForestRegressor, package_name = BetaML, ... )\n",
       " (name = RandomForestRegressor, package_name = DecisionTree, ... )\n",
       " (name = SMOTENC, package_name = Imbalance, ... )"
      ]
     },
     "metadata": {},
     "output_type": "display_data"
    }
   ],
   "source": [
    "models(\"Tree\")"
   ]
  },
  {
   "cell_type": "markdown",
   "metadata": {},
   "source": [
    "Una búsqueda más refinada:"
   ]
  },
  {
   "cell_type": "code",
   "execution_count": 24,
   "metadata": {},
   "outputs": [
    {
     "data": {
      "text/plain": [
       "28-element Vector{NamedTuple{(:name, :package_name, :is_supervised, :abstract_type, :constructor, :deep_properties, :docstring, :fit_data_scitype, :human_name, :hyperparameter_ranges, :hyperparameter_types, :hyperparameters, :implemented_methods, :inverse_transform_scitype, :is_pure_julia, :is_wrapper, :iteration_parameter, :load_path, :package_license, :package_url, :package_uuid, :predict_scitype, :prediction_type, :reporting_operations, :reports_feature_importances, :supports_class_weights, :supports_online, :supports_training_losses, :supports_weights, :target_in_fit, :transform_scitype, :input_scitype, :target_scitype, :output_scitype)}}:\n",
       " (name = DecisionTreeRegressor, package_name = BetaML, ... )\n",
       " (name = DecisionTreeRegressor, package_name = DecisionTree, ... )\n",
       " (name = DeterministicConstantRegressor, package_name = MLJModels, ... )\n",
       " (name = ElasticNetRegressor, package_name = MLJLinearModels, ... )\n",
       " (name = EvoLinearRegressor, package_name = EvoLinear, ... )\n",
       " (name = EvoSplineRegressor, package_name = EvoLinear, ... )\n",
       " (name = EvoTreeRegressor, package_name = EvoTrees, ... )\n",
       " (name = GaussianMixtureRegressor, package_name = BetaML, ... )\n",
       " (name = HuberRegressor, package_name = MLJLinearModels, ... )\n",
       " (name = KNNRegressor, package_name = NearestNeighborModels, ... )\n",
       " ⋮\n",
       " (name = QuantileRegressor, package_name = MLJLinearModels, ... )\n",
       " (name = RandomForestRegressor, package_name = BetaML, ... )\n",
       " (name = RandomForestRegressor, package_name = DecisionTree, ... )\n",
       " (name = RidgeRegressor, package_name = MLJLinearModels, ... )\n",
       " (name = RidgeRegressor, package_name = MultivariateStats, ... )\n",
       " (name = RobustRegressor, package_name = MLJLinearModels, ... )\n",
       " (name = SRRegressor, package_name = SymbolicRegression, ... )\n",
       " (name = StableForestRegressor, package_name = SIRUS, ... )\n",
       " (name = StableRulesRegressor, package_name = SIRUS, ... )"
      ]
     },
     "metadata": {},
     "output_type": "display_data"
    }
   ],
   "source": [
    "models() do model\n",
    "    matching(model, X, y) &&\n",
    "    model.prediction_type == :deterministic &&\n",
    "    model.is_pure_julia\n",
    "end"
   ]
  },
  {
   "cell_type": "markdown",
   "metadata": {},
   "source": [
    "Búsqueda de un modelo no supervisado:"
   ]
  },
  {
   "cell_type": "code",
   "execution_count": 25,
   "metadata": {},
   "outputs": [
    {
     "data": {
      "text/plain": [
       "63-element Vector{NamedTuple{(:name, :package_name, :is_supervised, :abstract_type, :constructor, :deep_properties, :docstring, :fit_data_scitype, :human_name, :hyperparameter_ranges, :hyperparameter_types, :hyperparameters, :implemented_methods, :inverse_transform_scitype, :is_pure_julia, :is_wrapper, :iteration_parameter, :load_path, :package_license, :package_url, :package_uuid, :predict_scitype, :prediction_type, :reporting_operations, :reports_feature_importances, :supports_class_weights, :supports_online, :supports_training_losses, :supports_weights, :target_in_fit, :transform_scitype, :input_scitype, :target_scitype, :output_scitype)}}:\n",
       " (name = ABODDetector, package_name = OutlierDetectionNeighbors, ... )\n",
       " (name = ABODDetector, package_name = OutlierDetectionPython, ... )\n",
       " (name = AffinityPropagation, package_name = MLJScikitLearnInterface, ... )\n",
       " (name = AgglomerativeClustering, package_name = MLJScikitLearnInterface, ... )\n",
       " (name = AutoEncoder, package_name = BetaML, ... )\n",
       " (name = Birch, package_name = MLJScikitLearnInterface, ... )\n",
       " (name = BisectingKMeans, package_name = MLJScikitLearnInterface, ... )\n",
       " (name = CBLOFDetector, package_name = OutlierDetectionPython, ... )\n",
       " (name = CDDetector, package_name = OutlierDetectionPython, ... )\n",
       " (name = COFDetector, package_name = OutlierDetectionNeighbors, ... )\n",
       " ⋮\n",
       " (name = RODDetector, package_name = OutlierDetectionPython, ... )\n",
       " (name = RandomForestImputer, package_name = BetaML, ... )\n",
       " (name = SODDetector, package_name = OutlierDetectionPython, ... )\n",
       " (name = SOSDetector, package_name = OutlierDetectionPython, ... )\n",
       " (name = SelfOrganizingMap, package_name = SelfOrganizingMaps, ... )\n",
       " (name = SimpleImputer, package_name = BetaML, ... )\n",
       " (name = SpectralClustering, package_name = MLJScikitLearnInterface, ... )\n",
       " (name = Standardizer, package_name = MLJModels, ... )\n",
       " (name = TSVDTransformer, package_name = TSVD, ... )"
      ]
     },
     "metadata": {},
     "output_type": "display_data"
    }
   ],
   "source": [
    "models(matching(X))"
   ]
  },
  {
   "cell_type": "markdown",
   "metadata": {},
   "source": [
    "Obtener los metadatos de un tipo de modelo determinado:"
   ]
  },
  {
   "cell_type": "code",
   "execution_count": 26,
   "metadata": {},
   "outputs": [
    {
     "data": {
      "text/plain": [
       "(name = \"RidgeRegressor\",\n",
       " package_name = \"MultivariateStats\",\n",
       " is_supervised = true,\n",
       " abstract_type = Deterministic,\n",
       " constructor = nothing,\n",
       " deep_properties = (),\n",
       " docstring = \"```\\nRidgeRegressor\\n```\\n\\nA model type for construct...\",\n",
       " fit_data_scitype =\n",
       "     Tuple{Table{<:AbstractVector{<:Continuous}}, AbstractVector{Continuous}},\n",
       " human_name = \"ridge regressor\",\n",
       " hyperparameter_ranges = (nothing, nothing),\n",
       " hyperparameter_types = (\"Union{Real, AbstractVecOrMat}\", \"Bool\"),\n",
       " hyperparameters = (:lambda, :bias),\n",
       " implemented_methods = [:clean!, :fit, :fitted_params, :predict],\n",
       " inverse_transform_scitype = Unknown,\n",
       " is_pure_julia = true,\n",
       " is_wrapper = false,\n",
       " iteration_parameter = nothing,\n",
       " load_path = \"MLJMultivariateStatsInterface.RidgeRegressor\",\n",
       " package_license = \"MIT\",\n",
       " package_url = \"https://github.com/JuliaStats/MultivariateStats.jl\",\n",
       " package_uuid = \"6f286f6a-111f-5878-ab1e-185364afe411\",\n",
       " predict_scitype = AbstractVector{Continuous},\n",
       " prediction_type = :deterministic,\n",
       " reporting_operations = (),\n",
       " reports_feature_importances = false,\n",
       " supports_class_weights = false,\n",
       " supports_online = false,\n",
       " supports_training_losses = false,\n",
       " supports_weights = false,\n",
       " target_in_fit = true,\n",
       " transform_scitype = Unknown,\n",
       " input_scitype = Table{<:AbstractVector{<:Continuous}},\n",
       " target_scitype = AbstractVector{Continuous},\n",
       " output_scitype = Unknown)"
      ]
     },
     "metadata": {},
     "output_type": "display_data"
    }
   ],
   "source": [
    "info(\"PCA\")\n",
    "info(\"RidgeRegressor\", pkg=\"MultivariateStats\") # un tipo de modelo que aparece en múltiples paquetes"
   ]
  },
  {
   "cell_type": "markdown",
   "metadata": {},
   "source": [
    "## Instanciar un modelo"
   ]
  },
  {
   "cell_type": "markdown",
   "metadata": {},
   "source": [
    "Asume que `MLJDecisionTreeClassifier` está en tu entorno."
   ]
  },
  {
   "cell_type": "code",
   "execution_count": 27,
   "metadata": {},
   "outputs": [
    {
     "name": "stdout",
     "output_type": "stream",
     "text": [
      "import MLJDecisionTreeInterface ✔\n"
     ]
    },
    {
     "name": "stderr",
     "output_type": "stream",
     "text": [
      "┌ Info: For silent loading, specify `verbosity=0`. \n",
      "└ @ Main C:\\Users\\fsancho\\.julia\\packages\\MLJModels\\8W54X\\src\\loading.jl:159\n"
     ]
    },
    {
     "data": {
      "text/plain": [
       "DecisionTreeClassifier(\n",
       "  max_depth = 4, \n",
       "  min_samples_leaf = 1, \n",
       "  min_samples_split = 5, \n",
       "  min_purity_increase = 0.0, \n",
       "  n_subfeatures = 0, \n",
       "  post_prune = false, \n",
       "  merge_purity_threshold = 1.0, \n",
       "  display_depth = 5, \n",
       "  feature_importance = :impurity, \n",
       "  rng = Random._GLOBAL_RNG())"
      ]
     },
     "metadata": {},
     "output_type": "display_data"
    }
   ],
   "source": [
    "Tree = @load DecisionTreeClassifier pkg=DecisionTree\n",
    "tree = Tree(min_samples_split=5, max_depth=4)"
   ]
  },
  {
   "cell_type": "markdown",
   "metadata": {},
   "source": [
    "o"
   ]
  },
  {
   "cell_type": "code",
   "execution_count": 28,
   "metadata": {},
   "outputs": [
    {
     "name": "stdout",
     "output_type": "stream",
     "text": [
      "import MLJDecisionTreeInterface ✔\n"
     ]
    },
    {
     "name": "stderr",
     "output_type": "stream",
     "text": [
      "┌ Info: For silent loading, specify `verbosity=0`. \n",
      "└ @ Main C:\\Users\\fsancho\\.julia\\packages\\MLJModels\\8W54X\\src\\loading.jl:159\n"
     ]
    },
    {
     "data": {
      "text/plain": [
       "4"
      ]
     },
     "metadata": {},
     "output_type": "display_data"
    }
   ],
   "source": [
    "tree = (@load DecisionTreeClassifier pkg=DecisionTree)()\n",
    "tree.min_samples_split = 5\n",
    "tree.max_depth = 4"
   ]
  },
  {
   "cell_type": "markdown",
   "metadata": {},
   "source": [
    "## Evaluar un modelo"
   ]
  },
  {
   "cell_type": "code",
   "execution_count": 29,
   "metadata": {},
   "outputs": [
    {
     "name": "stdout",
     "output_type": "stream",
     "text": [
      "import NearestNeighborModels ✔\n"
     ]
    },
    {
     "name": "stderr",
     "output_type": "stream",
     "text": [
      "┌ Info: For silent loading, specify `verbosity=0`. \n",
      "└ @ Main C:\\Users\\fsancho\\.julia\\packages\\MLJModels\\8W54X\\src\\loading.jl:159\n",
      "\u001b[33mEvaluating over 5 folds: 100%[=========================] Time: 0:00:02\u001b[39m\u001b[K\n"
     ]
    },
    {
     "data": {
      "text/plain": [
       "PerformanceEvaluation object with these fields:\n",
       "  model, measure, operation,\n",
       "  measurement, per_fold, per_observation,\n",
       "  fitted_params_per_fold, report_per_fold,\n",
       "  train_test_rows, resampling, repeats\n",
       "Extract:\n",
       "┌───┬────────────────────────┬───────────┬─────────────┐\n",
       "│\u001b[22m   \u001b[0m│\u001b[22m measure                \u001b[0m│\u001b[22m operation \u001b[0m│\u001b[22m measurement \u001b[0m│\n",
       "├───┼────────────────────────┼───────────┼─────────────┤\n",
       "│ A │ RootMeanSquaredError() │ predict   │ 8.77        │\n",
       "│ B │ LPLoss(                │ predict   │ 6.02        │\n",
       "│   │   p = 1)               │           │             │\n",
       "└───┴────────────────────────┴───────────┴─────────────┘\n",
       "┌───┬───────────────────────────────┬─────────┐\n",
       "│\u001b[22m   \u001b[0m│\u001b[22m per_fold                      \u001b[0m│\u001b[22m 1.96*SE \u001b[0m│\n",
       "├───┼───────────────────────────────┼─────────┤\n",
       "│ A │ [8.53, 8.8, 10.7, 9.43, 5.59] │ 1.84    │\n",
       "│ B │ [6.52, 5.7, 7.65, 6.09, 4.11] │ 1.26    │\n",
       "└───┴───────────────────────────────┴─────────┘\n"
      ]
     },
     "metadata": {},
     "output_type": "display_data"
    }
   ],
   "source": [
    "X, y = @load_boston  # una tabla y un vector\n",
    "KNN = @load KNNRegressor\n",
    "knn = KNN()\n",
    "evaluate(knn, X, y,\n",
    "         resampling=CV(nfolds=5),\n",
    "         measure=[RootMeanSquaredError(), LPLoss(1)])"
   ]
  },
  {
   "cell_type": "markdown",
   "metadata": {},
   "source": [
    "Ten en cuenta que `RootMeanSquaredError()` tiene el alias `rms` y `LPLoss(1)` tiene los alias `l1`, `mae`. \n",
    "\n",
    "Ejecuta `measures()` para listar todas las pérdidas y puntuaciones y sus alias, o consulta StatisticalMeasures.jl [docs](https://juliaai.github.io/StatisticalMeasures.jl/dev/)."
   ]
  },
  {
   "cell_type": "markdown",
   "metadata": {},
   "source": [
    "##  fit/evaluate/predict a mano y básico"
   ]
  },
  {
   "cell_type": "code",
   "execution_count": 30,
   "metadata": {},
   "outputs": [
    {
     "data": {
      "text/plain": [
       "┌───────┬───────────────┬──────────────────────────────────┐\n",
       "│\u001b[22m names \u001b[0m│\u001b[22m scitypes      \u001b[0m│\u001b[22m types                            \u001b[0m│\n",
       "├───────┼───────────────┼──────────────────────────────────┤\n",
       "│ sp    │ Multiclass{2} │ CategoricalValue{String, UInt32} │\n",
       "│ sex   │ Multiclass{2} │ CategoricalValue{String, UInt32} │\n",
       "│ index │ Count         │ Int64                            │\n",
       "│ FL    │ Continuous    │ Float64                          │\n",
       "│ RW    │ Continuous    │ Float64                          │\n",
       "│ CL    │ Continuous    │ Float64                          │\n",
       "│ CW    │ Continuous    │ Float64                          │\n",
       "│ BD    │ Continuous    │ Float64                          │\n",
       "└───────┴───────────────┴──────────────────────────────────┘\n"
      ]
     },
     "metadata": {},
     "output_type": "display_data"
    }
   ],
   "source": [
    "using DataFrames\n",
    "crabs = load_crabs() |> DataFrames.DataFrame\n",
    "schema(crabs)"
   ]
  },
  {
   "cell_type": "code",
   "execution_count": 32,
   "metadata": {},
   "outputs": [
    {
     "name": "stdout",
     "output_type": "stream",
     "text": [
      "import MLJDecisionTreeInterface ✔\n"
     ]
    },
    {
     "name": "stderr",
     "output_type": "stream",
     "text": [
      "┌ Info: For silent loading, specify `verbosity=0`. \n",
      "└ @ Main C:\\Users\\fsancho\\.julia\\packages\\MLJModels\\8W54X\\src\\loading.jl:159\n"
     ]
    },
    {
     "data": {
      "text/plain": [
       "DecisionTreeClassifier(\n",
       "  max_depth = 2, \n",
       "  min_samples_leaf = 1, \n",
       "  min_samples_split = 2, \n",
       "  min_purity_increase = 0.0, \n",
       "  n_subfeatures = 0, \n",
       "  post_prune = false, \n",
       "  merge_purity_threshold = 1.0, \n",
       "  display_depth = 5, \n",
       "  feature_importance = :impurity, \n",
       "  rng = Random._GLOBAL_RNG())"
      ]
     },
     "metadata": {},
     "output_type": "display_data"
    }
   ],
   "source": [
    "y, X = unpack(crabs, ==(:sp), !in([:index, :sex]); rng=123)\n",
    "\n",
    "Tree = @load DecisionTreeClassifier pkg=DecisionTree\n",
    "tree = Tree(max_depth=2) # hide"
   ]
  },
  {
   "cell_type": "markdown",
   "metadata": {},
   "source": [
    "Unir el modelo y los datos en una *máquina*, que además, almacenará los parámetros aprendidos (*fitresults*) cuando se ajusten:\n"
   ]
  },
  {
   "cell_type": "code",
   "execution_count": 33,
   "metadata": {},
   "outputs": [
    {
     "data": {
      "text/plain": [
       "untrained Machine; caches model-specific representations of data\n",
       "  model: DecisionTreeClassifier(max_depth = 2, …)\n",
       "  args: \n",
       "    1:\tSource @341 ⏎ Table{AbstractVector{Continuous}}\n",
       "    2:\tSource @057 ⏎ AbstractVector{Multiclass{2}}\n"
      ]
     },
     "metadata": {},
     "output_type": "display_data"
    }
   ],
   "source": [
    "mach = machine(tree, X, y)"
   ]
  },
  {
   "cell_type": "markdown",
   "metadata": {},
   "source": [
    "Dividir los índices de fila en filas de entrenamiento y de evaluación:"
   ]
  },
  {
   "cell_type": "code",
   "execution_count": 35,
   "metadata": {},
   "outputs": [],
   "source": [
    "train, test = partition(eachindex(y), 0.7); # División 70:30"
   ]
  },
  {
   "cell_type": "markdown",
   "metadata": {},
   "source": [
    "Ajustar en el conjunto de datos de entrenamiento y evaluar en el conjunto de datos de prueba:"
   ]
  },
  {
   "cell_type": "code",
   "execution_count": 36,
   "metadata": {},
   "outputs": [
    {
     "name": "stderr",
     "output_type": "stream",
     "text": [
      "┌ Info: Training machine(DecisionTreeClassifier(max_depth = 2, …), …).\n",
      "└ @ MLJBase C:\\Users\\fsancho\\.julia\\packages\\MLJBase\\7nGJF\\src\\machines.jl:499\n"
     ]
    },
    {
     "data": {
      "text/plain": [
       "1.0788055664326648"
      ]
     },
     "metadata": {},
     "output_type": "display_data"
    }
   ],
   "source": [
    "fit!(mach, rows=train)\n",
    "yhat = predict(mach, X[test,:])\n",
    "LogLoss(tol=1e-4)(yhat, y[test])"
   ]
  },
  {
   "cell_type": "markdown",
   "metadata": {},
   "source": [
    "Ten en cuenta que `LogLoss()` tiene los alias `log_loss` y `cross_entropy`. \n",
    "\n",
    "Predecir en el nuevo conjunto de datos:"
   ]
  },
  {
   "cell_type": "code",
   "execution_count": 37,
   "metadata": {},
   "outputs": [
    {
     "data": {
      "text/plain": [
       "3-element CategoricalDistributions.UnivariateFiniteVector{Multiclass{2}, String, UInt32, Float64}:\n",
       " UnivariateFinite{Multiclass{2}}(B=>0.667, O=>0.333)\n",
       " UnivariateFinite{Multiclass{2}}(B=>0.667, O=>0.333)\n",
       " UnivariateFinite{Multiclass{2}}(B=>0.667, O=>0.333)"
      ]
     },
     "metadata": {},
     "output_type": "display_data"
    }
   ],
   "source": [
    "Xnew = (FL = rand(3), RW = rand(3), CL = rand(3), CW = rand(3), BD = rand(3))\n",
    "predict(mach, Xnew)      # un vector de distribuciones"
   ]
  },
  {
   "cell_type": "code",
   "execution_count": 38,
   "metadata": {},
   "outputs": [
    {
     "data": {
      "text/plain": [
       "3-element CategoricalArrays.CategoricalArray{String,1,UInt32}:\n",
       " \"B\"\n",
       " \"B\"\n",
       " \"B\""
      ]
     },
     "metadata": {},
     "output_type": "display_data"
    }
   ],
   "source": [
    "predict_mode(mach, Xnew) # un vector de predicciones-puntuales"
   ]
  },
  {
   "cell_type": "markdown",
   "metadata": {},
   "source": [
    "## Más ejemplos de evaluación del rendimiento"
   ]
  },
  {
   "cell_type": "markdown",
   "metadata": {},
   "source": [
    "Evaluar directamente el modelo + los datos:"
   ]
  },
  {
   "cell_type": "code",
   "execution_count": 39,
   "metadata": {},
   "outputs": [
    {
     "data": {
      "text/plain": [
       "PerformanceEvaluation object with these fields:\n",
       "  model, measure, operation,\n",
       "  measurement, per_fold, per_observation,\n",
       "  fitted_params_per_fold, report_per_fold,\n",
       "  train_test_rows, resampling, repeats\n",
       "Extract:\n",
       "┌───┬──────────────────────┬──────────────┬─────────────┐\n",
       "│\u001b[22m   \u001b[0m│\u001b[22m measure              \u001b[0m│\u001b[22m operation    \u001b[0m│\u001b[22m measurement \u001b[0m│\n",
       "├───┼──────────────────────┼──────────────┼─────────────┤\n",
       "│ A │ LogLoss(             │ predict      │ 1.12        │\n",
       "│   │   tol = 2.22045e-16) │              │             │\n",
       "│ B │ Accuracy()           │ predict_mode │ 0.683       │\n",
       "└───┴──────────────────────┴──────────────┴─────────────┘\n"
      ]
     },
     "metadata": {},
     "output_type": "display_data"
    }
   ],
   "source": [
    "evaluate(tree, X, y,\n",
    "         resampling=Holdout(fraction_train=0.7, shuffle=true, rng=1234),\n",
    "         measure=[LogLoss(), Accuracy()])"
   ]
  },
  {
   "cell_type": "markdown",
   "metadata": {},
   "source": [
    "Si una máquina ya está definida, como arriba:"
   ]
  },
  {
   "cell_type": "code",
   "execution_count": 40,
   "metadata": {},
   "outputs": [
    {
     "data": {
      "text/plain": [
       "PerformanceEvaluation object with these fields:\n",
       "  model, measure, operation,\n",
       "  measurement, per_fold, per_observation,\n",
       "  fitted_params_per_fold, report_per_fold,\n",
       "  train_test_rows, resampling, repeats\n",
       "Extract:\n",
       "┌───┬──────────────────────┬──────────────┬─────────────┐\n",
       "│\u001b[22m   \u001b[0m│\u001b[22m measure              \u001b[0m│\u001b[22m operation    \u001b[0m│\u001b[22m measurement \u001b[0m│\n",
       "├───┼──────────────────────┼──────────────┼─────────────┤\n",
       "│ A │ LogLoss(             │ predict      │ 1.12        │\n",
       "│   │   tol = 2.22045e-16) │              │             │\n",
       "│ B │ Accuracy()           │ predict_mode │ 0.683       │\n",
       "└───┴──────────────────────┴──────────────┴─────────────┘\n"
      ]
     },
     "metadata": {},
     "output_type": "display_data"
    }
   ],
   "source": [
    "evaluate!(mach,\n",
    "          resampling=Holdout(fraction_train=0.7, shuffle=true, rng=1234),\n",
    "          measure=[LogLoss(), Accuracy()])"
   ]
  },
  {
   "cell_type": "markdown",
   "metadata": {},
   "source": [
    "Uso de la validación cruzada:"
   ]
  },
  {
   "cell_type": "code",
   "execution_count": 41,
   "metadata": {},
   "outputs": [
    {
     "data": {
      "text/plain": [
       "PerformanceEvaluation object with these fields:\n",
       "  model, measure, operation,\n",
       "  measurement, per_fold, per_observation,\n",
       "  fitted_params_per_fold, report_per_fold,\n",
       "  train_test_rows, resampling, repeats\n",
       "Extract:\n",
       "┌───┬──────────────────────┬──────────────┬─────────────┐\n",
       "│\u001b[22m   \u001b[0m│\u001b[22m measure              \u001b[0m│\u001b[22m operation    \u001b[0m│\u001b[22m measurement \u001b[0m│\n",
       "├───┼──────────────────────┼──────────────┼─────────────┤\n",
       "│ A │ LogLoss(             │ predict      │ 0.748       │\n",
       "│   │   tol = 2.22045e-16) │              │             │\n",
       "│ B │ Accuracy()           │ predict_mode │ 0.7         │\n",
       "└───┴──────────────────────┴──────────────┴─────────────┘\n",
       "┌───┬───────────────────────────────────┬─────────┐\n",
       "│\u001b[22m   \u001b[0m│\u001b[22m per_fold                          \u001b[0m│\u001b[22m 1.96*SE \u001b[0m│\n",
       "├───┼───────────────────────────────────┼─────────┤\n",
       "│ A │ [0.552, 0.534, 0.44, 0.693, 1.52] │ 0.432   │\n",
       "│ B │ [0.775, 0.7, 0.8, 0.6, 0.625]     │ 0.0866  │\n",
       "└───┴───────────────────────────────────┴─────────┘\n"
      ]
     },
     "metadata": {},
     "output_type": "display_data"
    }
   ],
   "source": [
    "evaluate!(mach, resampling=CV(nfolds=5, shuffle=true, rng=1234),\n",
    "          measure=[LogLoss(), Accuracy()])"
   ]
  },
  {
   "cell_type": "markdown",
   "metadata": {},
   "source": [
    "Con pares de índices de fila de entrenamiento/prueba especificados por el usuario:"
   ]
  },
  {
   "cell_type": "code",
   "execution_count": 42,
   "metadata": {},
   "outputs": [
    {
     "name": "stderr",
     "output_type": "stream",
     "text": [
      "\u001b[33mEvaluating over 3 folds: 100%[=========================] Time: 0:00:00\u001b[39m\u001b[K\n"
     ]
    },
    {
     "data": {
      "text/plain": [
       "PerformanceEvaluation object with these fields:\n",
       "  model, measure, operation,\n",
       "  measurement, per_fold, per_observation,\n",
       "  fitted_params_per_fold, report_per_fold,\n",
       "  train_test_rows, resampling, repeats\n",
       "Extract:\n",
       "┌───┬──────────────────────┬──────────────┬─────────────┐\n",
       "│\u001b[22m   \u001b[0m│\u001b[22m measure              \u001b[0m│\u001b[22m operation    \u001b[0m│\u001b[22m measurement \u001b[0m│\n",
       "├───┼──────────────────────┼──────────────┼─────────────┤\n",
       "│ A │ LogLoss(             │ predict      │ 3.8         │\n",
       "│   │   tol = 2.22045e-16) │              │             │\n",
       "│ B │ Accuracy()           │ predict_mode │ 0.736       │\n",
       "└───┴──────────────────────┴──────────────┴─────────────┘\n",
       "┌───┬───────────────────────┬─────────┐\n",
       "│\u001b[22m   \u001b[0m│\u001b[22m per_fold              \u001b[0m│\u001b[22m 1.96*SE \u001b[0m│\n",
       "├───┼───────────────────────┼─────────┤\n",
       "│ A │ [5.1, 3.38, 3.01]     │ 1.55    │\n",
       "│ B │ [0.696, 0.739, 0.769] │ 0.0513  │\n",
       "└───┴───────────────────────┴─────────┘\n"
      ]
     },
     "metadata": {},
     "output_type": "display_data"
    }
   ],
   "source": [
    "f1, f2, f3 = 1:13, 14:26, 27:36\n",
    "pairs = [(f1, vcat(f2, f3)), (f2, vcat(f3, f1)), (f3, vcat(f1, f2))];\n",
    "evaluate!(mach,\n",
    "          resampling=pairs,\n",
    "          measure=[LogLoss(), Accuracy()])"
   ]
  },
  {
   "cell_type": "markdown",
   "metadata": {},
   "source": [
    "Cambio de un hiperparámetro y reevaluación:"
   ]
  },
  {
   "cell_type": "code",
   "execution_count": 43,
   "metadata": {},
   "outputs": [
    {
     "data": {
      "text/plain": [
       "PerformanceEvaluation object with these fields:\n",
       "  model, measure, operation,\n",
       "  measurement, per_fold, per_observation,\n",
       "  fitted_params_per_fold, report_per_fold,\n",
       "  train_test_rows, resampling, repeats\n",
       "Extract:\n",
       "┌───┬──────────────────────┬──────────────┬─────────────┐\n",
       "│\u001b[22m   \u001b[0m│\u001b[22m measure              \u001b[0m│\u001b[22m operation    \u001b[0m│\u001b[22m measurement \u001b[0m│\n",
       "├───┼──────────────────────┼──────────────┼─────────────┤\n",
       "│ A │ LogLoss(             │ predict      │ 1.19        │\n",
       "│   │   tol = 2.22045e-16) │              │             │\n",
       "│ B │ Accuracy()           │ predict_mode │ 0.865       │\n",
       "└───┴──────────────────────┴──────────────┴─────────────┘\n",
       "┌───┬────────────────────────────────┬─────────┐\n",
       "│\u001b[22m   \u001b[0m│\u001b[22m per_fold                       \u001b[0m│\u001b[22m 1.96*SE \u001b[0m│\n",
       "├───┼────────────────────────────────┼─────────┤\n",
       "│ A │ [1.26, 0.2, 0.199, 2.15, 2.15] │ 0.957   │\n",
       "│ B │ [0.8, 0.95, 0.975, 0.8, 0.8]   │ 0.0877  │\n",
       "└───┴────────────────────────────────┴─────────┘\n"
      ]
     },
     "metadata": {},
     "output_type": "display_data"
    }
   ],
   "source": [
    "tree.max_depth = 3\n",
    "evaluate!(mach,\n",
    "          resampling=CV(nfolds=5, shuffle=true, rng=1234),\n",
    "          measure=[LogLoss(), Accuracy()])"
   ]
  },
  {
   "cell_type": "markdown",
   "metadata": {},
   "source": [
    "##  Inspección de los resultados de entrenamiento"
   ]
  },
  {
   "cell_type": "markdown",
   "metadata": {},
   "source": [
    "Ajustar un modelo de mínimos cuadrados ordinarios a unos datos sintéticos:"
   ]
  },
  {
   "cell_type": "code",
   "execution_count": 44,
   "metadata": {},
   "outputs": [
    {
     "name": "stdout",
     "output_type": "stream",
     "text": [
      "import MLJGLMInterface ✔\n"
     ]
    },
    {
     "name": "stderr",
     "output_type": "stream",
     "text": [
      "┌ Info: For silent loading, specify `verbosity=0`. \n",
      "└ @ Main C:\\Users\\fsancho\\.julia\\packages\\MLJModels\\8W54X\\src\\loading.jl:159\n",
      "┌ Info: Training machine(LinearRegressor(fit_intercept = true, …), …).\n",
      "└ @ MLJBase C:\\Users\\fsancho\\.julia\\packages\\MLJBase\\7nGJF\\src\\machines.jl:499\n"
     ]
    },
    {
     "data": {
      "text/plain": [
       "trained Machine; caches model-specific representations of data\n",
       "  model: LinearRegressor(fit_intercept = true, …)\n",
       "  args: \n",
       "    1:\tSource @362 ⏎ Table{AbstractVector{Continuous}}\n",
       "    2:\tSource @945 ⏎ AbstractVector{Continuous}\n"
      ]
     },
     "metadata": {},
     "output_type": "display_data"
    }
   ],
   "source": [
    "x1 = rand(100)\n",
    "x2 = rand(100)\n",
    "\n",
    "X = (x1=x1, x2=x2)\n",
    "y = x1 - 2x2 + 0.1*rand(100);\n",
    "\n",
    "OLS = @load LinearRegressor pkg=GLM\n",
    "ols = OLS()\n",
    "mach =  machine(ols, X, y) |> fit!"
   ]
  },
  {
   "cell_type": "markdown",
   "metadata": {},
   "source": [
    "Obtener una tupla con nombre que representa los parámetros aprendidos, legible por humanos si procede:"
   ]
  },
  {
   "cell_type": "code",
   "execution_count": 45,
   "metadata": {},
   "outputs": [
    {
     "data": {
      "text/plain": [
       "(features = [:x1, :x2],\n",
       " coef = [0.985398873087766, -2.010630265087293],\n",
       " intercept = 0.06738039392202504,)"
      ]
     },
     "metadata": {},
     "output_type": "display_data"
    }
   ],
   "source": [
    "fitted_params(mach)"
   ]
  },
  {
   "cell_type": "markdown",
   "metadata": {},
   "source": [
    "Obtener otra información relacionada con el entrenamiento:"
   ]
  },
  {
   "cell_type": "code",
   "execution_count": 46,
   "metadata": {},
   "outputs": [
    {
     "data": {
      "text/plain": [
       "(stderror = [0.007776573292181543, 0.009937629806616378, 0.009373157649786752],\n",
       " dof_residual = 97.0,\n",
       " vcov = [6.047509216867129e-5 -5.204455337471434e-5 -4.987245393694766e-5; -5.204455337471434e-5 9.875648617335026e-5 4.77514378265409e-6; -4.987245393694766e-5 4.77514378265409e-6 8.78560843277559e-5],\n",
       " deviance = 0.07231085374832054,\n",
       " coef_table = ─────────────────────────────────────────────────────────────────────────────\n",
       "                  Coef.  Std. Error        t  Pr(>|t|)  Lower 95%   Upper 95%\n",
       "─────────────────────────────────────────────────────────────────────────────\n",
       "(Intercept)   0.0673804  0.00777657     8.66    <1e-12   0.051946   0.0828147\n",
       "x1            0.985399   0.00993763    99.16    <1e-98   0.965675   1.00512\n",
       "x2           -2.01063    0.00937316  -214.51    <1e-99  -2.02923   -1.99203\n",
       "─────────────────────────────────────────────────────────────────────────────,)"
      ]
     },
     "metadata": {},
     "output_type": "display_data"
    }
   ],
   "source": [
    "report(mach)"
   ]
  },
  {
   "cell_type": "markdown",
   "metadata": {},
   "source": [
    "##  fit/transform básico para modelos no supervisados"
   ]
  },
  {
   "cell_type": "markdown",
   "metadata": {},
   "source": [
    "Cargar datos:"
   ]
  },
  {
   "cell_type": "code",
   "execution_count": 47,
   "metadata": {},
   "outputs": [
    {
     "data": {
      "text/plain": [
       "([125, 100, 130, 9, 70, 148, 39, 64, 6, 107  …  110, 59, 139, 21, 112, 144, 140, 72, 109, 41], [106, 147, 47, 5])"
      ]
     },
     "metadata": {},
     "output_type": "display_data"
    }
   ],
   "source": [
    "X, y = @load_iris  # una tabla y un vector\n",
    "train, test = partition(eachindex(y), 0.97, shuffle=true, rng=123)"
   ]
  },
  {
   "cell_type": "markdown",
   "metadata": {},
   "source": [
    "Instanciar y ajustar el modelo/máquina:"
   ]
  },
  {
   "cell_type": "code",
   "execution_count": 48,
   "metadata": {},
   "outputs": [
    {
     "name": "stdout",
     "output_type": "stream",
     "text": [
      "import MLJMultivariateStatsInterface ✔\n"
     ]
    },
    {
     "name": "stderr",
     "output_type": "stream",
     "text": [
      "┌ Info: For silent loading, specify `verbosity=0`. \n",
      "└ @ Main C:\\Users\\fsancho\\.julia\\packages\\MLJModels\\8W54X\\src\\loading.jl:159\n",
      "┌ Info: Training machine(PCA(maxoutdim = 2, …), …).\n",
      "└ @ MLJBase C:\\Users\\fsancho\\.julia\\packages\\MLJBase\\7nGJF\\src\\machines.jl:499\n"
     ]
    },
    {
     "data": {
      "text/plain": [
       "trained Machine; caches model-specific representations of data\n",
       "  model: PCA(maxoutdim = 2, …)\n",
       "  args: \n",
       "    1:\tSource @009 ⏎ Table{AbstractVector{Continuous}}\n"
      ]
     },
     "metadata": {},
     "output_type": "display_data"
    }
   ],
   "source": [
    "PCA = @load PCA\n",
    "pca = PCA(maxoutdim=2)\n",
    "mach = machine(pca, X)\n",
    "fit!(mach, rows=train)"
   ]
  },
  {
   "cell_type": "markdown",
   "metadata": {},
   "source": [
    "Transformar los datos seleccionados vinculados a la máquina:"
   ]
  },
  {
   "cell_type": "code",
   "execution_count": 49,
   "metadata": {},
   "outputs": [],
   "source": [
    "MLJ.transform(mach, rows=test);"
   ]
  },
  {
   "cell_type": "markdown",
   "metadata": {},
   "source": [
    "Transformar nuevos datos:"
   ]
  },
  {
   "cell_type": "code",
   "execution_count": 50,
   "metadata": {},
   "outputs": [
    {
     "data": {
      "text/plain": [
       "(x1 = [5.012531153758396, 4.3886896679593494, 4.607798309506269],\n",
       " x2 = [-4.751633521810584, -4.893902603898789, -4.232745644756746],)"
      ]
     },
     "metadata": {},
     "output_type": "display_data"
    }
   ],
   "source": [
    "Xnew = (sepal_length=rand(3), sepal_width=rand(3),\n",
    "        petal_length=rand(3), petal_width=rand(3));\n",
    "MLJ.transform(mach, Xnew)"
   ]
  },
  {
   "cell_type": "markdown",
   "metadata": {},
   "source": [
    "##  Invertir las transformaciones aprendidas"
   ]
  },
  {
   "cell_type": "code",
   "execution_count": 51,
   "metadata": {},
   "outputs": [
    {
     "name": "stderr",
     "output_type": "stream",
     "text": [
      "┌ Info: Training machine(Standardizer(features = Symbol[], …), …).\n",
      "└ @ MLJBase C:\\Users\\fsancho\\.julia\\packages\\MLJBase\\7nGJF\\src\\machines.jl:499\n"
     ]
    }
   ],
   "source": [
    "y = rand(100);\n",
    "stand = Standardizer()\n",
    "mach = machine(stand, y)\n",
    "fit!(mach)\n",
    "z = MLJ.transform(mach, y);\n",
    "@assert inverse_transform(mach, z) ≈ y # true"
   ]
  },
  {
   "cell_type": "markdown",
   "metadata": {},
   "source": [
    "## Ajuste de hiperparámetros anidados"
   ]
  },
  {
   "cell_type": "code",
   "execution_count": 52,
   "metadata": {},
   "outputs": [
    {
     "data": {
      "text/plain": [
       "((sepal_length = [5.1, 4.9, 4.7, 4.6, 5.0, 5.4, 4.6, 5.0, 4.4, 4.9  …  6.7, 6.9, 5.8, 6.8, 6.7, 6.7, 6.3, 6.5, 6.2, 5.9], sepal_width = [3.5, 3.0, 3.2, 3.1, 3.6, 3.9, 3.4, 3.4, 2.9, 3.1  …  3.1, 3.1, 2.7, 3.2, 3.3, 3.0, 2.5, 3.0, 3.4, 3.0], petal_length = [1.4, 1.4, 1.3, 1.5, 1.4, 1.7, 1.4, 1.5, 1.4, 1.5  …  5.6, 5.1, 5.1, 5.9, 5.7, 5.2, 5.0, 5.2, 5.4, 5.1], petal_width = [0.2, 0.2, 0.2, 0.2, 0.2, 0.4, 0.3, 0.2, 0.2, 0.1  …  2.4, 2.3, 1.9, 2.3, 2.5, 2.3, 1.9, 2.0, 2.3, 1.8]), CategoricalArrays.CategoricalValue{String, UInt32}[\"setosa\", \"setosa\", \"setosa\", \"setosa\", \"setosa\", \"setosa\", \"setosa\", \"setosa\", \"setosa\", \"setosa\"  …  \"virginica\", \"virginica\", \"virginica\", \"virginica\", \"virginica\", \"virginica\", \"virginica\", \"virginica\", \"virginica\", \"virginica\"])"
      ]
     },
     "metadata": {},
     "output_type": "display_data"
    }
   ],
   "source": [
    "X, y = @load_iris"
   ]
  },
  {
   "cell_type": "markdown",
   "metadata": {},
   "source": [
    "Definir un modelo con hiperparámetros anidados:"
   ]
  },
  {
   "cell_type": "code",
   "execution_count": 53,
   "metadata": {},
   "outputs": [
    {
     "name": "stdout",
     "output_type": "stream",
     "text": [
      "import MLJDecisionTreeInterface ✔\n"
     ]
    },
    {
     "name": "stderr",
     "output_type": "stream",
     "text": [
      "┌ Info: For silent loading, specify `verbosity=0`. \n",
      "└ @ Main C:\\Users\\fsancho\\.julia\\packages\\MLJModels\\8W54X\\src\\loading.jl:159\n"
     ]
    },
    {
     "data": {
      "text/plain": [
       "ProbabilisticEnsembleModel(\n",
       "  model = DecisionTreeClassifier(\n",
       "        max_depth = -1, \n",
       "        min_samples_leaf = 1, \n",
       "        min_samples_split = 2, \n",
       "        min_purity_increase = 0.0, \n",
       "        n_subfeatures = 0, \n",
       "        post_prune = false, \n",
       "        merge_purity_threshold = 1.0, \n",
       "        display_depth = 5, \n",
       "        feature_importance = :impurity, \n",
       "        rng = Random._GLOBAL_RNG()), \n",
       "  atomic_weights = Float64[], \n",
       "  bagging_fraction = 0.8, \n",
       "  rng = Random._GLOBAL_RNG(), \n",
       "  n = 300, \n",
       "  acceleration = CPU1{Nothing}(nothing), \n",
       "  out_of_bag_measure = Any[])"
      ]
     },
     "metadata": {},
     "output_type": "display_data"
    }
   ],
   "source": [
    "Tree = @load DecisionTreeClassifier pkg=DecisionTree\n",
    "tree = Tree()\n",
    "forest = EnsembleModel(model=tree, n=300)"
   ]
  },
  {
   "cell_type": "markdown",
   "metadata": {},
   "source": [
    "Definir los rangos de los hiperparámetros que se van a ajustar:"
   ]
  },
  {
   "cell_type": "code",
   "execution_count": 54,
   "metadata": {},
   "outputs": [
    {
     "data": {
      "text/plain": [
       "NumericRange(0.5 ≤ bagging_fraction ≤ 1.0; origin=0.75, unit=0.25; on log10 scale)"
      ]
     },
     "metadata": {},
     "output_type": "display_data"
    }
   ],
   "source": [
    "r1 = range(forest, :bagging_fraction, lower=0.5, upper=1.0, scale=:log10)"
   ]
  },
  {
   "cell_type": "code",
   "execution_count": 55,
   "metadata": {},
   "outputs": [
    {
     "data": {
      "text/plain": [
       "NumericRange(1 ≤ model.n_subfeatures ≤ 4; origin=2.5, unit=1.5)"
      ]
     },
     "metadata": {},
     "output_type": "display_data"
    }
   ],
   "source": [
    "r2 = range(forest, :(model.n_subfeatures), lower=1, upper=4) # nested"
   ]
  },
  {
   "cell_type": "markdown",
   "metadata": {},
   "source": [
    "Envolver el modelo en una estrategia de ajuste:"
   ]
  },
  {
   "cell_type": "code",
   "execution_count": 56,
   "metadata": {},
   "outputs": [
    {
     "data": {
      "text/plain": [
       "ProbabilisticTunedModel(\n",
       "  model = ProbabilisticEnsembleModel(\n",
       "        model = DecisionTreeClassifier(max_depth = -1, …), \n",
       "        atomic_weights = Float64[], \n",
       "        bagging_fraction = 0.8, \n",
       "        rng = Random._GLOBAL_RNG(), \n",
       "        n = 300, \n",
       "        acceleration = CPU1{Nothing}(nothing), \n",
       "        out_of_bag_measure = Any[]), \n",
       "  tuning = Grid(\n",
       "        goal = nothing, \n",
       "        resolution = 12, \n",
       "        shuffle = true, \n",
       "        rng = Random._GLOBAL_RNG()), \n",
       "  resampling = CV(\n",
       "        nfolds = 6, \n",
       "        shuffle = false, \n",
       "        rng = Random._GLOBAL_RNG()), \n",
       "  measure = BrierLoss(), \n",
       "  weights = nothing, \n",
       "  class_weights = nothing, \n",
       "  operation = nothing, \n",
       "  range = MLJBase.NumericRange{T, MLJBase.Bounded, Symbol} where T[NumericRange(0.5 ≤ bagging_fraction ≤ 1.0; origin=0.75, unit=0.25; on log10 scale), NumericRange(1 ≤ model.n_subfeatures ≤ 4; origin=2.5, unit=1.5)], \n",
       "  selection_heuristic = MLJTuning.NaiveSelection(nothing), \n",
       "  train_best = true, \n",
       "  repeats = 1, \n",
       "  n = nothing, \n",
       "  acceleration = CPU1{Nothing}(nothing), \n",
       "  acceleration_resampling = CPU1{Nothing}(nothing), \n",
       "  check_measure = true, \n",
       "  cache = true, \n",
       "  compact_history = true, \n",
       "  logger = nothing)"
      ]
     },
     "metadata": {},
     "output_type": "display_data"
    }
   ],
   "source": [
    "tuned_forest = TunedModel(model=forest,\n",
    "                          tuning=Grid(resolution=12),\n",
    "                          resampling=CV(nfolds=6),\n",
    "                          ranges=[r1, r2],\n",
    "                          measure=BrierLoss())"
   ]
  },
  {
   "cell_type": "markdown",
   "metadata": {},
   "source": [
    "Vincula el modelo envuelto a los datos:"
   ]
  },
  {
   "cell_type": "code",
   "execution_count": 57,
   "metadata": {},
   "outputs": [
    {
     "data": {
      "text/plain": [
       "untrained Machine; does not cache data\n",
       "  model: ProbabilisticTunedModel(model = ProbabilisticEnsembleModel(model = DecisionTreeClassifier(max_depth = -1, …), …), …)\n",
       "  args: \n",
       "    1:\tSource @725 ⏎ Table{AbstractVector{Continuous}}\n",
       "    2:\tSource @793 ⏎ AbstractVector{Multiclass{3}}\n"
      ]
     },
     "metadata": {},
     "output_type": "display_data"
    }
   ],
   "source": [
    "mach = machine(tuned_forest, X, y)"
   ]
  },
  {
   "cell_type": "markdown",
   "metadata": {},
   "source": [
    "El ajuste de la máquina resultante optimiza los hiperparámetros especificados en `range`, utilizando las estrategias de `tuning` y `resampling` especificadas y la `measure` de rendimiento (posiblemente un vector de medidas), y reentrena en todos los datos vinculados a la máquina:"
   ]
  },
  {
   "cell_type": "code",
   "execution_count": 58,
   "metadata": {},
   "outputs": [
    {
     "name": "stderr",
     "output_type": "stream",
     "text": [
      "┌ Info: Training machine(ProbabilisticTunedModel(model = ProbabilisticEnsembleModel(model = DecisionTreeClassifier(max_depth = -1, …), …), …), …).\n",
      "└ @ MLJBase C:\\Users\\fsancho\\.julia\\packages\\MLJBase\\7nGJF\\src\\machines.jl:499\n",
      "┌ Info: Attempting to evaluate 48 models.\n",
      "└ @ MLJTuning C:\\Users\\fsancho\\.julia\\packages\\MLJTuning\\vMe8s\\src\\tuned_models.jl:762\n",
      "\u001b[33mEvaluating over 48 metamodels: 100%[=========================] Time: 0:00:09\u001b[39m\u001b[K\n"
     ]
    },
    {
     "data": {
      "text/plain": [
       "trained Machine; does not cache data\n",
       "  model: ProbabilisticTunedModel(model = ProbabilisticEnsembleModel(model = DecisionTreeClassifier(max_depth = -1, …), …), …)\n",
       "  args: \n",
       "    1:\tSource @725 ⏎ Table{AbstractVector{Continuous}}\n",
       "    2:\tSource @793 ⏎ AbstractVector{Multiclass{3}}\n"
      ]
     },
     "metadata": {},
     "output_type": "display_data"
    }
   ],
   "source": [
    "fit!(mach)"
   ]
  },
  {
   "cell_type": "markdown",
   "metadata": {},
   "source": [
    "Inspección del modelo óptimo:"
   ]
  },
  {
   "cell_type": "code",
   "execution_count": 59,
   "metadata": {},
   "outputs": [
    {
     "data": {
      "text/plain": [
       "(best_model = ProbabilisticEnsembleModel(model = DecisionTreeClassifier(max_depth = -1, …), …),\n",
       " best_fitted_params = (fitresult = WrappedEnsemble(atom = DecisionTreeClassifier(max_depth = -1, …), …),),)"
      ]
     },
     "metadata": {},
     "output_type": "display_data"
    }
   ],
   "source": [
    "F = fitted_params(mach)"
   ]
  },
  {
   "cell_type": "code",
   "execution_count": 60,
   "metadata": {},
   "outputs": [
    {
     "data": {
      "text/plain": [
       "ProbabilisticEnsembleModel(\n",
       "  model = DecisionTreeClassifier(\n",
       "        max_depth = -1, \n",
       "        min_samples_leaf = 1, \n",
       "        min_samples_split = 2, \n",
       "        min_purity_increase = 0.0, \n",
       "        n_subfeatures = 3, \n",
       "        post_prune = false, \n",
       "        merge_purity_threshold = 1.0, \n",
       "        display_depth = 5, \n",
       "        feature_importance = :impurity, \n",
       "        rng = Random._GLOBAL_RNG()), \n",
       "  atomic_weights = Float64[], \n",
       "  bagging_fraction = 0.5325205447199813, \n",
       "  rng = Random._GLOBAL_RNG(), \n",
       "  n = 300, \n",
       "  acceleration = CPU1{Nothing}(nothing), \n",
       "  out_of_bag_measure = Any[])"
      ]
     },
     "metadata": {},
     "output_type": "display_data"
    }
   ],
   "source": [
    "F.best_model"
   ]
  },
  {
   "cell_type": "markdown",
   "metadata": {},
   "source": [
    "Inspección de los detalles del procedimiento de puesta a punto:"
   ]
  },
  {
   "cell_type": "code",
   "execution_count": 61,
   "metadata": {},
   "outputs": [
    {
     "data": {
      "text/plain": [
       "(:best_model, :best_history_entry, :history, :best_report, :plotting)"
      ]
     },
     "metadata": {},
     "output_type": "display_data"
    }
   ],
   "source": [
    "r = report(mach);\n",
    "keys(r)"
   ]
  },
  {
   "cell_type": "code",
   "execution_count": 62,
   "metadata": {},
   "outputs": [
    {
     "data": {
      "text/plain": [
       "2-element Vector{@NamedTuple{model::MLJEnsembles.ProbabilisticEnsembleModel{MLJDecisionTreeInterface.DecisionTreeClassifier}, measure::Vector{StatisticalMeasuresBase.RobustMeasure{StatisticalMeasuresBase.FussyMeasure{StatisticalMeasuresBase.RobustMeasure{StatisticalMeasures._BrierLossType}, typeof(StatisticalMeasures.l2_check)}}}, measurement::Vector{Float64}, per_fold::Vector{Vector{Float64}}, evaluation::MLJBase.CompactPerformanceEvaluation{MLJEnsembles.ProbabilisticEnsembleModel{MLJDecisionTreeInterface.DecisionTreeClassifier}, Vector{StatisticalMeasuresBase.RobustMeasure{StatisticalMeasuresBase.FussyMeasure{StatisticalMeasuresBase.RobustMeasure{StatisticalMeasures._BrierLossType}, typeof(StatisticalMeasures.l2_check)}}}, Vector{Float64}, Vector{typeof(predict)}, Vector{Vector{Float64}}, Vector{Vector{Vector{Float64}}}, CV}}}:\n",
       " (model = ProbabilisticEnsembleModel(model = DecisionTreeClassifier(max_depth = -1, …), …), measure = [BrierLoss()], measurement = [0.09835362962962961], per_fold = [[0.009719111111111225, 0.0005280000000000662, 0.13325422222222225, 0.1440595555555552, 0.13519555555555537, 0.16736533333333342]], evaluation = CompactPerformanceEvaluation(0.0984,))\n",
       " (model = ProbabilisticEnsembleModel(model = DecisionTreeClassifier(max_depth = -1, …), …), measure = [BrierLoss()], measurement = [0.10344818518518507], per_fold = [[0.01047377777777787, 0.0003680000000000483, 0.1343813333333333, 0.14743466666666627, 0.14239577777777757, 0.18563555555555544]], evaluation = CompactPerformanceEvaluation(0.103,))"
      ]
     },
     "metadata": {},
     "output_type": "display_data"
    }
   ],
   "source": [
    "r.history[[1,end]]"
   ]
  },
  {
   "cell_type": "markdown",
   "metadata": {},
   "source": [
    "Visualización de estos resultados:"
   ]
  },
  {
   "cell_type": "code",
   "execution_count": 63,
   "metadata": {},
   "outputs": [
    {
     "data": {
      "image/png": "[encoded data removed]",
      "image/svg+xml": [
       "<?xml version=\"1.0\" encoding=\"utf-8\"?>\n",
       "<svg xmlns=\"http://www.w3.org/2000/svg\" xmlns:xlink=\"http://www.w3.org/1999/xlink\" width=\"550\" height=\"500\" viewBox=\"0 0 2200 2000\">\n",
       "<defs>\n",
       "  <clipPath id=\"clip600\">\n",
       "    <rect x=\"0\" y=\"0\" width=\"2200\" height=\"2000\"/>\n",
       "  </clipPath>\n",
       "</defs>\n",
       "<path clip-path=\"url(#clip600)\" d=\"M0 2000 L2200 2000 L2200 0 L0 0  Z\" fill=\"#ffffff\" fill-rule=\"evenodd\" fill-opacity=\"1\"/>\n",
       "<defs>\n",
       "  <clipPath id=\"clip601\">\n",
       "    <rect x=\"440\" y=\"20\" width=\"1541\" height=\"1541\"/>\n",
       "  </clipPath>\n",
       "</defs>\n",
       "<path clip-path=\"url(#clip600)\" d=\"M298.174 821.232 L1069.19 821.232 L1069.19 47.2441 L298.174 47.2441  Z\" fill=\"#ffffff\" fill-rule=\"evenodd\" fill-opacity=\"1\"/>\n",
       "<defs>\n",
       "  <clipPath id=\"clip602\">\n",
       "    <rect x=\"298\" y=\"47\" width=\"772\" height=\"775\"/>\n",
       "  </clipPath>\n",
       "</defs>\n",
       "<polyline clip-path=\"url(#clip602)\" style=\"stroke:#000000; stroke-linecap:round; stroke-linejoin:round; stroke-width:2; stroke-opacity:0.1; fill:none\" points=\"564.112,821.232 564.112,47.2441 \"/>\n",
       "<polyline clip-path=\"url(#clip602)\" style=\"stroke:#000000; stroke-linecap:round; stroke-linejoin:round; stroke-width:2; stroke-opacity:0.1; fill:none\" points=\"1047.37,821.232 1047.37,47.2441 \"/>\n",
       "<polyline clip-path=\"url(#clip602)\" style=\"stroke:#000000; stroke-linecap:round; stroke-linejoin:round; stroke-width:2; stroke-opacity:0.1; fill:none\" points=\"564.112,821.232 564.112,47.2441 \"/>\n",
       "<polyline clip-path=\"url(#clip602)\" style=\"stroke:#000000; stroke-linecap:round; stroke-linejoin:round; stroke-width:2; stroke-opacity:0.1; fill:none\" points=\"1047.37,821.232 1047.37,47.2441 \"/>\n",
       "<polyline clip-path=\"url(#clip602)\" style=\"stroke:#000000; stroke-linecap:round; stroke-linejoin:round; stroke-width:2; stroke-opacity:0.1; fill:none\" points=\"298.174,714.85 1069.19,714.85 \"/>\n",
       "<polyline clip-path=\"url(#clip602)\" style=\"stroke:#000000; stroke-linecap:round; stroke-linejoin:round; stroke-width:2; stroke-opacity:0.1; fill:none\" points=\"298.174,582.362 1069.19,582.362 \"/>\n",
       "<polyline clip-path=\"url(#clip602)\" style=\"stroke:#000000; stroke-linecap:round; stroke-linejoin:round; stroke-width:2; stroke-opacity:0.1; fill:none\" points=\"298.174,449.873 1069.19,449.873 \"/>\n",
       "<polyline clip-path=\"url(#clip602)\" style=\"stroke:#000000; stroke-linecap:round; stroke-linejoin:round; stroke-width:2; stroke-opacity:0.1; fill:none\" points=\"298.174,317.385 1069.19,317.385 \"/>\n",
       "<polyline clip-path=\"url(#clip602)\" style=\"stroke:#000000; stroke-linecap:round; stroke-linejoin:round; stroke-width:2; stroke-opacity:0.1; fill:none\" points=\"298.174,184.897 1069.19,184.897 \"/>\n",
       "<polyline clip-path=\"url(#clip602)\" style=\"stroke:#000000; stroke-linecap:round; stroke-linejoin:round; stroke-width:2; stroke-opacity:0.1; fill:none\" points=\"298.174,52.4088 1069.19,52.4088 \"/>\n",
       "<polyline clip-path=\"url(#clip602)\" style=\"stroke:#000000; stroke-linecap:round; stroke-linejoin:round; stroke-width:2; stroke-opacity:0.1; fill:none\" points=\"298.174,714.85 1069.19,714.85 \"/>\n",
       "<polyline clip-path=\"url(#clip602)\" style=\"stroke:#000000; stroke-linecap:round; stroke-linejoin:round; stroke-width:2; stroke-opacity:0.1; fill:none\" points=\"298.174,582.362 1069.19,582.362 \"/>\n",
       "<polyline clip-path=\"url(#clip602)\" style=\"stroke:#000000; stroke-linecap:round; stroke-linejoin:round; stroke-width:2; stroke-opacity:0.1; fill:none\" points=\"298.174,449.873 1069.19,449.873 \"/>\n",
       "<polyline clip-path=\"url(#clip602)\" style=\"stroke:#000000; stroke-linecap:round; stroke-linejoin:round; stroke-width:2; stroke-opacity:0.1; fill:none\" points=\"298.174,317.385 1069.19,317.385 \"/>\n",
       "<polyline clip-path=\"url(#clip602)\" style=\"stroke:#000000; stroke-linecap:round; stroke-linejoin:round; stroke-width:2; stroke-opacity:0.1; fill:none\" points=\"298.174,184.897 1069.19,184.897 \"/>\n",
       "<polyline clip-path=\"url(#clip602)\" style=\"stroke:#000000; stroke-linecap:round; stroke-linejoin:round; stroke-width:2; stroke-opacity:0.1; fill:none\" points=\"298.174,52.4088 1069.19,52.4088 \"/>\n",
       "<polyline clip-path=\"url(#clip600)\" style=\"stroke:#000000; stroke-linecap:round; stroke-linejoin:round; stroke-width:4; stroke-opacity:1; fill:none\" points=\"298.174,821.232 1069.19,821.232 \"/>\n",
       "<polyline clip-path=\"url(#clip600)\" style=\"stroke:#000000; stroke-linecap:round; stroke-linejoin:round; stroke-width:4; stroke-opacity:1; fill:none\" points=\"298.174,47.2441 1069.19,47.2441 \"/>\n",
       "<polyline clip-path=\"url(#clip600)\" style=\"stroke:#000000; stroke-linecap:round; stroke-linejoin:round; stroke-width:4; stroke-opacity:1; fill:none\" points=\"564.112,821.232 564.112,802.334 \"/>\n",
       "<polyline clip-path=\"url(#clip600)\" style=\"stroke:#000000; stroke-linecap:round; stroke-linejoin:round; stroke-width:4; stroke-opacity:1; fill:none\" points=\"1047.37,821.232 1047.37,802.334 \"/>\n",
       "<polyline clip-path=\"url(#clip600)\" style=\"stroke:#000000; stroke-linecap:round; stroke-linejoin:round; stroke-width:4; stroke-opacity:1; fill:none\" points=\"564.112,47.2441 564.112,66.1417 \"/>\n",
       "<polyline clip-path=\"url(#clip600)\" style=\"stroke:#000000; stroke-linecap:round; stroke-linejoin:round; stroke-width:4; stroke-opacity:1; fill:none\" points=\"1047.37,47.2441 1047.37,66.1417 \"/>\n",
       "<path clip-path=\"url(#clip600)\" d=\"M496.002 893.757 L503.641 893.757 L503.641 867.391 L495.331 869.058 L495.331 864.798 L503.595 863.132 L508.271 863.132 L508.271 893.757 L515.91 893.757 L515.91 897.692 L496.002 897.692 L496.002 893.757 Z\" fill=\"#000000\" fill-rule=\"nonzero\" fill-opacity=\"1\" /><path clip-path=\"url(#clip600)\" d=\"M535.354 866.21 Q531.743 866.21 529.914 869.775 Q528.109 873.317 528.109 880.446 Q528.109 887.553 529.914 891.118 Q531.743 894.659 535.354 894.659 Q538.988 894.659 540.794 891.118 Q542.623 887.553 542.623 880.446 Q542.623 873.317 540.794 869.775 Q538.988 866.21 535.354 866.21 M535.354 862.507 Q541.164 862.507 544.22 867.113 Q547.298 871.696 547.298 880.446 Q547.298 889.173 544.22 893.78 Q541.164 898.363 535.354 898.363 Q529.544 898.363 526.465 893.78 Q523.41 889.173 523.41 880.446 Q523.41 871.696 526.465 867.113 Q529.544 862.507 535.354 862.507 Z\" fill=\"#000000\" fill-rule=\"nonzero\" fill-opacity=\"1\" /><path clip-path=\"url(#clip600)\" d=\"M547.298 856.608 L571.41 856.608 L571.41 859.805 L547.298 859.805 L547.298 856.608 Z\" fill=\"#000000\" fill-rule=\"nonzero\" fill-opacity=\"1\" /><path clip-path=\"url(#clip600)\" d=\"M587.735 844.703 Q584.801 844.703 583.315 847.599 Q581.848 850.477 581.848 856.269 Q581.848 862.043 583.315 864.94 Q584.801 867.817 587.735 867.817 Q590.688 867.817 592.155 864.94 Q593.641 862.043 593.641 856.269 Q593.641 850.477 592.155 847.599 Q590.688 844.703 587.735 844.703 M587.735 841.693 Q592.456 841.693 594.938 845.436 Q597.44 849.16 597.44 856.269 Q597.44 863.36 594.938 867.103 Q592.456 870.827 587.735 870.827 Q583.014 870.827 580.513 867.103 Q578.03 863.36 578.03 856.269 Q578.03 849.16 580.513 845.436 Q583.014 841.693 587.735 841.693 Z\" fill=\"#000000\" fill-rule=\"nonzero\" fill-opacity=\"1\" /><path clip-path=\"url(#clip600)\" d=\"M604.117 865.504 L608.085 865.504 L608.085 870.281 L604.117 870.281 L604.117 865.504 Z\" fill=\"#000000\" fill-rule=\"nonzero\" fill-opacity=\"1\" /><path clip-path=\"url(#clip600)\" d=\"M619.633 867.084 L632.893 867.084 L632.893 870.281 L615.063 870.281 L615.063 867.084 Q617.226 864.846 620.95 861.084 Q624.692 857.304 625.652 856.213 Q627.476 854.163 628.191 852.752 Q628.924 851.323 628.924 849.95 Q628.924 847.712 627.344 846.301 Q625.783 844.891 623.263 844.891 Q621.476 844.891 619.483 845.511 Q617.508 846.132 615.251 847.392 L615.251 843.555 Q617.545 842.634 619.539 842.164 Q621.533 841.693 623.188 841.693 Q627.551 841.693 630.147 843.875 Q632.742 846.057 632.742 849.706 Q632.742 851.436 632.084 852.997 Q631.444 854.539 629.733 856.646 Q629.263 857.191 626.742 859.805 Q624.222 862.401 619.633 867.084 Z\" fill=\"#000000\" fill-rule=\"nonzero\" fill-opacity=\"1\" /><path clip-path=\"url(#clip600)\" d=\"M993.975 893.757 L1001.61 893.757 L1001.61 867.391 L993.304 869.058 L993.304 864.798 L1001.57 863.132 L1006.24 863.132 L1006.24 893.757 L1013.88 893.757 L1013.88 897.692 L993.975 897.692 L993.975 893.757 Z\" fill=\"#000000\" fill-rule=\"nonzero\" fill-opacity=\"1\" /><path clip-path=\"url(#clip600)\" d=\"M1033.33 866.21 Q1029.72 866.21 1027.89 869.775 Q1026.08 873.317 1026.08 880.446 Q1026.08 887.553 1027.89 891.118 Q1029.72 894.659 1033.33 894.659 Q1036.96 894.659 1038.77 891.118 Q1040.6 887.553 1040.6 880.446 Q1040.6 873.317 1038.77 869.775 Q1036.96 866.21 1033.33 866.21 M1033.33 862.507 Q1039.14 862.507 1042.19 867.113 Q1045.27 871.696 1045.27 880.446 Q1045.27 889.173 1042.19 893.78 Q1039.14 898.363 1033.33 898.363 Q1027.52 898.363 1024.44 893.78 Q1021.38 889.173 1021.38 880.446 Q1021.38 871.696 1024.44 867.113 Q1027.52 862.507 1033.33 862.507 Z\" fill=\"#000000\" fill-rule=\"nonzero\" fill-opacity=\"1\" /><path clip-path=\"url(#clip600)\" d=\"M1054.98 844.703 Q1052.04 844.703 1050.56 847.599 Q1049.09 850.477 1049.09 856.269 Q1049.09 862.043 1050.56 864.94 Q1052.04 867.817 1054.98 867.817 Q1057.93 867.817 1059.4 864.94 Q1060.88 862.043 1060.88 856.269 Q1060.88 850.477 1059.4 847.599 Q1057.93 844.703 1054.98 844.703 M1054.98 841.693 Q1059.7 841.693 1062.18 845.436 Q1064.68 849.16 1064.68 856.269 Q1064.68 863.36 1062.18 867.103 Q1059.7 870.827 1054.98 870.827 Q1050.26 870.827 1047.75 867.103 Q1045.27 863.36 1045.27 856.269 Q1045.27 849.16 1047.75 845.436 Q1050.26 841.693 1054.98 841.693 Z\" fill=\"#000000\" fill-rule=\"nonzero\" fill-opacity=\"1\" /><path clip-path=\"url(#clip600)\" d=\"M1071.36 865.504 L1075.33 865.504 L1075.33 870.281 L1071.36 870.281 L1071.36 865.504 Z\" fill=\"#000000\" fill-rule=\"nonzero\" fill-opacity=\"1\" /><path clip-path=\"url(#clip600)\" d=\"M1091.73 844.703 Q1088.79 844.703 1087.31 847.599 Q1085.84 850.477 1085.84 856.269 Q1085.84 862.043 1087.31 864.94 Q1088.79 867.817 1091.73 867.817 Q1094.68 867.817 1096.15 864.94 Q1097.63 862.043 1097.63 856.269 Q1097.63 850.477 1096.15 847.599 Q1094.68 844.703 1091.73 844.703 M1091.73 841.693 Q1096.45 841.693 1098.93 845.436 Q1101.43 849.16 1101.43 856.269 Q1101.43 863.36 1098.93 867.103 Q1096.45 870.827 1091.73 870.827 Q1087.01 870.827 1084.5 867.103 Q1082.02 863.36 1082.02 856.269 Q1082.02 849.16 1084.5 845.436 Q1087.01 841.693 1091.73 841.693 Z\" fill=\"#000000\" fill-rule=\"nonzero\" fill-opacity=\"1\" /><polyline clip-path=\"url(#clip600)\" style=\"stroke:#000000; stroke-linecap:round; stroke-linejoin:round; stroke-width:4; stroke-opacity:1; fill:none\" points=\"298.174,821.232 298.174,47.2441 \"/>\n",
       "<polyline clip-path=\"url(#clip600)\" style=\"stroke:#000000; stroke-linecap:round; stroke-linejoin:round; stroke-width:4; stroke-opacity:1; fill:none\" points=\"1069.19,821.232 1069.19,47.2441 \"/>\n",
       "<polyline clip-path=\"url(#clip600)\" style=\"stroke:#000000; stroke-linecap:round; stroke-linejoin:round; stroke-width:4; stroke-opacity:1; fill:none\" points=\"298.174,714.85 317.072,714.85 \"/>\n",
       "<polyline clip-path=\"url(#clip600)\" style=\"stroke:#000000; stroke-linecap:round; stroke-linejoin:round; stroke-width:4; stroke-opacity:1; fill:none\" points=\"298.174,582.362 317.072,582.362 \"/>\n",
       "<polyline clip-path=\"url(#clip600)\" style=\"stroke:#000000; stroke-linecap:round; stroke-linejoin:round; stroke-width:4; stroke-opacity:1; fill:none\" points=\"298.174,449.873 317.072,449.873 \"/>\n",
       "<polyline clip-path=\"url(#clip600)\" style=\"stroke:#000000; stroke-linecap:round; stroke-linejoin:round; stroke-width:4; stroke-opacity:1; fill:none\" points=\"298.174,317.385 317.072,317.385 \"/>\n",
       "<polyline clip-path=\"url(#clip600)\" style=\"stroke:#000000; stroke-linecap:round; stroke-linejoin:round; stroke-width:4; stroke-opacity:1; fill:none\" points=\"298.174,184.897 317.072,184.897 \"/>\n",
       "<polyline clip-path=\"url(#clip600)\" style=\"stroke:#000000; stroke-linecap:round; stroke-linejoin:round; stroke-width:4; stroke-opacity:1; fill:none\" points=\"298.174,52.4088 317.072,52.4088 \"/>\n",
       "<polyline clip-path=\"url(#clip600)\" style=\"stroke:#000000; stroke-linecap:round; stroke-linejoin:round; stroke-width:4; stroke-opacity:1; fill:none\" points=\"1069.19,714.85 1050.29,714.85 \"/>\n",
       "<polyline clip-path=\"url(#clip600)\" style=\"stroke:#000000; stroke-linecap:round; stroke-linejoin:round; stroke-width:4; stroke-opacity:1; fill:none\" points=\"1069.19,582.362 1050.29,582.362 \"/>\n",
       "<polyline clip-path=\"url(#clip600)\" style=\"stroke:#000000; stroke-linecap:round; stroke-linejoin:round; stroke-width:4; stroke-opacity:1; fill:none\" points=\"1069.19,449.873 1050.29,449.873 \"/>\n",
       "<polyline clip-path=\"url(#clip600)\" style=\"stroke:#000000; stroke-linecap:round; stroke-linejoin:round; stroke-width:4; stroke-opacity:1; fill:none\" points=\"1069.19,317.385 1050.29,317.385 \"/>\n",
       "<polyline clip-path=\"url(#clip600)\" style=\"stroke:#000000; stroke-linecap:round; stroke-linejoin:round; stroke-width:4; stroke-opacity:1; fill:none\" points=\"1069.19,184.897 1050.29,184.897 \"/>\n",
       "<polyline clip-path=\"url(#clip600)\" style=\"stroke:#000000; stroke-linecap:round; stroke-linejoin:round; stroke-width:4; stroke-opacity:1; fill:none\" points=\"1069.19,52.4088 1050.29,52.4088 \"/>\n",
       "<path clip-path=\"url(#clip600)\" d=\"M177.837 700.649 Q174.225 700.649 172.397 704.213 Q170.591 707.755 170.591 714.885 Q170.591 721.991 172.397 725.556 Q174.225 729.098 177.837 729.098 Q181.471 729.098 183.276 725.556 Q185.105 721.991 185.105 714.885 Q185.105 707.755 183.276 704.213 Q181.471 700.649 177.837 700.649 M177.837 696.945 Q183.647 696.945 186.702 701.551 Q189.781 706.135 189.781 714.885 Q189.781 723.611 186.702 728.218 Q183.647 732.801 177.837 732.801 Q172.026 732.801 168.948 728.218 Q165.892 723.611 165.892 714.885 Q165.892 706.135 168.948 701.551 Q172.026 696.945 177.837 696.945 Z\" fill=\"#000000\" fill-rule=\"nonzero\" fill-opacity=\"1\" /><path clip-path=\"url(#clip600)\" d=\"M197.998 726.25 L202.883 726.25 L202.883 732.13 L197.998 732.13 L197.998 726.25 Z\" fill=\"#000000\" fill-rule=\"nonzero\" fill-opacity=\"1\" /><path clip-path=\"url(#clip600)\" d=\"M213.878 728.195 L221.517 728.195 L221.517 701.829 L213.207 703.496 L213.207 699.237 L221.471 697.57 L226.146 697.57 L226.146 728.195 L233.785 728.195 L233.785 732.13 L213.878 732.13 L213.878 728.195 Z\" fill=\"#000000\" fill-rule=\"nonzero\" fill-opacity=\"1\" /><path clip-path=\"url(#clip600)\" d=\"M253.23 700.649 Q249.619 700.649 247.79 704.213 Q245.984 707.755 245.984 714.885 Q245.984 721.991 247.79 725.556 Q249.619 729.098 253.23 729.098 Q256.864 729.098 258.669 725.556 Q260.498 721.991 260.498 714.885 Q260.498 707.755 258.669 704.213 Q256.864 700.649 253.23 700.649 M253.23 696.945 Q259.04 696.945 262.095 701.551 Q265.174 706.135 265.174 714.885 Q265.174 723.611 262.095 728.218 Q259.04 732.801 253.23 732.801 Q247.419 732.801 244.341 728.218 Q241.285 723.611 241.285 714.885 Q241.285 706.135 244.341 701.551 Q247.419 696.945 253.23 696.945 Z\" fill=\"#000000\" fill-rule=\"nonzero\" fill-opacity=\"1\" /><path clip-path=\"url(#clip600)\" d=\"M179.063 568.16 Q175.452 568.16 173.624 571.725 Q171.818 575.267 171.818 582.396 Q171.818 589.503 173.624 593.068 Q175.452 596.609 179.063 596.609 Q182.698 596.609 184.503 593.068 Q186.332 589.503 186.332 582.396 Q186.332 575.267 184.503 571.725 Q182.698 568.16 179.063 568.16 M179.063 564.457 Q184.873 564.457 187.929 569.063 Q191.008 573.646 191.008 582.396 Q191.008 591.123 187.929 595.73 Q184.873 600.313 179.063 600.313 Q173.253 600.313 170.175 595.73 Q167.119 591.123 167.119 582.396 Q167.119 573.646 170.175 569.063 Q173.253 564.457 179.063 564.457 Z\" fill=\"#000000\" fill-rule=\"nonzero\" fill-opacity=\"1\" /><path clip-path=\"url(#clip600)\" d=\"M199.225 593.762 L204.11 593.762 L204.11 599.642 L199.225 599.642 L199.225 593.762 Z\" fill=\"#000000\" fill-rule=\"nonzero\" fill-opacity=\"1\" /><path clip-path=\"url(#clip600)\" d=\"M215.105 595.707 L222.744 595.707 L222.744 569.341 L214.434 571.008 L214.434 566.748 L222.697 565.082 L227.373 565.082 L227.373 595.707 L235.012 595.707 L235.012 599.642 L215.105 599.642 L215.105 595.707 Z\" fill=\"#000000\" fill-rule=\"nonzero\" fill-opacity=\"1\" /><path clip-path=\"url(#clip600)\" d=\"M245.267 595.707 L252.906 595.707 L252.906 569.341 L244.595 571.008 L244.595 566.748 L252.859 565.082 L257.535 565.082 L257.535 595.707 L265.174 595.707 L265.174 599.642 L245.267 599.642 L245.267 595.707 Z\" fill=\"#000000\" fill-rule=\"nonzero\" fill-opacity=\"1\" /><path clip-path=\"url(#clip600)\" d=\"M179.434 435.672 Q175.823 435.672 173.994 439.237 Q172.188 442.779 172.188 449.908 Q172.188 457.015 173.994 460.579 Q175.823 464.121 179.434 464.121 Q183.068 464.121 184.873 460.579 Q186.702 457.015 186.702 449.908 Q186.702 442.779 184.873 439.237 Q183.068 435.672 179.434 435.672 M179.434 431.968 Q185.244 431.968 188.299 436.575 Q191.378 441.158 191.378 449.908 Q191.378 458.635 188.299 463.241 Q185.244 467.825 179.434 467.825 Q173.624 467.825 170.545 463.241 Q167.489 458.635 167.489 449.908 Q167.489 441.158 170.545 436.575 Q173.624 431.968 179.434 431.968 Z\" fill=\"#000000\" fill-rule=\"nonzero\" fill-opacity=\"1\" /><path clip-path=\"url(#clip600)\" d=\"M199.596 461.274 L204.48 461.274 L204.48 467.153 L199.596 467.153 L199.596 461.274 Z\" fill=\"#000000\" fill-rule=\"nonzero\" fill-opacity=\"1\" /><path clip-path=\"url(#clip600)\" d=\"M215.475 463.218 L223.114 463.218 L223.114 436.853 L214.804 438.519 L214.804 434.26 L223.068 432.593 L227.744 432.593 L227.744 463.218 L235.382 463.218 L235.382 467.153 L215.475 467.153 L215.475 463.218 Z\" fill=\"#000000\" fill-rule=\"nonzero\" fill-opacity=\"1\" /><path clip-path=\"url(#clip600)\" d=\"M248.855 463.218 L265.174 463.218 L265.174 467.153 L243.23 467.153 L243.23 463.218 Q245.892 460.464 250.475 455.834 Q255.081 451.181 256.262 449.839 Q258.507 447.316 259.387 445.58 Q260.29 443.82 260.29 442.13 Q260.29 439.376 258.345 437.64 Q256.424 435.904 253.322 435.904 Q251.123 435.904 248.669 436.668 Q246.239 437.431 243.461 438.982 L243.461 434.26 Q246.285 433.126 248.739 432.547 Q251.193 431.968 253.23 431.968 Q258.6 431.968 261.794 434.654 Q264.989 437.339 264.989 441.83 Q264.989 443.959 264.179 445.88 Q263.392 447.779 261.285 450.371 Q260.706 451.042 257.605 454.26 Q254.503 457.454 248.855 463.218 Z\" fill=\"#000000\" fill-rule=\"nonzero\" fill-opacity=\"1\" /><path clip-path=\"url(#clip600)\" d=\"M178.485 303.184 Q174.874 303.184 173.045 306.749 Q171.239 310.29 171.239 317.42 Q171.239 324.526 173.045 328.091 Q174.874 331.633 178.485 331.633 Q182.119 331.633 183.924 328.091 Q185.753 324.526 185.753 317.42 Q185.753 310.29 183.924 306.749 Q182.119 303.184 178.485 303.184 M178.485 299.48 Q184.295 299.48 187.35 304.087 Q190.429 308.67 190.429 317.42 Q190.429 326.147 187.35 330.753 Q184.295 335.337 178.485 335.337 Q172.674 335.337 169.596 330.753 Q166.54 326.147 166.54 317.42 Q166.54 308.67 169.596 304.087 Q172.674 299.48 178.485 299.48 Z\" fill=\"#000000\" fill-rule=\"nonzero\" fill-opacity=\"1\" /><path clip-path=\"url(#clip600)\" d=\"M198.647 328.786 L203.531 328.786 L203.531 334.665 L198.647 334.665 L198.647 328.786 Z\" fill=\"#000000\" fill-rule=\"nonzero\" fill-opacity=\"1\" /><path clip-path=\"url(#clip600)\" d=\"M214.526 330.73 L222.165 330.73 L222.165 304.364 L213.855 306.031 L213.855 301.772 L222.119 300.105 L226.795 300.105 L226.795 330.73 L234.433 330.73 L234.433 334.665 L214.526 334.665 L214.526 330.73 Z\" fill=\"#000000\" fill-rule=\"nonzero\" fill-opacity=\"1\" /><path clip-path=\"url(#clip600)\" d=\"M258.044 316.031 Q261.401 316.749 263.276 319.017 Q265.174 321.286 265.174 324.619 Q265.174 329.735 261.655 332.536 Q258.137 335.337 251.656 335.337 Q249.48 335.337 247.165 334.897 Q244.873 334.48 242.419 333.624 L242.419 329.11 Q244.364 330.244 246.679 330.823 Q248.994 331.401 251.517 331.401 Q255.915 331.401 258.206 329.665 Q260.521 327.929 260.521 324.619 Q260.521 321.563 258.368 319.85 Q256.239 318.114 252.419 318.114 L248.392 318.114 L248.392 314.272 L252.605 314.272 Q256.054 314.272 257.882 312.906 Q259.711 311.517 259.711 308.925 Q259.711 306.263 257.813 304.851 Q255.938 303.415 252.419 303.415 Q250.498 303.415 248.299 303.832 Q246.1 304.249 243.461 305.128 L243.461 300.962 Q246.123 300.221 248.438 299.851 Q250.776 299.48 252.836 299.48 Q258.16 299.48 261.262 301.911 Q264.364 304.318 264.364 308.439 Q264.364 311.309 262.72 313.3 Q261.077 315.267 258.044 316.031 Z\" fill=\"#000000\" fill-rule=\"nonzero\" fill-opacity=\"1\" /><path clip-path=\"url(#clip600)\" d=\"M177.35 170.696 Q173.739 170.696 171.911 174.26 Q170.105 177.802 170.105 184.932 Q170.105 192.038 171.911 195.603 Q173.739 199.145 177.35 199.145 Q180.985 199.145 182.79 195.603 Q184.619 192.038 184.619 184.932 Q184.619 177.802 182.79 174.26 Q180.985 170.696 177.35 170.696 M177.35 166.992 Q183.161 166.992 186.216 171.598 Q189.295 176.182 189.295 184.932 Q189.295 193.659 186.216 198.265 Q183.161 202.848 177.35 202.848 Q171.54 202.848 168.462 198.265 Q165.406 193.659 165.406 184.932 Q165.406 176.182 168.462 171.598 Q171.54 166.992 177.35 166.992 Z\" fill=\"#000000\" fill-rule=\"nonzero\" fill-opacity=\"1\" /><path clip-path=\"url(#clip600)\" d=\"M197.512 196.297 L202.397 196.297 L202.397 202.177 L197.512 202.177 L197.512 196.297 Z\" fill=\"#000000\" fill-rule=\"nonzero\" fill-opacity=\"1\" /><path clip-path=\"url(#clip600)\" d=\"M213.392 198.242 L221.031 198.242 L221.031 171.876 L212.721 173.543 L212.721 169.284 L220.984 167.617 L225.66 167.617 L225.66 198.242 L233.299 198.242 L233.299 202.177 L213.392 202.177 L213.392 198.242 Z\" fill=\"#000000\" fill-rule=\"nonzero\" fill-opacity=\"1\" /><path clip-path=\"url(#clip600)\" d=\"M255.591 171.691 L243.785 190.14 L255.591 190.14 L255.591 171.691 M254.364 167.617 L260.243 167.617 L260.243 190.14 L265.174 190.14 L265.174 194.029 L260.243 194.029 L260.243 202.177 L255.591 202.177 L255.591 194.029 L239.989 194.029 L239.989 189.515 L254.364 167.617 Z\" fill=\"#000000\" fill-rule=\"nonzero\" fill-opacity=\"1\" /><path clip-path=\"url(#clip600)\" d=\"M178.832 38.2075 Q175.221 38.2075 173.392 41.7723 Q171.587 45.3139 171.587 52.4435 Q171.587 59.5499 173.392 63.1147 Q175.221 66.6564 178.832 66.6564 Q182.466 66.6564 184.272 63.1147 Q186.1 59.5499 186.1 52.4435 Q186.1 45.3139 184.272 41.7723 Q182.466 38.2075 178.832 38.2075 M178.832 34.5038 Q184.642 34.5038 187.698 39.1102 Q190.776 43.6935 190.776 52.4435 Q190.776 61.1703 187.698 65.7768 Q184.642 70.3601 178.832 70.3601 Q173.022 70.3601 169.943 65.7768 Q166.887 61.1703 166.887 52.4435 Q166.887 43.6935 169.943 39.1102 Q173.022 34.5038 178.832 34.5038 Z\" fill=\"#000000\" fill-rule=\"nonzero\" fill-opacity=\"1\" /><path clip-path=\"url(#clip600)\" d=\"M198.994 63.8092 L203.878 63.8092 L203.878 69.6888 L198.994 69.6888 L198.994 63.8092 Z\" fill=\"#000000\" fill-rule=\"nonzero\" fill-opacity=\"1\" /><path clip-path=\"url(#clip600)\" d=\"M214.873 65.7536 L222.512 65.7536 L222.512 39.388 L214.202 41.0547 L214.202 36.7954 L222.466 35.1288 L227.142 35.1288 L227.142 65.7536 L234.781 65.7536 L234.781 69.6888 L214.873 69.6888 L214.873 65.7536 Z\" fill=\"#000000\" fill-rule=\"nonzero\" fill-opacity=\"1\" /><path clip-path=\"url(#clip600)\" d=\"M244.271 35.1288 L262.628 35.1288 L262.628 39.0639 L248.554 39.0639 L248.554 47.5361 Q249.572 47.1889 250.591 47.0269 Q251.609 46.8417 252.628 46.8417 Q258.415 46.8417 261.794 50.013 Q265.174 53.1842 265.174 58.6009 Q265.174 64.1796 261.702 67.2814 Q258.23 70.3601 251.91 70.3601 Q249.734 70.3601 247.466 69.9897 Q245.22 69.6193 242.813 68.8786 L242.813 64.1796 Q244.896 65.3138 247.119 65.8694 Q249.341 66.4249 251.818 66.4249 Q255.822 66.4249 258.16 64.3184 Q260.498 62.212 260.498 58.6009 Q260.498 54.9898 258.16 52.8833 Q255.822 50.7768 251.818 50.7768 Q249.943 50.7768 248.068 51.1935 Q246.216 51.6102 244.271 52.4898 L244.271 35.1288 Z\" fill=\"#000000\" fill-rule=\"nonzero\" fill-opacity=\"1\" /><path clip-path=\"url(#clip600)\" d=\"M95.4563 596.993 L112.866 596.993 L112.866 586.681 Q112.866 581.493 110.734 579.01 Q108.57 576.496 104.145 576.496 Q99.6895 576.496 97.5888 579.01 Q95.4563 581.493 95.4563 586.681 L95.4563 596.993 M75.9135 596.993 L90.2364 596.993 L90.2364 587.476 Q90.2364 582.766 88.4858 580.474 Q86.7034 578.151 83.075 578.151 Q79.4783 578.151 77.6959 580.474 Q75.9135 582.766 75.9135 587.476 L75.9135 596.993 M70.63 603.422 L70.63 586.999 Q70.63 579.647 73.6856 575.668 Q76.7411 571.689 82.3747 571.689 Q86.7352 571.689 89.3134 573.726 Q91.8915 575.763 92.528 579.71 Q93.5466 574.968 96.7931 572.358 Q100.008 569.716 104.846 569.716 Q111.211 569.716 114.681 574.045 Q118.15 578.373 118.15 586.362 L118.15 603.422 L70.63 603.422 Z\" fill=\"#000000\" fill-rule=\"nonzero\" fill-opacity=\"1\" /><path clip-path=\"url(#clip600)\" d=\"M87.9766 538.301 Q87.4036 539.288 87.149 540.466 Q86.8626 541.611 86.8626 543.012 Q86.8626 547.977 90.1091 550.651 Q93.3238 553.293 99.3712 553.293 L118.15 553.293 L118.15 559.181 L82.5021 559.181 L82.5021 553.293 L88.0402 553.293 Q84.7937 551.446 83.2341 548.486 Q81.6427 545.526 81.6427 541.293 Q81.6427 540.688 81.7382 539.956 Q81.8018 539.224 81.961 538.333 L87.9766 538.301 Z\" fill=\"#000000\" fill-rule=\"nonzero\" fill-opacity=\"1\" /><path clip-path=\"url(#clip600)\" d=\"M82.5021 532.158 L82.5021 526.302 L118.15 526.302 L118.15 532.158 L82.5021 532.158 M68.6248 532.158 L68.6248 526.302 L76.0409 526.302 L76.0409 532.158 L68.6248 532.158 Z\" fill=\"#000000\" fill-rule=\"nonzero\" fill-opacity=\"1\" /><path clip-path=\"url(#clip600)\" d=\"M98.8619 483.556 L101.726 483.556 L101.726 510.483 Q107.774 510.101 110.957 506.855 Q114.108 503.576 114.108 497.752 Q114.108 494.378 113.28 491.227 Q112.453 488.044 110.798 484.925 L116.336 484.925 Q117.673 488.076 118.373 491.386 Q119.073 494.696 119.073 498.102 Q119.073 506.632 114.108 511.629 Q109.143 516.594 100.676 516.594 Q91.9233 516.594 86.7989 511.884 Q81.6427 507.141 81.6427 499.12 Q81.6427 491.927 86.2896 487.758 Q90.9048 483.556 98.8619 483.556 M97.1432 489.413 Q92.3371 489.476 89.4725 492.118 Q86.6079 494.728 86.6079 499.057 Q86.6079 503.958 89.377 506.918 Q92.1461 509.847 97.175 510.292 L97.1432 489.413 Z\" fill=\"#000000\" fill-rule=\"nonzero\" fill-opacity=\"1\" /><path clip-path=\"url(#clip600)\" d=\"M87.9766 453.287 Q87.4036 454.274 87.149 455.452 Q86.8626 456.597 86.8626 457.998 Q86.8626 462.963 90.1091 465.637 Q93.3238 468.279 99.3712 468.279 L118.15 468.279 L118.15 474.167 L82.5021 474.167 L82.5021 468.279 L88.0402 468.279 Q84.7937 466.432 83.2341 463.472 Q81.6427 460.512 81.6427 456.279 Q81.6427 455.674 81.7382 454.942 Q81.8018 454.21 81.961 453.319 L87.9766 453.287 Z\" fill=\"#000000\" fill-rule=\"nonzero\" fill-opacity=\"1\" /><path clip-path=\"url(#clip600)\" d=\"M70.63 446.89 L70.63 440.46 L112.739 440.46 L112.739 417.321 L118.15 417.321 L118.15 446.89 L70.63 446.89 Z\" fill=\"#000000\" fill-rule=\"nonzero\" fill-opacity=\"1\" /><path clip-path=\"url(#clip600)\" d=\"M86.6079 398.16 Q86.6079 402.871 90.3 405.608 Q93.9603 408.345 100.358 408.345 Q106.755 408.345 110.448 405.64 Q114.108 402.903 114.108 398.16 Q114.108 393.481 110.416 390.744 Q106.724 388.007 100.358 388.007 Q94.024 388.007 90.3319 390.744 Q86.6079 393.481 86.6079 398.16 M81.6427 398.16 Q81.6427 390.521 86.6079 386.161 Q91.5732 381.8 100.358 381.8 Q109.111 381.8 114.108 386.161 Q119.073 390.521 119.073 398.16 Q119.073 405.831 114.108 410.191 Q109.111 414.52 100.358 414.52 Q91.5732 414.52 86.6079 410.191 Q81.6427 405.831 81.6427 398.16 Z\" fill=\"#000000\" fill-rule=\"nonzero\" fill-opacity=\"1\" /><path clip-path=\"url(#clip600)\" d=\"M83.5524 349.367 L89.0906 349.367 Q87.8174 351.85 87.1808 354.523 Q86.5443 357.197 86.5443 360.061 Q86.5443 364.422 87.8811 366.618 Q89.2179 368.783 91.8915 368.783 Q93.9285 368.783 95.1062 367.223 Q96.252 365.663 97.3023 360.953 L97.7479 358.947 Q99.0847 352.709 101.536 350.099 Q103.954 347.457 108.315 347.457 Q113.28 347.457 116.177 351.404 Q119.073 355.319 119.073 362.194 Q119.073 365.059 118.5 368.178 Q117.959 371.265 116.845 374.703 L110.798 374.703 Q112.485 371.456 113.344 368.305 Q114.171 365.154 114.171 362.067 Q114.171 357.929 112.771 355.701 Q111.339 353.473 108.761 353.473 Q106.373 353.473 105.1 355.096 Q103.827 356.688 102.65 362.13 L102.172 364.167 Q101.026 369.61 98.6709 372.029 Q96.2838 374.448 92.1461 374.448 Q87.1172 374.448 84.3799 370.883 Q81.6427 367.318 81.6427 360.762 Q81.6427 357.515 82.1201 354.651 Q82.5975 351.786 83.5524 349.367 Z\" fill=\"#000000\" fill-rule=\"nonzero\" fill-opacity=\"1\" /><path clip-path=\"url(#clip600)\" d=\"M83.5524 315.406 L89.0906 315.406 Q87.8174 317.889 87.1808 320.562 Q86.5443 323.236 86.5443 326.1 Q86.5443 330.461 87.8811 332.657 Q89.2179 334.821 91.8915 334.821 Q93.9285 334.821 95.1062 333.262 Q96.252 331.702 97.3023 326.992 L97.7479 324.986 Q99.0847 318.748 101.536 316.138 Q103.954 313.496 108.315 313.496 Q113.28 313.496 116.177 317.443 Q119.073 321.358 119.073 328.233 Q119.073 331.098 118.5 334.217 Q117.959 337.304 116.845 340.742 L110.798 340.742 Q112.485 337.495 113.344 334.344 Q114.171 331.193 114.171 328.106 Q114.171 323.968 112.771 321.74 Q111.339 319.512 108.761 319.512 Q106.373 319.512 105.1 321.135 Q103.827 322.727 102.65 328.169 L102.172 330.206 Q101.026 335.649 98.6709 338.068 Q96.2838 340.487 92.1461 340.487 Q87.1172 340.487 84.3799 336.922 Q81.6427 333.357 81.6427 326.801 Q81.6427 323.554 82.1201 320.69 Q82.5975 317.825 83.5524 315.406 Z\" fill=\"#000000\" fill-rule=\"nonzero\" fill-opacity=\"1\" /><path clip-path=\"url(#clip600)\" d=\"M68.6885 290.102 Q76.009 294.367 83.1705 296.436 Q90.3319 298.505 97.6843 298.505 Q105.037 298.505 112.262 296.436 Q119.455 294.336 126.744 290.102 L126.744 295.195 Q119.264 299.969 112.039 302.356 Q104.814 304.712 97.6843 304.712 Q90.5865 304.712 83.3933 302.356 Q76.2 300.001 68.6885 295.195 L68.6885 290.102 Z\" fill=\"#000000\" fill-rule=\"nonzero\" fill-opacity=\"1\" /><path clip-path=\"url(#clip600)\" d=\"M68.6885 279.663 L68.6885 274.57 Q76.2 269.796 83.3933 267.44 Q90.5865 265.053 97.6843 265.053 Q104.814 265.053 112.039 267.44 Q119.264 269.796 126.744 274.57 L126.744 279.663 Q119.455 275.429 112.262 273.361 Q105.037 271.26 97.6843 271.26 Q90.3319 271.26 83.1705 273.361 Q76.009 275.429 68.6885 279.663 Z\" fill=\"#000000\" fill-rule=\"nonzero\" fill-opacity=\"1\" /><circle clip-path=\"url(#clip602)\" cx=\"386.12\" cy=\"736.662\" r=\"14.4\" fill=\"#009af9\" fill-rule=\"evenodd\" fill-opacity=\"1\" stroke=\"#000000\" stroke-opacity=\"1\" stroke-width=\"4\"/>\n",
       "<circle clip-path=\"url(#clip602)\" cx=\"584.494\" cy=\"443.151\" r=\"14.4\" fill=\"#009af9\" fill-rule=\"evenodd\" fill-opacity=\"1\" stroke=\"#000000\" stroke-opacity=\"1\" stroke-width=\"4\"/>\n",
       "<circle clip-path=\"url(#clip602)\" cx=\"319.995\" cy=\"712.548\" r=\"14.4\" fill=\"#009af9\" fill-rule=\"evenodd\" fill-opacity=\"1\" stroke=\"#000000\" stroke-opacity=\"1\" stroke-width=\"4\"/>\n",
       "<circle clip-path=\"url(#clip602)\" cx=\"1047.37\" cy=\"69.1494\" r=\"14.4\" fill=\"#009af9\" fill-rule=\"evenodd\" fill-opacity=\"1\" stroke=\"#000000\" stroke-opacity=\"1\" stroke-width=\"4\"/>\n",
       "<circle clip-path=\"url(#clip602)\" cx=\"386.12\" cy=\"382.485\" r=\"14.4\" fill=\"#009af9\" fill-rule=\"evenodd\" fill-opacity=\"1\" stroke=\"#000000\" stroke-opacity=\"1\" stroke-width=\"4\"/>\n",
       "<circle clip-path=\"url(#clip602)\" cx=\"782.869\" cy=\"554.345\" r=\"14.4\" fill=\"#009af9\" fill-rule=\"evenodd\" fill-opacity=\"1\" stroke=\"#000000\" stroke-opacity=\"1\" stroke-width=\"4\"/>\n",
       "<circle clip-path=\"url(#clip602)\" cx=\"452.245\" cy=\"441.26\" r=\"14.4\" fill=\"#009af9\" fill-rule=\"evenodd\" fill-opacity=\"1\" stroke=\"#000000\" stroke-opacity=\"1\" stroke-width=\"4\"/>\n",
       "<circle clip-path=\"url(#clip602)\" cx=\"915.118\" cy=\"459.12\" r=\"14.4\" fill=\"#009af9\" fill-rule=\"evenodd\" fill-opacity=\"1\" stroke=\"#000000\" stroke-opacity=\"1\" stroke-width=\"4\"/>\n",
       "<circle clip-path=\"url(#clip602)\" cx=\"782.869\" cy=\"560.325\" r=\"14.4\" fill=\"#009af9\" fill-rule=\"evenodd\" fill-opacity=\"1\" stroke=\"#000000\" stroke-opacity=\"1\" stroke-width=\"4\"/>\n",
       "<circle clip-path=\"url(#clip602)\" cx=\"319.995\" cy=\"399.346\" r=\"14.4\" fill=\"#009af9\" fill-rule=\"evenodd\" fill-opacity=\"1\" stroke=\"#000000\" stroke-opacity=\"1\" stroke-width=\"4\"/>\n",
       "<circle clip-path=\"url(#clip602)\" cx=\"1047.37\" cy=\"229.851\" r=\"14.4\" fill=\"#009af9\" fill-rule=\"evenodd\" fill-opacity=\"1\" stroke=\"#000000\" stroke-opacity=\"1\" stroke-width=\"4\"/>\n",
       "<circle clip-path=\"url(#clip602)\" cx=\"584.494\" cy=\"651.169\" r=\"14.4\" fill=\"#009af9\" fill-rule=\"evenodd\" fill-opacity=\"1\" stroke=\"#000000\" stroke-opacity=\"1\" stroke-width=\"4\"/>\n",
       "<circle clip-path=\"url(#clip602)\" cx=\"848.993\" cy=\"465.328\" r=\"14.4\" fill=\"#009af9\" fill-rule=\"evenodd\" fill-opacity=\"1\" stroke=\"#000000\" stroke-opacity=\"1\" stroke-width=\"4\"/>\n",
       "<circle clip-path=\"url(#clip602)\" cx=\"518.369\" cy=\"670.036\" r=\"14.4\" fill=\"#009af9\" fill-rule=\"evenodd\" fill-opacity=\"1\" stroke=\"#000000\" stroke-opacity=\"1\" stroke-width=\"4\"/>\n",
       "<circle clip-path=\"url(#clip602)\" cx=\"915.118\" cy=\"401.579\" r=\"14.4\" fill=\"#009af9\" fill-rule=\"evenodd\" fill-opacity=\"1\" stroke=\"#000000\" stroke-opacity=\"1\" stroke-width=\"4\"/>\n",
       "<circle clip-path=\"url(#clip602)\" cx=\"848.993\" cy=\"492.878\" r=\"14.4\" fill=\"#009af9\" fill-rule=\"evenodd\" fill-opacity=\"1\" stroke=\"#000000\" stroke-opacity=\"1\" stroke-width=\"4\"/>\n",
       "<circle clip-path=\"url(#clip602)\" cx=\"650.619\" cy=\"459.849\" r=\"14.4\" fill=\"#009af9\" fill-rule=\"evenodd\" fill-opacity=\"1\" stroke=\"#000000\" stroke-opacity=\"1\" stroke-width=\"4\"/>\n",
       "<circle clip-path=\"url(#clip602)\" cx=\"452.245\" cy=\"683.066\" r=\"14.4\" fill=\"#009af9\" fill-rule=\"evenodd\" fill-opacity=\"1\" stroke=\"#000000\" stroke-opacity=\"1\" stroke-width=\"4\"/>\n",
       "<circle clip-path=\"url(#clip602)\" cx=\"915.118\" cy=\"472.204\" r=\"14.4\" fill=\"#009af9\" fill-rule=\"evenodd\" fill-opacity=\"1\" stroke=\"#000000\" stroke-opacity=\"1\" stroke-width=\"4\"/>\n",
       "<circle clip-path=\"url(#clip602)\" cx=\"782.869\" cy=\"429.276\" r=\"14.4\" fill=\"#009af9\" fill-rule=\"evenodd\" fill-opacity=\"1\" stroke=\"#000000\" stroke-opacity=\"1\" stroke-width=\"4\"/>\n",
       "<circle clip-path=\"url(#clip602)\" cx=\"716.744\" cy=\"612.606\" r=\"14.4\" fill=\"#009af9\" fill-rule=\"evenodd\" fill-opacity=\"1\" stroke=\"#000000\" stroke-opacity=\"1\" stroke-width=\"4\"/>\n",
       "<circle clip-path=\"url(#clip602)\" cx=\"319.995\" cy=\"753.028\" r=\"14.4\" fill=\"#009af9\" fill-rule=\"evenodd\" fill-opacity=\"1\" stroke=\"#000000\" stroke-opacity=\"1\" stroke-width=\"4\"/>\n",
       "<circle clip-path=\"url(#clip602)\" cx=\"386.12\" cy=\"799.326\" r=\"14.4\" fill=\"#009af9\" fill-rule=\"evenodd\" fill-opacity=\"1\" stroke=\"#000000\" stroke-opacity=\"1\" stroke-width=\"4\"/>\n",
       "<circle clip-path=\"url(#clip602)\" cx=\"915.118\" cy=\"454.908\" r=\"14.4\" fill=\"#009af9\" fill-rule=\"evenodd\" fill-opacity=\"1\" stroke=\"#000000\" stroke-opacity=\"1\" stroke-width=\"4\"/>\n",
       "<circle clip-path=\"url(#clip602)\" cx=\"386.12\" cy=\"687.465\" r=\"14.4\" fill=\"#009af9\" fill-rule=\"evenodd\" fill-opacity=\"1\" stroke=\"#000000\" stroke-opacity=\"1\" stroke-width=\"4\"/>\n",
       "<circle clip-path=\"url(#clip602)\" cx=\"716.744\" cy=\"600.784\" r=\"14.4\" fill=\"#009af9\" fill-rule=\"evenodd\" fill-opacity=\"1\" stroke=\"#000000\" stroke-opacity=\"1\" stroke-width=\"4\"/>\n",
       "<circle clip-path=\"url(#clip602)\" cx=\"981.243\" cy=\"445.816\" r=\"14.4\" fill=\"#009af9\" fill-rule=\"evenodd\" fill-opacity=\"1\" stroke=\"#000000\" stroke-opacity=\"1\" stroke-width=\"4\"/>\n",
       "<circle clip-path=\"url(#clip602)\" cx=\"650.619\" cy=\"705.584\" r=\"14.4\" fill=\"#009af9\" fill-rule=\"evenodd\" fill-opacity=\"1\" stroke=\"#000000\" stroke-opacity=\"1\" stroke-width=\"4\"/>\n",
       "<circle clip-path=\"url(#clip602)\" cx=\"319.995\" cy=\"727.455\" r=\"14.4\" fill=\"#009af9\" fill-rule=\"evenodd\" fill-opacity=\"1\" stroke=\"#000000\" stroke-opacity=\"1\" stroke-width=\"4\"/>\n",
       "<circle clip-path=\"url(#clip602)\" cx=\"452.245\" cy=\"764.24\" r=\"14.4\" fill=\"#009af9\" fill-rule=\"evenodd\" fill-opacity=\"1\" stroke=\"#000000\" stroke-opacity=\"1\" stroke-width=\"4\"/>\n",
       "<circle clip-path=\"url(#clip602)\" cx=\"518.369\" cy=\"679.798\" r=\"14.4\" fill=\"#009af9\" fill-rule=\"evenodd\" fill-opacity=\"1\" stroke=\"#000000\" stroke-opacity=\"1\" stroke-width=\"4\"/>\n",
       "<circle clip-path=\"url(#clip602)\" cx=\"1047.37\" cy=\"426.448\" r=\"14.4\" fill=\"#009af9\" fill-rule=\"evenodd\" fill-opacity=\"1\" stroke=\"#000000\" stroke-opacity=\"1\" stroke-width=\"4\"/>\n",
       "<circle clip-path=\"url(#clip602)\" cx=\"1047.37\" cy=\"437.924\" r=\"14.4\" fill=\"#009af9\" fill-rule=\"evenodd\" fill-opacity=\"1\" stroke=\"#000000\" stroke-opacity=\"1\" stroke-width=\"4\"/>\n",
       "<circle clip-path=\"url(#clip602)\" cx=\"716.744\" cy=\"634.597\" r=\"14.4\" fill=\"#009af9\" fill-rule=\"evenodd\" fill-opacity=\"1\" stroke=\"#000000\" stroke-opacity=\"1\" stroke-width=\"4\"/>\n",
       "<circle clip-path=\"url(#clip602)\" cx=\"848.993\" cy=\"500.727\" r=\"14.4\" fill=\"#009af9\" fill-rule=\"evenodd\" fill-opacity=\"1\" stroke=\"#000000\" stroke-opacity=\"1\" stroke-width=\"4\"/>\n",
       "<circle clip-path=\"url(#clip602)\" cx=\"452.245\" cy=\"740.352\" r=\"14.4\" fill=\"#009af9\" fill-rule=\"evenodd\" fill-opacity=\"1\" stroke=\"#000000\" stroke-opacity=\"1\" stroke-width=\"4\"/>\n",
       "<circle clip-path=\"url(#clip602)\" cx=\"650.619\" cy=\"624.13\" r=\"14.4\" fill=\"#009af9\" fill-rule=\"evenodd\" fill-opacity=\"1\" stroke=\"#000000\" stroke-opacity=\"1\" stroke-width=\"4\"/>\n",
       "<circle clip-path=\"url(#clip602)\" cx=\"981.243\" cy=\"270.51\" r=\"14.4\" fill=\"#009af9\" fill-rule=\"evenodd\" fill-opacity=\"1\" stroke=\"#000000\" stroke-opacity=\"1\" stroke-width=\"4\"/>\n",
       "<circle clip-path=\"url(#clip602)\" cx=\"518.369\" cy=\"707.921\" r=\"14.4\" fill=\"#009af9\" fill-rule=\"evenodd\" fill-opacity=\"1\" stroke=\"#000000\" stroke-opacity=\"1\" stroke-width=\"4\"/>\n",
       "<circle clip-path=\"url(#clip602)\" cx=\"981.243\" cy=\"461.843\" r=\"14.4\" fill=\"#009af9\" fill-rule=\"evenodd\" fill-opacity=\"1\" stroke=\"#000000\" stroke-opacity=\"1\" stroke-width=\"4\"/>\n",
       "<circle clip-path=\"url(#clip602)\" cx=\"518.369\" cy=\"381.752\" r=\"14.4\" fill=\"#009af9\" fill-rule=\"evenodd\" fill-opacity=\"1\" stroke=\"#000000\" stroke-opacity=\"1\" stroke-width=\"4\"/>\n",
       "<circle clip-path=\"url(#clip602)\" cx=\"981.243\" cy=\"360.694\" r=\"14.4\" fill=\"#009af9\" fill-rule=\"evenodd\" fill-opacity=\"1\" stroke=\"#000000\" stroke-opacity=\"1\" stroke-width=\"4\"/>\n",
       "<circle clip-path=\"url(#clip602)\" cx=\"716.744\" cy=\"496.066\" r=\"14.4\" fill=\"#009af9\" fill-rule=\"evenodd\" fill-opacity=\"1\" stroke=\"#000000\" stroke-opacity=\"1\" stroke-width=\"4\"/>\n",
       "<circle clip-path=\"url(#clip602)\" cx=\"782.869\" cy=\"626.829\" r=\"14.4\" fill=\"#009af9\" fill-rule=\"evenodd\" fill-opacity=\"1\" stroke=\"#000000\" stroke-opacity=\"1\" stroke-width=\"4\"/>\n",
       "<circle clip-path=\"url(#clip602)\" cx=\"584.494\" cy=\"656.078\" r=\"14.4\" fill=\"#009af9\" fill-rule=\"evenodd\" fill-opacity=\"1\" stroke=\"#000000\" stroke-opacity=\"1\" stroke-width=\"4\"/>\n",
       "<circle clip-path=\"url(#clip602)\" cx=\"650.619\" cy=\"589.956\" r=\"14.4\" fill=\"#009af9\" fill-rule=\"evenodd\" fill-opacity=\"1\" stroke=\"#000000\" stroke-opacity=\"1\" stroke-width=\"4\"/>\n",
       "<circle clip-path=\"url(#clip602)\" cx=\"848.993\" cy=\"529.718\" r=\"14.4\" fill=\"#009af9\" fill-rule=\"evenodd\" fill-opacity=\"1\" stroke=\"#000000\" stroke-opacity=\"1\" stroke-width=\"4\"/>\n",
       "<circle clip-path=\"url(#clip602)\" cx=\"584.494\" cy=\"669.166\" r=\"14.4\" fill=\"#009af9\" fill-rule=\"evenodd\" fill-opacity=\"1\" stroke=\"#000000\" stroke-opacity=\"1\" stroke-width=\"4\"/>\n",
       "<path clip-path=\"url(#clip600)\" d=\"M1381.74 821.232 L2152.76 821.232 L2152.76 47.2441 L1381.74 47.2441  Z\" fill=\"#ffffff\" fill-rule=\"evenodd\" fill-opacity=\"1\"/>\n",
       "<defs>\n",
       "  <clipPath id=\"clip603\">\n",
       "    <rect x=\"1381\" y=\"47\" width=\"772\" height=\"775\"/>\n",
       "  </clipPath>\n",
       "</defs>\n",
       "<path clip-path=\"url(#clip600)\" d=\"M298.174 1789.33 L1069.19 1789.33 L1069.19 1015.34 L298.174 1015.34  Z\" fill=\"#ffffff\" fill-rule=\"evenodd\" fill-opacity=\"1\"/>\n",
       "<defs>\n",
       "  <clipPath id=\"clip604\">\n",
       "    <rect x=\"298\" y=\"1015\" width=\"772\" height=\"775\"/>\n",
       "  </clipPath>\n",
       "</defs>\n",
       "<polyline clip-path=\"url(#clip604)\" style=\"stroke:#000000; stroke-linecap:round; stroke-linejoin:round; stroke-width:2; stroke-opacity:0.1; fill:none\" points=\"319.995,1789.33 319.995,1015.34 \"/>\n",
       "<polyline clip-path=\"url(#clip604)\" style=\"stroke:#000000; stroke-linecap:round; stroke-linejoin:round; stroke-width:2; stroke-opacity:0.1; fill:none\" points=\"465.47,1789.33 465.47,1015.34 \"/>\n",
       "<polyline clip-path=\"url(#clip604)\" style=\"stroke:#000000; stroke-linecap:round; stroke-linejoin:round; stroke-width:2; stroke-opacity:0.1; fill:none\" points=\"610.944,1789.33 610.944,1015.34 \"/>\n",
       "<polyline clip-path=\"url(#clip604)\" style=\"stroke:#000000; stroke-linecap:round; stroke-linejoin:round; stroke-width:2; stroke-opacity:0.1; fill:none\" points=\"756.419,1789.33 756.419,1015.34 \"/>\n",
       "<polyline clip-path=\"url(#clip604)\" style=\"stroke:#000000; stroke-linecap:round; stroke-linejoin:round; stroke-width:2; stroke-opacity:0.1; fill:none\" points=\"901.893,1789.33 901.893,1015.34 \"/>\n",
       "<polyline clip-path=\"url(#clip604)\" style=\"stroke:#000000; stroke-linecap:round; stroke-linejoin:round; stroke-width:2; stroke-opacity:0.1; fill:none\" points=\"1047.37,1789.33 1047.37,1015.34 \"/>\n",
       "<polyline clip-path=\"url(#clip604)\" style=\"stroke:#000000; stroke-linecap:round; stroke-linejoin:round; stroke-width:2; stroke-opacity:0.1; fill:none\" points=\"319.995,1789.33 319.995,1015.34 \"/>\n",
       "<polyline clip-path=\"url(#clip604)\" style=\"stroke:#000000; stroke-linecap:round; stroke-linejoin:round; stroke-width:2; stroke-opacity:0.1; fill:none\" points=\"465.47,1789.33 465.47,1015.34 \"/>\n",
       "<polyline clip-path=\"url(#clip604)\" style=\"stroke:#000000; stroke-linecap:round; stroke-linejoin:round; stroke-width:2; stroke-opacity:0.1; fill:none\" points=\"610.944,1789.33 610.944,1015.34 \"/>\n",
       "<polyline clip-path=\"url(#clip604)\" style=\"stroke:#000000; stroke-linecap:round; stroke-linejoin:round; stroke-width:2; stroke-opacity:0.1; fill:none\" points=\"756.419,1789.33 756.419,1015.34 \"/>\n",
       "<polyline clip-path=\"url(#clip604)\" style=\"stroke:#000000; stroke-linecap:round; stroke-linejoin:round; stroke-width:2; stroke-opacity:0.1; fill:none\" points=\"901.893,1789.33 901.893,1015.34 \"/>\n",
       "<polyline clip-path=\"url(#clip604)\" style=\"stroke:#000000; stroke-linecap:round; stroke-linejoin:round; stroke-width:2; stroke-opacity:0.1; fill:none\" points=\"1047.37,1789.33 1047.37,1015.34 \"/>\n",
       "<polyline clip-path=\"url(#clip604)\" style=\"stroke:#000000; stroke-linecap:round; stroke-linejoin:round; stroke-width:2; stroke-opacity:0.1; fill:none\" points=\"298.174,1767.43 1069.19,1767.43 \"/>\n",
       "<polyline clip-path=\"url(#clip604)\" style=\"stroke:#000000; stroke-linecap:round; stroke-linejoin:round; stroke-width:2; stroke-opacity:0.1; fill:none\" points=\"298.174,1464.23 1069.19,1464.23 \"/>\n",
       "<polyline clip-path=\"url(#clip604)\" style=\"stroke:#000000; stroke-linecap:round; stroke-linejoin:round; stroke-width:2; stroke-opacity:0.1; fill:none\" points=\"298.174,1161.03 1069.19,1161.03 \"/>\n",
       "<polyline clip-path=\"url(#clip604)\" style=\"stroke:#000000; stroke-linecap:round; stroke-linejoin:round; stroke-width:2; stroke-opacity:0.1; fill:none\" points=\"298.174,1767.43 1069.19,1767.43 \"/>\n",
       "<polyline clip-path=\"url(#clip604)\" style=\"stroke:#000000; stroke-linecap:round; stroke-linejoin:round; stroke-width:2; stroke-opacity:0.1; fill:none\" points=\"298.174,1464.23 1069.19,1464.23 \"/>\n",
       "<polyline clip-path=\"url(#clip604)\" style=\"stroke:#000000; stroke-linecap:round; stroke-linejoin:round; stroke-width:2; stroke-opacity:0.1; fill:none\" points=\"298.174,1161.03 1069.19,1161.03 \"/>\n",
       "<polyline clip-path=\"url(#clip600)\" style=\"stroke:#000000; stroke-linecap:round; stroke-linejoin:round; stroke-width:4; stroke-opacity:1; fill:none\" points=\"298.174,1789.33 1069.19,1789.33 \"/>\n",
       "<polyline clip-path=\"url(#clip600)\" style=\"stroke:#000000; stroke-linecap:round; stroke-linejoin:round; stroke-width:4; stroke-opacity:1; fill:none\" points=\"298.174,1015.34 1069.19,1015.34 \"/>\n",
       "<polyline clip-path=\"url(#clip600)\" style=\"stroke:#000000; stroke-linecap:round; stroke-linejoin:round; stroke-width:4; stroke-opacity:1; fill:none\" points=\"319.995,1789.33 319.995,1770.43 \"/>\n",
       "<polyline clip-path=\"url(#clip600)\" style=\"stroke:#000000; stroke-linecap:round; stroke-linejoin:round; stroke-width:4; stroke-opacity:1; fill:none\" points=\"465.47,1789.33 465.47,1770.43 \"/>\n",
       "<polyline clip-path=\"url(#clip600)\" style=\"stroke:#000000; stroke-linecap:round; stroke-linejoin:round; stroke-width:4; stroke-opacity:1; fill:none\" points=\"610.944,1789.33 610.944,1770.43 \"/>\n",
       "<polyline clip-path=\"url(#clip600)\" style=\"stroke:#000000; stroke-linecap:round; stroke-linejoin:round; stroke-width:4; stroke-opacity:1; fill:none\" points=\"756.419,1789.33 756.419,1770.43 \"/>\n",
       "<polyline clip-path=\"url(#clip600)\" style=\"stroke:#000000; stroke-linecap:round; stroke-linejoin:round; stroke-width:4; stroke-opacity:1; fill:none\" points=\"901.893,1789.33 901.893,1770.43 \"/>\n",
       "<polyline clip-path=\"url(#clip600)\" style=\"stroke:#000000; stroke-linecap:round; stroke-linejoin:round; stroke-width:4; stroke-opacity:1; fill:none\" points=\"1047.37,1789.33 1047.37,1770.43 \"/>\n",
       "<polyline clip-path=\"url(#clip600)\" style=\"stroke:#000000; stroke-linecap:round; stroke-linejoin:round; stroke-width:4; stroke-opacity:1; fill:none\" points=\"319.995,1015.34 319.995,1034.24 \"/>\n",
       "<polyline clip-path=\"url(#clip600)\" style=\"stroke:#000000; stroke-linecap:round; stroke-linejoin:round; stroke-width:4; stroke-opacity:1; fill:none\" points=\"465.47,1015.34 465.47,1034.24 \"/>\n",
       "<polyline clip-path=\"url(#clip600)\" style=\"stroke:#000000; stroke-linecap:round; stroke-linejoin:round; stroke-width:4; stroke-opacity:1; fill:none\" points=\"610.944,1015.34 610.944,1034.24 \"/>\n",
       "<polyline clip-path=\"url(#clip600)\" style=\"stroke:#000000; stroke-linecap:round; stroke-linejoin:round; stroke-width:4; stroke-opacity:1; fill:none\" points=\"756.419,1015.34 756.419,1034.24 \"/>\n",
       "<polyline clip-path=\"url(#clip600)\" style=\"stroke:#000000; stroke-linecap:round; stroke-linejoin:round; stroke-width:4; stroke-opacity:1; fill:none\" points=\"901.893,1015.34 901.893,1034.24 \"/>\n",
       "<polyline clip-path=\"url(#clip600)\" style=\"stroke:#000000; stroke-linecap:round; stroke-linejoin:round; stroke-width:4; stroke-opacity:1; fill:none\" points=\"1047.37,1015.34 1047.37,1034.24 \"/>\n",
       "<path clip-path=\"url(#clip600)\" d=\"M297.877 1818.65 Q294.266 1818.65 292.437 1822.22 Q290.632 1825.76 290.632 1832.89 Q290.632 1839.99 292.437 1843.56 Q294.266 1847.1 297.877 1847.1 Q301.511 1847.1 303.317 1843.56 Q305.146 1839.99 305.146 1832.89 Q305.146 1825.76 303.317 1822.22 Q301.511 1818.65 297.877 1818.65 M297.877 1814.95 Q303.687 1814.95 306.743 1819.55 Q309.822 1824.14 309.822 1832.89 Q309.822 1841.61 306.743 1846.22 Q303.687 1850.8 297.877 1850.8 Q292.067 1850.8 288.988 1846.22 Q285.933 1841.61 285.933 1832.89 Q285.933 1824.14 288.988 1819.55 Q292.067 1814.95 297.877 1814.95 Z\" fill=\"#000000\" fill-rule=\"nonzero\" fill-opacity=\"1\" /><path clip-path=\"url(#clip600)\" d=\"M318.039 1844.25 L322.923 1844.25 L322.923 1850.13 L318.039 1850.13 L318.039 1844.25 Z\" fill=\"#000000\" fill-rule=\"nonzero\" fill-opacity=\"1\" /><path clip-path=\"url(#clip600)\" d=\"M333.155 1815.57 L351.511 1815.57 L351.511 1819.51 L337.437 1819.51 L337.437 1827.98 Q338.456 1827.63 339.474 1827.47 Q340.493 1827.29 341.511 1827.29 Q347.298 1827.29 350.678 1830.46 Q354.057 1833.63 354.057 1839.04 Q354.057 1844.62 350.585 1847.73 Q347.113 1850.8 340.794 1850.8 Q338.618 1850.8 336.349 1850.43 Q334.104 1850.06 331.696 1849.32 L331.696 1844.62 Q333.78 1845.76 336.002 1846.31 Q338.224 1846.87 340.701 1846.87 Q344.706 1846.87 347.044 1844.76 Q349.382 1842.66 349.382 1839.04 Q349.382 1835.43 347.044 1833.33 Q344.706 1831.22 340.701 1831.22 Q338.826 1831.22 336.951 1831.64 Q335.099 1832.05 333.155 1832.93 L333.155 1815.57 Z\" fill=\"#000000\" fill-rule=\"nonzero\" fill-opacity=\"1\" /><path clip-path=\"url(#clip600)\" d=\"M442.773 1818.65 Q439.162 1818.65 437.333 1822.22 Q435.528 1825.76 435.528 1832.89 Q435.528 1839.99 437.333 1843.56 Q439.162 1847.1 442.773 1847.1 Q446.407 1847.1 448.213 1843.56 Q450.042 1839.99 450.042 1832.89 Q450.042 1825.76 448.213 1822.22 Q446.407 1818.65 442.773 1818.65 M442.773 1814.95 Q448.583 1814.95 451.639 1819.55 Q454.717 1824.14 454.717 1832.89 Q454.717 1841.61 451.639 1846.22 Q448.583 1850.8 442.773 1850.8 Q436.963 1850.8 433.884 1846.22 Q430.829 1841.61 430.829 1832.89 Q430.829 1824.14 433.884 1819.55 Q436.963 1814.95 442.773 1814.95 Z\" fill=\"#000000\" fill-rule=\"nonzero\" fill-opacity=\"1\" /><path clip-path=\"url(#clip600)\" d=\"M462.935 1844.25 L467.819 1844.25 L467.819 1850.13 L462.935 1850.13 L462.935 1844.25 Z\" fill=\"#000000\" fill-rule=\"nonzero\" fill-opacity=\"1\" /><path clip-path=\"url(#clip600)\" d=\"M488.583 1830.99 Q485.435 1830.99 483.583 1833.14 Q481.754 1835.29 481.754 1839.04 Q481.754 1842.77 483.583 1844.95 Q485.435 1847.1 488.583 1847.1 Q491.731 1847.1 493.56 1844.95 Q495.412 1842.77 495.412 1839.04 Q495.412 1835.29 493.56 1833.14 Q491.731 1830.99 488.583 1830.99 M497.865 1816.34 L497.865 1820.6 Q496.106 1819.76 494.301 1819.32 Q492.518 1818.88 490.759 1818.88 Q486.129 1818.88 483.676 1822.01 Q481.245 1825.13 480.898 1831.45 Q482.264 1829.44 484.324 1828.37 Q486.384 1827.29 488.861 1827.29 Q494.069 1827.29 497.078 1830.46 Q500.111 1833.6 500.111 1839.04 Q500.111 1844.37 496.963 1847.59 Q493.814 1850.8 488.583 1850.8 Q482.588 1850.8 479.416 1846.22 Q476.245 1841.61 476.245 1832.89 Q476.245 1824.69 480.134 1819.83 Q484.023 1814.95 490.574 1814.95 Q492.333 1814.95 494.115 1815.29 Q495.921 1815.64 497.865 1816.34 Z\" fill=\"#000000\" fill-rule=\"nonzero\" fill-opacity=\"1\" /><path clip-path=\"url(#clip600)\" d=\"M588.78 1818.65 Q585.169 1818.65 583.34 1822.22 Q581.535 1825.76 581.535 1832.89 Q581.535 1839.99 583.34 1843.56 Q585.169 1847.1 588.78 1847.1 Q592.414 1847.1 594.22 1843.56 Q596.048 1839.99 596.048 1832.89 Q596.048 1825.76 594.22 1822.22 Q592.414 1818.65 588.78 1818.65 M588.78 1814.95 Q594.59 1814.95 597.646 1819.55 Q600.724 1824.14 600.724 1832.89 Q600.724 1841.61 597.646 1846.22 Q594.59 1850.8 588.78 1850.8 Q582.97 1850.8 579.891 1846.22 Q576.836 1841.61 576.836 1832.89 Q576.836 1824.14 579.891 1819.55 Q582.97 1814.95 588.78 1814.95 Z\" fill=\"#000000\" fill-rule=\"nonzero\" fill-opacity=\"1\" /><path clip-path=\"url(#clip600)\" d=\"M608.942 1844.25 L613.826 1844.25 L613.826 1850.13 L608.942 1850.13 L608.942 1844.25 Z\" fill=\"#000000\" fill-rule=\"nonzero\" fill-opacity=\"1\" /><path clip-path=\"url(#clip600)\" d=\"M622.831 1815.57 L645.053 1815.57 L645.053 1817.56 L632.507 1850.13 L627.622 1850.13 L639.428 1819.51 L622.831 1819.51 L622.831 1815.57 Z\" fill=\"#000000\" fill-rule=\"nonzero\" fill-opacity=\"1\" /><path clip-path=\"url(#clip600)\" d=\"M733.849 1818.65 Q730.238 1818.65 728.41 1822.22 Q726.604 1825.76 726.604 1832.89 Q726.604 1839.99 728.41 1843.56 Q730.238 1847.1 733.849 1847.1 Q737.484 1847.1 739.289 1843.56 Q741.118 1839.99 741.118 1832.89 Q741.118 1825.76 739.289 1822.22 Q737.484 1818.65 733.849 1818.65 M733.849 1814.95 Q739.659 1814.95 742.715 1819.55 Q745.794 1824.14 745.794 1832.89 Q745.794 1841.61 742.715 1846.22 Q739.659 1850.8 733.849 1850.8 Q728.039 1850.8 724.96 1846.22 Q721.905 1841.61 721.905 1832.89 Q721.905 1824.14 724.96 1819.55 Q728.039 1814.95 733.849 1814.95 Z\" fill=\"#000000\" fill-rule=\"nonzero\" fill-opacity=\"1\" /><path clip-path=\"url(#clip600)\" d=\"M754.011 1844.25 L758.896 1844.25 L758.896 1850.13 L754.011 1850.13 L754.011 1844.25 Z\" fill=\"#000000\" fill-rule=\"nonzero\" fill-opacity=\"1\" /><path clip-path=\"url(#clip600)\" d=\"M779.081 1833.72 Q775.747 1833.72 773.826 1835.5 Q771.928 1837.29 771.928 1840.41 Q771.928 1843.54 773.826 1845.32 Q775.747 1847.1 779.081 1847.1 Q782.414 1847.1 784.335 1845.32 Q786.256 1843.51 786.256 1840.41 Q786.256 1837.29 784.335 1835.5 Q782.437 1833.72 779.081 1833.72 M774.405 1831.73 Q771.395 1830.99 769.706 1828.93 Q768.039 1826.87 768.039 1823.91 Q768.039 1819.76 770.979 1817.35 Q773.942 1814.95 779.081 1814.95 Q784.243 1814.95 787.182 1817.35 Q790.122 1819.76 790.122 1823.91 Q790.122 1826.87 788.432 1828.93 Q786.766 1830.99 783.78 1831.73 Q787.159 1832.52 789.034 1834.81 Q790.932 1837.1 790.932 1840.41 Q790.932 1845.43 787.854 1848.12 Q784.798 1850.8 779.081 1850.8 Q773.363 1850.8 770.284 1848.12 Q767.229 1845.43 767.229 1840.41 Q767.229 1837.1 769.127 1834.81 Q771.025 1832.52 774.405 1831.73 M772.692 1824.35 Q772.692 1827.03 774.358 1828.54 Q776.048 1830.04 779.081 1830.04 Q782.09 1830.04 783.78 1828.54 Q785.493 1827.03 785.493 1824.35 Q785.493 1821.66 783.78 1820.16 Q782.09 1818.65 779.081 1818.65 Q776.048 1818.65 774.358 1820.16 Q772.692 1821.66 772.692 1824.35 Z\" fill=\"#000000\" fill-rule=\"nonzero\" fill-opacity=\"1\" /><path clip-path=\"url(#clip600)\" d=\"M879.37 1818.65 Q875.759 1818.65 873.93 1822.22 Q872.125 1825.76 872.125 1832.89 Q872.125 1839.99 873.93 1843.56 Q875.759 1847.1 879.37 1847.1 Q883.004 1847.1 884.81 1843.56 Q886.639 1839.99 886.639 1832.89 Q886.639 1825.76 884.81 1822.22 Q883.004 1818.65 879.37 1818.65 M879.37 1814.95 Q885.18 1814.95 888.236 1819.55 Q891.315 1824.14 891.315 1832.89 Q891.315 1841.61 888.236 1846.22 Q885.18 1850.8 879.37 1850.8 Q873.56 1850.8 870.481 1846.22 Q867.426 1841.61 867.426 1832.89 Q867.426 1824.14 870.481 1819.55 Q873.56 1814.95 879.37 1814.95 Z\" fill=\"#000000\" fill-rule=\"nonzero\" fill-opacity=\"1\" /><path clip-path=\"url(#clip600)\" d=\"M899.532 1844.25 L904.416 1844.25 L904.416 1850.13 L899.532 1850.13 L899.532 1844.25 Z\" fill=\"#000000\" fill-rule=\"nonzero\" fill-opacity=\"1\" /><path clip-path=\"url(#clip600)\" d=\"M914.74 1849.41 L914.74 1845.16 Q916.5 1845.99 918.305 1846.43 Q920.111 1846.87 921.847 1846.87 Q926.476 1846.87 928.907 1843.77 Q931.361 1840.64 931.708 1834.3 Q930.365 1836.29 928.305 1837.35 Q926.245 1838.42 923.745 1838.42 Q918.56 1838.42 915.527 1835.29 Q912.518 1832.15 912.518 1826.71 Q912.518 1821.38 915.666 1818.17 Q918.814 1814.95 924.046 1814.95 Q930.041 1814.95 933.189 1819.55 Q936.361 1824.14 936.361 1832.89 Q936.361 1841.06 932.472 1845.94 Q928.606 1850.8 922.055 1850.8 Q920.296 1850.8 918.49 1850.46 Q916.685 1850.11 914.74 1849.41 M924.046 1834.76 Q927.194 1834.76 929.023 1832.61 Q930.874 1830.46 930.874 1826.71 Q930.874 1822.98 929.023 1820.83 Q927.194 1818.65 924.046 1818.65 Q920.898 1818.65 919.046 1820.83 Q917.217 1822.98 917.217 1826.71 Q917.217 1830.46 919.046 1832.61 Q920.898 1834.76 924.046 1834.76 Z\" fill=\"#000000\" fill-rule=\"nonzero\" fill-opacity=\"1\" /><path clip-path=\"url(#clip600)\" d=\"M1014.52 1846.2 L1022.16 1846.2 L1022.16 1819.83 L1013.85 1821.5 L1013.85 1817.24 L1022.11 1815.57 L1026.79 1815.57 L1026.79 1846.2 L1034.43 1846.2 L1034.43 1850.13 L1014.52 1850.13 L1014.52 1846.2 Z\" fill=\"#000000\" fill-rule=\"nonzero\" fill-opacity=\"1\" /><path clip-path=\"url(#clip600)\" d=\"M1043.87 1844.25 L1048.76 1844.25 L1048.76 1850.13 L1043.87 1850.13 L1043.87 1844.25 Z\" fill=\"#000000\" fill-rule=\"nonzero\" fill-opacity=\"1\" /><path clip-path=\"url(#clip600)\" d=\"M1068.94 1818.65 Q1065.33 1818.65 1063.5 1822.22 Q1061.7 1825.76 1061.7 1832.89 Q1061.7 1839.99 1063.5 1843.56 Q1065.33 1847.1 1068.94 1847.1 Q1072.58 1847.1 1074.38 1843.56 Q1076.21 1839.99 1076.21 1832.89 Q1076.21 1825.76 1074.38 1822.22 Q1072.58 1818.65 1068.94 1818.65 M1068.94 1814.95 Q1074.75 1814.95 1077.81 1819.55 Q1080.89 1824.14 1080.89 1832.89 Q1080.89 1841.61 1077.81 1846.22 Q1074.75 1850.8 1068.94 1850.8 Q1063.13 1850.8 1060.05 1846.22 Q1057 1841.61 1057 1832.89 Q1057 1824.14 1060.05 1819.55 Q1063.13 1814.95 1068.94 1814.95 Z\" fill=\"#000000\" fill-rule=\"nonzero\" fill-opacity=\"1\" /><path clip-path=\"url(#clip600)\" d=\"M441.291 1913.4 Q441.291 1906.94 438.618 1903.28 Q435.976 1899.59 431.329 1899.59 Q426.682 1899.59 424.008 1903.28 Q421.367 1906.94 421.367 1913.4 Q421.367 1919.87 424.008 1923.56 Q426.682 1927.22 431.329 1927.22 Q435.976 1927.22 438.618 1923.56 Q441.291 1919.87 441.291 1913.4 M421.367 1900.96 Q423.213 1897.78 426.014 1896.25 Q428.846 1894.69 432.761 1894.69 Q439.254 1894.69 443.296 1899.85 Q447.37 1905 447.37 1913.4 Q447.37 1921.81 443.296 1926.96 Q439.254 1932.12 432.761 1932.12 Q428.846 1932.12 426.014 1930.59 Q423.213 1929.03 421.367 1925.85 L421.367 1931.2 L415.478 1931.2 L415.478 1881.67 L421.367 1881.67 L421.367 1900.96 Z\" fill=\"#000000\" fill-rule=\"nonzero\" fill-opacity=\"1\" /><path clip-path=\"url(#clip600)\" d=\"M473.279 1913.28 Q466.181 1913.28 463.444 1914.9 Q460.707 1916.52 460.707 1920.44 Q460.707 1923.56 462.744 1925.4 Q464.813 1927.22 468.345 1927.22 Q473.215 1927.22 476.143 1923.78 Q479.104 1920.31 479.104 1914.58 L479.104 1913.28 L473.279 1913.28 M484.96 1910.86 L484.96 1931.2 L479.104 1931.2 L479.104 1925.79 Q477.098 1929.03 474.106 1930.59 Q471.115 1932.12 466.786 1932.12 Q461.311 1932.12 458.065 1929.06 Q454.85 1925.98 454.85 1920.82 Q454.85 1914.8 458.861 1911.75 Q462.903 1908.69 470.892 1908.69 L479.104 1908.69 L479.104 1908.12 Q479.104 1904.08 476.43 1901.88 Q473.788 1899.65 468.982 1899.65 Q465.927 1899.65 463.03 1900.39 Q460.134 1901.12 457.46 1902.58 L457.46 1897.17 Q460.675 1895.93 463.699 1895.33 Q466.722 1894.69 469.587 1894.69 Q477.321 1894.69 481.141 1898.7 Q484.96 1902.71 484.96 1910.86 Z\" fill=\"#000000\" fill-rule=\"nonzero\" fill-opacity=\"1\" /><path clip-path=\"url(#clip600)\" d=\"M520.481 1912.96 Q520.481 1906.59 517.839 1903.09 Q515.229 1899.59 510.486 1899.59 Q505.776 1899.59 503.134 1903.09 Q500.524 1906.59 500.524 1912.96 Q500.524 1919.29 503.134 1922.79 Q505.776 1926.29 510.486 1926.29 Q515.229 1926.29 517.839 1922.79 Q520.481 1919.29 520.481 1912.96 M526.337 1926.77 Q526.337 1935.88 522.295 1940.3 Q518.253 1944.76 509.914 1944.76 Q506.826 1944.76 504.089 1944.28 Q501.352 1943.83 498.774 1942.88 L498.774 1937.18 Q501.352 1938.58 503.866 1939.25 Q506.381 1939.92 508.991 1939.92 Q514.751 1939.92 517.616 1936.89 Q520.481 1933.9 520.481 1927.82 L520.481 1924.93 Q518.666 1928.08 515.834 1929.64 Q513.001 1931.2 509.054 1931.2 Q502.497 1931.2 498.487 1926.2 Q494.477 1921.2 494.477 1912.96 Q494.477 1904.68 498.487 1899.69 Q502.497 1894.69 509.054 1894.69 Q513.001 1894.69 515.834 1896.25 Q518.666 1897.81 520.481 1900.96 L520.481 1895.55 L526.337 1895.55 L526.337 1926.77 Z\" fill=\"#000000\" fill-rule=\"nonzero\" fill-opacity=\"1\" /><path clip-path=\"url(#clip600)\" d=\"M561.858 1912.96 Q561.858 1906.59 559.216 1903.09 Q556.606 1899.59 551.864 1899.59 Q547.153 1899.59 544.511 1903.09 Q541.901 1906.59 541.901 1912.96 Q541.901 1919.29 544.511 1922.79 Q547.153 1926.29 551.864 1926.29 Q556.606 1926.29 559.216 1922.79 Q561.858 1919.29 561.858 1912.96 M567.714 1926.77 Q567.714 1935.88 563.672 1940.3 Q559.63 1944.76 551.291 1944.76 Q548.203 1944.76 545.466 1944.28 Q542.729 1943.83 540.151 1942.88 L540.151 1937.18 Q542.729 1938.58 545.243 1939.25 Q547.758 1939.92 550.368 1939.92 Q556.129 1939.92 558.993 1936.89 Q561.858 1933.9 561.858 1927.82 L561.858 1924.93 Q560.043 1928.08 557.211 1929.64 Q554.378 1931.2 550.431 1931.2 Q543.875 1931.2 539.864 1926.2 Q535.854 1921.2 535.854 1912.96 Q535.854 1904.68 539.864 1899.69 Q543.875 1894.69 550.431 1894.69 Q554.378 1894.69 557.211 1896.25 Q560.043 1897.81 561.858 1900.96 L561.858 1895.55 L567.714 1895.55 L567.714 1926.77 Z\" fill=\"#000000\" fill-rule=\"nonzero\" fill-opacity=\"1\" /><path clip-path=\"url(#clip600)\" d=\"M579.777 1895.55 L585.634 1895.55 L585.634 1931.2 L579.777 1931.2 L579.777 1895.55 M579.777 1881.67 L585.634 1881.67 L585.634 1889.09 L579.777 1889.09 L579.777 1881.67 Z\" fill=\"#000000\" fill-rule=\"nonzero\" fill-opacity=\"1\" /><path clip-path=\"url(#clip600)\" d=\"M627.52 1909.68 L627.52 1931.2 L621.664 1931.2 L621.664 1909.87 Q621.664 1904.81 619.69 1902.3 Q617.717 1899.78 613.77 1899.78 Q609.028 1899.78 606.29 1902.81 Q603.553 1905.83 603.553 1911.05 L603.553 1931.2 L597.665 1931.2 L597.665 1895.55 L603.553 1895.55 L603.553 1901.09 Q605.654 1897.87 608.487 1896.28 Q611.351 1894.69 615.075 1894.69 Q621.218 1894.69 624.369 1898.51 Q627.52 1902.3 627.52 1909.68 Z\" fill=\"#000000\" fill-rule=\"nonzero\" fill-opacity=\"1\" /><path clip-path=\"url(#clip600)\" d=\"M662.659 1912.96 Q662.659 1906.59 660.017 1903.09 Q657.407 1899.59 652.665 1899.59 Q647.954 1899.59 645.312 1903.09 Q642.702 1906.59 642.702 1912.96 Q642.702 1919.29 645.312 1922.79 Q647.954 1926.29 652.665 1926.29 Q657.407 1926.29 660.017 1922.79 Q662.659 1919.29 662.659 1912.96 M668.515 1926.77 Q668.515 1935.88 664.473 1940.3 Q660.431 1944.76 652.092 1944.76 Q649.004 1944.76 646.267 1944.28 Q643.53 1943.83 640.952 1942.88 L640.952 1937.18 Q643.53 1938.58 646.044 1939.25 Q648.559 1939.92 651.169 1939.92 Q656.93 1939.92 659.794 1936.89 Q662.659 1933.9 662.659 1927.82 L662.659 1924.93 Q660.844 1928.08 658.012 1929.64 Q655.179 1931.2 651.232 1931.2 Q644.676 1931.2 640.665 1926.2 Q636.655 1921.2 636.655 1912.96 Q636.655 1904.68 640.665 1899.69 Q644.676 1894.69 651.232 1894.69 Q655.179 1894.69 658.012 1896.25 Q660.844 1897.81 662.659 1900.96 L662.659 1895.55 L668.515 1895.55 L668.515 1926.77 Z\" fill=\"#000000\" fill-rule=\"nonzero\" fill-opacity=\"1\" /><path clip-path=\"url(#clip600)\" d=\"M707.664 1942.02 L707.664 1946.57 L673.799 1946.57 L673.799 1942.02 L707.664 1942.02 Z\" fill=\"#000000\" fill-rule=\"nonzero\" fill-opacity=\"1\" /><path clip-path=\"url(#clip600)\" d=\"M731.217 1881.67 L731.217 1886.54 L725.616 1886.54 Q722.464 1886.54 721.223 1887.81 Q720.014 1889.09 720.014 1892.4 L720.014 1895.55 L729.658 1895.55 L729.658 1900.1 L720.014 1900.1 L720.014 1931.2 L714.125 1931.2 L714.125 1900.1 L708.524 1900.1 L708.524 1895.55 L714.125 1895.55 L714.125 1893.07 Q714.125 1887.11 716.894 1884.41 Q719.664 1881.67 725.679 1881.67 L731.217 1881.67 Z\" fill=\"#000000\" fill-rule=\"nonzero\" fill-opacity=\"1\" /><path clip-path=\"url(#clip600)\" d=\"M756.776 1901.02 Q755.789 1900.45 754.611 1900.2 Q753.465 1899.91 752.065 1899.91 Q747.1 1899.91 744.426 1903.16 Q741.784 1906.37 741.784 1912.42 L741.784 1931.2 L735.896 1931.2 L735.896 1895.55 L741.784 1895.55 L741.784 1901.09 Q743.63 1897.84 746.591 1896.28 Q749.551 1894.69 753.784 1894.69 Q754.389 1894.69 755.121 1894.78 Q755.853 1894.85 756.744 1895.01 L756.776 1901.02 Z\" fill=\"#000000\" fill-rule=\"nonzero\" fill-opacity=\"1\" /><path clip-path=\"url(#clip600)\" d=\"M779.119 1913.28 Q772.022 1913.28 769.284 1914.9 Q766.547 1916.52 766.547 1920.44 Q766.547 1923.56 768.584 1925.4 Q770.653 1927.22 774.186 1927.22 Q779.056 1927.22 781.984 1923.78 Q784.944 1920.31 784.944 1914.58 L784.944 1913.28 L779.119 1913.28 M790.8 1910.86 L790.8 1931.2 L784.944 1931.2 L784.944 1925.79 Q782.939 1929.03 779.947 1930.59 Q776.955 1932.12 772.626 1932.12 Q767.152 1932.12 763.905 1929.06 Q760.691 1925.98 760.691 1920.82 Q760.691 1914.8 764.701 1911.75 Q768.743 1908.69 776.732 1908.69 L784.944 1908.69 L784.944 1908.12 Q784.944 1904.08 782.27 1901.88 Q779.629 1899.65 774.822 1899.65 Q771.767 1899.65 768.87 1900.39 Q765.974 1901.12 763.3 1902.58 L763.3 1897.17 Q766.515 1895.93 769.539 1895.33 Q772.563 1894.69 775.427 1894.69 Q783.161 1894.69 786.981 1898.7 Q790.8 1902.71 790.8 1910.86 Z\" fill=\"#000000\" fill-rule=\"nonzero\" fill-opacity=\"1\" /><path clip-path=\"url(#clip600)\" d=\"M828.517 1896.92 L828.517 1902.39 Q826.035 1901.02 823.52 1900.35 Q821.037 1899.65 818.491 1899.65 Q812.794 1899.65 809.643 1903.28 Q806.492 1906.88 806.492 1913.4 Q806.492 1919.93 809.643 1923.56 Q812.794 1927.15 818.491 1927.15 Q821.037 1927.15 823.52 1926.49 Q826.035 1925.79 828.517 1924.42 L828.517 1929.83 Q826.066 1930.97 823.425 1931.55 Q820.815 1932.12 817.855 1932.12 Q809.802 1932.12 805.06 1927.06 Q800.317 1922 800.317 1913.4 Q800.317 1904.68 805.091 1899.69 Q809.897 1894.69 818.237 1894.69 Q820.942 1894.69 823.52 1895.26 Q826.098 1895.8 828.517 1896.92 Z\" fill=\"#000000\" fill-rule=\"nonzero\" fill-opacity=\"1\" /><path clip-path=\"url(#clip600)\" d=\"M844.495 1885.43 L844.495 1895.55 L856.558 1895.55 L856.558 1900.1 L844.495 1900.1 L844.495 1919.45 Q844.495 1923.81 845.673 1925.05 Q846.882 1926.29 850.542 1926.29 L856.558 1926.29 L856.558 1931.2 L850.542 1931.2 Q843.763 1931.2 841.185 1928.68 Q838.607 1926.14 838.607 1919.45 L838.607 1900.1 L834.31 1900.1 L834.31 1895.55 L838.607 1895.55 L838.607 1885.43 L844.495 1885.43 Z\" fill=\"#000000\" fill-rule=\"nonzero\" fill-opacity=\"1\" /><path clip-path=\"url(#clip600)\" d=\"M864.261 1895.55 L870.117 1895.55 L870.117 1931.2 L864.261 1931.2 L864.261 1895.55 M864.261 1881.67 L870.117 1881.67 L870.117 1889.09 L864.261 1889.09 L864.261 1881.67 Z\" fill=\"#000000\" fill-rule=\"nonzero\" fill-opacity=\"1\" /><path clip-path=\"url(#clip600)\" d=\"M896.185 1899.65 Q891.474 1899.65 888.737 1903.35 Q885.999 1907.01 885.999 1913.4 Q885.999 1919.8 888.705 1923.49 Q891.442 1927.15 896.185 1927.15 Q900.863 1927.15 903.601 1923.46 Q906.338 1919.77 906.338 1913.4 Q906.338 1907.07 903.601 1903.38 Q900.863 1899.65 896.185 1899.65 M896.185 1894.69 Q903.823 1894.69 908.184 1899.65 Q912.544 1904.62 912.544 1913.4 Q912.544 1922.16 908.184 1927.15 Q903.823 1932.12 896.185 1932.12 Q888.514 1932.12 884.153 1927.15 Q879.825 1922.16 879.825 1913.4 Q879.825 1904.62 884.153 1899.65 Q888.514 1894.69 896.185 1894.69 Z\" fill=\"#000000\" fill-rule=\"nonzero\" fill-opacity=\"1\" /><path clip-path=\"url(#clip600)\" d=\"M951.885 1909.68 L951.885 1931.2 L946.028 1931.2 L946.028 1909.87 Q946.028 1904.81 944.055 1902.3 Q942.081 1899.78 938.135 1899.78 Q933.392 1899.78 930.655 1902.81 Q927.918 1905.83 927.918 1911.05 L927.918 1931.2 L922.029 1931.2 L922.029 1895.55 L927.918 1895.55 L927.918 1901.09 Q930.018 1897.87 932.851 1896.28 Q935.716 1894.69 939.44 1894.69 Q945.582 1894.69 948.734 1898.51 Q951.885 1902.3 951.885 1909.68 Z\" fill=\"#000000\" fill-rule=\"nonzero\" fill-opacity=\"1\" /><polyline clip-path=\"url(#clip600)\" style=\"stroke:#000000; stroke-linecap:round; stroke-linejoin:round; stroke-width:4; stroke-opacity:1; fill:none\" points=\"298.174,1789.33 298.174,1015.34 \"/>\n",
       "<polyline clip-path=\"url(#clip600)\" style=\"stroke:#000000; stroke-linecap:round; stroke-linejoin:round; stroke-width:4; stroke-opacity:1; fill:none\" points=\"1069.19,1789.33 1069.19,1015.34 \"/>\n",
       "<polyline clip-path=\"url(#clip600)\" style=\"stroke:#000000; stroke-linecap:round; stroke-linejoin:round; stroke-width:4; stroke-opacity:1; fill:none\" points=\"298.174,1767.43 317.072,1767.43 \"/>\n",
       "<polyline clip-path=\"url(#clip600)\" style=\"stroke:#000000; stroke-linecap:round; stroke-linejoin:round; stroke-width:4; stroke-opacity:1; fill:none\" points=\"298.174,1464.23 317.072,1464.23 \"/>\n",
       "<polyline clip-path=\"url(#clip600)\" style=\"stroke:#000000; stroke-linecap:round; stroke-linejoin:round; stroke-width:4; stroke-opacity:1; fill:none\" points=\"298.174,1161.03 317.072,1161.03 \"/>\n",
       "<polyline clip-path=\"url(#clip600)\" style=\"stroke:#000000; stroke-linecap:round; stroke-linejoin:round; stroke-width:4; stroke-opacity:1; fill:none\" points=\"1069.19,1767.43 1050.29,1767.43 \"/>\n",
       "<polyline clip-path=\"url(#clip600)\" style=\"stroke:#000000; stroke-linecap:round; stroke-linejoin:round; stroke-width:4; stroke-opacity:1; fill:none\" points=\"1069.19,1464.23 1050.29,1464.23 \"/>\n",
       "<polyline clip-path=\"url(#clip600)\" style=\"stroke:#000000; stroke-linecap:round; stroke-linejoin:round; stroke-width:4; stroke-opacity:1; fill:none\" points=\"1069.19,1161.03 1050.29,1161.03 \"/>\n",
       "<path clip-path=\"url(#clip600)\" d=\"M133.211 1787.22 L140.85 1787.22 L140.85 1760.85 L132.54 1762.52 L132.54 1758.26 L140.804 1756.59 L145.48 1756.59 L145.48 1787.22 L153.119 1787.22 L153.119 1791.15 L133.211 1791.15 L133.211 1787.22 Z\" fill=\"#000000\" fill-rule=\"nonzero\" fill-opacity=\"1\" /><path clip-path=\"url(#clip600)\" d=\"M172.563 1759.67 Q168.952 1759.67 167.123 1763.24 Q165.318 1766.78 165.318 1773.91 Q165.318 1781.02 167.123 1784.58 Q168.952 1788.12 172.563 1788.12 Q176.197 1788.12 178.003 1784.58 Q179.832 1781.02 179.832 1773.91 Q179.832 1766.78 178.003 1763.24 Q176.197 1759.67 172.563 1759.67 M172.563 1755.97 Q178.373 1755.97 181.429 1760.58 Q184.507 1765.16 184.507 1773.91 Q184.507 1782.64 181.429 1787.24 Q178.373 1791.83 172.563 1791.83 Q166.753 1791.83 163.674 1787.24 Q160.619 1782.64 160.619 1773.91 Q160.619 1765.16 163.674 1760.58 Q166.753 1755.97 172.563 1755.97 Z\" fill=\"#000000\" fill-rule=\"nonzero\" fill-opacity=\"1\" /><path clip-path=\"url(#clip600)\" d=\"M194.212 1738.17 Q191.278 1738.17 189.792 1741.06 Q188.325 1743.94 188.325 1749.73 Q188.325 1755.51 189.792 1758.4 Q191.278 1761.28 194.212 1761.28 Q197.165 1761.28 198.632 1758.4 Q200.118 1755.51 200.118 1749.73 Q200.118 1743.94 198.632 1741.06 Q197.165 1738.17 194.212 1738.17 M194.212 1735.16 Q198.933 1735.16 201.416 1738.9 Q203.917 1742.62 203.917 1749.73 Q203.917 1756.82 201.416 1760.57 Q198.933 1764.29 194.212 1764.29 Q189.492 1764.29 186.99 1760.57 Q184.507 1756.82 184.507 1749.73 Q184.507 1742.62 186.99 1738.9 Q189.492 1735.16 194.212 1735.16 Z\" fill=\"#000000\" fill-rule=\"nonzero\" fill-opacity=\"1\" /><path clip-path=\"url(#clip600)\" d=\"M210.594 1758.97 L214.562 1758.97 L214.562 1763.74 L210.594 1763.74 L210.594 1758.97 Z\" fill=\"#000000\" fill-rule=\"nonzero\" fill-opacity=\"1\" /><path clip-path=\"url(#clip600)\" d=\"M230.963 1738.17 Q228.029 1738.17 226.543 1741.06 Q225.076 1743.94 225.076 1749.73 Q225.076 1755.51 226.543 1758.4 Q228.029 1761.28 230.963 1761.28 Q233.915 1761.28 235.382 1758.4 Q236.868 1755.51 236.868 1749.73 Q236.868 1743.94 235.382 1741.06 Q233.915 1738.17 230.963 1738.17 M230.963 1735.16 Q235.683 1735.16 238.166 1738.9 Q240.667 1742.62 240.667 1749.73 Q240.667 1756.82 238.166 1760.57 Q235.683 1764.29 230.963 1764.29 Q226.242 1764.29 223.74 1760.57 Q221.258 1756.82 221.258 1749.73 Q221.258 1742.62 223.74 1738.9 Q226.242 1735.16 230.963 1735.16 Z\" fill=\"#000000\" fill-rule=\"nonzero\" fill-opacity=\"1\" /><path clip-path=\"url(#clip600)\" d=\"M255.469 1738.17 Q252.535 1738.17 251.049 1741.06 Q249.582 1743.94 249.582 1749.73 Q249.582 1755.51 251.049 1758.4 Q252.535 1761.28 255.469 1761.28 Q258.422 1761.28 259.889 1758.4 Q261.375 1755.51 261.375 1749.73 Q261.375 1743.94 259.889 1741.06 Q258.422 1738.17 255.469 1738.17 M255.469 1735.16 Q260.19 1735.16 262.673 1738.9 Q265.174 1742.62 265.174 1749.73 Q265.174 1756.82 262.673 1760.57 Q260.19 1764.29 255.469 1764.29 Q250.748 1764.29 248.247 1760.57 Q245.764 1756.82 245.764 1749.73 Q245.764 1742.62 248.247 1738.9 Q250.748 1735.16 255.469 1735.16 Z\" fill=\"#000000\" fill-rule=\"nonzero\" fill-opacity=\"1\" /><path clip-path=\"url(#clip600)\" d=\"M134.02 1484.02 L141.659 1484.02 L141.659 1457.65 L133.349 1459.32 L133.349 1455.06 L141.613 1453.4 L146.289 1453.4 L146.289 1484.02 L153.927 1484.02 L153.927 1487.96 L134.02 1487.96 L134.02 1484.02 Z\" fill=\"#000000\" fill-rule=\"nonzero\" fill-opacity=\"1\" /><path clip-path=\"url(#clip600)\" d=\"M173.372 1456.47 Q169.761 1456.47 167.932 1460.04 Q166.126 1463.58 166.126 1470.71 Q166.126 1477.82 167.932 1481.38 Q169.761 1484.92 173.372 1484.92 Q177.006 1484.92 178.812 1481.38 Q180.64 1477.82 180.64 1470.71 Q180.64 1463.58 178.812 1460.04 Q177.006 1456.47 173.372 1456.47 M173.372 1452.77 Q179.182 1452.77 182.238 1457.38 Q185.316 1461.96 185.316 1470.71 Q185.316 1479.44 182.238 1484.04 Q179.182 1488.63 173.372 1488.63 Q167.562 1488.63 164.483 1484.04 Q161.427 1479.44 161.427 1470.71 Q161.427 1461.96 164.483 1457.38 Q167.562 1452.77 173.372 1452.77 Z\" fill=\"#000000\" fill-rule=\"nonzero\" fill-opacity=\"1\" /><path clip-path=\"url(#clip600)\" d=\"M195.021 1434.97 Q192.087 1434.97 190.601 1437.86 Q189.134 1440.74 189.134 1446.53 Q189.134 1452.31 190.601 1455.2 Q192.087 1458.08 195.021 1458.08 Q197.974 1458.08 199.441 1455.2 Q200.927 1452.31 200.927 1446.53 Q200.927 1440.74 199.441 1437.86 Q197.974 1434.97 195.021 1434.97 M195.021 1431.96 Q199.742 1431.96 202.224 1435.7 Q204.726 1439.42 204.726 1446.53 Q204.726 1453.62 202.224 1457.37 Q199.742 1461.09 195.021 1461.09 Q190.3 1461.09 187.799 1457.37 Q185.316 1453.62 185.316 1446.53 Q185.316 1439.42 187.799 1435.7 Q190.3 1431.96 195.021 1431.96 Z\" fill=\"#000000\" fill-rule=\"nonzero\" fill-opacity=\"1\" /><path clip-path=\"url(#clip600)\" d=\"M211.403 1455.77 L215.371 1455.77 L215.371 1460.55 L211.403 1460.55 L211.403 1455.77 Z\" fill=\"#000000\" fill-rule=\"nonzero\" fill-opacity=\"1\" /><path clip-path=\"url(#clip600)\" d=\"M226.919 1457.35 L240.178 1457.35 L240.178 1460.55 L222.349 1460.55 L222.349 1457.35 Q224.512 1455.11 228.236 1451.35 Q231.978 1447.57 232.937 1446.48 Q234.762 1444.43 235.477 1443.02 Q236.21 1441.59 236.21 1440.21 Q236.21 1437.98 234.63 1436.57 Q233.069 1435.15 230.549 1435.15 Q228.762 1435.15 226.769 1435.78 Q224.794 1436.4 222.537 1437.66 L222.537 1433.82 Q224.831 1432.9 226.825 1432.43 Q228.819 1431.96 230.474 1431.96 Q234.837 1431.96 237.433 1434.14 Q240.028 1436.32 240.028 1439.97 Q240.028 1441.7 239.37 1443.26 Q238.73 1444.8 237.019 1446.91 Q236.549 1447.45 234.028 1450.07 Q231.508 1452.66 226.919 1457.35 Z\" fill=\"#000000\" fill-rule=\"nonzero\" fill-opacity=\"1\" /><path clip-path=\"url(#clip600)\" d=\"M248.191 1432.47 L263.105 1432.47 L263.105 1435.66 L251.67 1435.66 L251.67 1442.55 Q252.498 1442.26 253.325 1442.13 Q254.153 1441.98 254.98 1441.98 Q259.682 1441.98 262.428 1444.56 Q265.174 1447.14 265.174 1451.54 Q265.174 1456.07 262.353 1458.59 Q259.532 1461.09 254.397 1461.09 Q252.629 1461.09 250.786 1460.79 Q248.962 1460.49 247.006 1459.89 L247.006 1456.07 Q248.698 1456.99 250.504 1457.44 Q252.309 1457.89 254.322 1457.89 Q257.576 1457.89 259.475 1456.18 Q261.375 1454.47 261.375 1451.54 Q261.375 1448.6 259.475 1446.89 Q257.576 1445.18 254.322 1445.18 Q252.798 1445.18 251.275 1445.52 Q249.77 1445.86 248.191 1446.57 L248.191 1432.47 Z\" fill=\"#000000\" fill-rule=\"nonzero\" fill-opacity=\"1\" /><path clip-path=\"url(#clip600)\" d=\"M133.211 1180.82 L140.85 1180.82 L140.85 1154.46 L132.54 1156.12 L132.54 1151.86 L140.804 1150.2 L145.48 1150.2 L145.48 1180.82 L153.119 1180.82 L153.119 1184.76 L133.211 1184.76 L133.211 1180.82 Z\" fill=\"#000000\" fill-rule=\"nonzero\" fill-opacity=\"1\" /><path clip-path=\"url(#clip600)\" d=\"M172.563 1153.27 Q168.952 1153.27 167.123 1156.84 Q165.318 1160.38 165.318 1167.51 Q165.318 1174.62 167.123 1178.18 Q168.952 1181.72 172.563 1181.72 Q176.197 1181.72 178.003 1178.18 Q179.832 1174.62 179.832 1167.51 Q179.832 1160.38 178.003 1156.84 Q176.197 1153.27 172.563 1153.27 M172.563 1149.57 Q178.373 1149.57 181.429 1154.18 Q184.507 1158.76 184.507 1167.51 Q184.507 1176.24 181.429 1180.84 Q178.373 1185.43 172.563 1185.43 Q166.753 1185.43 163.674 1180.84 Q160.619 1176.24 160.619 1167.51 Q160.619 1158.76 163.674 1154.18 Q166.753 1149.57 172.563 1149.57 Z\" fill=\"#000000\" fill-rule=\"nonzero\" fill-opacity=\"1\" /><path clip-path=\"url(#clip600)\" d=\"M194.212 1131.77 Q191.278 1131.77 189.792 1134.66 Q188.325 1137.54 188.325 1143.33 Q188.325 1149.11 189.792 1152 Q191.278 1154.88 194.212 1154.88 Q197.165 1154.88 198.632 1152 Q200.118 1149.11 200.118 1143.33 Q200.118 1137.54 198.632 1134.66 Q197.165 1131.77 194.212 1131.77 M194.212 1128.76 Q198.933 1128.76 201.416 1132.5 Q203.917 1136.22 203.917 1143.33 Q203.917 1150.42 201.416 1154.17 Q198.933 1157.89 194.212 1157.89 Q189.492 1157.89 186.99 1154.17 Q184.507 1150.42 184.507 1143.33 Q184.507 1136.22 186.99 1132.5 Q189.492 1128.76 194.212 1128.76 Z\" fill=\"#000000\" fill-rule=\"nonzero\" fill-opacity=\"1\" /><path clip-path=\"url(#clip600)\" d=\"M210.594 1152.57 L214.562 1152.57 L214.562 1157.35 L210.594 1157.35 L210.594 1152.57 Z\" fill=\"#000000\" fill-rule=\"nonzero\" fill-opacity=\"1\" /><path clip-path=\"url(#clip600)\" d=\"M222.875 1129.27 L237.79 1129.27 L237.79 1132.46 L226.355 1132.46 L226.355 1139.35 Q227.182 1139.06 228.01 1138.93 Q228.837 1138.78 229.665 1138.78 Q234.367 1138.78 237.113 1141.36 Q239.859 1143.94 239.859 1148.34 Q239.859 1152.87 237.038 1155.39 Q234.216 1157.89 229.082 1157.89 Q227.314 1157.89 225.471 1157.59 Q223.646 1157.29 221.69 1156.69 L221.69 1152.87 Q223.383 1153.79 225.189 1154.24 Q226.994 1154.69 229.007 1154.69 Q232.26 1154.69 234.16 1152.98 Q236.06 1151.27 236.06 1148.34 Q236.06 1145.4 234.16 1143.69 Q232.26 1141.98 229.007 1141.98 Q227.483 1141.98 225.96 1142.32 Q224.455 1142.66 222.875 1143.37 L222.875 1129.27 Z\" fill=\"#000000\" fill-rule=\"nonzero\" fill-opacity=\"1\" /><path clip-path=\"url(#clip600)\" d=\"M255.469 1131.77 Q252.535 1131.77 251.049 1134.66 Q249.582 1137.54 249.582 1143.33 Q249.582 1149.11 251.049 1152 Q252.535 1154.88 255.469 1154.88 Q258.422 1154.88 259.889 1152 Q261.375 1149.11 261.375 1143.33 Q261.375 1137.54 259.889 1134.66 Q258.422 1131.77 255.469 1131.77 M255.469 1128.76 Q260.19 1128.76 262.673 1132.5 Q265.174 1136.22 265.174 1143.33 Q265.174 1150.42 262.673 1154.17 Q260.19 1157.89 255.469 1157.89 Q250.748 1157.89 248.247 1154.17 Q245.764 1150.42 245.764 1143.33 Q245.764 1136.22 248.247 1132.5 Q250.748 1128.76 255.469 1128.76 Z\" fill=\"#000000\" fill-rule=\"nonzero\" fill-opacity=\"1\" /><path clip-path=\"url(#clip600)\" d=\"M56.4793 1711.58 Q52.5326 1709.39 50.6547 1706.33 Q48.7768 1703.28 48.7768 1699.14 Q48.7768 1693.57 52.6917 1690.55 Q56.5748 1687.52 63.7681 1687.52 L85.2842 1687.52 L85.2842 1693.41 L63.959 1693.41 Q58.8346 1693.41 56.352 1695.22 Q53.8694 1697.04 53.8694 1700.76 Q53.8694 1705.31 56.8931 1707.96 Q59.9168 1710.6 65.1367 1710.6 L85.2842 1710.6 L85.2842 1716.49 L63.959 1716.49 Q58.8028 1716.49 56.352 1718.3 Q53.8694 1720.11 53.8694 1723.9 Q53.8694 1728.39 56.9249 1731.03 Q59.9486 1733.67 65.1367 1733.67 L85.2842 1733.67 L85.2842 1739.56 L49.6362 1739.56 L49.6362 1733.67 L55.1744 1733.67 Q51.896 1731.67 50.3364 1728.87 Q48.7768 1726.07 48.7768 1722.22 Q48.7768 1718.33 50.7502 1715.63 Q52.7236 1712.89 56.4793 1711.58 Z\" fill=\"#000000\" fill-rule=\"nonzero\" fill-opacity=\"1\" /><path clip-path=\"url(#clip600)\" d=\"M53.7421 1662.03 Q53.7421 1666.74 57.4342 1669.48 Q61.0945 1672.21 67.492 1672.21 Q73.8895 1672.21 77.5817 1669.51 Q81.2419 1666.77 81.2419 1662.03 Q81.2419 1657.35 77.5498 1654.61 Q73.8577 1651.87 67.492 1651.87 Q61.1581 1651.87 57.466 1654.61 Q53.7421 1657.35 53.7421 1662.03 M48.7768 1662.03 Q48.7768 1654.39 53.7421 1650.03 Q58.7073 1645.67 67.492 1645.67 Q76.2449 1645.67 81.2419 1650.03 Q86.2072 1654.39 86.2072 1662.03 Q86.2072 1669.7 81.2419 1674.06 Q76.2449 1678.39 67.492 1678.39 Q58.7073 1678.39 53.7421 1674.06 Q48.7768 1669.7 48.7768 1662.03 Z\" fill=\"#000000\" fill-rule=\"nonzero\" fill-opacity=\"1\" /><path clip-path=\"url(#clip600)\" d=\"M55.0471 1612.5 L35.759 1612.5 L35.759 1606.65 L85.2842 1606.65 L85.2842 1612.5 L79.937 1612.5 Q83.1198 1614.35 84.6794 1617.18 Q86.2072 1619.98 86.2072 1623.93 Q86.2072 1630.39 81.051 1634.46 Q75.8947 1638.51 67.492 1638.51 Q59.0893 1638.51 53.9331 1634.46 Q48.7768 1630.39 48.7768 1623.93 Q48.7768 1619.98 50.3364 1617.18 Q51.8642 1614.35 55.0471 1612.5 M67.492 1632.46 Q73.9532 1632.46 77.6453 1629.82 Q81.3056 1627.14 81.3056 1622.5 Q81.3056 1617.85 77.6453 1615.18 Q73.9532 1612.5 67.492 1612.5 Q61.0308 1612.5 57.3705 1615.18 Q53.6784 1617.85 53.6784 1622.5 Q53.6784 1627.14 57.3705 1629.82 Q61.0308 1632.46 67.492 1632.46 Z\" fill=\"#000000\" fill-rule=\"nonzero\" fill-opacity=\"1\" /><path clip-path=\"url(#clip600)\" d=\"M65.9961 1564.09 L68.8606 1564.09 L68.8606 1591.02 Q74.9081 1590.64 78.0909 1587.39 Q81.2419 1584.11 81.2419 1578.29 Q81.2419 1574.91 80.4144 1571.76 Q79.5869 1568.58 77.9318 1565.46 L83.4699 1565.46 Q84.8067 1568.61 85.507 1571.92 Q86.2072 1575.23 86.2072 1578.64 Q86.2072 1587.17 81.2419 1592.16 Q76.2767 1597.13 67.8103 1597.13 Q59.0574 1597.13 53.9331 1592.42 Q48.7768 1587.68 48.7768 1579.66 Q48.7768 1572.46 53.4238 1568.29 Q58.0389 1564.09 65.9961 1564.09 M64.2773 1569.95 Q59.4712 1570.01 56.6066 1572.65 Q53.7421 1575.26 53.7421 1579.59 Q53.7421 1584.49 56.5112 1587.45 Q59.2802 1590.38 64.3092 1590.83 L64.2773 1569.95 Z\" fill=\"#000000\" fill-rule=\"nonzero\" fill-opacity=\"1\" /><path clip-path=\"url(#clip600)\" d=\"M35.759 1554.48 L35.759 1548.62 L85.2842 1548.62 L85.2842 1554.48 L35.759 1554.48 Z\" fill=\"#000000\" fill-rule=\"nonzero\" fill-opacity=\"1\" /><path clip-path=\"url(#clip600)\" d=\"M77.1997 1535.54 L77.1997 1528.83 L85.2842 1528.83 L85.2842 1535.54 L77.1997 1535.54 Z\" fill=\"#000000\" fill-rule=\"nonzero\" fill-opacity=\"1\" /><path clip-path=\"url(#clip600)\" d=\"M63.7681 1486.02 L85.2842 1486.02 L85.2842 1491.87 L63.959 1491.87 Q58.8983 1491.87 56.3838 1493.85 Q53.8694 1495.82 53.8694 1499.77 Q53.8694 1504.51 56.8931 1507.25 Q59.9168 1509.98 65.1367 1509.98 L85.2842 1509.98 L85.2842 1515.87 L49.6362 1515.87 L49.6362 1509.98 L55.1744 1509.98 Q51.9597 1507.88 50.3683 1505.05 Q48.7768 1502.18 48.7768 1498.46 Q48.7768 1492.32 52.5963 1489.17 Q56.3838 1486.02 63.7681 1486.02 Z\" fill=\"#000000\" fill-rule=\"nonzero\" fill-opacity=\"1\" /><path clip-path=\"url(#clip600)\" d=\"M96.1059 1447.25 L100.657 1447.25 L100.657 1481.11 L96.1059 1481.11 L96.1059 1447.25 Z\" fill=\"#000000\" fill-rule=\"nonzero\" fill-opacity=\"1\" /><path clip-path=\"url(#clip600)\" d=\"M50.6865 1419.02 L56.2247 1419.02 Q54.9516 1421.5 54.315 1424.17 Q53.6784 1426.85 53.6784 1429.71 Q53.6784 1434.07 55.0152 1436.27 Q56.352 1438.43 59.0256 1438.43 Q61.0626 1438.43 62.2403 1436.87 Q63.3861 1435.31 64.4365 1430.6 L64.8821 1428.6 Q66.2189 1422.36 68.6697 1419.75 Q71.0886 1417.11 75.4491 1417.11 Q80.4144 1417.11 83.3108 1421.05 Q86.2072 1424.97 86.2072 1431.84 Q86.2072 1434.71 85.6343 1437.83 Q85.0932 1440.91 83.9792 1444.35 L77.9318 1444.35 Q79.6187 1441.11 80.478 1437.95 Q81.3056 1434.8 81.3056 1431.72 Q81.3056 1427.58 79.9051 1425.35 Q78.4729 1423.12 75.8947 1423.12 Q73.5076 1423.12 72.2345 1424.75 Q70.9613 1426.34 69.7837 1431.78 L69.3062 1433.82 Q68.1604 1439.26 65.8051 1441.68 Q63.418 1444.1 59.2802 1444.1 Q54.2513 1444.1 51.5141 1440.53 Q48.7768 1436.97 48.7768 1430.41 Q48.7768 1427.17 49.2543 1424.3 Q49.7317 1421.44 50.6865 1419.02 Z\" fill=\"#000000\" fill-rule=\"nonzero\" fill-opacity=\"1\" /><path clip-path=\"url(#clip600)\" d=\"M71.2159 1408.39 L49.6362 1408.39 L49.6362 1402.53 L70.9931 1402.53 Q76.0539 1402.53 78.6002 1400.56 Q81.1146 1398.58 81.1146 1394.64 Q81.1146 1389.89 78.0909 1387.16 Q75.0672 1384.39 69.8473 1384.39 L49.6362 1384.39 L49.6362 1378.53 L85.2842 1378.53 L85.2842 1384.39 L79.8096 1384.39 Q83.0562 1386.52 84.6476 1389.35 Q86.2072 1392.15 86.2072 1395.88 Q86.2072 1402.02 82.3878 1405.2 Q78.5683 1408.39 71.2159 1408.39 M48.7768 1393.65 L48.7768 1393.65 Z\" fill=\"#000000\" fill-rule=\"nonzero\" fill-opacity=\"1\" /><path clip-path=\"url(#clip600)\" d=\"M67.492 1340.88 Q61.0308 1340.88 57.3705 1343.55 Q53.6784 1346.19 53.6784 1350.84 Q53.6784 1355.49 57.3705 1358.16 Q61.0308 1360.8 67.492 1360.8 Q73.9532 1360.8 77.6453 1358.16 Q81.3056 1355.49 81.3056 1350.84 Q81.3056 1346.19 77.6453 1343.55 Q73.9532 1340.88 67.492 1340.88 M55.0471 1360.8 Q51.8642 1358.96 50.3364 1356.16 Q48.7768 1353.32 48.7768 1349.41 Q48.7768 1342.91 53.9331 1338.87 Q59.0893 1334.8 67.492 1334.8 Q75.8947 1334.8 81.051 1338.87 Q86.2072 1342.91 86.2072 1349.41 Q86.2072 1353.32 84.6794 1356.16 Q83.1198 1358.96 79.937 1360.8 L85.2842 1360.8 L85.2842 1366.69 L35.759 1366.69 L35.759 1360.8 L55.0471 1360.8 Z\" fill=\"#000000\" fill-rule=\"nonzero\" fill-opacity=\"1\" /><path clip-path=\"url(#clip600)\" d=\"M35.759 1307.04 L40.6287 1307.04 L40.6287 1312.65 Q40.6287 1315.8 41.9019 1317.04 Q43.175 1318.25 46.4852 1318.25 L49.6362 1318.25 L49.6362 1308.6 L54.1877 1308.6 L54.1877 1318.25 L85.2842 1318.25 L85.2842 1324.14 L54.1877 1324.14 L54.1877 1329.74 L49.6362 1329.74 L49.6362 1324.14 L47.1536 1324.14 Q41.2016 1324.14 38.4962 1321.37 Q35.759 1318.6 35.759 1312.58 L35.759 1307.04 Z\" fill=\"#000000\" fill-rule=\"nonzero\" fill-opacity=\"1\" /><path clip-path=\"url(#clip600)\" d=\"M65.9961 1271.65 L68.8606 1271.65 L68.8606 1298.58 Q74.9081 1298.2 78.0909 1294.95 Q81.2419 1291.67 81.2419 1285.85 Q81.2419 1282.47 80.4144 1279.32 Q79.5869 1276.14 77.9318 1273.02 L83.4699 1273.02 Q84.8067 1276.17 85.507 1279.48 Q86.2072 1282.79 86.2072 1286.2 Q86.2072 1294.73 81.2419 1299.72 Q76.2767 1304.69 67.8103 1304.69 Q59.0574 1304.69 53.9331 1299.98 Q48.7768 1295.24 48.7768 1287.21 Q48.7768 1280.02 53.4238 1275.85 Q58.0389 1271.65 65.9961 1271.65 M64.2773 1277.51 Q59.4712 1277.57 56.6066 1280.21 Q53.7421 1282.82 53.7421 1287.15 Q53.7421 1292.05 56.5112 1295.01 Q59.2802 1297.94 64.3092 1298.39 L64.2773 1277.51 Z\" fill=\"#000000\" fill-rule=\"nonzero\" fill-opacity=\"1\" /><path clip-path=\"url(#clip600)\" d=\"M67.3647 1245.84 Q67.3647 1252.94 68.9879 1255.67 Q70.6112 1258.41 74.5261 1258.41 Q77.6453 1258.41 79.4914 1256.37 Q81.3056 1254.3 81.3056 1250.77 Q81.3056 1245.9 77.8681 1242.97 Q74.3988 1240.01 68.6697 1240.01 L67.3647 1240.01 L67.3647 1245.84 M64.9457 1234.16 L85.2842 1234.16 L85.2842 1240.01 L79.8733 1240.01 Q83.1198 1242.02 84.6794 1245.01 Q86.2072 1248 86.2072 1252.33 Q86.2072 1257.81 83.1516 1261.05 Q80.0643 1264.27 74.9081 1264.27 Q68.8925 1264.27 65.8369 1260.26 Q62.7814 1256.21 62.7814 1248.23 L62.7814 1240.01 L62.2085 1240.01 Q58.1662 1240.01 55.9701 1242.69 Q53.7421 1245.33 53.7421 1250.13 Q53.7421 1253.19 54.4741 1256.09 Q55.2062 1258.98 56.6703 1261.66 L51.2595 1261.66 Q50.0181 1258.44 49.4134 1255.42 Q48.7768 1252.39 48.7768 1249.53 Q48.7768 1241.8 52.7872 1237.98 Q56.7976 1234.16 64.9457 1234.16 Z\" fill=\"#000000\" fill-rule=\"nonzero\" fill-opacity=\"1\" /><path clip-path=\"url(#clip600)\" d=\"M39.5147 1216.3 L49.6362 1216.3 L49.6362 1204.24 L54.1877 1204.24 L54.1877 1216.3 L73.5394 1216.3 Q77.8999 1216.3 79.1413 1215.12 Q80.3826 1213.91 80.3826 1210.25 L80.3826 1204.24 L85.2842 1204.24 L85.2842 1210.25 Q85.2842 1217.03 82.7697 1219.61 Q80.2234 1222.19 73.5394 1222.19 L54.1877 1222.19 L54.1877 1226.49 L49.6362 1226.49 L49.6362 1222.19 L39.5147 1222.19 L39.5147 1216.3 Z\" fill=\"#000000\" fill-rule=\"nonzero\" fill-opacity=\"1\" /><path clip-path=\"url(#clip600)\" d=\"M71.2159 1197.14 L49.6362 1197.14 L49.6362 1191.28 L70.9931 1191.28 Q76.0539 1191.28 78.6002 1189.31 Q81.1146 1187.34 81.1146 1183.39 Q81.1146 1178.65 78.0909 1175.91 Q75.0672 1173.14 69.8473 1173.14 L49.6362 1173.14 L49.6362 1167.29 L85.2842 1167.29 L85.2842 1173.14 L79.8096 1173.14 Q83.0562 1175.27 84.6476 1178.11 Q86.2072 1180.91 86.2072 1184.63 Q86.2072 1190.77 82.3878 1193.96 Q78.5683 1197.14 71.2159 1197.14 M48.7768 1182.4 L48.7768 1182.4 Z\" fill=\"#000000\" fill-rule=\"nonzero\" fill-opacity=\"1\" /><path clip-path=\"url(#clip600)\" d=\"M55.1107 1134.57 Q54.5378 1135.55 54.2832 1136.73 Q53.9967 1137.88 53.9967 1139.28 Q53.9967 1144.24 57.2432 1146.91 Q60.4579 1149.56 66.5053 1149.56 L85.2842 1149.56 L85.2842 1155.44 L49.6362 1155.44 L49.6362 1149.56 L55.1744 1149.56 Q51.9279 1147.71 50.3683 1144.75 Q48.7768 1141.79 48.7768 1137.56 Q48.7768 1136.95 48.8723 1136.22 Q48.936 1135.49 49.0951 1134.6 L55.1107 1134.57 Z\" fill=\"#000000\" fill-rule=\"nonzero\" fill-opacity=\"1\" /><path clip-path=\"url(#clip600)\" d=\"M65.9961 1099.36 L68.8606 1099.36 L68.8606 1126.29 Q74.9081 1125.91 78.0909 1122.66 Q81.2419 1119.38 81.2419 1113.56 Q81.2419 1110.18 80.4144 1107.03 Q79.5869 1103.85 77.9318 1100.73 L83.4699 1100.73 Q84.8067 1103.88 85.507 1107.19 Q86.2072 1110.5 86.2072 1113.91 Q86.2072 1122.44 81.2419 1127.44 Q76.2767 1132.4 67.8103 1132.4 Q59.0574 1132.4 53.9331 1127.69 Q48.7768 1122.95 48.7768 1114.93 Q48.7768 1107.73 53.4238 1103.56 Q58.0389 1099.36 65.9961 1099.36 M64.2773 1105.22 Q59.4712 1105.28 56.6066 1107.92 Q53.7421 1110.53 53.7421 1114.86 Q53.7421 1119.77 56.5112 1122.73 Q59.2802 1125.65 64.3092 1126.1 L64.2773 1105.22 Z\" fill=\"#000000\" fill-rule=\"nonzero\" fill-opacity=\"1\" /><path clip-path=\"url(#clip600)\" d=\"M50.6865 1067.03 L56.2247 1067.03 Q54.9516 1069.51 54.315 1072.18 Q53.6784 1074.86 53.6784 1077.72 Q53.6784 1082.08 55.0152 1084.28 Q56.352 1086.44 59.0256 1086.44 Q61.0626 1086.44 62.2403 1084.88 Q63.3861 1083.32 64.4365 1078.61 L64.8821 1076.61 Q66.2189 1070.37 68.6697 1067.76 Q71.0886 1065.12 75.4491 1065.12 Q80.4144 1065.12 83.3108 1069.06 Q86.2072 1072.98 86.2072 1079.85 Q86.2072 1082.72 85.6343 1085.84 Q85.0932 1088.92 83.9792 1092.36 L77.9318 1092.36 Q79.6187 1089.11 80.478 1085.96 Q81.3056 1082.81 81.3056 1079.72 Q81.3056 1075.59 79.9051 1073.36 Q78.4729 1071.13 75.8947 1071.13 Q73.5076 1071.13 72.2345 1072.75 Q70.9613 1074.35 69.7837 1079.79 L69.3062 1081.83 Q68.1604 1087.27 65.8051 1089.69 Q63.418 1092.11 59.2802 1092.11 Q54.2513 1092.11 51.5141 1088.54 Q48.7768 1084.98 48.7768 1078.42 Q48.7768 1075.17 49.2543 1072.31 Q49.7317 1069.44 50.6865 1067.03 Z\" fill=\"#000000\" fill-rule=\"nonzero\" fill-opacity=\"1\" /><circle clip-path=\"url(#clip604)\" cx=\"367.304\" cy=\"1402.34\" r=\"9.11808\" fill=\"#120a31\" fill-rule=\"evenodd\" fill-opacity=\"1\" stroke=\"#000000\" stroke-opacity=\"1\" stroke-width=\"4\"/>\n",
       "<circle clip-path=\"url(#clip604)\" cx=\"528.507\" cy=\"1767.43\" r=\"33.354\" fill=\"#b63457\" fill-rule=\"evenodd\" fill-opacity=\"1\" stroke=\"#000000\" stroke-opacity=\"1\" stroke-width=\"4\"/>\n",
       "<circle clip-path=\"url(#clip604)\" cx=\"319.995\" cy=\"1037.25\" r=\"11.2061\" fill=\"#1e0c46\" fill-rule=\"evenodd\" fill-opacity=\"1\" stroke=\"#000000\" stroke-opacity=\"1\" stroke-width=\"4\"/>\n",
       "<circle clip-path=\"url(#clip604)\" cx=\"1047.37\" cy=\"1037.25\" r=\"61.2\" fill=\"#fcfea4\" fill-rule=\"evenodd\" fill-opacity=\"1\" stroke=\"#000000\" stroke-opacity=\"1\" stroke-width=\"4\"/>\n",
       "<circle clip-path=\"url(#clip604)\" cx=\"367.304\" cy=\"1767.43\" r=\"38.0771\" fill=\"#d34742\" fill-rule=\"evenodd\" fill-opacity=\"1\" stroke=\"#000000\" stroke-opacity=\"1\" stroke-width=\"4\"/>\n",
       "<circle clip-path=\"url(#clip604)\" cx=\"723.255\" cy=\"1037.25\" r=\"24.4582\" fill=\"#791c6d\" fill-rule=\"evenodd\" fill-opacity=\"1\" stroke=\"#000000\" stroke-opacity=\"1\" stroke-width=\"4\"/>\n",
       "<circle clip-path=\"url(#clip604)\" cx=\"417.69\" cy=\"1767.43\" r=\"33.5026\" fill=\"#b73456\" fill-rule=\"evenodd\" fill-opacity=\"1\" stroke=\"#000000\" stroke-opacity=\"1\" stroke-width=\"4\"/>\n",
       "<circle clip-path=\"url(#clip604)\" cx=\"875.113\" cy=\"1767.43\" r=\"32.096\" fill=\"#ad305c\" fill-rule=\"evenodd\" fill-opacity=\"1\" stroke=\"#000000\" stroke-opacity=\"1\" stroke-width=\"4\"/>\n",
       "<circle clip-path=\"url(#clip604)\" cx=\"723.255\" cy=\"1188.78\" r=\"23.9705\" fill=\"#761b6d\" fill-rule=\"evenodd\" fill-opacity=\"1\" stroke=\"#000000\" stroke-opacity=\"1\" stroke-width=\"4\"/>\n",
       "<circle clip-path=\"url(#clip604)\" cx=\"319.995\" cy=\"1767.43\" r=\"36.7732\" fill=\"#cc4148\" fill-rule=\"evenodd\" fill-opacity=\"1\" stroke=\"#000000\" stroke-opacity=\"1\" stroke-width=\"4\"/>\n",
       "<circle clip-path=\"url(#clip604)\" cx=\"1047.37\" cy=\"1188.78\" r=\"49.591\" fill=\"#fb9a06\" fill-rule=\"evenodd\" fill-opacity=\"1\" stroke=\"#000000\" stroke-opacity=\"1\" stroke-width=\"4\"/>\n",
       "<circle clip-path=\"url(#clip604)\" cx=\"528.507\" cy=\"1037.25\" r=\"16.4367\" fill=\"#430a68\" fill-rule=\"evenodd\" fill-opacity=\"1\" stroke=\"#000000\" stroke-opacity=\"1\" stroke-width=\"4\"/>\n",
       "<circle clip-path=\"url(#clip604)\" cx=\"796.793\" cy=\"1767.43\" r=\"31.6052\" fill=\"#aa2e5d\" fill-rule=\"evenodd\" fill-opacity=\"1\" stroke=\"#000000\" stroke-opacity=\"1\" stroke-width=\"4\"/>\n",
       "<circle clip-path=\"url(#clip604)\" cx=\"471.354\" cy=\"1037.25\" r=\"14.8415\" fill=\"#370961\" fill-rule=\"evenodd\" fill-opacity=\"1\" stroke=\"#000000\" stroke-opacity=\"1\" stroke-width=\"4\"/>\n",
       "<circle clip-path=\"url(#clip604)\" cx=\"875.113\" cy=\"1037.25\" r=\"36.6\" fill=\"#cb4049\" fill-rule=\"evenodd\" fill-opacity=\"1\" stroke=\"#000000\" stroke-opacity=\"1\" stroke-width=\"4\"/>\n",
       "<circle clip-path=\"url(#clip604)\" cx=\"796.793\" cy=\"1037.25\" r=\"29.4154\" fill=\"#9b2864\" fill-rule=\"evenodd\" fill-opacity=\"1\" stroke=\"#000000\" stroke-opacity=\"1\" stroke-width=\"4\"/>\n",
       "<circle clip-path=\"url(#clip604)\" cx=\"589.378\" cy=\"1767.43\" r=\"32.0384\" fill=\"#ad305c\" fill-rule=\"evenodd\" fill-opacity=\"1\" stroke=\"#000000\" stroke-opacity=\"1\" stroke-width=\"4\"/>\n",
       "<circle clip-path=\"url(#clip604)\" cx=\"417.69\" cy=\"1037.25\" r=\"13.7332\" fill=\"#2f0a5b\" fill-rule=\"evenodd\" fill-opacity=\"1\" stroke=\"#000000\" stroke-opacity=\"1\" stroke-width=\"4\"/>\n",
       "<circle clip-path=\"url(#clip604)\" cx=\"875.113\" cy=\"1402.34\" r=\"31.0605\" fill=\"#a62d5f\" fill-rule=\"evenodd\" fill-opacity=\"1\" stroke=\"#000000\" stroke-opacity=\"1\" stroke-width=\"4\"/>\n",
       "<circle clip-path=\"url(#clip604)\" cx=\"723.255\" cy=\"1767.43\" r=\"34.4421\" fill=\"#bd3853\" fill-rule=\"evenodd\" fill-opacity=\"1\" stroke=\"#000000\" stroke-opacity=\"1\" stroke-width=\"4\"/>\n",
       "<circle clip-path=\"url(#clip604)\" cx=\"654.208\" cy=\"1402.34\" r=\"19.664\" fill=\"#59106d\" fill-rule=\"evenodd\" fill-opacity=\"1\" stroke=\"#000000\" stroke-opacity=\"1\" stroke-width=\"4\"/>\n",
       "<circle clip-path=\"url(#clip604)\" cx=\"319.995\" cy=\"1188.78\" r=\"7.68998\" fill=\"#0a0724\" fill-rule=\"evenodd\" fill-opacity=\"1\" stroke=\"#000000\" stroke-opacity=\"1\" stroke-width=\"4\"/>\n",
       "<circle clip-path=\"url(#clip604)\" cx=\"367.304\" cy=\"1188.78\" r=\"3.6\" fill=\"#000003\" fill-rule=\"evenodd\" fill-opacity=\"1\" stroke=\"#000000\" stroke-opacity=\"1\" stroke-width=\"4\"/>\n",
       "<circle clip-path=\"url(#clip604)\" cx=\"875.113\" cy=\"1188.78\" r=\"32.4284\" fill=\"#b0315a\" fill-rule=\"evenodd\" fill-opacity=\"1\" stroke=\"#000000\" stroke-opacity=\"1\" stroke-width=\"4\"/>\n",
       "<circle clip-path=\"url(#clip604)\" cx=\"367.304\" cy=\"1037.25\" r=\"13.3579\" fill=\"#2d0a58\" fill-rule=\"evenodd\" fill-opacity=\"1\" stroke=\"#000000\" stroke-opacity=\"1\" stroke-width=\"4\"/>\n",
       "<circle clip-path=\"url(#clip604)\" cx=\"654.208\" cy=\"1037.25\" r=\"20.6446\" fill=\"#5f136e\" fill-rule=\"evenodd\" fill-opacity=\"1\" stroke=\"#000000\" stroke-opacity=\"1\" stroke-width=\"4\"/>\n",
       "<circle clip-path=\"url(#clip604)\" cx=\"958.528\" cy=\"1402.34\" r=\"33.1445\" fill=\"#b43358\" fill-rule=\"evenodd\" fill-opacity=\"1\" stroke=\"#000000\" stroke-opacity=\"1\" stroke-width=\"4\"/>\n",
       "<circle clip-path=\"url(#clip604)\" cx=\"589.378\" cy=\"1402.34\" r=\"11.8056\" fill=\"#220b4b\" fill-rule=\"evenodd\" fill-opacity=\"1\" stroke=\"#000000\" stroke-opacity=\"1\" stroke-width=\"4\"/>\n",
       "<circle clip-path=\"url(#clip604)\" cx=\"319.995\" cy=\"1402.34\" r=\"9.91759\" fill=\"#160b39\" fill-rule=\"evenodd\" fill-opacity=\"1\" stroke=\"#000000\" stroke-opacity=\"1\" stroke-width=\"4\"/>\n",
       "<circle clip-path=\"url(#clip604)\" cx=\"417.69\" cy=\"1188.78\" r=\"6.70641\" fill=\"#06051b\" fill-rule=\"evenodd\" fill-opacity=\"1\" stroke=\"#000000\" stroke-opacity=\"1\" stroke-width=\"4\"/>\n",
       "<circle clip-path=\"url(#clip604)\" cx=\"471.354\" cy=\"1402.34\" r=\"14.0117\" fill=\"#31095d\" fill-rule=\"evenodd\" fill-opacity=\"1\" stroke=\"#000000\" stroke-opacity=\"1\" stroke-width=\"4\"/>\n",
       "<circle clip-path=\"url(#clip604)\" cx=\"1047.37\" cy=\"1402.34\" r=\"34.6633\" fill=\"#be3852\" fill-rule=\"evenodd\" fill-opacity=\"1\" stroke=\"#000000\" stroke-opacity=\"1\" stroke-width=\"4\"/>\n",
       "<circle clip-path=\"url(#clip604)\" cx=\"1047.37\" cy=\"1767.43\" r=\"33.7645\" fill=\"#b83555\" fill-rule=\"evenodd\" fill-opacity=\"1\" stroke=\"#000000\" stroke-opacity=\"1\" stroke-width=\"4\"/>\n",
       "<circle clip-path=\"url(#clip604)\" cx=\"654.208\" cy=\"1188.78\" r=\"17.829\" fill=\"#4c0c6b\" fill-rule=\"evenodd\" fill-opacity=\"1\" stroke=\"#000000\" stroke-opacity=\"1\" stroke-width=\"4\"/>\n",
       "<circle clip-path=\"url(#clip604)\" cx=\"796.793\" cy=\"1188.78\" r=\"28.7879\" fill=\"#972765\" fill-rule=\"evenodd\" fill-opacity=\"1\" stroke=\"#000000\" stroke-opacity=\"1\" stroke-width=\"4\"/>\n",
       "<circle clip-path=\"url(#clip604)\" cx=\"417.69\" cy=\"1402.34\" r=\"8.79686\" fill=\"#10092e\" fill-rule=\"evenodd\" fill-opacity=\"1\" stroke=\"#000000\" stroke-opacity=\"1\" stroke-width=\"4\"/>\n",
       "<circle clip-path=\"url(#clip604)\" cx=\"589.378\" cy=\"1188.78\" r=\"18.7042\" fill=\"#520e6c\" fill-rule=\"evenodd\" fill-opacity=\"1\" stroke=\"#000000\" stroke-opacity=\"1\" stroke-width=\"4\"/>\n",
       "<circle clip-path=\"url(#clip604)\" cx=\"958.528\" cy=\"1037.25\" r=\"46.5729\" fill=\"#f68111\" fill-rule=\"evenodd\" fill-opacity=\"1\" stroke=\"#000000\" stroke-opacity=\"1\" stroke-width=\"4\"/>\n",
       "<circle clip-path=\"url(#clip604)\" cx=\"471.354\" cy=\"1188.78\" r=\"11.6045\" fill=\"#200c49\" fill-rule=\"evenodd\" fill-opacity=\"1\" stroke=\"#000000\" stroke-opacity=\"1\" stroke-width=\"4\"/>\n",
       "<circle clip-path=\"url(#clip604)\" cx=\"958.528\" cy=\"1767.43\" r=\"31.8809\" fill=\"#ac2f5c\" fill-rule=\"evenodd\" fill-opacity=\"1\" stroke=\"#000000\" stroke-opacity=\"1\" stroke-width=\"4\"/>\n",
       "<circle clip-path=\"url(#clip604)\" cx=\"471.354\" cy=\"1767.43\" r=\"38.1336\" fill=\"#d44841\" fill-rule=\"evenodd\" fill-opacity=\"1\" stroke=\"#000000\" stroke-opacity=\"1\" stroke-width=\"4\"/>\n",
       "<circle clip-path=\"url(#clip604)\" cx=\"958.528\" cy=\"1188.78\" r=\"39.7524\" fill=\"#dc5139\" fill-rule=\"evenodd\" fill-opacity=\"1\" stroke=\"#000000\" stroke-opacity=\"1\" stroke-width=\"4\"/>\n",
       "<circle clip-path=\"url(#clip604)\" cx=\"654.208\" cy=\"1767.43\" r=\"29.1607\" fill=\"#992865\" fill-rule=\"evenodd\" fill-opacity=\"1\" stroke=\"#000000\" stroke-opacity=\"1\" stroke-width=\"4\"/>\n",
       "<circle clip-path=\"url(#clip604)\" cx=\"723.255\" cy=\"1402.34\" r=\"18.4789\" fill=\"#510d6c\" fill-rule=\"evenodd\" fill-opacity=\"1\" stroke=\"#000000\" stroke-opacity=\"1\" stroke-width=\"4\"/>\n",
       "<circle clip-path=\"url(#clip604)\" cx=\"528.507\" cy=\"1188.78\" r=\"16.0227\" fill=\"#400966\" fill-rule=\"evenodd\" fill-opacity=\"1\" stroke=\"#000000\" stroke-opacity=\"1\" stroke-width=\"4\"/>\n",
       "<circle clip-path=\"url(#clip604)\" cx=\"589.378\" cy=\"1037.25\" r=\"21.5393\" fill=\"#65156e\" fill-rule=\"evenodd\" fill-opacity=\"1\" stroke=\"#000000\" stroke-opacity=\"1\" stroke-width=\"4\"/>\n",
       "<circle clip-path=\"url(#clip604)\" cx=\"796.793\" cy=\"1402.34\" r=\"26.4564\" fill=\"#87216a\" fill-rule=\"evenodd\" fill-opacity=\"1\" stroke=\"#000000\" stroke-opacity=\"1\" stroke-width=\"4\"/>\n",
       "<circle clip-path=\"url(#clip604)\" cx=\"528.507\" cy=\"1402.34\" r=\"14.9153\" fill=\"#380962\" fill-rule=\"evenodd\" fill-opacity=\"1\" stroke=\"#000000\" stroke-opacity=\"1\" stroke-width=\"4\"/>\n",
       "<path clip-path=\"url(#clip600)\" d=\"M1381.74 1789.33 L2152.76 1789.33 L2152.76 1015.34 L1381.74 1015.34  Z\" fill=\"#ffffff\" fill-rule=\"evenodd\" fill-opacity=\"1\"/>\n",
       "<defs>\n",
       "  <clipPath id=\"clip605\">\n",
       "    <rect x=\"1381\" y=\"1015\" width=\"772\" height=\"775\"/>\n",
       "  </clipPath>\n",
       "</defs>\n",
       "<polyline clip-path=\"url(#clip605)\" style=\"stroke:#000000; stroke-linecap:round; stroke-linejoin:round; stroke-width:2; stroke-opacity:0.1; fill:none\" points=\"1403.56,1789.33 1403.56,1015.34 \"/>\n",
       "<polyline clip-path=\"url(#clip605)\" style=\"stroke:#000000; stroke-linecap:round; stroke-linejoin:round; stroke-width:2; stroke-opacity:0.1; fill:none\" points=\"1646.02,1789.33 1646.02,1015.34 \"/>\n",
       "<polyline clip-path=\"url(#clip605)\" style=\"stroke:#000000; stroke-linecap:round; stroke-linejoin:round; stroke-width:2; stroke-opacity:0.1; fill:none\" points=\"1888.48,1789.33 1888.48,1015.34 \"/>\n",
       "<polyline clip-path=\"url(#clip605)\" style=\"stroke:#000000; stroke-linecap:round; stroke-linejoin:round; stroke-width:2; stroke-opacity:0.1; fill:none\" points=\"2130.93,1789.33 2130.93,1015.34 \"/>\n",
       "<polyline clip-path=\"url(#clip605)\" style=\"stroke:#000000; stroke-linecap:round; stroke-linejoin:round; stroke-width:2; stroke-opacity:0.1; fill:none\" points=\"1403.56,1789.33 1403.56,1015.34 \"/>\n",
       "<polyline clip-path=\"url(#clip605)\" style=\"stroke:#000000; stroke-linecap:round; stroke-linejoin:round; stroke-width:2; stroke-opacity:0.1; fill:none\" points=\"1646.02,1789.33 1646.02,1015.34 \"/>\n",
       "<polyline clip-path=\"url(#clip605)\" style=\"stroke:#000000; stroke-linecap:round; stroke-linejoin:round; stroke-width:2; stroke-opacity:0.1; fill:none\" points=\"1888.48,1789.33 1888.48,1015.34 \"/>\n",
       "<polyline clip-path=\"url(#clip605)\" style=\"stroke:#000000; stroke-linecap:round; stroke-linejoin:round; stroke-width:2; stroke-opacity:0.1; fill:none\" points=\"2130.93,1789.33 2130.93,1015.34 \"/>\n",
       "<polyline clip-path=\"url(#clip605)\" style=\"stroke:#000000; stroke-linecap:round; stroke-linejoin:round; stroke-width:2; stroke-opacity:0.1; fill:none\" points=\"1381.74,1682.95 2152.76,1682.95 \"/>\n",
       "<polyline clip-path=\"url(#clip605)\" style=\"stroke:#000000; stroke-linecap:round; stroke-linejoin:round; stroke-width:2; stroke-opacity:0.1; fill:none\" points=\"1381.74,1550.46 2152.76,1550.46 \"/>\n",
       "<polyline clip-path=\"url(#clip605)\" style=\"stroke:#000000; stroke-linecap:round; stroke-linejoin:round; stroke-width:2; stroke-opacity:0.1; fill:none\" points=\"1381.74,1417.97 2152.76,1417.97 \"/>\n",
       "<polyline clip-path=\"url(#clip605)\" style=\"stroke:#000000; stroke-linecap:round; stroke-linejoin:round; stroke-width:2; stroke-opacity:0.1; fill:none\" points=\"1381.74,1285.49 2152.76,1285.49 \"/>\n",
       "<polyline clip-path=\"url(#clip605)\" style=\"stroke:#000000; stroke-linecap:round; stroke-linejoin:round; stroke-width:2; stroke-opacity:0.1; fill:none\" points=\"1381.74,1153 2152.76,1153 \"/>\n",
       "<polyline clip-path=\"url(#clip605)\" style=\"stroke:#000000; stroke-linecap:round; stroke-linejoin:round; stroke-width:2; stroke-opacity:0.1; fill:none\" points=\"1381.74,1020.51 2152.76,1020.51 \"/>\n",
       "<polyline clip-path=\"url(#clip605)\" style=\"stroke:#000000; stroke-linecap:round; stroke-linejoin:round; stroke-width:2; stroke-opacity:0.1; fill:none\" points=\"1381.74,1682.95 2152.76,1682.95 \"/>\n",
       "<polyline clip-path=\"url(#clip605)\" style=\"stroke:#000000; stroke-linecap:round; stroke-linejoin:round; stroke-width:2; stroke-opacity:0.1; fill:none\" points=\"1381.74,1550.46 2152.76,1550.46 \"/>\n",
       "<polyline clip-path=\"url(#clip605)\" style=\"stroke:#000000; stroke-linecap:round; stroke-linejoin:round; stroke-width:2; stroke-opacity:0.1; fill:none\" points=\"1381.74,1417.97 2152.76,1417.97 \"/>\n",
       "<polyline clip-path=\"url(#clip605)\" style=\"stroke:#000000; stroke-linecap:round; stroke-linejoin:round; stroke-width:2; stroke-opacity:0.1; fill:none\" points=\"1381.74,1285.49 2152.76,1285.49 \"/>\n",
       "<polyline clip-path=\"url(#clip605)\" style=\"stroke:#000000; stroke-linecap:round; stroke-linejoin:round; stroke-width:2; stroke-opacity:0.1; fill:none\" points=\"1381.74,1153 2152.76,1153 \"/>\n",
       "<polyline clip-path=\"url(#clip605)\" style=\"stroke:#000000; stroke-linecap:round; stroke-linejoin:round; stroke-width:2; stroke-opacity:0.1; fill:none\" points=\"1381.74,1020.51 2152.76,1020.51 \"/>\n",
       "<polyline clip-path=\"url(#clip600)\" style=\"stroke:#000000; stroke-linecap:round; stroke-linejoin:round; stroke-width:4; stroke-opacity:1; fill:none\" points=\"1381.74,1789.33 2152.76,1789.33 \"/>\n",
       "<polyline clip-path=\"url(#clip600)\" style=\"stroke:#000000; stroke-linecap:round; stroke-linejoin:round; stroke-width:4; stroke-opacity:1; fill:none\" points=\"1381.74,1015.34 2152.76,1015.34 \"/>\n",
       "<polyline clip-path=\"url(#clip600)\" style=\"stroke:#000000; stroke-linecap:round; stroke-linejoin:round; stroke-width:4; stroke-opacity:1; fill:none\" points=\"1403.56,1789.33 1403.56,1770.43 \"/>\n",
       "<polyline clip-path=\"url(#clip600)\" style=\"stroke:#000000; stroke-linecap:round; stroke-linejoin:round; stroke-width:4; stroke-opacity:1; fill:none\" points=\"1646.02,1789.33 1646.02,1770.43 \"/>\n",
       "<polyline clip-path=\"url(#clip600)\" style=\"stroke:#000000; stroke-linecap:round; stroke-linejoin:round; stroke-width:4; stroke-opacity:1; fill:none\" points=\"1888.48,1789.33 1888.48,1770.43 \"/>\n",
       "<polyline clip-path=\"url(#clip600)\" style=\"stroke:#000000; stroke-linecap:round; stroke-linejoin:round; stroke-width:4; stroke-opacity:1; fill:none\" points=\"2130.93,1789.33 2130.93,1770.43 \"/>\n",
       "<polyline clip-path=\"url(#clip600)\" style=\"stroke:#000000; stroke-linecap:round; stroke-linejoin:round; stroke-width:4; stroke-opacity:1; fill:none\" points=\"1403.56,1015.34 1403.56,1034.24 \"/>\n",
       "<polyline clip-path=\"url(#clip600)\" style=\"stroke:#000000; stroke-linecap:round; stroke-linejoin:round; stroke-width:4; stroke-opacity:1; fill:none\" points=\"1646.02,1015.34 1646.02,1034.24 \"/>\n",
       "<polyline clip-path=\"url(#clip600)\" style=\"stroke:#000000; stroke-linecap:round; stroke-linejoin:round; stroke-width:4; stroke-opacity:1; fill:none\" points=\"1888.48,1015.34 1888.48,1034.24 \"/>\n",
       "<polyline clip-path=\"url(#clip600)\" style=\"stroke:#000000; stroke-linecap:round; stroke-linejoin:round; stroke-width:4; stroke-opacity:1; fill:none\" points=\"2130.93,1015.34 2130.93,1034.24 \"/>\n",
       "<path clip-path=\"url(#clip600)\" d=\"M1393.94 1846.2 L1401.58 1846.2 L1401.58 1819.83 L1393.27 1821.5 L1393.27 1817.24 L1401.54 1815.57 L1406.21 1815.57 L1406.21 1846.2 L1413.85 1846.2 L1413.85 1850.13 L1393.94 1850.13 L1393.94 1846.2 Z\" fill=\"#000000\" fill-rule=\"nonzero\" fill-opacity=\"1\" /><path clip-path=\"url(#clip600)\" d=\"M1640.67 1846.2 L1656.99 1846.2 L1656.99 1850.13 L1635.05 1850.13 L1635.05 1846.2 Q1637.71 1843.44 1642.29 1838.81 Q1646.9 1834.16 1648.08 1832.82 Q1650.33 1830.29 1651.2 1828.56 Q1652.11 1826.8 1652.11 1825.11 Q1652.11 1822.35 1650.16 1820.62 Q1648.24 1818.88 1645.14 1818.88 Q1642.94 1818.88 1640.49 1819.65 Q1638.06 1820.41 1635.28 1821.96 L1635.28 1817.24 Q1638.1 1816.1 1640.56 1815.53 Q1643.01 1814.95 1645.05 1814.95 Q1650.42 1814.95 1653.61 1817.63 Q1656.81 1820.32 1656.81 1824.81 Q1656.81 1826.94 1656 1828.86 Q1655.21 1830.76 1653.1 1833.35 Q1652.52 1834.02 1649.42 1837.24 Q1646.32 1840.43 1640.67 1846.2 Z\" fill=\"#000000\" fill-rule=\"nonzero\" fill-opacity=\"1\" /><path clip-path=\"url(#clip600)\" d=\"M1892.72 1831.5 Q1896.08 1832.22 1897.96 1834.48 Q1899.85 1836.75 1899.85 1840.09 Q1899.85 1845.2 1896.34 1848 Q1892.82 1850.8 1886.34 1850.8 Q1884.16 1850.8 1881.85 1850.36 Q1879.55 1849.95 1877.1 1849.09 L1877.1 1844.58 Q1879.04 1845.71 1881.36 1846.29 Q1883.67 1846.87 1886.2 1846.87 Q1890.6 1846.87 1892.89 1845.13 Q1895.2 1843.4 1895.2 1840.09 Q1895.2 1837.03 1893.05 1835.32 Q1890.92 1833.58 1887.1 1833.58 L1883.07 1833.58 L1883.07 1829.74 L1887.29 1829.74 Q1890.73 1829.74 1892.56 1828.37 Q1894.39 1826.98 1894.39 1824.39 Q1894.39 1821.73 1892.49 1820.32 Q1890.62 1818.88 1887.1 1818.88 Q1885.18 1818.88 1882.98 1819.3 Q1880.78 1819.72 1878.14 1820.6 L1878.14 1816.43 Q1880.8 1815.69 1883.12 1815.32 Q1885.46 1814.95 1887.52 1814.95 Q1892.84 1814.95 1895.94 1817.38 Q1899.04 1819.79 1899.04 1823.91 Q1899.04 1826.78 1897.4 1828.77 Q1895.76 1830.73 1892.72 1831.5 Z\" fill=\"#000000\" fill-rule=\"nonzero\" fill-opacity=\"1\" /><path clip-path=\"url(#clip600)\" d=\"M2133.94 1819.65 L2122.14 1838.1 L2133.94 1838.1 L2133.94 1819.65 M2132.72 1815.57 L2138.6 1815.57 L2138.6 1838.1 L2143.53 1838.1 L2143.53 1841.98 L2138.6 1841.98 L2138.6 1850.13 L2133.94 1850.13 L2133.94 1841.98 L2118.34 1841.98 L2118.34 1837.47 L2132.72 1815.57 Z\" fill=\"#000000\" fill-rule=\"nonzero\" fill-opacity=\"1\" /><path clip-path=\"url(#clip600)\" d=\"M1458 1902.39 Q1460.2 1898.45 1463.25 1896.57 Q1466.31 1894.69 1470.45 1894.69 Q1476.02 1894.69 1479.04 1898.6 Q1482.06 1902.49 1482.06 1909.68 L1482.06 1931.2 L1476.18 1931.2 L1476.18 1909.87 Q1476.18 1904.75 1474.36 1902.26 Q1472.55 1899.78 1468.82 1899.78 Q1464.27 1899.78 1461.63 1902.81 Q1458.99 1905.83 1458.99 1911.05 L1458.99 1931.2 L1453.1 1931.2 L1453.1 1909.87 Q1453.1 1904.72 1451.29 1902.26 Q1449.47 1899.78 1445.68 1899.78 Q1441.2 1899.78 1438.56 1902.84 Q1435.91 1905.86 1435.91 1911.05 L1435.91 1931.2 L1430.03 1931.2 L1430.03 1895.55 L1435.91 1895.55 L1435.91 1901.09 Q1437.92 1897.81 1440.72 1896.25 Q1443.52 1894.69 1447.37 1894.69 Q1451.25 1894.69 1453.96 1896.66 Q1456.7 1898.64 1458 1902.39 Z\" fill=\"#000000\" fill-rule=\"nonzero\" fill-opacity=\"1\" /><path clip-path=\"url(#clip600)\" d=\"M1507.56 1899.65 Q1502.85 1899.65 1500.11 1903.35 Q1497.37 1907.01 1497.37 1913.4 Q1497.37 1919.8 1500.08 1923.49 Q1502.82 1927.15 1507.56 1927.15 Q1512.24 1927.15 1514.98 1923.46 Q1517.71 1919.77 1517.71 1913.4 Q1517.71 1907.07 1514.98 1903.38 Q1512.24 1899.65 1507.56 1899.65 M1507.56 1894.69 Q1515.2 1894.69 1519.56 1899.65 Q1523.92 1904.62 1523.92 1913.4 Q1523.92 1922.16 1519.56 1927.15 Q1515.2 1932.12 1507.56 1932.12 Q1499.89 1932.12 1495.53 1927.15 Q1491.2 1922.16 1491.2 1913.4 Q1491.2 1904.62 1495.53 1899.65 Q1499.89 1894.69 1507.56 1894.69 Z\" fill=\"#000000\" fill-rule=\"nonzero\" fill-opacity=\"1\" /><path clip-path=\"url(#clip600)\" d=\"M1557.08 1900.96 L1557.08 1881.67 L1562.94 1881.67 L1562.94 1931.2 L1557.08 1931.2 L1557.08 1925.85 Q1555.24 1929.03 1552.41 1930.59 Q1549.6 1932.12 1545.66 1932.12 Q1539.2 1932.12 1535.12 1926.96 Q1531.08 1921.81 1531.08 1913.4 Q1531.08 1905 1535.12 1899.85 Q1539.2 1894.69 1545.66 1894.69 Q1549.6 1894.69 1552.41 1896.25 Q1555.24 1897.78 1557.08 1900.96 M1537.13 1913.4 Q1537.13 1919.87 1539.77 1923.56 Q1542.44 1927.22 1547.09 1927.22 Q1551.74 1927.22 1554.41 1923.56 Q1557.08 1919.87 1557.08 1913.4 Q1557.08 1906.94 1554.41 1903.28 Q1551.74 1899.59 1547.09 1899.59 Q1542.44 1899.59 1539.77 1903.28 Q1537.13 1906.94 1537.13 1913.4 Z\" fill=\"#000000\" fill-rule=\"nonzero\" fill-opacity=\"1\" /><path clip-path=\"url(#clip600)\" d=\"M1605.5 1911.91 L1605.5 1914.77 L1578.57 1914.77 Q1578.95 1920.82 1582.2 1924 Q1585.48 1927.15 1591.3 1927.15 Q1594.67 1927.15 1597.83 1926.33 Q1601.01 1925.5 1604.13 1923.84 L1604.13 1929.38 Q1600.98 1930.72 1597.67 1931.42 Q1594.36 1932.12 1590.95 1932.12 Q1582.42 1932.12 1577.42 1927.15 Q1572.46 1922.19 1572.46 1913.72 Q1572.46 1904.97 1577.17 1899.85 Q1581.91 1894.69 1589.93 1894.69 Q1597.12 1894.69 1601.29 1899.34 Q1605.5 1903.95 1605.5 1911.91 M1599.64 1910.19 Q1599.58 1905.38 1596.93 1902.52 Q1594.32 1899.65 1590 1899.65 Q1585.09 1899.65 1582.13 1902.42 Q1579.21 1905.19 1578.76 1910.22 L1599.64 1910.19 Z\" fill=\"#000000\" fill-rule=\"nonzero\" fill-opacity=\"1\" /><path clip-path=\"url(#clip600)\" d=\"M1615.11 1881.67 L1620.96 1881.67 L1620.96 1931.2 L1615.11 1931.2 L1615.11 1881.67 Z\" fill=\"#000000\" fill-rule=\"nonzero\" fill-opacity=\"1\" /><path clip-path=\"url(#clip600)\" d=\"M1634.05 1923.11 L1640.76 1923.11 L1640.76 1931.2 L1634.05 1931.2 L1634.05 1923.11 Z\" fill=\"#000000\" fill-rule=\"nonzero\" fill-opacity=\"1\" /><path clip-path=\"url(#clip600)\" d=\"M1683.57 1909.68 L1683.57 1931.2 L1677.71 1931.2 L1677.71 1909.87 Q1677.71 1904.81 1675.74 1902.3 Q1673.77 1899.78 1669.82 1899.78 Q1665.08 1899.78 1662.34 1902.81 Q1659.6 1905.83 1659.6 1911.05 L1659.6 1931.2 L1653.72 1931.2 L1653.72 1895.55 L1659.6 1895.55 L1659.6 1901.09 Q1661.71 1897.87 1664.54 1896.28 Q1667.4 1894.69 1671.13 1894.69 Q1677.27 1894.69 1680.42 1898.51 Q1683.57 1902.3 1683.57 1909.68 Z\" fill=\"#000000\" fill-rule=\"nonzero\" fill-opacity=\"1\" /><path clip-path=\"url(#clip600)\" d=\"M1722.34 1942.02 L1722.34 1946.57 L1688.47 1946.57 L1688.47 1942.02 L1722.34 1942.02 Z\" fill=\"#000000\" fill-rule=\"nonzero\" fill-opacity=\"1\" /><path clip-path=\"url(#clip600)\" d=\"M1750.57 1896.6 L1750.57 1902.14 Q1748.09 1900.86 1745.41 1900.23 Q1742.74 1899.59 1739.88 1899.59 Q1735.52 1899.59 1733.32 1900.93 Q1731.15 1902.26 1731.15 1904.94 Q1731.15 1906.98 1732.71 1908.15 Q1734.27 1909.3 1738.98 1910.35 L1740.99 1910.79 Q1747.23 1912.13 1749.84 1914.58 Q1752.48 1917 1752.48 1921.36 Q1752.48 1926.33 1748.53 1929.22 Q1744.62 1932.12 1737.74 1932.12 Q1734.88 1932.12 1731.76 1931.55 Q1728.67 1931.01 1725.23 1929.89 L1725.23 1923.84 Q1728.48 1925.53 1731.63 1926.39 Q1734.78 1927.22 1737.87 1927.22 Q1742.01 1927.22 1744.24 1925.82 Q1746.46 1924.39 1746.46 1921.81 Q1746.46 1919.42 1744.84 1918.15 Q1743.25 1916.87 1737.81 1915.7 L1735.77 1915.22 Q1730.33 1914.07 1727.91 1911.72 Q1725.49 1909.33 1725.49 1905.19 Q1725.49 1900.16 1729.05 1897.43 Q1732.62 1894.69 1739.18 1894.69 Q1742.42 1894.69 1745.29 1895.17 Q1748.15 1895.64 1750.57 1896.6 Z\" fill=\"#000000\" fill-rule=\"nonzero\" fill-opacity=\"1\" /><path clip-path=\"url(#clip600)\" d=\"M1761.2 1917.13 L1761.2 1895.55 L1767.06 1895.55 L1767.06 1916.91 Q1767.06 1921.97 1769.03 1924.51 Q1771 1927.03 1774.95 1927.03 Q1779.69 1927.03 1782.43 1924 Q1785.2 1920.98 1785.2 1915.76 L1785.2 1895.55 L1791.06 1895.55 L1791.06 1931.2 L1785.2 1931.2 L1785.2 1925.72 Q1783.07 1928.97 1780.23 1930.56 Q1777.43 1932.12 1773.71 1932.12 Q1767.57 1932.12 1764.38 1928.3 Q1761.2 1924.48 1761.2 1917.13 M1775.94 1894.69 L1775.94 1894.69 Z\" fill=\"#000000\" fill-rule=\"nonzero\" fill-opacity=\"1\" /><path clip-path=\"url(#clip600)\" d=\"M1828.71 1913.4 Q1828.71 1906.94 1826.04 1903.28 Q1823.39 1899.59 1818.75 1899.59 Q1814.1 1899.59 1811.43 1903.28 Q1808.78 1906.94 1808.78 1913.4 Q1808.78 1919.87 1811.43 1923.56 Q1814.1 1927.22 1818.75 1927.22 Q1823.39 1927.22 1826.04 1923.56 Q1828.71 1919.87 1828.71 1913.4 M1808.78 1900.96 Q1810.63 1897.78 1813.43 1896.25 Q1816.26 1894.69 1820.18 1894.69 Q1826.67 1894.69 1830.71 1899.85 Q1834.79 1905 1834.79 1913.4 Q1834.79 1921.81 1830.71 1926.96 Q1826.67 1932.12 1820.18 1932.12 Q1816.26 1932.12 1813.43 1930.59 Q1810.63 1929.03 1808.78 1925.85 L1808.78 1931.2 L1802.9 1931.2 L1802.9 1881.67 L1808.78 1881.67 L1808.78 1900.96 Z\" fill=\"#000000\" fill-rule=\"nonzero\" fill-opacity=\"1\" /><path clip-path=\"url(#clip600)\" d=\"M1862.54 1881.67 L1862.54 1886.54 L1856.94 1886.54 Q1853.79 1886.54 1852.55 1887.81 Q1851.34 1889.09 1851.34 1892.4 L1851.34 1895.55 L1860.98 1895.55 L1860.98 1900.1 L1851.34 1900.1 L1851.34 1931.2 L1845.45 1931.2 L1845.45 1900.1 L1839.85 1900.1 L1839.85 1895.55 L1845.45 1895.55 L1845.45 1893.07 Q1845.45 1887.11 1848.22 1884.41 Q1850.99 1881.67 1857 1881.67 L1862.54 1881.67 Z\" fill=\"#000000\" fill-rule=\"nonzero\" fill-opacity=\"1\" /><path clip-path=\"url(#clip600)\" d=\"M1897.94 1911.91 L1897.94 1914.77 L1871.01 1914.77 Q1871.39 1920.82 1874.64 1924 Q1877.92 1927.15 1883.74 1927.15 Q1887.11 1927.15 1890.27 1926.33 Q1893.45 1925.5 1896.57 1923.84 L1896.57 1929.38 Q1893.42 1930.72 1890.11 1931.42 Q1886.8 1932.12 1883.39 1932.12 Q1874.86 1932.12 1869.86 1927.15 Q1864.9 1922.19 1864.9 1913.72 Q1864.9 1904.97 1869.61 1899.85 Q1874.35 1894.69 1882.37 1894.69 Q1889.57 1894.69 1893.74 1899.34 Q1897.94 1903.95 1897.94 1911.91 M1892.08 1910.19 Q1892.02 1905.38 1889.37 1902.52 Q1886.76 1899.65 1882.44 1899.65 Q1877.53 1899.65 1874.57 1902.42 Q1871.65 1905.19 1871.2 1910.22 L1892.08 1910.19 Z\" fill=\"#000000\" fill-rule=\"nonzero\" fill-opacity=\"1\" /><path clip-path=\"url(#clip600)\" d=\"M1923.75 1913.28 Q1916.65 1913.28 1913.91 1914.9 Q1911.18 1916.52 1911.18 1920.44 Q1911.18 1923.56 1913.21 1925.4 Q1915.28 1927.22 1918.82 1927.22 Q1923.69 1927.22 1926.61 1923.78 Q1929.57 1920.31 1929.57 1914.58 L1929.57 1913.28 L1923.75 1913.28 M1935.43 1910.86 L1935.43 1931.2 L1929.57 1931.2 L1929.57 1925.79 Q1927.57 1929.03 1924.58 1930.59 Q1921.59 1932.12 1917.26 1932.12 Q1911.78 1932.12 1908.54 1929.06 Q1905.32 1925.98 1905.32 1920.82 Q1905.32 1914.8 1909.33 1911.75 Q1913.37 1908.69 1921.36 1908.69 L1929.57 1908.69 L1929.57 1908.12 Q1929.57 1904.08 1926.9 1901.88 Q1924.26 1899.65 1919.45 1899.65 Q1916.4 1899.65 1913.5 1900.39 Q1910.6 1901.12 1907.93 1902.58 L1907.93 1897.17 Q1911.15 1895.93 1914.17 1895.33 Q1917.19 1894.69 1920.06 1894.69 Q1927.79 1894.69 1931.61 1898.7 Q1935.43 1902.71 1935.43 1910.86 Z\" fill=\"#000000\" fill-rule=\"nonzero\" fill-opacity=\"1\" /><path clip-path=\"url(#clip600)\" d=\"M1953.29 1885.43 L1953.29 1895.55 L1965.35 1895.55 L1965.35 1900.1 L1953.29 1900.1 L1953.29 1919.45 Q1953.29 1923.81 1954.46 1925.05 Q1955.67 1926.29 1959.33 1926.29 L1965.35 1926.29 L1965.35 1931.2 L1959.33 1931.2 Q1952.55 1931.2 1949.98 1928.68 Q1947.4 1926.14 1947.4 1919.45 L1947.4 1900.1 L1943.1 1900.1 L1943.1 1895.55 L1947.4 1895.55 L1947.4 1885.43 L1953.29 1885.43 Z\" fill=\"#000000\" fill-rule=\"nonzero\" fill-opacity=\"1\" /><path clip-path=\"url(#clip600)\" d=\"M1972.45 1917.13 L1972.45 1895.55 L1978.3 1895.55 L1978.3 1916.91 Q1978.3 1921.97 1980.28 1924.51 Q1982.25 1927.03 1986.2 1927.03 Q1990.94 1927.03 1993.68 1924 Q1996.45 1920.98 1996.45 1915.76 L1996.45 1895.55 L2002.3 1895.55 L2002.3 1931.2 L1996.45 1931.2 L1996.45 1925.72 Q1994.31 1928.97 1991.48 1930.56 Q1988.68 1932.12 1984.96 1932.12 Q1978.81 1932.12 1975.63 1928.3 Q1972.45 1924.48 1972.45 1917.13 M1987.18 1894.69 L1987.18 1894.69 Z\" fill=\"#000000\" fill-rule=\"nonzero\" fill-opacity=\"1\" /><path clip-path=\"url(#clip600)\" d=\"M2035.02 1901.02 Q2034.04 1900.45 2032.86 1900.2 Q2031.71 1899.91 2030.31 1899.91 Q2025.35 1899.91 2022.67 1903.16 Q2020.03 1906.37 2020.03 1912.42 L2020.03 1931.2 L2014.14 1931.2 L2014.14 1895.55 L2020.03 1895.55 L2020.03 1901.09 Q2021.88 1897.84 2024.84 1896.28 Q2027.8 1894.69 2032.03 1894.69 Q2032.63 1894.69 2033.37 1894.78 Q2034.1 1894.85 2034.99 1895.01 L2035.02 1901.02 Z\" fill=\"#000000\" fill-rule=\"nonzero\" fill-opacity=\"1\" /><path clip-path=\"url(#clip600)\" d=\"M2070.22 1911.91 L2070.22 1914.77 L2043.3 1914.77 Q2043.68 1920.82 2046.93 1924 Q2050.2 1927.15 2056.03 1927.15 Q2059.4 1927.15 2062.55 1926.33 Q2065.74 1925.5 2068.86 1923.84 L2068.86 1929.38 Q2065.7 1930.72 2062.39 1931.42 Q2059.08 1932.12 2055.68 1932.12 Q2047.15 1932.12 2042.15 1927.15 Q2037.19 1922.19 2037.19 1913.72 Q2037.19 1904.97 2041.9 1899.85 Q2046.64 1894.69 2054.66 1894.69 Q2061.85 1894.69 2066.02 1899.34 Q2070.22 1903.95 2070.22 1911.91 M2064.37 1910.19 Q2064.3 1905.38 2061.66 1902.52 Q2059.05 1899.65 2054.72 1899.65 Q2049.82 1899.65 2046.86 1902.42 Q2043.93 1905.19 2043.49 1910.22 L2064.37 1910.19 Z\" fill=\"#000000\" fill-rule=\"nonzero\" fill-opacity=\"1\" /><path clip-path=\"url(#clip600)\" d=\"M2102.56 1896.6 L2102.56 1902.14 Q2100.08 1900.86 2097.41 1900.23 Q2094.73 1899.59 2091.87 1899.59 Q2087.51 1899.59 2085.31 1900.93 Q2083.15 1902.26 2083.15 1904.94 Q2083.15 1906.98 2084.71 1908.15 Q2086.27 1909.3 2090.98 1910.35 L2092.98 1910.79 Q2099.22 1912.13 2101.83 1914.58 Q2104.47 1917 2104.47 1921.36 Q2104.47 1926.33 2100.53 1929.22 Q2096.61 1932.12 2089.74 1932.12 Q2086.87 1932.12 2083.75 1931.55 Q2080.66 1931.01 2077.23 1929.89 L2077.23 1923.84 Q2080.47 1925.53 2083.62 1926.39 Q2086.78 1927.22 2089.86 1927.22 Q2094 1927.22 2096.23 1925.82 Q2098.46 1924.39 2098.46 1921.81 Q2098.46 1919.42 2096.83 1918.15 Q2095.24 1916.87 2089.8 1915.7 L2087.76 1915.22 Q2082.32 1914.07 2079.9 1911.72 Q2077.48 1909.33 2077.48 1905.19 Q2077.48 1900.16 2081.05 1897.43 Q2084.61 1894.69 2091.17 1894.69 Q2094.41 1894.69 2097.28 1895.17 Q2100.14 1895.64 2102.56 1896.6 Z\" fill=\"#000000\" fill-rule=\"nonzero\" fill-opacity=\"1\" /><polyline clip-path=\"url(#clip600)\" style=\"stroke:#000000; stroke-linecap:round; stroke-linejoin:round; stroke-width:4; stroke-opacity:1; fill:none\" points=\"1381.74,1789.33 1381.74,1015.34 \"/>\n",
       "<polyline clip-path=\"url(#clip600)\" style=\"stroke:#000000; stroke-linecap:round; stroke-linejoin:round; stroke-width:4; stroke-opacity:1; fill:none\" points=\"2152.76,1789.33 2152.76,1015.34 \"/>\n",
       "<polyline clip-path=\"url(#clip600)\" style=\"stroke:#000000; stroke-linecap:round; stroke-linejoin:round; stroke-width:4; stroke-opacity:1; fill:none\" points=\"1381.74,1682.95 1400.64,1682.95 \"/>\n",
       "<polyline clip-path=\"url(#clip600)\" style=\"stroke:#000000; stroke-linecap:round; stroke-linejoin:round; stroke-width:4; stroke-opacity:1; fill:none\" points=\"1381.74,1550.46 1400.64,1550.46 \"/>\n",
       "<polyline clip-path=\"url(#clip600)\" style=\"stroke:#000000; stroke-linecap:round; stroke-linejoin:round; stroke-width:4; stroke-opacity:1; fill:none\" points=\"1381.74,1417.97 1400.64,1417.97 \"/>\n",
       "<polyline clip-path=\"url(#clip600)\" style=\"stroke:#000000; stroke-linecap:round; stroke-linejoin:round; stroke-width:4; stroke-opacity:1; fill:none\" points=\"1381.74,1285.49 1400.64,1285.49 \"/>\n",
       "<polyline clip-path=\"url(#clip600)\" style=\"stroke:#000000; stroke-linecap:round; stroke-linejoin:round; stroke-width:4; stroke-opacity:1; fill:none\" points=\"1381.74,1153 1400.64,1153 \"/>\n",
       "<polyline clip-path=\"url(#clip600)\" style=\"stroke:#000000; stroke-linecap:round; stroke-linejoin:round; stroke-width:4; stroke-opacity:1; fill:none\" points=\"1381.74,1020.51 1400.64,1020.51 \"/>\n",
       "<polyline clip-path=\"url(#clip600)\" style=\"stroke:#000000; stroke-linecap:round; stroke-linejoin:round; stroke-width:4; stroke-opacity:1; fill:none\" points=\"2152.76,1682.95 2133.86,1682.95 \"/>\n",
       "<polyline clip-path=\"url(#clip600)\" style=\"stroke:#000000; stroke-linecap:round; stroke-linejoin:round; stroke-width:4; stroke-opacity:1; fill:none\" points=\"2152.76,1550.46 2133.86,1550.46 \"/>\n",
       "<polyline clip-path=\"url(#clip600)\" style=\"stroke:#000000; stroke-linecap:round; stroke-linejoin:round; stroke-width:4; stroke-opacity:1; fill:none\" points=\"2152.76,1417.97 2133.86,1417.97 \"/>\n",
       "<polyline clip-path=\"url(#clip600)\" style=\"stroke:#000000; stroke-linecap:round; stroke-linejoin:round; stroke-width:4; stroke-opacity:1; fill:none\" points=\"2152.76,1285.49 2133.86,1285.49 \"/>\n",
       "<polyline clip-path=\"url(#clip600)\" style=\"stroke:#000000; stroke-linecap:round; stroke-linejoin:round; stroke-width:4; stroke-opacity:1; fill:none\" points=\"2152.76,1153 2133.86,1153 \"/>\n",
       "<polyline clip-path=\"url(#clip600)\" style=\"stroke:#000000; stroke-linecap:round; stroke-linejoin:round; stroke-width:4; stroke-opacity:1; fill:none\" points=\"2152.76,1020.51 2133.86,1020.51 \"/>\n",
       "<path clip-path=\"url(#clip600)\" d=\"M1261.4 1668.75 Q1257.79 1668.75 1255.96 1672.31 Q1254.16 1675.86 1254.16 1682.99 Q1254.16 1690.09 1255.96 1693.66 Q1257.79 1697.2 1261.4 1697.2 Q1265.04 1697.2 1266.84 1693.66 Q1268.67 1690.09 1268.67 1682.99 Q1268.67 1675.86 1266.84 1672.31 Q1265.04 1668.75 1261.4 1668.75 M1261.4 1665.05 Q1267.21 1665.05 1270.27 1669.65 Q1273.35 1674.24 1273.35 1682.99 Q1273.35 1691.71 1270.27 1696.32 Q1267.21 1700.9 1261.4 1700.9 Q1255.59 1700.9 1252.51 1696.32 Q1249.46 1691.71 1249.46 1682.99 Q1249.46 1674.24 1252.51 1669.65 Q1255.59 1665.05 1261.4 1665.05 Z\" fill=\"#000000\" fill-rule=\"nonzero\" fill-opacity=\"1\" /><path clip-path=\"url(#clip600)\" d=\"M1281.57 1694.35 L1286.45 1694.35 L1286.45 1700.23 L1281.57 1700.23 L1281.57 1694.35 Z\" fill=\"#000000\" fill-rule=\"nonzero\" fill-opacity=\"1\" /><path clip-path=\"url(#clip600)\" d=\"M1297.45 1696.3 L1305.08 1696.3 L1305.08 1669.93 L1296.77 1671.6 L1296.77 1667.34 L1305.04 1665.67 L1309.71 1665.67 L1309.71 1696.3 L1317.35 1696.3 L1317.35 1700.23 L1297.45 1700.23 L1297.45 1696.3 Z\" fill=\"#000000\" fill-rule=\"nonzero\" fill-opacity=\"1\" /><path clip-path=\"url(#clip600)\" d=\"M1336.8 1668.75 Q1333.19 1668.75 1331.36 1672.31 Q1329.55 1675.86 1329.55 1682.99 Q1329.55 1690.09 1331.36 1693.66 Q1333.19 1697.2 1336.8 1697.2 Q1340.43 1697.2 1342.24 1693.66 Q1344.07 1690.09 1344.07 1682.99 Q1344.07 1675.86 1342.24 1672.31 Q1340.43 1668.75 1336.8 1668.75 M1336.8 1665.05 Q1342.61 1665.05 1345.66 1669.65 Q1348.74 1674.24 1348.74 1682.99 Q1348.74 1691.71 1345.66 1696.32 Q1342.61 1700.9 1336.8 1700.9 Q1330.99 1700.9 1327.91 1696.32 Q1324.85 1691.71 1324.85 1682.99 Q1324.85 1674.24 1327.91 1669.65 Q1330.99 1665.05 1336.8 1665.05 Z\" fill=\"#000000\" fill-rule=\"nonzero\" fill-opacity=\"1\" /><path clip-path=\"url(#clip600)\" d=\"M1262.63 1536.26 Q1259.02 1536.26 1257.19 1539.83 Q1255.39 1543.37 1255.39 1550.5 Q1255.39 1557.6 1257.19 1561.17 Q1259.02 1564.71 1262.63 1564.71 Q1266.26 1564.71 1268.07 1561.17 Q1269.9 1557.6 1269.9 1550.5 Q1269.9 1543.37 1268.07 1539.83 Q1266.26 1536.26 1262.63 1536.26 M1262.63 1532.56 Q1268.44 1532.56 1271.5 1537.16 Q1274.57 1541.75 1274.57 1550.5 Q1274.57 1559.22 1271.5 1563.83 Q1268.44 1568.41 1262.63 1568.41 Q1256.82 1568.41 1253.74 1563.83 Q1250.69 1559.22 1250.69 1550.5 Q1250.69 1541.75 1253.74 1537.16 Q1256.82 1532.56 1262.63 1532.56 Z\" fill=\"#000000\" fill-rule=\"nonzero\" fill-opacity=\"1\" /><path clip-path=\"url(#clip600)\" d=\"M1282.79 1561.86 L1287.68 1561.86 L1287.68 1567.74 L1282.79 1567.74 L1282.79 1561.86 Z\" fill=\"#000000\" fill-rule=\"nonzero\" fill-opacity=\"1\" /><path clip-path=\"url(#clip600)\" d=\"M1298.67 1563.81 L1306.31 1563.81 L1306.31 1537.44 L1298 1539.11 L1298 1534.85 L1306.26 1533.18 L1310.94 1533.18 L1310.94 1563.81 L1318.58 1563.81 L1318.58 1567.74 L1298.67 1567.74 L1298.67 1563.81 Z\" fill=\"#000000\" fill-rule=\"nonzero\" fill-opacity=\"1\" /><path clip-path=\"url(#clip600)\" d=\"M1328.83 1563.81 L1336.47 1563.81 L1336.47 1537.44 L1328.16 1539.11 L1328.16 1534.85 L1336.43 1533.18 L1341.1 1533.18 L1341.1 1563.81 L1348.74 1563.81 L1348.74 1567.74 L1328.83 1567.74 L1328.83 1563.81 Z\" fill=\"#000000\" fill-rule=\"nonzero\" fill-opacity=\"1\" /><path clip-path=\"url(#clip600)\" d=\"M1263 1403.77 Q1259.39 1403.77 1257.56 1407.34 Q1255.76 1410.88 1255.76 1418.01 Q1255.76 1425.12 1257.56 1428.68 Q1259.39 1432.22 1263 1432.22 Q1266.64 1432.22 1268.44 1428.68 Q1270.27 1425.12 1270.27 1418.01 Q1270.27 1410.88 1268.44 1407.34 Q1266.64 1403.77 1263 1403.77 M1263 1400.07 Q1268.81 1400.07 1271.87 1404.68 Q1274.95 1409.26 1274.95 1418.01 Q1274.95 1426.74 1271.87 1431.34 Q1268.81 1435.93 1263 1435.93 Q1257.19 1435.93 1254.11 1431.34 Q1251.06 1426.74 1251.06 1418.01 Q1251.06 1409.26 1254.11 1404.68 Q1257.19 1400.07 1263 1400.07 Z\" fill=\"#000000\" fill-rule=\"nonzero\" fill-opacity=\"1\" /><path clip-path=\"url(#clip600)\" d=\"M1283.16 1429.37 L1288.05 1429.37 L1288.05 1435.25 L1283.16 1435.25 L1283.16 1429.37 Z\" fill=\"#000000\" fill-rule=\"nonzero\" fill-opacity=\"1\" /><path clip-path=\"url(#clip600)\" d=\"M1299.04 1431.32 L1306.68 1431.32 L1306.68 1404.95 L1298.37 1406.62 L1298.37 1402.36 L1306.63 1400.69 L1311.31 1400.69 L1311.31 1431.32 L1318.95 1431.32 L1318.95 1435.25 L1299.04 1435.25 L1299.04 1431.32 Z\" fill=\"#000000\" fill-rule=\"nonzero\" fill-opacity=\"1\" /><path clip-path=\"url(#clip600)\" d=\"M1332.42 1431.32 L1348.74 1431.32 L1348.74 1435.25 L1326.8 1435.25 L1326.8 1431.32 Q1329.46 1428.56 1334.04 1423.93 Q1338.65 1419.28 1339.83 1417.94 Q1342.07 1415.42 1342.95 1413.68 Q1343.86 1411.92 1343.86 1410.23 Q1343.86 1407.48 1341.91 1405.74 Q1339.99 1404 1336.89 1404 Q1334.69 1404 1332.24 1404.77 Q1329.81 1405.53 1327.03 1407.08 L1327.03 1402.36 Q1329.85 1401.23 1332.31 1400.65 Q1334.76 1400.07 1336.8 1400.07 Q1342.17 1400.07 1345.36 1402.75 Q1348.56 1405.44 1348.56 1409.93 Q1348.56 1412.06 1347.75 1413.98 Q1346.96 1415.88 1344.85 1418.47 Q1344.27 1419.14 1341.17 1422.36 Q1338.07 1425.56 1332.42 1431.32 Z\" fill=\"#000000\" fill-rule=\"nonzero\" fill-opacity=\"1\" /><path clip-path=\"url(#clip600)\" d=\"M1262.05 1271.28 Q1258.44 1271.28 1256.61 1274.85 Q1254.81 1278.39 1254.81 1285.52 Q1254.81 1292.63 1256.61 1296.19 Q1258.44 1299.73 1262.05 1299.73 Q1265.69 1299.73 1267.49 1296.19 Q1269.32 1292.63 1269.32 1285.52 Q1269.32 1278.39 1267.49 1274.85 Q1265.69 1271.28 1262.05 1271.28 M1262.05 1267.58 Q1267.86 1267.58 1270.92 1272.19 Q1274 1276.77 1274 1285.52 Q1274 1294.25 1270.92 1298.85 Q1267.86 1303.44 1262.05 1303.44 Q1256.24 1303.44 1253.16 1298.85 Q1250.11 1294.25 1250.11 1285.52 Q1250.11 1276.77 1253.16 1272.19 Q1256.24 1267.58 1262.05 1267.58 Z\" fill=\"#000000\" fill-rule=\"nonzero\" fill-opacity=\"1\" /><path clip-path=\"url(#clip600)\" d=\"M1282.21 1296.89 L1287.1 1296.89 L1287.1 1302.77 L1282.21 1302.77 L1282.21 1296.89 Z\" fill=\"#000000\" fill-rule=\"nonzero\" fill-opacity=\"1\" /><path clip-path=\"url(#clip600)\" d=\"M1298.09 1298.83 L1305.73 1298.83 L1305.73 1272.47 L1297.42 1274.13 L1297.42 1269.87 L1305.69 1268.21 L1310.36 1268.21 L1310.36 1298.83 L1318 1298.83 L1318 1302.77 L1298.09 1302.77 L1298.09 1298.83 Z\" fill=\"#000000\" fill-rule=\"nonzero\" fill-opacity=\"1\" /><path clip-path=\"url(#clip600)\" d=\"M1341.61 1284.13 Q1344.97 1284.85 1346.84 1287.12 Q1348.74 1289.39 1348.74 1292.72 Q1348.74 1297.84 1345.22 1300.64 Q1341.7 1303.44 1335.22 1303.44 Q1333.05 1303.44 1330.73 1303 Q1328.44 1302.58 1325.99 1301.72 L1325.99 1297.21 Q1327.93 1298.34 1330.25 1298.92 Q1332.56 1299.5 1335.08 1299.5 Q1339.48 1299.5 1341.77 1297.77 Q1344.09 1296.03 1344.09 1292.72 Q1344.09 1289.66 1341.94 1287.95 Q1339.81 1286.22 1335.99 1286.22 L1331.96 1286.22 L1331.96 1282.37 L1336.17 1282.37 Q1339.62 1282.37 1341.45 1281.01 Q1343.28 1279.62 1343.28 1277.03 Q1343.28 1274.36 1341.38 1272.95 Q1339.51 1271.52 1335.99 1271.52 Q1334.07 1271.52 1331.87 1271.93 Q1329.67 1272.35 1327.03 1273.23 L1327.03 1269.06 Q1329.69 1268.32 1332.01 1267.95 Q1334.34 1267.58 1336.4 1267.58 Q1341.73 1267.58 1344.83 1270.01 Q1347.93 1272.42 1347.93 1276.54 Q1347.93 1279.41 1346.29 1281.4 Q1344.64 1283.37 1341.61 1284.13 Z\" fill=\"#000000\" fill-rule=\"nonzero\" fill-opacity=\"1\" /><path clip-path=\"url(#clip600)\" d=\"M1260.92 1138.8 Q1257.31 1138.8 1255.48 1142.36 Q1253.67 1145.9 1253.67 1153.03 Q1253.67 1160.14 1255.48 1163.7 Q1257.31 1167.25 1260.92 1167.25 Q1264.55 1167.25 1266.36 1163.7 Q1268.19 1160.14 1268.19 1153.03 Q1268.19 1145.9 1266.36 1142.36 Q1264.55 1138.8 1260.92 1138.8 M1260.92 1135.09 Q1266.73 1135.09 1269.78 1139.7 Q1272.86 1144.28 1272.86 1153.03 Q1272.86 1161.76 1269.78 1166.37 Q1266.73 1170.95 1260.92 1170.95 Q1255.11 1170.95 1252.03 1166.37 Q1248.97 1161.76 1248.97 1153.03 Q1248.97 1144.28 1252.03 1139.7 Q1255.11 1135.09 1260.92 1135.09 Z\" fill=\"#000000\" fill-rule=\"nonzero\" fill-opacity=\"1\" /><path clip-path=\"url(#clip600)\" d=\"M1281.08 1164.4 L1285.96 1164.4 L1285.96 1170.28 L1281.08 1170.28 L1281.08 1164.4 Z\" fill=\"#000000\" fill-rule=\"nonzero\" fill-opacity=\"1\" /><path clip-path=\"url(#clip600)\" d=\"M1296.96 1166.34 L1304.6 1166.34 L1304.6 1139.98 L1296.29 1141.64 L1296.29 1137.38 L1304.55 1135.72 L1309.23 1135.72 L1309.23 1166.34 L1316.87 1166.34 L1316.87 1170.28 L1296.96 1170.28 L1296.96 1166.34 Z\" fill=\"#000000\" fill-rule=\"nonzero\" fill-opacity=\"1\" /><path clip-path=\"url(#clip600)\" d=\"M1339.16 1139.79 L1327.35 1158.24 L1339.16 1158.24 L1339.16 1139.79 M1337.93 1135.72 L1343.81 1135.72 L1343.81 1158.24 L1348.74 1158.24 L1348.74 1162.13 L1343.81 1162.13 L1343.81 1170.28 L1339.16 1170.28 L1339.16 1162.13 L1323.56 1162.13 L1323.56 1157.62 L1337.93 1135.72 Z\" fill=\"#000000\" fill-rule=\"nonzero\" fill-opacity=\"1\" /><path clip-path=\"url(#clip600)\" d=\"M1262.4 1006.31 Q1258.79 1006.31 1256.96 1009.87 Q1255.15 1013.41 1255.15 1020.54 Q1255.15 1027.65 1256.96 1031.22 Q1258.79 1034.76 1262.4 1034.76 Q1266.03 1034.76 1267.84 1031.22 Q1269.67 1027.65 1269.67 1020.54 Q1269.67 1013.41 1267.84 1009.87 Q1266.03 1006.31 1262.4 1006.31 M1262.4 1002.6 Q1268.21 1002.6 1271.26 1007.21 Q1274.34 1011.79 1274.34 1020.54 Q1274.34 1029.27 1271.26 1033.88 Q1268.21 1038.46 1262.4 1038.46 Q1256.59 1038.46 1253.51 1033.88 Q1250.45 1029.27 1250.45 1020.54 Q1250.45 1011.79 1253.51 1007.21 Q1256.59 1002.6 1262.4 1002.6 Z\" fill=\"#000000\" fill-rule=\"nonzero\" fill-opacity=\"1\" /><path clip-path=\"url(#clip600)\" d=\"M1282.56 1031.91 L1287.45 1031.91 L1287.45 1037.79 L1282.56 1037.79 L1282.56 1031.91 Z\" fill=\"#000000\" fill-rule=\"nonzero\" fill-opacity=\"1\" /><path clip-path=\"url(#clip600)\" d=\"M1298.44 1033.85 L1306.08 1033.85 L1306.08 1007.49 L1297.77 1009.16 L1297.77 1004.9 L1306.03 1003.23 L1310.71 1003.23 L1310.71 1033.85 L1318.35 1033.85 L1318.35 1037.79 L1298.44 1037.79 L1298.44 1033.85 Z\" fill=\"#000000\" fill-rule=\"nonzero\" fill-opacity=\"1\" /><path clip-path=\"url(#clip600)\" d=\"M1327.84 1003.23 L1346.19 1003.23 L1346.19 1007.16 L1332.12 1007.16 L1332.12 1015.64 Q1333.14 1015.29 1334.16 1015.13 Q1335.18 1014.94 1336.19 1014.94 Q1341.98 1014.94 1345.36 1018.11 Q1348.74 1021.29 1348.74 1026.7 Q1348.74 1032.28 1345.27 1035.38 Q1341.8 1038.46 1335.48 1038.46 Q1333.3 1038.46 1331.03 1038.09 Q1328.79 1037.72 1326.38 1036.98 L1326.38 1032.28 Q1328.46 1033.41 1330.69 1033.97 Q1332.91 1034.53 1335.38 1034.53 Q1339.39 1034.53 1341.73 1032.42 Q1344.07 1030.31 1344.07 1026.7 Q1344.07 1023.09 1341.73 1020.98 Q1339.39 1018.88 1335.38 1018.88 Q1333.51 1018.88 1331.63 1019.29 Q1329.78 1019.71 1327.84 1020.59 L1327.84 1003.23 Z\" fill=\"#000000\" fill-rule=\"nonzero\" fill-opacity=\"1\" /><path clip-path=\"url(#clip600)\" d=\"M1179.02 1565.09 L1196.43 1565.09 L1196.43 1554.78 Q1196.43 1549.59 1194.3 1547.11 Q1192.14 1544.6 1187.71 1544.6 Q1183.26 1544.6 1181.16 1547.11 Q1179.02 1549.59 1179.02 1554.78 L1179.02 1565.09 M1159.48 1565.09 L1173.8 1565.09 L1173.8 1555.58 Q1173.8 1550.87 1172.05 1548.57 Q1170.27 1546.25 1166.64 1546.25 Q1163.05 1546.25 1161.26 1548.57 Q1159.48 1550.87 1159.48 1555.58 L1159.48 1565.09 M1154.2 1571.52 L1154.2 1555.1 Q1154.2 1547.75 1157.25 1543.77 Q1160.31 1539.79 1165.94 1539.79 Q1170.3 1539.79 1172.88 1541.83 Q1175.46 1543.86 1176.1 1547.81 Q1177.11 1543.07 1180.36 1540.46 Q1183.57 1537.82 1188.41 1537.82 Q1194.78 1537.82 1198.25 1542.15 Q1201.72 1546.47 1201.72 1554.46 L1201.72 1571.52 L1154.2 1571.52 Z\" fill=\"#000000\" fill-rule=\"nonzero\" fill-opacity=\"1\" /><path clip-path=\"url(#clip600)\" d=\"M1171.54 1506.4 Q1170.97 1507.39 1170.72 1508.57 Q1170.43 1509.71 1170.43 1511.11 Q1170.43 1516.08 1173.68 1518.75 Q1176.89 1521.39 1182.94 1521.39 L1201.72 1521.39 L1201.72 1527.28 L1166.07 1527.28 L1166.07 1521.39 L1171.61 1521.39 Q1168.36 1519.55 1166.8 1516.59 Q1165.21 1513.63 1165.21 1509.39 Q1165.21 1508.79 1165.31 1508.06 Q1165.37 1507.33 1165.53 1506.43 L1171.54 1506.4 Z\" fill=\"#000000\" fill-rule=\"nonzero\" fill-opacity=\"1\" /><path clip-path=\"url(#clip600)\" d=\"M1166.07 1500.26 L1166.07 1494.4 L1201.72 1494.4 L1201.72 1500.26 L1166.07 1500.26 M1152.19 1500.26 L1152.19 1494.4 L1159.61 1494.4 L1159.61 1500.26 L1152.19 1500.26 Z\" fill=\"#000000\" fill-rule=\"nonzero\" fill-opacity=\"1\" /><path clip-path=\"url(#clip600)\" d=\"M1182.43 1451.66 L1185.29 1451.66 L1185.29 1478.58 Q1191.34 1478.2 1194.52 1474.96 Q1197.67 1471.68 1197.67 1465.85 Q1197.67 1462.48 1196.85 1459.33 Q1196.02 1456.14 1194.36 1453.03 L1199.9 1453.03 Q1201.24 1456.18 1201.94 1459.49 Q1202.64 1462.8 1202.64 1466.2 Q1202.64 1474.73 1197.67 1479.73 Q1192.71 1484.7 1184.24 1484.7 Q1175.49 1484.7 1170.37 1479.98 Q1165.21 1475.24 1165.21 1467.22 Q1165.21 1460.03 1169.86 1455.86 Q1174.47 1451.66 1182.43 1451.66 M1180.71 1457.51 Q1175.9 1457.58 1173.04 1460.22 Q1170.18 1462.83 1170.18 1467.16 Q1170.18 1472.06 1172.94 1475.02 Q1175.71 1477.95 1180.74 1478.39 L1180.71 1457.51 Z\" fill=\"#000000\" fill-rule=\"nonzero\" fill-opacity=\"1\" /><path clip-path=\"url(#clip600)\" d=\"M1171.54 1421.39 Q1170.97 1422.37 1170.72 1423.55 Q1170.43 1424.7 1170.43 1426.1 Q1170.43 1431.06 1173.68 1433.74 Q1176.89 1436.38 1182.94 1436.38 L1201.72 1436.38 L1201.72 1442.27 L1166.07 1442.27 L1166.07 1436.38 L1171.61 1436.38 Q1168.36 1434.53 1166.8 1431.57 Q1165.21 1428.61 1165.21 1424.38 Q1165.21 1423.78 1165.31 1423.04 Q1165.37 1422.31 1165.53 1421.42 L1171.54 1421.39 Z\" fill=\"#000000\" fill-rule=\"nonzero\" fill-opacity=\"1\" /><path clip-path=\"url(#clip600)\" d=\"M1154.2 1414.99 L1154.2 1408.56 L1196.31 1408.56 L1196.31 1385.42 L1201.72 1385.42 L1201.72 1414.99 L1154.2 1414.99 Z\" fill=\"#000000\" fill-rule=\"nonzero\" fill-opacity=\"1\" /><path clip-path=\"url(#clip600)\" d=\"M1170.18 1366.26 Q1170.18 1370.97 1173.87 1373.71 Q1177.53 1376.45 1183.92 1376.45 Q1190.32 1376.45 1194.01 1373.74 Q1197.67 1371 1197.67 1366.26 Q1197.67 1361.58 1193.98 1358.85 Q1190.29 1356.11 1183.92 1356.11 Q1177.59 1356.11 1173.9 1358.85 Q1170.18 1361.58 1170.18 1366.26 M1165.21 1366.26 Q1165.21 1358.62 1170.18 1354.26 Q1175.14 1349.9 1183.92 1349.9 Q1192.68 1349.9 1197.67 1354.26 Q1202.64 1358.62 1202.64 1366.26 Q1202.64 1373.93 1197.67 1378.29 Q1192.68 1382.62 1183.92 1382.62 Q1175.14 1382.62 1170.18 1378.29 Q1165.21 1373.93 1165.21 1366.26 Z\" fill=\"#000000\" fill-rule=\"nonzero\" fill-opacity=\"1\" /><path clip-path=\"url(#clip600)\" d=\"M1167.12 1317.47 L1172.66 1317.47 Q1171.38 1319.95 1170.75 1322.62 Q1170.11 1325.3 1170.11 1328.16 Q1170.11 1332.52 1171.45 1334.72 Q1172.78 1336.88 1175.46 1336.88 Q1177.5 1336.88 1178.67 1335.32 Q1179.82 1333.76 1180.87 1329.05 L1181.31 1327.05 Q1182.65 1320.81 1185.1 1318.2 Q1187.52 1315.56 1191.88 1315.56 Q1196.85 1315.56 1199.74 1319.51 Q1202.64 1323.42 1202.64 1330.29 Q1202.64 1333.16 1202.07 1336.28 Q1201.53 1339.37 1200.41 1342.8 L1194.36 1342.8 Q1196.05 1339.56 1196.91 1336.41 Q1197.74 1333.25 1197.74 1330.17 Q1197.74 1326.03 1196.34 1323.8 Q1194.91 1321.57 1192.33 1321.57 Q1189.94 1321.57 1188.67 1323.2 Q1187.39 1324.79 1186.22 1330.23 L1185.74 1332.27 Q1184.59 1337.71 1182.24 1340.13 Q1179.85 1342.55 1175.71 1342.55 Q1170.68 1342.55 1167.95 1338.98 Q1165.21 1335.42 1165.21 1328.86 Q1165.21 1325.62 1165.69 1322.75 Q1166.16 1319.89 1167.12 1317.47 Z\" fill=\"#000000\" fill-rule=\"nonzero\" fill-opacity=\"1\" /><path clip-path=\"url(#clip600)\" d=\"M1167.12 1283.51 L1172.66 1283.51 Q1171.38 1285.99 1170.75 1288.66 Q1170.11 1291.34 1170.11 1294.2 Q1170.11 1298.56 1171.45 1300.76 Q1172.78 1302.92 1175.46 1302.92 Q1177.5 1302.92 1178.67 1301.36 Q1179.82 1299.8 1180.87 1295.09 L1181.31 1293.09 Q1182.65 1286.85 1185.1 1284.24 Q1187.52 1281.6 1191.88 1281.6 Q1196.85 1281.6 1199.74 1285.54 Q1202.64 1289.46 1202.64 1296.33 Q1202.64 1299.2 1202.07 1302.32 Q1201.53 1305.4 1200.41 1308.84 L1194.36 1308.84 Q1196.05 1305.6 1196.91 1302.44 Q1197.74 1299.29 1197.74 1296.21 Q1197.74 1292.07 1196.34 1289.84 Q1194.91 1287.61 1192.33 1287.61 Q1189.94 1287.61 1188.67 1289.24 Q1187.39 1290.83 1186.22 1296.27 L1185.74 1298.31 Q1184.59 1303.75 1182.24 1306.17 Q1179.85 1308.59 1175.71 1308.59 Q1170.68 1308.59 1167.95 1305.02 Q1165.21 1301.46 1165.21 1294.9 Q1165.21 1291.66 1165.69 1288.79 Q1166.16 1285.93 1167.12 1283.51 Z\" fill=\"#000000\" fill-rule=\"nonzero\" fill-opacity=\"1\" /><path clip-path=\"url(#clip600)\" d=\"M1152.26 1258.2 Q1159.58 1262.47 1166.74 1264.54 Q1173.9 1266.61 1181.25 1266.61 Q1188.6 1266.61 1195.83 1264.54 Q1203.02 1262.44 1210.31 1258.2 L1210.31 1263.3 Q1202.83 1268.07 1195.61 1270.46 Q1188.38 1272.81 1181.25 1272.81 Q1174.15 1272.81 1166.96 1270.46 Q1159.77 1268.1 1152.26 1263.3 L1152.26 1258.2 Z\" fill=\"#000000\" fill-rule=\"nonzero\" fill-opacity=\"1\" /><path clip-path=\"url(#clip600)\" d=\"M1152.26 1247.76 L1152.26 1242.67 Q1159.77 1237.9 1166.96 1235.54 Q1174.15 1233.15 1181.25 1233.15 Q1188.38 1233.15 1195.61 1235.54 Q1202.83 1237.9 1210.31 1242.67 L1210.31 1247.76 Q1203.02 1243.53 1195.83 1241.46 Q1188.6 1239.36 1181.25 1239.36 Q1173.9 1239.36 1166.74 1241.46 Q1159.58 1243.53 1152.26 1247.76 Z\" fill=\"#000000\" fill-rule=\"nonzero\" fill-opacity=\"1\" /><circle clip-path=\"url(#clip605)\" cx=\"1646.02\" cy=\"1704.76\" r=\"14.4\" fill=\"#009af9\" fill-rule=\"evenodd\" fill-opacity=\"1\" stroke=\"#000000\" stroke-opacity=\"1\" stroke-width=\"4\"/>\n",
       "<circle clip-path=\"url(#clip605)\" cx=\"1403.56\" cy=\"1411.25\" r=\"14.4\" fill=\"#009af9\" fill-rule=\"evenodd\" fill-opacity=\"1\" stroke=\"#000000\" stroke-opacity=\"1\" stroke-width=\"4\"/>\n",
       "<circle clip-path=\"url(#clip605)\" cx=\"2130.93\" cy=\"1680.65\" r=\"14.4\" fill=\"#009af9\" fill-rule=\"evenodd\" fill-opacity=\"1\" stroke=\"#000000\" stroke-opacity=\"1\" stroke-width=\"4\"/>\n",
       "<circle clip-path=\"url(#clip605)\" cx=\"2130.93\" cy=\"1037.25\" r=\"14.4\" fill=\"#009af9\" fill-rule=\"evenodd\" fill-opacity=\"1\" stroke=\"#000000\" stroke-opacity=\"1\" stroke-width=\"4\"/>\n",
       "<circle clip-path=\"url(#clip605)\" cx=\"1403.56\" cy=\"1350.59\" r=\"14.4\" fill=\"#009af9\" fill-rule=\"evenodd\" fill-opacity=\"1\" stroke=\"#000000\" stroke-opacity=\"1\" stroke-width=\"4\"/>\n",
       "<circle clip-path=\"url(#clip605)\" cx=\"2130.93\" cy=\"1522.45\" r=\"14.4\" fill=\"#009af9\" fill-rule=\"evenodd\" fill-opacity=\"1\" stroke=\"#000000\" stroke-opacity=\"1\" stroke-width=\"4\"/>\n",
       "<circle clip-path=\"url(#clip605)\" cx=\"1403.56\" cy=\"1409.36\" r=\"14.4\" fill=\"#009af9\" fill-rule=\"evenodd\" fill-opacity=\"1\" stroke=\"#000000\" stroke-opacity=\"1\" stroke-width=\"4\"/>\n",
       "<circle clip-path=\"url(#clip605)\" cx=\"1403.56\" cy=\"1427.22\" r=\"14.4\" fill=\"#009af9\" fill-rule=\"evenodd\" fill-opacity=\"1\" stroke=\"#000000\" stroke-opacity=\"1\" stroke-width=\"4\"/>\n",
       "<circle clip-path=\"url(#clip605)\" cx=\"1888.48\" cy=\"1528.43\" r=\"14.4\" fill=\"#009af9\" fill-rule=\"evenodd\" fill-opacity=\"1\" stroke=\"#000000\" stroke-opacity=\"1\" stroke-width=\"4\"/>\n",
       "<circle clip-path=\"url(#clip605)\" cx=\"1403.56\" cy=\"1367.45\" r=\"14.4\" fill=\"#009af9\" fill-rule=\"evenodd\" fill-opacity=\"1\" stroke=\"#000000\" stroke-opacity=\"1\" stroke-width=\"4\"/>\n",
       "<circle clip-path=\"url(#clip605)\" cx=\"1888.48\" cy=\"1197.95\" r=\"14.4\" fill=\"#009af9\" fill-rule=\"evenodd\" fill-opacity=\"1\" stroke=\"#000000\" stroke-opacity=\"1\" stroke-width=\"4\"/>\n",
       "<circle clip-path=\"url(#clip605)\" cx=\"2130.93\" cy=\"1619.27\" r=\"14.4\" fill=\"#009af9\" fill-rule=\"evenodd\" fill-opacity=\"1\" stroke=\"#000000\" stroke-opacity=\"1\" stroke-width=\"4\"/>\n",
       "<circle clip-path=\"url(#clip605)\" cx=\"1403.56\" cy=\"1433.43\" r=\"14.4\" fill=\"#009af9\" fill-rule=\"evenodd\" fill-opacity=\"1\" stroke=\"#000000\" stroke-opacity=\"1\" stroke-width=\"4\"/>\n",
       "<circle clip-path=\"url(#clip605)\" cx=\"2130.93\" cy=\"1638.14\" r=\"14.4\" fill=\"#009af9\" fill-rule=\"evenodd\" fill-opacity=\"1\" stroke=\"#000000\" stroke-opacity=\"1\" stroke-width=\"4\"/>\n",
       "<circle clip-path=\"url(#clip605)\" cx=\"2130.93\" cy=\"1369.68\" r=\"14.4\" fill=\"#009af9\" fill-rule=\"evenodd\" fill-opacity=\"1\" stroke=\"#000000\" stroke-opacity=\"1\" stroke-width=\"4\"/>\n",
       "<circle clip-path=\"url(#clip605)\" cx=\"2130.93\" cy=\"1460.98\" r=\"14.4\" fill=\"#009af9\" fill-rule=\"evenodd\" fill-opacity=\"1\" stroke=\"#000000\" stroke-opacity=\"1\" stroke-width=\"4\"/>\n",
       "<circle clip-path=\"url(#clip605)\" cx=\"1403.56\" cy=\"1427.95\" r=\"14.4\" fill=\"#009af9\" fill-rule=\"evenodd\" fill-opacity=\"1\" stroke=\"#000000\" stroke-opacity=\"1\" stroke-width=\"4\"/>\n",
       "<circle clip-path=\"url(#clip605)\" cx=\"2130.93\" cy=\"1651.17\" r=\"14.4\" fill=\"#009af9\" fill-rule=\"evenodd\" fill-opacity=\"1\" stroke=\"#000000\" stroke-opacity=\"1\" stroke-width=\"4\"/>\n",
       "<circle clip-path=\"url(#clip605)\" cx=\"1646.02\" cy=\"1440.3\" r=\"14.4\" fill=\"#009af9\" fill-rule=\"evenodd\" fill-opacity=\"1\" stroke=\"#000000\" stroke-opacity=\"1\" stroke-width=\"4\"/>\n",
       "<circle clip-path=\"url(#clip605)\" cx=\"1403.56\" cy=\"1397.38\" r=\"14.4\" fill=\"#009af9\" fill-rule=\"evenodd\" fill-opacity=\"1\" stroke=\"#000000\" stroke-opacity=\"1\" stroke-width=\"4\"/>\n",
       "<circle clip-path=\"url(#clip605)\" cx=\"1646.02\" cy=\"1580.71\" r=\"14.4\" fill=\"#009af9\" fill-rule=\"evenodd\" fill-opacity=\"1\" stroke=\"#000000\" stroke-opacity=\"1\" stroke-width=\"4\"/>\n",
       "<circle clip-path=\"url(#clip605)\" cx=\"1888.48\" cy=\"1721.13\" r=\"14.4\" fill=\"#009af9\" fill-rule=\"evenodd\" fill-opacity=\"1\" stroke=\"#000000\" stroke-opacity=\"1\" stroke-width=\"4\"/>\n",
       "<circle clip-path=\"url(#clip605)\" cx=\"1888.48\" cy=\"1767.43\" r=\"14.4\" fill=\"#009af9\" fill-rule=\"evenodd\" fill-opacity=\"1\" stroke=\"#000000\" stroke-opacity=\"1\" stroke-width=\"4\"/>\n",
       "<circle clip-path=\"url(#clip605)\" cx=\"1888.48\" cy=\"1423.01\" r=\"14.4\" fill=\"#009af9\" fill-rule=\"evenodd\" fill-opacity=\"1\" stroke=\"#000000\" stroke-opacity=\"1\" stroke-width=\"4\"/>\n",
       "<circle clip-path=\"url(#clip605)\" cx=\"2130.93\" cy=\"1655.57\" r=\"14.4\" fill=\"#009af9\" fill-rule=\"evenodd\" fill-opacity=\"1\" stroke=\"#000000\" stroke-opacity=\"1\" stroke-width=\"4\"/>\n",
       "<circle clip-path=\"url(#clip605)\" cx=\"2130.93\" cy=\"1568.89\" r=\"14.4\" fill=\"#009af9\" fill-rule=\"evenodd\" fill-opacity=\"1\" stroke=\"#000000\" stroke-opacity=\"1\" stroke-width=\"4\"/>\n",
       "<circle clip-path=\"url(#clip605)\" cx=\"1646.02\" cy=\"1413.92\" r=\"14.4\" fill=\"#009af9\" fill-rule=\"evenodd\" fill-opacity=\"1\" stroke=\"#000000\" stroke-opacity=\"1\" stroke-width=\"4\"/>\n",
       "<circle clip-path=\"url(#clip605)\" cx=\"1646.02\" cy=\"1673.68\" r=\"14.4\" fill=\"#009af9\" fill-rule=\"evenodd\" fill-opacity=\"1\" stroke=\"#000000\" stroke-opacity=\"1\" stroke-width=\"4\"/>\n",
       "<circle clip-path=\"url(#clip605)\" cx=\"1646.02\" cy=\"1695.56\" r=\"14.4\" fill=\"#009af9\" fill-rule=\"evenodd\" fill-opacity=\"1\" stroke=\"#000000\" stroke-opacity=\"1\" stroke-width=\"4\"/>\n",
       "<circle clip-path=\"url(#clip605)\" cx=\"1888.48\" cy=\"1732.34\" r=\"14.4\" fill=\"#009af9\" fill-rule=\"evenodd\" fill-opacity=\"1\" stroke=\"#000000\" stroke-opacity=\"1\" stroke-width=\"4\"/>\n",
       "<circle clip-path=\"url(#clip605)\" cx=\"1646.02\" cy=\"1647.9\" r=\"14.4\" fill=\"#009af9\" fill-rule=\"evenodd\" fill-opacity=\"1\" stroke=\"#000000\" stroke-opacity=\"1\" stroke-width=\"4\"/>\n",
       "<circle clip-path=\"url(#clip605)\" cx=\"1646.02\" cy=\"1394.55\" r=\"14.4\" fill=\"#009af9\" fill-rule=\"evenodd\" fill-opacity=\"1\" stroke=\"#000000\" stroke-opacity=\"1\" stroke-width=\"4\"/>\n",
       "<circle clip-path=\"url(#clip605)\" cx=\"1403.56\" cy=\"1406.02\" r=\"14.4\" fill=\"#009af9\" fill-rule=\"evenodd\" fill-opacity=\"1\" stroke=\"#000000\" stroke-opacity=\"1\" stroke-width=\"4\"/>\n",
       "<circle clip-path=\"url(#clip605)\" cx=\"1888.48\" cy=\"1602.7\" r=\"14.4\" fill=\"#009af9\" fill-rule=\"evenodd\" fill-opacity=\"1\" stroke=\"#000000\" stroke-opacity=\"1\" stroke-width=\"4\"/>\n",
       "<circle clip-path=\"url(#clip605)\" cx=\"1888.48\" cy=\"1468.83\" r=\"14.4\" fill=\"#009af9\" fill-rule=\"evenodd\" fill-opacity=\"1\" stroke=\"#000000\" stroke-opacity=\"1\" stroke-width=\"4\"/>\n",
       "<circle clip-path=\"url(#clip605)\" cx=\"1646.02\" cy=\"1708.45\" r=\"14.4\" fill=\"#009af9\" fill-rule=\"evenodd\" fill-opacity=\"1\" stroke=\"#000000\" stroke-opacity=\"1\" stroke-width=\"4\"/>\n",
       "<circle clip-path=\"url(#clip605)\" cx=\"1888.48\" cy=\"1592.23\" r=\"14.4\" fill=\"#009af9\" fill-rule=\"evenodd\" fill-opacity=\"1\" stroke=\"#000000\" stroke-opacity=\"1\" stroke-width=\"4\"/>\n",
       "<circle clip-path=\"url(#clip605)\" cx=\"2130.93\" cy=\"1238.61\" r=\"14.4\" fill=\"#009af9\" fill-rule=\"evenodd\" fill-opacity=\"1\" stroke=\"#000000\" stroke-opacity=\"1\" stroke-width=\"4\"/>\n",
       "<circle clip-path=\"url(#clip605)\" cx=\"1888.48\" cy=\"1676.02\" r=\"14.4\" fill=\"#009af9\" fill-rule=\"evenodd\" fill-opacity=\"1\" stroke=\"#000000\" stroke-opacity=\"1\" stroke-width=\"4\"/>\n",
       "<circle clip-path=\"url(#clip605)\" cx=\"1403.56\" cy=\"1429.94\" r=\"14.4\" fill=\"#009af9\" fill-rule=\"evenodd\" fill-opacity=\"1\" stroke=\"#000000\" stroke-opacity=\"1\" stroke-width=\"4\"/>\n",
       "<circle clip-path=\"url(#clip605)\" cx=\"1403.56\" cy=\"1349.85\" r=\"14.4\" fill=\"#009af9\" fill-rule=\"evenodd\" fill-opacity=\"1\" stroke=\"#000000\" stroke-opacity=\"1\" stroke-width=\"4\"/>\n",
       "<circle clip-path=\"url(#clip605)\" cx=\"1888.48\" cy=\"1328.8\" r=\"14.4\" fill=\"#009af9\" fill-rule=\"evenodd\" fill-opacity=\"1\" stroke=\"#000000\" stroke-opacity=\"1\" stroke-width=\"4\"/>\n",
       "<circle clip-path=\"url(#clip605)\" cx=\"1403.56\" cy=\"1464.17\" r=\"14.4\" fill=\"#009af9\" fill-rule=\"evenodd\" fill-opacity=\"1\" stroke=\"#000000\" stroke-opacity=\"1\" stroke-width=\"4\"/>\n",
       "<circle clip-path=\"url(#clip605)\" cx=\"1646.02\" cy=\"1594.93\" r=\"14.4\" fill=\"#009af9\" fill-rule=\"evenodd\" fill-opacity=\"1\" stroke=\"#000000\" stroke-opacity=\"1\" stroke-width=\"4\"/>\n",
       "<circle clip-path=\"url(#clip605)\" cx=\"1888.48\" cy=\"1624.18\" r=\"14.4\" fill=\"#009af9\" fill-rule=\"evenodd\" fill-opacity=\"1\" stroke=\"#000000\" stroke-opacity=\"1\" stroke-width=\"4\"/>\n",
       "<circle clip-path=\"url(#clip605)\" cx=\"2130.93\" cy=\"1558.06\" r=\"14.4\" fill=\"#009af9\" fill-rule=\"evenodd\" fill-opacity=\"1\" stroke=\"#000000\" stroke-opacity=\"1\" stroke-width=\"4\"/>\n",
       "<circle clip-path=\"url(#clip605)\" cx=\"1646.02\" cy=\"1497.82\" r=\"14.4\" fill=\"#009af9\" fill-rule=\"evenodd\" fill-opacity=\"1\" stroke=\"#000000\" stroke-opacity=\"1\" stroke-width=\"4\"/>\n",
       "<circle clip-path=\"url(#clip605)\" cx=\"1646.02\" cy=\"1637.27\" r=\"14.4\" fill=\"#009af9\" fill-rule=\"evenodd\" fill-opacity=\"1\" stroke=\"#000000\" stroke-opacity=\"1\" stroke-width=\"4\"/>\n",
       "</svg>\n"
      ],
      "text/html": [
       "<?xml version=\"1.0\" encoding=\"utf-8\"?>\n",
       "<svg xmlns=\"http://www.w3.org/2000/svg\" xmlns:xlink=\"http://www.w3.org/1999/xlink\" width=\"550\" height=\"500\" viewBox=\"0 0 2200 2000\">\n",
       "<defs>\n",
       "  <clipPath id=\"clip650\">\n",
       "    <rect x=\"0\" y=\"0\" width=\"2200\" height=\"2000\"/>\n",
       "  </clipPath>\n",
       "</defs>\n",
       "<path clip-path=\"url(#clip650)\" d=\"M0 2000 L2200 2000 L2200 0 L0 0  Z\" fill=\"#ffffff\" fill-rule=\"evenodd\" fill-opacity=\"1\"/>\n",
       "<defs>\n",
       "  <clipPath id=\"clip651\">\n",
       "    <rect x=\"440\" y=\"20\" width=\"1541\" height=\"1541\"/>\n",
       "  </clipPath>\n",
       "</defs>\n",
       "<path clip-path=\"url(#clip650)\" d=\"M298.174 821.232 L1069.19 821.232 L1069.19 47.2441 L298.174 47.2441  Z\" fill=\"#ffffff\" fill-rule=\"evenodd\" fill-opacity=\"1\"/>\n",
       "<defs>\n",
       "  <clipPath id=\"clip652\">\n",
       "    <rect x=\"298\" y=\"47\" width=\"772\" height=\"775\"/>\n",
       "  </clipPath>\n",
       "</defs>\n",
       "<polyline clip-path=\"url(#clip652)\" style=\"stroke:#000000; stroke-linecap:round; stroke-linejoin:round; stroke-width:2; stroke-opacity:0.1; fill:none\" points=\"564.112,821.232 564.112,47.2441 \"/>\n",
       "<polyline clip-path=\"url(#clip652)\" style=\"stroke:#000000; stroke-linecap:round; stroke-linejoin:round; stroke-width:2; stroke-opacity:0.1; fill:none\" points=\"1047.37,821.232 1047.37,47.2441 \"/>\n",
       "<polyline clip-path=\"url(#clip652)\" style=\"stroke:#000000; stroke-linecap:round; stroke-linejoin:round; stroke-width:2; stroke-opacity:0.1; fill:none\" points=\"564.112,821.232 564.112,47.2441 \"/>\n",
       "<polyline clip-path=\"url(#clip652)\" style=\"stroke:#000000; stroke-linecap:round; stroke-linejoin:round; stroke-width:2; stroke-opacity:0.1; fill:none\" points=\"1047.37,821.232 1047.37,47.2441 \"/>\n",
       "<polyline clip-path=\"url(#clip652)\" style=\"stroke:#000000; stroke-linecap:round; stroke-linejoin:round; stroke-width:2; stroke-opacity:0.1; fill:none\" points=\"298.174,714.85 1069.19,714.85 \"/>\n",
       "<polyline clip-path=\"url(#clip652)\" style=\"stroke:#000000; stroke-linecap:round; stroke-linejoin:round; stroke-width:2; stroke-opacity:0.1; fill:none\" points=\"298.174,582.362 1069.19,582.362 \"/>\n",
       "<polyline clip-path=\"url(#clip652)\" style=\"stroke:#000000; stroke-linecap:round; stroke-linejoin:round; stroke-width:2; stroke-opacity:0.1; fill:none\" points=\"298.174,449.873 1069.19,449.873 \"/>\n",
       "<polyline clip-path=\"url(#clip652)\" style=\"stroke:#000000; stroke-linecap:round; stroke-linejoin:round; stroke-width:2; stroke-opacity:0.1; fill:none\" points=\"298.174,317.385 1069.19,317.385 \"/>\n",
       "<polyline clip-path=\"url(#clip652)\" style=\"stroke:#000000; stroke-linecap:round; stroke-linejoin:round; stroke-width:2; stroke-opacity:0.1; fill:none\" points=\"298.174,184.897 1069.19,184.897 \"/>\n",
       "<polyline clip-path=\"url(#clip652)\" style=\"stroke:#000000; stroke-linecap:round; stroke-linejoin:round; stroke-width:2; stroke-opacity:0.1; fill:none\" points=\"298.174,52.4088 1069.19,52.4088 \"/>\n",
       "<polyline clip-path=\"url(#clip652)\" style=\"stroke:#000000; stroke-linecap:round; stroke-linejoin:round; stroke-width:2; stroke-opacity:0.1; fill:none\" points=\"298.174,714.85 1069.19,714.85 \"/>\n",
       "<polyline clip-path=\"url(#clip652)\" style=\"stroke:#000000; stroke-linecap:round; stroke-linejoin:round; stroke-width:2; stroke-opacity:0.1; fill:none\" points=\"298.174,582.362 1069.19,582.362 \"/>\n",
       "<polyline clip-path=\"url(#clip652)\" style=\"stroke:#000000; stroke-linecap:round; stroke-linejoin:round; stroke-width:2; stroke-opacity:0.1; fill:none\" points=\"298.174,449.873 1069.19,449.873 \"/>\n",
       "<polyline clip-path=\"url(#clip652)\" style=\"stroke:#000000; stroke-linecap:round; stroke-linejoin:round; stroke-width:2; stroke-opacity:0.1; fill:none\" points=\"298.174,317.385 1069.19,317.385 \"/>\n",
       "<polyline clip-path=\"url(#clip652)\" style=\"stroke:#000000; stroke-linecap:round; stroke-linejoin:round; stroke-width:2; stroke-opacity:0.1; fill:none\" points=\"298.174,184.897 1069.19,184.897 \"/>\n",
       "<polyline clip-path=\"url(#clip652)\" style=\"stroke:#000000; stroke-linecap:round; stroke-linejoin:round; stroke-width:2; stroke-opacity:0.1; fill:none\" points=\"298.174,52.4088 1069.19,52.4088 \"/>\n",
       "<polyline clip-path=\"url(#clip650)\" style=\"stroke:#000000; stroke-linecap:round; stroke-linejoin:round; stroke-width:4; stroke-opacity:1; fill:none\" points=\"298.174,821.232 1069.19,821.232 \"/>\n",
       "<polyline clip-path=\"url(#clip650)\" style=\"stroke:#000000; stroke-linecap:round; stroke-linejoin:round; stroke-width:4; stroke-opacity:1; fill:none\" points=\"298.174,47.2441 1069.19,47.2441 \"/>\n",
       "<polyline clip-path=\"url(#clip650)\" style=\"stroke:#000000; stroke-linecap:round; stroke-linejoin:round; stroke-width:4; stroke-opacity:1; fill:none\" points=\"564.112,821.232 564.112,802.334 \"/>\n",
       "<polyline clip-path=\"url(#clip650)\" style=\"stroke:#000000; stroke-linecap:round; stroke-linejoin:round; stroke-width:4; stroke-opacity:1; fill:none\" points=\"1047.37,821.232 1047.37,802.334 \"/>\n",
       "<polyline clip-path=\"url(#clip650)\" style=\"stroke:#000000; stroke-linecap:round; stroke-linejoin:round; stroke-width:4; stroke-opacity:1; fill:none\" points=\"564.112,47.2441 564.112,66.1417 \"/>\n",
       "<polyline clip-path=\"url(#clip650)\" style=\"stroke:#000000; stroke-linecap:round; stroke-linejoin:round; stroke-width:4; stroke-opacity:1; fill:none\" points=\"1047.37,47.2441 1047.37,66.1417 \"/>\n",
       "<path clip-path=\"url(#clip650)\" d=\"M496.002 893.757 L503.641 893.757 L503.641 867.391 L495.331 869.058 L495.331 864.798 L503.595 863.132 L508.271 863.132 L508.271 893.757 L515.91 893.757 L515.91 897.692 L496.002 897.692 L496.002 893.757 Z\" fill=\"#000000\" fill-rule=\"nonzero\" fill-opacity=\"1\" /><path clip-path=\"url(#clip650)\" d=\"M535.354 866.21 Q531.743 866.21 529.914 869.775 Q528.109 873.317 528.109 880.446 Q528.109 887.553 529.914 891.118 Q531.743 894.659 535.354 894.659 Q538.988 894.659 540.794 891.118 Q542.623 887.553 542.623 880.446 Q542.623 873.317 540.794 869.775 Q538.988 866.21 535.354 866.21 M535.354 862.507 Q541.164 862.507 544.22 867.113 Q547.298 871.696 547.298 880.446 Q547.298 889.173 544.22 893.78 Q541.164 898.363 535.354 898.363 Q529.544 898.363 526.465 893.78 Q523.41 889.173 523.41 880.446 Q523.41 871.696 526.465 867.113 Q529.544 862.507 535.354 862.507 Z\" fill=\"#000000\" fill-rule=\"nonzero\" fill-opacity=\"1\" /><path clip-path=\"url(#clip650)\" d=\"M547.298 856.608 L571.41 856.608 L571.41 859.805 L547.298 859.805 L547.298 856.608 Z\" fill=\"#000000\" fill-rule=\"nonzero\" fill-opacity=\"1\" /><path clip-path=\"url(#clip650)\" d=\"M587.735 844.703 Q584.801 844.703 583.315 847.599 Q581.848 850.477 581.848 856.269 Q581.848 862.043 583.315 864.94 Q584.801 867.817 587.735 867.817 Q590.688 867.817 592.155 864.94 Q593.641 862.043 593.641 856.269 Q593.641 850.477 592.155 847.599 Q590.688 844.703 587.735 844.703 M587.735 841.693 Q592.456 841.693 594.938 845.436 Q597.44 849.16 597.44 856.269 Q597.44 863.36 594.938 867.103 Q592.456 870.827 587.735 870.827 Q583.014 870.827 580.513 867.103 Q578.03 863.36 578.03 856.269 Q578.03 849.16 580.513 845.436 Q583.014 841.693 587.735 841.693 Z\" fill=\"#000000\" fill-rule=\"nonzero\" fill-opacity=\"1\" /><path clip-path=\"url(#clip650)\" d=\"M604.117 865.504 L608.085 865.504 L608.085 870.281 L604.117 870.281 L604.117 865.504 Z\" fill=\"#000000\" fill-rule=\"nonzero\" fill-opacity=\"1\" /><path clip-path=\"url(#clip650)\" d=\"M619.633 867.084 L632.893 867.084 L632.893 870.281 L615.063 870.281 L615.063 867.084 Q617.226 864.846 620.95 861.084 Q624.692 857.304 625.652 856.213 Q627.476 854.163 628.191 852.752 Q628.924 851.323 628.924 849.95 Q628.924 847.712 627.344 846.301 Q625.783 844.891 623.263 844.891 Q621.476 844.891 619.483 845.511 Q617.508 846.132 615.251 847.392 L615.251 843.555 Q617.545 842.634 619.539 842.164 Q621.533 841.693 623.188 841.693 Q627.551 841.693 630.147 843.875 Q632.742 846.057 632.742 849.706 Q632.742 851.436 632.084 852.997 Q631.444 854.539 629.733 856.646 Q629.263 857.191 626.742 859.805 Q624.222 862.401 619.633 867.084 Z\" fill=\"#000000\" fill-rule=\"nonzero\" fill-opacity=\"1\" /><path clip-path=\"url(#clip650)\" d=\"M993.975 893.757 L1001.61 893.757 L1001.61 867.391 L993.304 869.058 L993.304 864.798 L1001.57 863.132 L1006.24 863.132 L1006.24 893.757 L1013.88 893.757 L1013.88 897.692 L993.975 897.692 L993.975 893.757 Z\" fill=\"#000000\" fill-rule=\"nonzero\" fill-opacity=\"1\" /><path clip-path=\"url(#clip650)\" d=\"M1033.33 866.21 Q1029.72 866.21 1027.89 869.775 Q1026.08 873.317 1026.08 880.446 Q1026.08 887.553 1027.89 891.118 Q1029.72 894.659 1033.33 894.659 Q1036.96 894.659 1038.77 891.118 Q1040.6 887.553 1040.6 880.446 Q1040.6 873.317 1038.77 869.775 Q1036.96 866.21 1033.33 866.21 M1033.33 862.507 Q1039.14 862.507 1042.19 867.113 Q1045.27 871.696 1045.27 880.446 Q1045.27 889.173 1042.19 893.78 Q1039.14 898.363 1033.33 898.363 Q1027.52 898.363 1024.44 893.78 Q1021.38 889.173 1021.38 880.446 Q1021.38 871.696 1024.44 867.113 Q1027.52 862.507 1033.33 862.507 Z\" fill=\"#000000\" fill-rule=\"nonzero\" fill-opacity=\"1\" /><path clip-path=\"url(#clip650)\" d=\"M1054.98 844.703 Q1052.04 844.703 1050.56 847.599 Q1049.09 850.477 1049.09 856.269 Q1049.09 862.043 1050.56 864.94 Q1052.04 867.817 1054.98 867.817 Q1057.93 867.817 1059.4 864.94 Q1060.88 862.043 1060.88 856.269 Q1060.88 850.477 1059.4 847.599 Q1057.93 844.703 1054.98 844.703 M1054.98 841.693 Q1059.7 841.693 1062.18 845.436 Q1064.68 849.16 1064.68 856.269 Q1064.68 863.36 1062.18 867.103 Q1059.7 870.827 1054.98 870.827 Q1050.26 870.827 1047.75 867.103 Q1045.27 863.36 1045.27 856.269 Q1045.27 849.16 1047.75 845.436 Q1050.26 841.693 1054.98 841.693 Z\" fill=\"#000000\" fill-rule=\"nonzero\" fill-opacity=\"1\" /><path clip-path=\"url(#clip650)\" d=\"M1071.36 865.504 L1075.33 865.504 L1075.33 870.281 L1071.36 870.281 L1071.36 865.504 Z\" fill=\"#000000\" fill-rule=\"nonzero\" fill-opacity=\"1\" /><path clip-path=\"url(#clip650)\" d=\"M1091.73 844.703 Q1088.79 844.703 1087.31 847.599 Q1085.84 850.477 1085.84 856.269 Q1085.84 862.043 1087.31 864.94 Q1088.79 867.817 1091.73 867.817 Q1094.68 867.817 1096.15 864.94 Q1097.63 862.043 1097.63 856.269 Q1097.63 850.477 1096.15 847.599 Q1094.68 844.703 1091.73 844.703 M1091.73 841.693 Q1096.45 841.693 1098.93 845.436 Q1101.43 849.16 1101.43 856.269 Q1101.43 863.36 1098.93 867.103 Q1096.45 870.827 1091.73 870.827 Q1087.01 870.827 1084.5 867.103 Q1082.02 863.36 1082.02 856.269 Q1082.02 849.16 1084.5 845.436 Q1087.01 841.693 1091.73 841.693 Z\" fill=\"#000000\" fill-rule=\"nonzero\" fill-opacity=\"1\" /><polyline clip-path=\"url(#clip650)\" style=\"stroke:#000000; stroke-linecap:round; stroke-linejoin:round; stroke-width:4; stroke-opacity:1; fill:none\" points=\"298.174,821.232 298.174,47.2441 \"/>\n",
       "<polyline clip-path=\"url(#clip650)\" style=\"stroke:#000000; stroke-linecap:round; stroke-linejoin:round; stroke-width:4; stroke-opacity:1; fill:none\" points=\"1069.19,821.232 1069.19,47.2441 \"/>\n",
       "<polyline clip-path=\"url(#clip650)\" style=\"stroke:#000000; stroke-linecap:round; stroke-linejoin:round; stroke-width:4; stroke-opacity:1; fill:none\" points=\"298.174,714.85 317.072,714.85 \"/>\n",
       "<polyline clip-path=\"url(#clip650)\" style=\"stroke:#000000; stroke-linecap:round; stroke-linejoin:round; stroke-width:4; stroke-opacity:1; fill:none\" points=\"298.174,582.362 317.072,582.362 \"/>\n",
       "<polyline clip-path=\"url(#clip650)\" style=\"stroke:#000000; stroke-linecap:round; stroke-linejoin:round; stroke-width:4; stroke-opacity:1; fill:none\" points=\"298.174,449.873 317.072,449.873 \"/>\n",
       "<polyline clip-path=\"url(#clip650)\" style=\"stroke:#000000; stroke-linecap:round; stroke-linejoin:round; stroke-width:4; stroke-opacity:1; fill:none\" points=\"298.174,317.385 317.072,317.385 \"/>\n",
       "<polyline clip-path=\"url(#clip650)\" style=\"stroke:#000000; stroke-linecap:round; stroke-linejoin:round; stroke-width:4; stroke-opacity:1; fill:none\" points=\"298.174,184.897 317.072,184.897 \"/>\n",
       "<polyline clip-path=\"url(#clip650)\" style=\"stroke:#000000; stroke-linecap:round; stroke-linejoin:round; stroke-width:4; stroke-opacity:1; fill:none\" points=\"298.174,52.4088 317.072,52.4088 \"/>\n",
       "<polyline clip-path=\"url(#clip650)\" style=\"stroke:#000000; stroke-linecap:round; stroke-linejoin:round; stroke-width:4; stroke-opacity:1; fill:none\" points=\"1069.19,714.85 1050.29,714.85 \"/>\n",
       "<polyline clip-path=\"url(#clip650)\" style=\"stroke:#000000; stroke-linecap:round; stroke-linejoin:round; stroke-width:4; stroke-opacity:1; fill:none\" points=\"1069.19,582.362 1050.29,582.362 \"/>\n",
       "<polyline clip-path=\"url(#clip650)\" style=\"stroke:#000000; stroke-linecap:round; stroke-linejoin:round; stroke-width:4; stroke-opacity:1; fill:none\" points=\"1069.19,449.873 1050.29,449.873 \"/>\n",
       "<polyline clip-path=\"url(#clip650)\" style=\"stroke:#000000; stroke-linecap:round; stroke-linejoin:round; stroke-width:4; stroke-opacity:1; fill:none\" points=\"1069.19,317.385 1050.29,317.385 \"/>\n",
       "<polyline clip-path=\"url(#clip650)\" style=\"stroke:#000000; stroke-linecap:round; stroke-linejoin:round; stroke-width:4; stroke-opacity:1; fill:none\" points=\"1069.19,184.897 1050.29,184.897 \"/>\n",
       "<polyline clip-path=\"url(#clip650)\" style=\"stroke:#000000; stroke-linecap:round; stroke-linejoin:round; stroke-width:4; stroke-opacity:1; fill:none\" points=\"1069.19,52.4088 1050.29,52.4088 \"/>\n",
       "<path clip-path=\"url(#clip650)\" d=\"M177.837 700.649 Q174.225 700.649 172.397 704.213 Q170.591 707.755 170.591 714.885 Q170.591 721.991 172.397 725.556 Q174.225 729.098 177.837 729.098 Q181.471 729.098 183.276 725.556 Q185.105 721.991 185.105 714.885 Q185.105 707.755 183.276 704.213 Q181.471 700.649 177.837 700.649 M177.837 696.945 Q183.647 696.945 186.702 701.551 Q189.781 706.135 189.781 714.885 Q189.781 723.611 186.702 728.218 Q183.647 732.801 177.837 732.801 Q172.026 732.801 168.948 728.218 Q165.892 723.611 165.892 714.885 Q165.892 706.135 168.948 701.551 Q172.026 696.945 177.837 696.945 Z\" fill=\"#000000\" fill-rule=\"nonzero\" fill-opacity=\"1\" /><path clip-path=\"url(#clip650)\" d=\"M197.998 726.25 L202.883 726.25 L202.883 732.13 L197.998 732.13 L197.998 726.25 Z\" fill=\"#000000\" fill-rule=\"nonzero\" fill-opacity=\"1\" /><path clip-path=\"url(#clip650)\" d=\"M213.878 728.195 L221.517 728.195 L221.517 701.829 L213.207 703.496 L213.207 699.237 L221.471 697.57 L226.146 697.57 L226.146 728.195 L233.785 728.195 L233.785 732.13 L213.878 732.13 L213.878 728.195 Z\" fill=\"#000000\" fill-rule=\"nonzero\" fill-opacity=\"1\" /><path clip-path=\"url(#clip650)\" d=\"M253.23 700.649 Q249.619 700.649 247.79 704.213 Q245.984 707.755 245.984 714.885 Q245.984 721.991 247.79 725.556 Q249.619 729.098 253.23 729.098 Q256.864 729.098 258.669 725.556 Q260.498 721.991 260.498 714.885 Q260.498 707.755 258.669 704.213 Q256.864 700.649 253.23 700.649 M253.23 696.945 Q259.04 696.945 262.095 701.551 Q265.174 706.135 265.174 714.885 Q265.174 723.611 262.095 728.218 Q259.04 732.801 253.23 732.801 Q247.419 732.801 244.341 728.218 Q241.285 723.611 241.285 714.885 Q241.285 706.135 244.341 701.551 Q247.419 696.945 253.23 696.945 Z\" fill=\"#000000\" fill-rule=\"nonzero\" fill-opacity=\"1\" /><path clip-path=\"url(#clip650)\" d=\"M179.063 568.16 Q175.452 568.16 173.624 571.725 Q171.818 575.267 171.818 582.396 Q171.818 589.503 173.624 593.068 Q175.452 596.609 179.063 596.609 Q182.698 596.609 184.503 593.068 Q186.332 589.503 186.332 582.396 Q186.332 575.267 184.503 571.725 Q182.698 568.16 179.063 568.16 M179.063 564.457 Q184.873 564.457 187.929 569.063 Q191.008 573.646 191.008 582.396 Q191.008 591.123 187.929 595.73 Q184.873 600.313 179.063 600.313 Q173.253 600.313 170.175 595.73 Q167.119 591.123 167.119 582.396 Q167.119 573.646 170.175 569.063 Q173.253 564.457 179.063 564.457 Z\" fill=\"#000000\" fill-rule=\"nonzero\" fill-opacity=\"1\" /><path clip-path=\"url(#clip650)\" d=\"M199.225 593.762 L204.11 593.762 L204.11 599.642 L199.225 599.642 L199.225 593.762 Z\" fill=\"#000000\" fill-rule=\"nonzero\" fill-opacity=\"1\" /><path clip-path=\"url(#clip650)\" d=\"M215.105 595.707 L222.744 595.707 L222.744 569.341 L214.434 571.008 L214.434 566.748 L222.697 565.082 L227.373 565.082 L227.373 595.707 L235.012 595.707 L235.012 599.642 L215.105 599.642 L215.105 595.707 Z\" fill=\"#000000\" fill-rule=\"nonzero\" fill-opacity=\"1\" /><path clip-path=\"url(#clip650)\" d=\"M245.267 595.707 L252.906 595.707 L252.906 569.341 L244.595 571.008 L244.595 566.748 L252.859 565.082 L257.535 565.082 L257.535 595.707 L265.174 595.707 L265.174 599.642 L245.267 599.642 L245.267 595.707 Z\" fill=\"#000000\" fill-rule=\"nonzero\" fill-opacity=\"1\" /><path clip-path=\"url(#clip650)\" d=\"M179.434 435.672 Q175.823 435.672 173.994 439.237 Q172.188 442.779 172.188 449.908 Q172.188 457.015 173.994 460.579 Q175.823 464.121 179.434 464.121 Q183.068 464.121 184.873 460.579 Q186.702 457.015 186.702 449.908 Q186.702 442.779 184.873 439.237 Q183.068 435.672 179.434 435.672 M179.434 431.968 Q185.244 431.968 188.299 436.575 Q191.378 441.158 191.378 449.908 Q191.378 458.635 188.299 463.241 Q185.244 467.825 179.434 467.825 Q173.624 467.825 170.545 463.241 Q167.489 458.635 167.489 449.908 Q167.489 441.158 170.545 436.575 Q173.624 431.968 179.434 431.968 Z\" fill=\"#000000\" fill-rule=\"nonzero\" fill-opacity=\"1\" /><path clip-path=\"url(#clip650)\" d=\"M199.596 461.274 L204.48 461.274 L204.48 467.153 L199.596 467.153 L199.596 461.274 Z\" fill=\"#000000\" fill-rule=\"nonzero\" fill-opacity=\"1\" /><path clip-path=\"url(#clip650)\" d=\"M215.475 463.218 L223.114 463.218 L223.114 436.853 L214.804 438.519 L214.804 434.26 L223.068 432.593 L227.744 432.593 L227.744 463.218 L235.382 463.218 L235.382 467.153 L215.475 467.153 L215.475 463.218 Z\" fill=\"#000000\" fill-rule=\"nonzero\" fill-opacity=\"1\" /><path clip-path=\"url(#clip650)\" d=\"M248.855 463.218 L265.174 463.218 L265.174 467.153 L243.23 467.153 L243.23 463.218 Q245.892 460.464 250.475 455.834 Q255.081 451.181 256.262 449.839 Q258.507 447.316 259.387 445.58 Q260.29 443.82 260.29 442.13 Q260.29 439.376 258.345 437.64 Q256.424 435.904 253.322 435.904 Q251.123 435.904 248.669 436.668 Q246.239 437.431 243.461 438.982 L243.461 434.26 Q246.285 433.126 248.739 432.547 Q251.193 431.968 253.23 431.968 Q258.6 431.968 261.794 434.654 Q264.989 437.339 264.989 441.83 Q264.989 443.959 264.179 445.88 Q263.392 447.779 261.285 450.371 Q260.706 451.042 257.605 454.26 Q254.503 457.454 248.855 463.218 Z\" fill=\"#000000\" fill-rule=\"nonzero\" fill-opacity=\"1\" /><path clip-path=\"url(#clip650)\" d=\"M178.485 303.184 Q174.874 303.184 173.045 306.749 Q171.239 310.29 171.239 317.42 Q171.239 324.526 173.045 328.091 Q174.874 331.633 178.485 331.633 Q182.119 331.633 183.924 328.091 Q185.753 324.526 185.753 317.42 Q185.753 310.29 183.924 306.749 Q182.119 303.184 178.485 303.184 M178.485 299.48 Q184.295 299.48 187.35 304.087 Q190.429 308.67 190.429 317.42 Q190.429 326.147 187.35 330.753 Q184.295 335.337 178.485 335.337 Q172.674 335.337 169.596 330.753 Q166.54 326.147 166.54 317.42 Q166.54 308.67 169.596 304.087 Q172.674 299.48 178.485 299.48 Z\" fill=\"#000000\" fill-rule=\"nonzero\" fill-opacity=\"1\" /><path clip-path=\"url(#clip650)\" d=\"M198.647 328.786 L203.531 328.786 L203.531 334.665 L198.647 334.665 L198.647 328.786 Z\" fill=\"#000000\" fill-rule=\"nonzero\" fill-opacity=\"1\" /><path clip-path=\"url(#clip650)\" d=\"M214.526 330.73 L222.165 330.73 L222.165 304.364 L213.855 306.031 L213.855 301.772 L222.119 300.105 L226.795 300.105 L226.795 330.73 L234.433 330.73 L234.433 334.665 L214.526 334.665 L214.526 330.73 Z\" fill=\"#000000\" fill-rule=\"nonzero\" fill-opacity=\"1\" /><path clip-path=\"url(#clip650)\" d=\"M258.044 316.031 Q261.401 316.749 263.276 319.017 Q265.174 321.286 265.174 324.619 Q265.174 329.735 261.655 332.536 Q258.137 335.337 251.656 335.337 Q249.48 335.337 247.165 334.897 Q244.873 334.48 242.419 333.624 L242.419 329.11 Q244.364 330.244 246.679 330.823 Q248.994 331.401 251.517 331.401 Q255.915 331.401 258.206 329.665 Q260.521 327.929 260.521 324.619 Q260.521 321.563 258.368 319.85 Q256.239 318.114 252.419 318.114 L248.392 318.114 L248.392 314.272 L252.605 314.272 Q256.054 314.272 257.882 312.906 Q259.711 311.517 259.711 308.925 Q259.711 306.263 257.813 304.851 Q255.938 303.415 252.419 303.415 Q250.498 303.415 248.299 303.832 Q246.1 304.249 243.461 305.128 L243.461 300.962 Q246.123 300.221 248.438 299.851 Q250.776 299.48 252.836 299.48 Q258.16 299.48 261.262 301.911 Q264.364 304.318 264.364 308.439 Q264.364 311.309 262.72 313.3 Q261.077 315.267 258.044 316.031 Z\" fill=\"#000000\" fill-rule=\"nonzero\" fill-opacity=\"1\" /><path clip-path=\"url(#clip650)\" d=\"M177.35 170.696 Q173.739 170.696 171.911 174.26 Q170.105 177.802 170.105 184.932 Q170.105 192.038 171.911 195.603 Q173.739 199.145 177.35 199.145 Q180.985 199.145 182.79 195.603 Q184.619 192.038 184.619 184.932 Q184.619 177.802 182.79 174.26 Q180.985 170.696 177.35 170.696 M177.35 166.992 Q183.161 166.992 186.216 171.598 Q189.295 176.182 189.295 184.932 Q189.295 193.659 186.216 198.265 Q183.161 202.848 177.35 202.848 Q171.54 202.848 168.462 198.265 Q165.406 193.659 165.406 184.932 Q165.406 176.182 168.462 171.598 Q171.54 166.992 177.35 166.992 Z\" fill=\"#000000\" fill-rule=\"nonzero\" fill-opacity=\"1\" /><path clip-path=\"url(#clip650)\" d=\"M197.512 196.297 L202.397 196.297 L202.397 202.177 L197.512 202.177 L197.512 196.297 Z\" fill=\"#000000\" fill-rule=\"nonzero\" fill-opacity=\"1\" /><path clip-path=\"url(#clip650)\" d=\"M213.392 198.242 L221.031 198.242 L221.031 171.876 L212.721 173.543 L212.721 169.284 L220.984 167.617 L225.66 167.617 L225.66 198.242 L233.299 198.242 L233.299 202.177 L213.392 202.177 L213.392 198.242 Z\" fill=\"#000000\" fill-rule=\"nonzero\" fill-opacity=\"1\" /><path clip-path=\"url(#clip650)\" d=\"M255.591 171.691 L243.785 190.14 L255.591 190.14 L255.591 171.691 M254.364 167.617 L260.243 167.617 L260.243 190.14 L265.174 190.14 L265.174 194.029 L260.243 194.029 L260.243 202.177 L255.591 202.177 L255.591 194.029 L239.989 194.029 L239.989 189.515 L254.364 167.617 Z\" fill=\"#000000\" fill-rule=\"nonzero\" fill-opacity=\"1\" /><path clip-path=\"url(#clip650)\" d=\"M178.832 38.2075 Q175.221 38.2075 173.392 41.7723 Q171.587 45.3139 171.587 52.4435 Q171.587 59.5499 173.392 63.1147 Q175.221 66.6564 178.832 66.6564 Q182.466 66.6564 184.272 63.1147 Q186.1 59.5499 186.1 52.4435 Q186.1 45.3139 184.272 41.7723 Q182.466 38.2075 178.832 38.2075 M178.832 34.5038 Q184.642 34.5038 187.698 39.1102 Q190.776 43.6935 190.776 52.4435 Q190.776 61.1703 187.698 65.7768 Q184.642 70.3601 178.832 70.3601 Q173.022 70.3601 169.943 65.7768 Q166.887 61.1703 166.887 52.4435 Q166.887 43.6935 169.943 39.1102 Q173.022 34.5038 178.832 34.5038 Z\" fill=\"#000000\" fill-rule=\"nonzero\" fill-opacity=\"1\" /><path clip-path=\"url(#clip650)\" d=\"M198.994 63.8092 L203.878 63.8092 L203.878 69.6888 L198.994 69.6888 L198.994 63.8092 Z\" fill=\"#000000\" fill-rule=\"nonzero\" fill-opacity=\"1\" /><path clip-path=\"url(#clip650)\" d=\"M214.873 65.7536 L222.512 65.7536 L222.512 39.388 L214.202 41.0547 L214.202 36.7954 L222.466 35.1288 L227.142 35.1288 L227.142 65.7536 L234.781 65.7536 L234.781 69.6888 L214.873 69.6888 L214.873 65.7536 Z\" fill=\"#000000\" fill-rule=\"nonzero\" fill-opacity=\"1\" /><path clip-path=\"url(#clip650)\" d=\"M244.271 35.1288 L262.628 35.1288 L262.628 39.0639 L248.554 39.0639 L248.554 47.5361 Q249.572 47.1889 250.591 47.0269 Q251.609 46.8417 252.628 46.8417 Q258.415 46.8417 261.794 50.013 Q265.174 53.1842 265.174 58.6009 Q265.174 64.1796 261.702 67.2814 Q258.23 70.3601 251.91 70.3601 Q249.734 70.3601 247.466 69.9897 Q245.22 69.6193 242.813 68.8786 L242.813 64.1796 Q244.896 65.3138 247.119 65.8694 Q249.341 66.4249 251.818 66.4249 Q255.822 66.4249 258.16 64.3184 Q260.498 62.212 260.498 58.6009 Q260.498 54.9898 258.16 52.8833 Q255.822 50.7768 251.818 50.7768 Q249.943 50.7768 248.068 51.1935 Q246.216 51.6102 244.271 52.4898 L244.271 35.1288 Z\" fill=\"#000000\" fill-rule=\"nonzero\" fill-opacity=\"1\" /><path clip-path=\"url(#clip650)\" d=\"M95.4563 596.993 L112.866 596.993 L112.866 586.681 Q112.866 581.493 110.734 579.01 Q108.57 576.496 104.145 576.496 Q99.6895 576.496 97.5888 579.01 Q95.4563 581.493 95.4563 586.681 L95.4563 596.993 M75.9135 596.993 L90.2364 596.993 L90.2364 587.476 Q90.2364 582.766 88.4858 580.474 Q86.7034 578.151 83.075 578.151 Q79.4783 578.151 77.6959 580.474 Q75.9135 582.766 75.9135 587.476 L75.9135 596.993 M70.63 603.422 L70.63 586.999 Q70.63 579.647 73.6856 575.668 Q76.7411 571.689 82.3747 571.689 Q86.7352 571.689 89.3134 573.726 Q91.8915 575.763 92.528 579.71 Q93.5466 574.968 96.7931 572.358 Q100.008 569.716 104.846 569.716 Q111.211 569.716 114.681 574.045 Q118.15 578.373 118.15 586.362 L118.15 603.422 L70.63 603.422 Z\" fill=\"#000000\" fill-rule=\"nonzero\" fill-opacity=\"1\" /><path clip-path=\"url(#clip650)\" d=\"M87.9766 538.301 Q87.4036 539.288 87.149 540.466 Q86.8626 541.611 86.8626 543.012 Q86.8626 547.977 90.1091 550.651 Q93.3238 553.293 99.3712 553.293 L118.15 553.293 L118.15 559.181 L82.5021 559.181 L82.5021 553.293 L88.0402 553.293 Q84.7937 551.446 83.2341 548.486 Q81.6427 545.526 81.6427 541.293 Q81.6427 540.688 81.7382 539.956 Q81.8018 539.224 81.961 538.333 L87.9766 538.301 Z\" fill=\"#000000\" fill-rule=\"nonzero\" fill-opacity=\"1\" /><path clip-path=\"url(#clip650)\" d=\"M82.5021 532.158 L82.5021 526.302 L118.15 526.302 L118.15 532.158 L82.5021 532.158 M68.6248 532.158 L68.6248 526.302 L76.0409 526.302 L76.0409 532.158 L68.6248 532.158 Z\" fill=\"#000000\" fill-rule=\"nonzero\" fill-opacity=\"1\" /><path clip-path=\"url(#clip650)\" d=\"M98.8619 483.556 L101.726 483.556 L101.726 510.483 Q107.774 510.101 110.957 506.855 Q114.108 503.576 114.108 497.752 Q114.108 494.378 113.28 491.227 Q112.453 488.044 110.798 484.925 L116.336 484.925 Q117.673 488.076 118.373 491.386 Q119.073 494.696 119.073 498.102 Q119.073 506.632 114.108 511.629 Q109.143 516.594 100.676 516.594 Q91.9233 516.594 86.7989 511.884 Q81.6427 507.141 81.6427 499.12 Q81.6427 491.927 86.2896 487.758 Q90.9048 483.556 98.8619 483.556 M97.1432 489.413 Q92.3371 489.476 89.4725 492.118 Q86.6079 494.728 86.6079 499.057 Q86.6079 503.958 89.377 506.918 Q92.1461 509.847 97.175 510.292 L97.1432 489.413 Z\" fill=\"#000000\" fill-rule=\"nonzero\" fill-opacity=\"1\" /><path clip-path=\"url(#clip650)\" d=\"M87.9766 453.287 Q87.4036 454.274 87.149 455.452 Q86.8626 456.597 86.8626 457.998 Q86.8626 462.963 90.1091 465.637 Q93.3238 468.279 99.3712 468.279 L118.15 468.279 L118.15 474.167 L82.5021 474.167 L82.5021 468.279 L88.0402 468.279 Q84.7937 466.432 83.2341 463.472 Q81.6427 460.512 81.6427 456.279 Q81.6427 455.674 81.7382 454.942 Q81.8018 454.21 81.961 453.319 L87.9766 453.287 Z\" fill=\"#000000\" fill-rule=\"nonzero\" fill-opacity=\"1\" /><path clip-path=\"url(#clip650)\" d=\"M70.63 446.89 L70.63 440.46 L112.739 440.46 L112.739 417.321 L118.15 417.321 L118.15 446.89 L70.63 446.89 Z\" fill=\"#000000\" fill-rule=\"nonzero\" fill-opacity=\"1\" /><path clip-path=\"url(#clip650)\" d=\"M86.6079 398.16 Q86.6079 402.871 90.3 405.608 Q93.9603 408.345 100.358 408.345 Q106.755 408.345 110.448 405.64 Q114.108 402.903 114.108 398.16 Q114.108 393.481 110.416 390.744 Q106.724 388.007 100.358 388.007 Q94.024 388.007 90.3319 390.744 Q86.6079 393.481 86.6079 398.16 M81.6427 398.16 Q81.6427 390.521 86.6079 386.161 Q91.5732 381.8 100.358 381.8 Q109.111 381.8 114.108 386.161 Q119.073 390.521 119.073 398.16 Q119.073 405.831 114.108 410.191 Q109.111 414.52 100.358 414.52 Q91.5732 414.52 86.6079 410.191 Q81.6427 405.831 81.6427 398.16 Z\" fill=\"#000000\" fill-rule=\"nonzero\" fill-opacity=\"1\" /><path clip-path=\"url(#clip650)\" d=\"M83.5524 349.367 L89.0906 349.367 Q87.8174 351.85 87.1808 354.523 Q86.5443 357.197 86.5443 360.061 Q86.5443 364.422 87.8811 366.618 Q89.2179 368.783 91.8915 368.783 Q93.9285 368.783 95.1062 367.223 Q96.252 365.663 97.3023 360.953 L97.7479 358.947 Q99.0847 352.709 101.536 350.099 Q103.954 347.457 108.315 347.457 Q113.28 347.457 116.177 351.404 Q119.073 355.319 119.073 362.194 Q119.073 365.059 118.5 368.178 Q117.959 371.265 116.845 374.703 L110.798 374.703 Q112.485 371.456 113.344 368.305 Q114.171 365.154 114.171 362.067 Q114.171 357.929 112.771 355.701 Q111.339 353.473 108.761 353.473 Q106.373 353.473 105.1 355.096 Q103.827 356.688 102.65 362.13 L102.172 364.167 Q101.026 369.61 98.6709 372.029 Q96.2838 374.448 92.1461 374.448 Q87.1172 374.448 84.3799 370.883 Q81.6427 367.318 81.6427 360.762 Q81.6427 357.515 82.1201 354.651 Q82.5975 351.786 83.5524 349.367 Z\" fill=\"#000000\" fill-rule=\"nonzero\" fill-opacity=\"1\" /><path clip-path=\"url(#clip650)\" d=\"M83.5524 315.406 L89.0906 315.406 Q87.8174 317.889 87.1808 320.562 Q86.5443 323.236 86.5443 326.1 Q86.5443 330.461 87.8811 332.657 Q89.2179 334.821 91.8915 334.821 Q93.9285 334.821 95.1062 333.262 Q96.252 331.702 97.3023 326.992 L97.7479 324.986 Q99.0847 318.748 101.536 316.138 Q103.954 313.496 108.315 313.496 Q113.28 313.496 116.177 317.443 Q119.073 321.358 119.073 328.233 Q119.073 331.098 118.5 334.217 Q117.959 337.304 116.845 340.742 L110.798 340.742 Q112.485 337.495 113.344 334.344 Q114.171 331.193 114.171 328.106 Q114.171 323.968 112.771 321.74 Q111.339 319.512 108.761 319.512 Q106.373 319.512 105.1 321.135 Q103.827 322.727 102.65 328.169 L102.172 330.206 Q101.026 335.649 98.6709 338.068 Q96.2838 340.487 92.1461 340.487 Q87.1172 340.487 84.3799 336.922 Q81.6427 333.357 81.6427 326.801 Q81.6427 323.554 82.1201 320.69 Q82.5975 317.825 83.5524 315.406 Z\" fill=\"#000000\" fill-rule=\"nonzero\" fill-opacity=\"1\" /><path clip-path=\"url(#clip650)\" d=\"M68.6885 290.102 Q76.009 294.367 83.1705 296.436 Q90.3319 298.505 97.6843 298.505 Q105.037 298.505 112.262 296.436 Q119.455 294.336 126.744 290.102 L126.744 295.195 Q119.264 299.969 112.039 302.356 Q104.814 304.712 97.6843 304.712 Q90.5865 304.712 83.3933 302.356 Q76.2 300.001 68.6885 295.195 L68.6885 290.102 Z\" fill=\"#000000\" fill-rule=\"nonzero\" fill-opacity=\"1\" /><path clip-path=\"url(#clip650)\" d=\"M68.6885 279.663 L68.6885 274.57 Q76.2 269.796 83.3933 267.44 Q90.5865 265.053 97.6843 265.053 Q104.814 265.053 112.039 267.44 Q119.264 269.796 126.744 274.57 L126.744 279.663 Q119.455 275.429 112.262 273.361 Q105.037 271.26 97.6843 271.26 Q90.3319 271.26 83.1705 273.361 Q76.009 275.429 68.6885 279.663 Z\" fill=\"#000000\" fill-rule=\"nonzero\" fill-opacity=\"1\" /><circle clip-path=\"url(#clip652)\" cx=\"386.12\" cy=\"736.662\" r=\"14.4\" fill=\"#009af9\" fill-rule=\"evenodd\" fill-opacity=\"1\" stroke=\"#000000\" stroke-opacity=\"1\" stroke-width=\"4\"/>\n",
       "<circle clip-path=\"url(#clip652)\" cx=\"584.494\" cy=\"443.151\" r=\"14.4\" fill=\"#009af9\" fill-rule=\"evenodd\" fill-opacity=\"1\" stroke=\"#000000\" stroke-opacity=\"1\" stroke-width=\"4\"/>\n",
       "<circle clip-path=\"url(#clip652)\" cx=\"319.995\" cy=\"712.548\" r=\"14.4\" fill=\"#009af9\" fill-rule=\"evenodd\" fill-opacity=\"1\" stroke=\"#000000\" stroke-opacity=\"1\" stroke-width=\"4\"/>\n",
       "<circle clip-path=\"url(#clip652)\" cx=\"1047.37\" cy=\"69.1494\" r=\"14.4\" fill=\"#009af9\" fill-rule=\"evenodd\" fill-opacity=\"1\" stroke=\"#000000\" stroke-opacity=\"1\" stroke-width=\"4\"/>\n",
       "<circle clip-path=\"url(#clip652)\" cx=\"386.12\" cy=\"382.485\" r=\"14.4\" fill=\"#009af9\" fill-rule=\"evenodd\" fill-opacity=\"1\" stroke=\"#000000\" stroke-opacity=\"1\" stroke-width=\"4\"/>\n",
       "<circle clip-path=\"url(#clip652)\" cx=\"782.869\" cy=\"554.345\" r=\"14.4\" fill=\"#009af9\" fill-rule=\"evenodd\" fill-opacity=\"1\" stroke=\"#000000\" stroke-opacity=\"1\" stroke-width=\"4\"/>\n",
       "<circle clip-path=\"url(#clip652)\" cx=\"452.245\" cy=\"441.26\" r=\"14.4\" fill=\"#009af9\" fill-rule=\"evenodd\" fill-opacity=\"1\" stroke=\"#000000\" stroke-opacity=\"1\" stroke-width=\"4\"/>\n",
       "<circle clip-path=\"url(#clip652)\" cx=\"915.118\" cy=\"459.12\" r=\"14.4\" fill=\"#009af9\" fill-rule=\"evenodd\" fill-opacity=\"1\" stroke=\"#000000\" stroke-opacity=\"1\" stroke-width=\"4\"/>\n",
       "<circle clip-path=\"url(#clip652)\" cx=\"782.869\" cy=\"560.325\" r=\"14.4\" fill=\"#009af9\" fill-rule=\"evenodd\" fill-opacity=\"1\" stroke=\"#000000\" stroke-opacity=\"1\" stroke-width=\"4\"/>\n",
       "<circle clip-path=\"url(#clip652)\" cx=\"319.995\" cy=\"399.346\" r=\"14.4\" fill=\"#009af9\" fill-rule=\"evenodd\" fill-opacity=\"1\" stroke=\"#000000\" stroke-opacity=\"1\" stroke-width=\"4\"/>\n",
       "<circle clip-path=\"url(#clip652)\" cx=\"1047.37\" cy=\"229.851\" r=\"14.4\" fill=\"#009af9\" fill-rule=\"evenodd\" fill-opacity=\"1\" stroke=\"#000000\" stroke-opacity=\"1\" stroke-width=\"4\"/>\n",
       "<circle clip-path=\"url(#clip652)\" cx=\"584.494\" cy=\"651.169\" r=\"14.4\" fill=\"#009af9\" fill-rule=\"evenodd\" fill-opacity=\"1\" stroke=\"#000000\" stroke-opacity=\"1\" stroke-width=\"4\"/>\n",
       "<circle clip-path=\"url(#clip652)\" cx=\"848.993\" cy=\"465.328\" r=\"14.4\" fill=\"#009af9\" fill-rule=\"evenodd\" fill-opacity=\"1\" stroke=\"#000000\" stroke-opacity=\"1\" stroke-width=\"4\"/>\n",
       "<circle clip-path=\"url(#clip652)\" cx=\"518.369\" cy=\"670.036\" r=\"14.4\" fill=\"#009af9\" fill-rule=\"evenodd\" fill-opacity=\"1\" stroke=\"#000000\" stroke-opacity=\"1\" stroke-width=\"4\"/>\n",
       "<circle clip-path=\"url(#clip652)\" cx=\"915.118\" cy=\"401.579\" r=\"14.4\" fill=\"#009af9\" fill-rule=\"evenodd\" fill-opacity=\"1\" stroke=\"#000000\" stroke-opacity=\"1\" stroke-width=\"4\"/>\n",
       "<circle clip-path=\"url(#clip652)\" cx=\"848.993\" cy=\"492.878\" r=\"14.4\" fill=\"#009af9\" fill-rule=\"evenodd\" fill-opacity=\"1\" stroke=\"#000000\" stroke-opacity=\"1\" stroke-width=\"4\"/>\n",
       "<circle clip-path=\"url(#clip652)\" cx=\"650.619\" cy=\"459.849\" r=\"14.4\" fill=\"#009af9\" fill-rule=\"evenodd\" fill-opacity=\"1\" stroke=\"#000000\" stroke-opacity=\"1\" stroke-width=\"4\"/>\n",
       "<circle clip-path=\"url(#clip652)\" cx=\"452.245\" cy=\"683.066\" r=\"14.4\" fill=\"#009af9\" fill-rule=\"evenodd\" fill-opacity=\"1\" stroke=\"#000000\" stroke-opacity=\"1\" stroke-width=\"4\"/>\n",
       "<circle clip-path=\"url(#clip652)\" cx=\"915.118\" cy=\"472.204\" r=\"14.4\" fill=\"#009af9\" fill-rule=\"evenodd\" fill-opacity=\"1\" stroke=\"#000000\" stroke-opacity=\"1\" stroke-width=\"4\"/>\n",
       "<circle clip-path=\"url(#clip652)\" cx=\"782.869\" cy=\"429.276\" r=\"14.4\" fill=\"#009af9\" fill-rule=\"evenodd\" fill-opacity=\"1\" stroke=\"#000000\" stroke-opacity=\"1\" stroke-width=\"4\"/>\n",
       "<circle clip-path=\"url(#clip652)\" cx=\"716.744\" cy=\"612.606\" r=\"14.4\" fill=\"#009af9\" fill-rule=\"evenodd\" fill-opacity=\"1\" stroke=\"#000000\" stroke-opacity=\"1\" stroke-width=\"4\"/>\n",
       "<circle clip-path=\"url(#clip652)\" cx=\"319.995\" cy=\"753.028\" r=\"14.4\" fill=\"#009af9\" fill-rule=\"evenodd\" fill-opacity=\"1\" stroke=\"#000000\" stroke-opacity=\"1\" stroke-width=\"4\"/>\n",
       "<circle clip-path=\"url(#clip652)\" cx=\"386.12\" cy=\"799.326\" r=\"14.4\" fill=\"#009af9\" fill-rule=\"evenodd\" fill-opacity=\"1\" stroke=\"#000000\" stroke-opacity=\"1\" stroke-width=\"4\"/>\n",
       "<circle clip-path=\"url(#clip652)\" cx=\"915.118\" cy=\"454.908\" r=\"14.4\" fill=\"#009af9\" fill-rule=\"evenodd\" fill-opacity=\"1\" stroke=\"#000000\" stroke-opacity=\"1\" stroke-width=\"4\"/>\n",
       "<circle clip-path=\"url(#clip652)\" cx=\"386.12\" cy=\"687.465\" r=\"14.4\" fill=\"#009af9\" fill-rule=\"evenodd\" fill-opacity=\"1\" stroke=\"#000000\" stroke-opacity=\"1\" stroke-width=\"4\"/>\n",
       "<circle clip-path=\"url(#clip652)\" cx=\"716.744\" cy=\"600.784\" r=\"14.4\" fill=\"#009af9\" fill-rule=\"evenodd\" fill-opacity=\"1\" stroke=\"#000000\" stroke-opacity=\"1\" stroke-width=\"4\"/>\n",
       "<circle clip-path=\"url(#clip652)\" cx=\"981.243\" cy=\"445.816\" r=\"14.4\" fill=\"#009af9\" fill-rule=\"evenodd\" fill-opacity=\"1\" stroke=\"#000000\" stroke-opacity=\"1\" stroke-width=\"4\"/>\n",
       "<circle clip-path=\"url(#clip652)\" cx=\"650.619\" cy=\"705.584\" r=\"14.4\" fill=\"#009af9\" fill-rule=\"evenodd\" fill-opacity=\"1\" stroke=\"#000000\" stroke-opacity=\"1\" stroke-width=\"4\"/>\n",
       "<circle clip-path=\"url(#clip652)\" cx=\"319.995\" cy=\"727.455\" r=\"14.4\" fill=\"#009af9\" fill-rule=\"evenodd\" fill-opacity=\"1\" stroke=\"#000000\" stroke-opacity=\"1\" stroke-width=\"4\"/>\n",
       "<circle clip-path=\"url(#clip652)\" cx=\"452.245\" cy=\"764.24\" r=\"14.4\" fill=\"#009af9\" fill-rule=\"evenodd\" fill-opacity=\"1\" stroke=\"#000000\" stroke-opacity=\"1\" stroke-width=\"4\"/>\n",
       "<circle clip-path=\"url(#clip652)\" cx=\"518.369\" cy=\"679.798\" r=\"14.4\" fill=\"#009af9\" fill-rule=\"evenodd\" fill-opacity=\"1\" stroke=\"#000000\" stroke-opacity=\"1\" stroke-width=\"4\"/>\n",
       "<circle clip-path=\"url(#clip652)\" cx=\"1047.37\" cy=\"426.448\" r=\"14.4\" fill=\"#009af9\" fill-rule=\"evenodd\" fill-opacity=\"1\" stroke=\"#000000\" stroke-opacity=\"1\" stroke-width=\"4\"/>\n",
       "<circle clip-path=\"url(#clip652)\" cx=\"1047.37\" cy=\"437.924\" r=\"14.4\" fill=\"#009af9\" fill-rule=\"evenodd\" fill-opacity=\"1\" stroke=\"#000000\" stroke-opacity=\"1\" stroke-width=\"4\"/>\n",
       "<circle clip-path=\"url(#clip652)\" cx=\"716.744\" cy=\"634.597\" r=\"14.4\" fill=\"#009af9\" fill-rule=\"evenodd\" fill-opacity=\"1\" stroke=\"#000000\" stroke-opacity=\"1\" stroke-width=\"4\"/>\n",
       "<circle clip-path=\"url(#clip652)\" cx=\"848.993\" cy=\"500.727\" r=\"14.4\" fill=\"#009af9\" fill-rule=\"evenodd\" fill-opacity=\"1\" stroke=\"#000000\" stroke-opacity=\"1\" stroke-width=\"4\"/>\n",
       "<circle clip-path=\"url(#clip652)\" cx=\"452.245\" cy=\"740.352\" r=\"14.4\" fill=\"#009af9\" fill-rule=\"evenodd\" fill-opacity=\"1\" stroke=\"#000000\" stroke-opacity=\"1\" stroke-width=\"4\"/>\n",
       "<circle clip-path=\"url(#clip652)\" cx=\"650.619\" cy=\"624.13\" r=\"14.4\" fill=\"#009af9\" fill-rule=\"evenodd\" fill-opacity=\"1\" stroke=\"#000000\" stroke-opacity=\"1\" stroke-width=\"4\"/>\n",
       "<circle clip-path=\"url(#clip652)\" cx=\"981.243\" cy=\"270.51\" r=\"14.4\" fill=\"#009af9\" fill-rule=\"evenodd\" fill-opacity=\"1\" stroke=\"#000000\" stroke-opacity=\"1\" stroke-width=\"4\"/>\n",
       "<circle clip-path=\"url(#clip652)\" cx=\"518.369\" cy=\"707.921\" r=\"14.4\" fill=\"#009af9\" fill-rule=\"evenodd\" fill-opacity=\"1\" stroke=\"#000000\" stroke-opacity=\"1\" stroke-width=\"4\"/>\n",
       "<circle clip-path=\"url(#clip652)\" cx=\"981.243\" cy=\"461.843\" r=\"14.4\" fill=\"#009af9\" fill-rule=\"evenodd\" fill-opacity=\"1\" stroke=\"#000000\" stroke-opacity=\"1\" stroke-width=\"4\"/>\n",
       "<circle clip-path=\"url(#clip652)\" cx=\"518.369\" cy=\"381.752\" r=\"14.4\" fill=\"#009af9\" fill-rule=\"evenodd\" fill-opacity=\"1\" stroke=\"#000000\" stroke-opacity=\"1\" stroke-width=\"4\"/>\n",
       "<circle clip-path=\"url(#clip652)\" cx=\"981.243\" cy=\"360.694\" r=\"14.4\" fill=\"#009af9\" fill-rule=\"evenodd\" fill-opacity=\"1\" stroke=\"#000000\" stroke-opacity=\"1\" stroke-width=\"4\"/>\n",
       "<circle clip-path=\"url(#clip652)\" cx=\"716.744\" cy=\"496.066\" r=\"14.4\" fill=\"#009af9\" fill-rule=\"evenodd\" fill-opacity=\"1\" stroke=\"#000000\" stroke-opacity=\"1\" stroke-width=\"4\"/>\n",
       "<circle clip-path=\"url(#clip652)\" cx=\"782.869\" cy=\"626.829\" r=\"14.4\" fill=\"#009af9\" fill-rule=\"evenodd\" fill-opacity=\"1\" stroke=\"#000000\" stroke-opacity=\"1\" stroke-width=\"4\"/>\n",
       "<circle clip-path=\"url(#clip652)\" cx=\"584.494\" cy=\"656.078\" r=\"14.4\" fill=\"#009af9\" fill-rule=\"evenodd\" fill-opacity=\"1\" stroke=\"#000000\" stroke-opacity=\"1\" stroke-width=\"4\"/>\n",
       "<circle clip-path=\"url(#clip652)\" cx=\"650.619\" cy=\"589.956\" r=\"14.4\" fill=\"#009af9\" fill-rule=\"evenodd\" fill-opacity=\"1\" stroke=\"#000000\" stroke-opacity=\"1\" stroke-width=\"4\"/>\n",
       "<circle clip-path=\"url(#clip652)\" cx=\"848.993\" cy=\"529.718\" r=\"14.4\" fill=\"#009af9\" fill-rule=\"evenodd\" fill-opacity=\"1\" stroke=\"#000000\" stroke-opacity=\"1\" stroke-width=\"4\"/>\n",
       "<circle clip-path=\"url(#clip652)\" cx=\"584.494\" cy=\"669.166\" r=\"14.4\" fill=\"#009af9\" fill-rule=\"evenodd\" fill-opacity=\"1\" stroke=\"#000000\" stroke-opacity=\"1\" stroke-width=\"4\"/>\n",
       "<path clip-path=\"url(#clip650)\" d=\"M1381.74 821.232 L2152.76 821.232 L2152.76 47.2441 L1381.74 47.2441  Z\" fill=\"#ffffff\" fill-rule=\"evenodd\" fill-opacity=\"1\"/>\n",
       "<defs>\n",
       "  <clipPath id=\"clip653\">\n",
       "    <rect x=\"1381\" y=\"47\" width=\"772\" height=\"775\"/>\n",
       "  </clipPath>\n",
       "</defs>\n",
       "<path clip-path=\"url(#clip650)\" d=\"M298.174 1789.33 L1069.19 1789.33 L1069.19 1015.34 L298.174 1015.34  Z\" fill=\"#ffffff\" fill-rule=\"evenodd\" fill-opacity=\"1\"/>\n",
       "<defs>\n",
       "  <clipPath id=\"clip654\">\n",
       "    <rect x=\"298\" y=\"1015\" width=\"772\" height=\"775\"/>\n",
       "  </clipPath>\n",
       "</defs>\n",
       "<polyline clip-path=\"url(#clip654)\" style=\"stroke:#000000; stroke-linecap:round; stroke-linejoin:round; stroke-width:2; stroke-opacity:0.1; fill:none\" points=\"319.995,1789.33 319.995,1015.34 \"/>\n",
       "<polyline clip-path=\"url(#clip654)\" style=\"stroke:#000000; stroke-linecap:round; stroke-linejoin:round; stroke-width:2; stroke-opacity:0.1; fill:none\" points=\"465.47,1789.33 465.47,1015.34 \"/>\n",
       "<polyline clip-path=\"url(#clip654)\" style=\"stroke:#000000; stroke-linecap:round; stroke-linejoin:round; stroke-width:2; stroke-opacity:0.1; fill:none\" points=\"610.944,1789.33 610.944,1015.34 \"/>\n",
       "<polyline clip-path=\"url(#clip654)\" style=\"stroke:#000000; stroke-linecap:round; stroke-linejoin:round; stroke-width:2; stroke-opacity:0.1; fill:none\" points=\"756.419,1789.33 756.419,1015.34 \"/>\n",
       "<polyline clip-path=\"url(#clip654)\" style=\"stroke:#000000; stroke-linecap:round; stroke-linejoin:round; stroke-width:2; stroke-opacity:0.1; fill:none\" points=\"901.893,1789.33 901.893,1015.34 \"/>\n",
       "<polyline clip-path=\"url(#clip654)\" style=\"stroke:#000000; stroke-linecap:round; stroke-linejoin:round; stroke-width:2; stroke-opacity:0.1; fill:none\" points=\"1047.37,1789.33 1047.37,1015.34 \"/>\n",
       "<polyline clip-path=\"url(#clip654)\" style=\"stroke:#000000; stroke-linecap:round; stroke-linejoin:round; stroke-width:2; stroke-opacity:0.1; fill:none\" points=\"319.995,1789.33 319.995,1015.34 \"/>\n",
       "<polyline clip-path=\"url(#clip654)\" style=\"stroke:#000000; stroke-linecap:round; stroke-linejoin:round; stroke-width:2; stroke-opacity:0.1; fill:none\" points=\"465.47,1789.33 465.47,1015.34 \"/>\n",
       "<polyline clip-path=\"url(#clip654)\" style=\"stroke:#000000; stroke-linecap:round; stroke-linejoin:round; stroke-width:2; stroke-opacity:0.1; fill:none\" points=\"610.944,1789.33 610.944,1015.34 \"/>\n",
       "<polyline clip-path=\"url(#clip654)\" style=\"stroke:#000000; stroke-linecap:round; stroke-linejoin:round; stroke-width:2; stroke-opacity:0.1; fill:none\" points=\"756.419,1789.33 756.419,1015.34 \"/>\n",
       "<polyline clip-path=\"url(#clip654)\" style=\"stroke:#000000; stroke-linecap:round; stroke-linejoin:round; stroke-width:2; stroke-opacity:0.1; fill:none\" points=\"901.893,1789.33 901.893,1015.34 \"/>\n",
       "<polyline clip-path=\"url(#clip654)\" style=\"stroke:#000000; stroke-linecap:round; stroke-linejoin:round; stroke-width:2; stroke-opacity:0.1; fill:none\" points=\"1047.37,1789.33 1047.37,1015.34 \"/>\n",
       "<polyline clip-path=\"url(#clip654)\" style=\"stroke:#000000; stroke-linecap:round; stroke-linejoin:round; stroke-width:2; stroke-opacity:0.1; fill:none\" points=\"298.174,1767.43 1069.19,1767.43 \"/>\n",
       "<polyline clip-path=\"url(#clip654)\" style=\"stroke:#000000; stroke-linecap:round; stroke-linejoin:round; stroke-width:2; stroke-opacity:0.1; fill:none\" points=\"298.174,1464.23 1069.19,1464.23 \"/>\n",
       "<polyline clip-path=\"url(#clip654)\" style=\"stroke:#000000; stroke-linecap:round; stroke-linejoin:round; stroke-width:2; stroke-opacity:0.1; fill:none\" points=\"298.174,1161.03 1069.19,1161.03 \"/>\n",
       "<polyline clip-path=\"url(#clip654)\" style=\"stroke:#000000; stroke-linecap:round; stroke-linejoin:round; stroke-width:2; stroke-opacity:0.1; fill:none\" points=\"298.174,1767.43 1069.19,1767.43 \"/>\n",
       "<polyline clip-path=\"url(#clip654)\" style=\"stroke:#000000; stroke-linecap:round; stroke-linejoin:round; stroke-width:2; stroke-opacity:0.1; fill:none\" points=\"298.174,1464.23 1069.19,1464.23 \"/>\n",
       "<polyline clip-path=\"url(#clip654)\" style=\"stroke:#000000; stroke-linecap:round; stroke-linejoin:round; stroke-width:2; stroke-opacity:0.1; fill:none\" points=\"298.174,1161.03 1069.19,1161.03 \"/>\n",
       "<polyline clip-path=\"url(#clip650)\" style=\"stroke:#000000; stroke-linecap:round; stroke-linejoin:round; stroke-width:4; stroke-opacity:1; fill:none\" points=\"298.174,1789.33 1069.19,1789.33 \"/>\n",
       "<polyline clip-path=\"url(#clip650)\" style=\"stroke:#000000; stroke-linecap:round; stroke-linejoin:round; stroke-width:4; stroke-opacity:1; fill:none\" points=\"298.174,1015.34 1069.19,1015.34 \"/>\n",
       "<polyline clip-path=\"url(#clip650)\" style=\"stroke:#000000; stroke-linecap:round; stroke-linejoin:round; stroke-width:4; stroke-opacity:1; fill:none\" points=\"319.995,1789.33 319.995,1770.43 \"/>\n",
       "<polyline clip-path=\"url(#clip650)\" style=\"stroke:#000000; stroke-linecap:round; stroke-linejoin:round; stroke-width:4; stroke-opacity:1; fill:none\" points=\"465.47,1789.33 465.47,1770.43 \"/>\n",
       "<polyline clip-path=\"url(#clip650)\" style=\"stroke:#000000; stroke-linecap:round; stroke-linejoin:round; stroke-width:4; stroke-opacity:1; fill:none\" points=\"610.944,1789.33 610.944,1770.43 \"/>\n",
       "<polyline clip-path=\"url(#clip650)\" style=\"stroke:#000000; stroke-linecap:round; stroke-linejoin:round; stroke-width:4; stroke-opacity:1; fill:none\" points=\"756.419,1789.33 756.419,1770.43 \"/>\n",
       "<polyline clip-path=\"url(#clip650)\" style=\"stroke:#000000; stroke-linecap:round; stroke-linejoin:round; stroke-width:4; stroke-opacity:1; fill:none\" points=\"901.893,1789.33 901.893,1770.43 \"/>\n",
       "<polyline clip-path=\"url(#clip650)\" style=\"stroke:#000000; stroke-linecap:round; stroke-linejoin:round; stroke-width:4; stroke-opacity:1; fill:none\" points=\"1047.37,1789.33 1047.37,1770.43 \"/>\n",
       "<polyline clip-path=\"url(#clip650)\" style=\"stroke:#000000; stroke-linecap:round; stroke-linejoin:round; stroke-width:4; stroke-opacity:1; fill:none\" points=\"319.995,1015.34 319.995,1034.24 \"/>\n",
       "<polyline clip-path=\"url(#clip650)\" style=\"stroke:#000000; stroke-linecap:round; stroke-linejoin:round; stroke-width:4; stroke-opacity:1; fill:none\" points=\"465.47,1015.34 465.47,1034.24 \"/>\n",
       "<polyline clip-path=\"url(#clip650)\" style=\"stroke:#000000; stroke-linecap:round; stroke-linejoin:round; stroke-width:4; stroke-opacity:1; fill:none\" points=\"610.944,1015.34 610.944,1034.24 \"/>\n",
       "<polyline clip-path=\"url(#clip650)\" style=\"stroke:#000000; stroke-linecap:round; stroke-linejoin:round; stroke-width:4; stroke-opacity:1; fill:none\" points=\"756.419,1015.34 756.419,1034.24 \"/>\n",
       "<polyline clip-path=\"url(#clip650)\" style=\"stroke:#000000; stroke-linecap:round; stroke-linejoin:round; stroke-width:4; stroke-opacity:1; fill:none\" points=\"901.893,1015.34 901.893,1034.24 \"/>\n",
       "<polyline clip-path=\"url(#clip650)\" style=\"stroke:#000000; stroke-linecap:round; stroke-linejoin:round; stroke-width:4; stroke-opacity:1; fill:none\" points=\"1047.37,1015.34 1047.37,1034.24 \"/>\n",
       "<path clip-path=\"url(#clip650)\" d=\"M297.877 1818.65 Q294.266 1818.65 292.437 1822.22 Q290.632 1825.76 290.632 1832.89 Q290.632 1839.99 292.437 1843.56 Q294.266 1847.1 297.877 1847.1 Q301.511 1847.1 303.317 1843.56 Q305.146 1839.99 305.146 1832.89 Q305.146 1825.76 303.317 1822.22 Q301.511 1818.65 297.877 1818.65 M297.877 1814.95 Q303.687 1814.95 306.743 1819.55 Q309.822 1824.14 309.822 1832.89 Q309.822 1841.61 306.743 1846.22 Q303.687 1850.8 297.877 1850.8 Q292.067 1850.8 288.988 1846.22 Q285.933 1841.61 285.933 1832.89 Q285.933 1824.14 288.988 1819.55 Q292.067 1814.95 297.877 1814.95 Z\" fill=\"#000000\" fill-rule=\"nonzero\" fill-opacity=\"1\" /><path clip-path=\"url(#clip650)\" d=\"M318.039 1844.25 L322.923 1844.25 L322.923 1850.13 L318.039 1850.13 L318.039 1844.25 Z\" fill=\"#000000\" fill-rule=\"nonzero\" fill-opacity=\"1\" /><path clip-path=\"url(#clip650)\" d=\"M333.155 1815.57 L351.511 1815.57 L351.511 1819.51 L337.437 1819.51 L337.437 1827.98 Q338.456 1827.63 339.474 1827.47 Q340.493 1827.29 341.511 1827.29 Q347.298 1827.29 350.678 1830.46 Q354.057 1833.63 354.057 1839.04 Q354.057 1844.62 350.585 1847.73 Q347.113 1850.8 340.794 1850.8 Q338.618 1850.8 336.349 1850.43 Q334.104 1850.06 331.696 1849.32 L331.696 1844.62 Q333.78 1845.76 336.002 1846.31 Q338.224 1846.87 340.701 1846.87 Q344.706 1846.87 347.044 1844.76 Q349.382 1842.66 349.382 1839.04 Q349.382 1835.43 347.044 1833.33 Q344.706 1831.22 340.701 1831.22 Q338.826 1831.22 336.951 1831.64 Q335.099 1832.05 333.155 1832.93 L333.155 1815.57 Z\" fill=\"#000000\" fill-rule=\"nonzero\" fill-opacity=\"1\" /><path clip-path=\"url(#clip650)\" d=\"M442.773 1818.65 Q439.162 1818.65 437.333 1822.22 Q435.528 1825.76 435.528 1832.89 Q435.528 1839.99 437.333 1843.56 Q439.162 1847.1 442.773 1847.1 Q446.407 1847.1 448.213 1843.56 Q450.042 1839.99 450.042 1832.89 Q450.042 1825.76 448.213 1822.22 Q446.407 1818.65 442.773 1818.65 M442.773 1814.95 Q448.583 1814.95 451.639 1819.55 Q454.717 1824.14 454.717 1832.89 Q454.717 1841.61 451.639 1846.22 Q448.583 1850.8 442.773 1850.8 Q436.963 1850.8 433.884 1846.22 Q430.829 1841.61 430.829 1832.89 Q430.829 1824.14 433.884 1819.55 Q436.963 1814.95 442.773 1814.95 Z\" fill=\"#000000\" fill-rule=\"nonzero\" fill-opacity=\"1\" /><path clip-path=\"url(#clip650)\" d=\"M462.935 1844.25 L467.819 1844.25 L467.819 1850.13 L462.935 1850.13 L462.935 1844.25 Z\" fill=\"#000000\" fill-rule=\"nonzero\" fill-opacity=\"1\" /><path clip-path=\"url(#clip650)\" d=\"M488.583 1830.99 Q485.435 1830.99 483.583 1833.14 Q481.754 1835.29 481.754 1839.04 Q481.754 1842.77 483.583 1844.95 Q485.435 1847.1 488.583 1847.1 Q491.731 1847.1 493.56 1844.95 Q495.412 1842.77 495.412 1839.04 Q495.412 1835.29 493.56 1833.14 Q491.731 1830.99 488.583 1830.99 M497.865 1816.34 L497.865 1820.6 Q496.106 1819.76 494.301 1819.32 Q492.518 1818.88 490.759 1818.88 Q486.129 1818.88 483.676 1822.01 Q481.245 1825.13 480.898 1831.45 Q482.264 1829.44 484.324 1828.37 Q486.384 1827.29 488.861 1827.29 Q494.069 1827.29 497.078 1830.46 Q500.111 1833.6 500.111 1839.04 Q500.111 1844.37 496.963 1847.59 Q493.814 1850.8 488.583 1850.8 Q482.588 1850.8 479.416 1846.22 Q476.245 1841.61 476.245 1832.89 Q476.245 1824.69 480.134 1819.83 Q484.023 1814.95 490.574 1814.95 Q492.333 1814.95 494.115 1815.29 Q495.921 1815.64 497.865 1816.34 Z\" fill=\"#000000\" fill-rule=\"nonzero\" fill-opacity=\"1\" /><path clip-path=\"url(#clip650)\" d=\"M588.78 1818.65 Q585.169 1818.65 583.34 1822.22 Q581.535 1825.76 581.535 1832.89 Q581.535 1839.99 583.34 1843.56 Q585.169 1847.1 588.78 1847.1 Q592.414 1847.1 594.22 1843.56 Q596.048 1839.99 596.048 1832.89 Q596.048 1825.76 594.22 1822.22 Q592.414 1818.65 588.78 1818.65 M588.78 1814.95 Q594.59 1814.95 597.646 1819.55 Q600.724 1824.14 600.724 1832.89 Q600.724 1841.61 597.646 1846.22 Q594.59 1850.8 588.78 1850.8 Q582.97 1850.8 579.891 1846.22 Q576.836 1841.61 576.836 1832.89 Q576.836 1824.14 579.891 1819.55 Q582.97 1814.95 588.78 1814.95 Z\" fill=\"#000000\" fill-rule=\"nonzero\" fill-opacity=\"1\" /><path clip-path=\"url(#clip650)\" d=\"M608.942 1844.25 L613.826 1844.25 L613.826 1850.13 L608.942 1850.13 L608.942 1844.25 Z\" fill=\"#000000\" fill-rule=\"nonzero\" fill-opacity=\"1\" /><path clip-path=\"url(#clip650)\" d=\"M622.831 1815.57 L645.053 1815.57 L645.053 1817.56 L632.507 1850.13 L627.622 1850.13 L639.428 1819.51 L622.831 1819.51 L622.831 1815.57 Z\" fill=\"#000000\" fill-rule=\"nonzero\" fill-opacity=\"1\" /><path clip-path=\"url(#clip650)\" d=\"M733.849 1818.65 Q730.238 1818.65 728.41 1822.22 Q726.604 1825.76 726.604 1832.89 Q726.604 1839.99 728.41 1843.56 Q730.238 1847.1 733.849 1847.1 Q737.484 1847.1 739.289 1843.56 Q741.118 1839.99 741.118 1832.89 Q741.118 1825.76 739.289 1822.22 Q737.484 1818.65 733.849 1818.65 M733.849 1814.95 Q739.659 1814.95 742.715 1819.55 Q745.794 1824.14 745.794 1832.89 Q745.794 1841.61 742.715 1846.22 Q739.659 1850.8 733.849 1850.8 Q728.039 1850.8 724.96 1846.22 Q721.905 1841.61 721.905 1832.89 Q721.905 1824.14 724.96 1819.55 Q728.039 1814.95 733.849 1814.95 Z\" fill=\"#000000\" fill-rule=\"nonzero\" fill-opacity=\"1\" /><path clip-path=\"url(#clip650)\" d=\"M754.011 1844.25 L758.896 1844.25 L758.896 1850.13 L754.011 1850.13 L754.011 1844.25 Z\" fill=\"#000000\" fill-rule=\"nonzero\" fill-opacity=\"1\" /><path clip-path=\"url(#clip650)\" d=\"M779.081 1833.72 Q775.747 1833.72 773.826 1835.5 Q771.928 1837.29 771.928 1840.41 Q771.928 1843.54 773.826 1845.32 Q775.747 1847.1 779.081 1847.1 Q782.414 1847.1 784.335 1845.32 Q786.256 1843.51 786.256 1840.41 Q786.256 1837.29 784.335 1835.5 Q782.437 1833.72 779.081 1833.72 M774.405 1831.73 Q771.395 1830.99 769.706 1828.93 Q768.039 1826.87 768.039 1823.91 Q768.039 1819.76 770.979 1817.35 Q773.942 1814.95 779.081 1814.95 Q784.243 1814.95 787.182 1817.35 Q790.122 1819.76 790.122 1823.91 Q790.122 1826.87 788.432 1828.93 Q786.766 1830.99 783.78 1831.73 Q787.159 1832.52 789.034 1834.81 Q790.932 1837.1 790.932 1840.41 Q790.932 1845.43 787.854 1848.12 Q784.798 1850.8 779.081 1850.8 Q773.363 1850.8 770.284 1848.12 Q767.229 1845.43 767.229 1840.41 Q767.229 1837.1 769.127 1834.81 Q771.025 1832.52 774.405 1831.73 M772.692 1824.35 Q772.692 1827.03 774.358 1828.54 Q776.048 1830.04 779.081 1830.04 Q782.09 1830.04 783.78 1828.54 Q785.493 1827.03 785.493 1824.35 Q785.493 1821.66 783.78 1820.16 Q782.09 1818.65 779.081 1818.65 Q776.048 1818.65 774.358 1820.16 Q772.692 1821.66 772.692 1824.35 Z\" fill=\"#000000\" fill-rule=\"nonzero\" fill-opacity=\"1\" /><path clip-path=\"url(#clip650)\" d=\"M879.37 1818.65 Q875.759 1818.65 873.93 1822.22 Q872.125 1825.76 872.125 1832.89 Q872.125 1839.99 873.93 1843.56 Q875.759 1847.1 879.37 1847.1 Q883.004 1847.1 884.81 1843.56 Q886.639 1839.99 886.639 1832.89 Q886.639 1825.76 884.81 1822.22 Q883.004 1818.65 879.37 1818.65 M879.37 1814.95 Q885.18 1814.95 888.236 1819.55 Q891.315 1824.14 891.315 1832.89 Q891.315 1841.61 888.236 1846.22 Q885.18 1850.8 879.37 1850.8 Q873.56 1850.8 870.481 1846.22 Q867.426 1841.61 867.426 1832.89 Q867.426 1824.14 870.481 1819.55 Q873.56 1814.95 879.37 1814.95 Z\" fill=\"#000000\" fill-rule=\"nonzero\" fill-opacity=\"1\" /><path clip-path=\"url(#clip650)\" d=\"M899.532 1844.25 L904.416 1844.25 L904.416 1850.13 L899.532 1850.13 L899.532 1844.25 Z\" fill=\"#000000\" fill-rule=\"nonzero\" fill-opacity=\"1\" /><path clip-path=\"url(#clip650)\" d=\"M914.74 1849.41 L914.74 1845.16 Q916.5 1845.99 918.305 1846.43 Q920.111 1846.87 921.847 1846.87 Q926.476 1846.87 928.907 1843.77 Q931.361 1840.64 931.708 1834.3 Q930.365 1836.29 928.305 1837.35 Q926.245 1838.42 923.745 1838.42 Q918.56 1838.42 915.527 1835.29 Q912.518 1832.15 912.518 1826.71 Q912.518 1821.38 915.666 1818.17 Q918.814 1814.95 924.046 1814.95 Q930.041 1814.95 933.189 1819.55 Q936.361 1824.14 936.361 1832.89 Q936.361 1841.06 932.472 1845.94 Q928.606 1850.8 922.055 1850.8 Q920.296 1850.8 918.49 1850.46 Q916.685 1850.11 914.74 1849.41 M924.046 1834.76 Q927.194 1834.76 929.023 1832.61 Q930.874 1830.46 930.874 1826.71 Q930.874 1822.98 929.023 1820.83 Q927.194 1818.65 924.046 1818.65 Q920.898 1818.65 919.046 1820.83 Q917.217 1822.98 917.217 1826.71 Q917.217 1830.46 919.046 1832.61 Q920.898 1834.76 924.046 1834.76 Z\" fill=\"#000000\" fill-rule=\"nonzero\" fill-opacity=\"1\" /><path clip-path=\"url(#clip650)\" d=\"M1014.52 1846.2 L1022.16 1846.2 L1022.16 1819.83 L1013.85 1821.5 L1013.85 1817.24 L1022.11 1815.57 L1026.79 1815.57 L1026.79 1846.2 L1034.43 1846.2 L1034.43 1850.13 L1014.52 1850.13 L1014.52 1846.2 Z\" fill=\"#000000\" fill-rule=\"nonzero\" fill-opacity=\"1\" /><path clip-path=\"url(#clip650)\" d=\"M1043.87 1844.25 L1048.76 1844.25 L1048.76 1850.13 L1043.87 1850.13 L1043.87 1844.25 Z\" fill=\"#000000\" fill-rule=\"nonzero\" fill-opacity=\"1\" /><path clip-path=\"url(#clip650)\" d=\"M1068.94 1818.65 Q1065.33 1818.65 1063.5 1822.22 Q1061.7 1825.76 1061.7 1832.89 Q1061.7 1839.99 1063.5 1843.56 Q1065.33 1847.1 1068.94 1847.1 Q1072.58 1847.1 1074.38 1843.56 Q1076.21 1839.99 1076.21 1832.89 Q1076.21 1825.76 1074.38 1822.22 Q1072.58 1818.65 1068.94 1818.65 M1068.94 1814.95 Q1074.75 1814.95 1077.81 1819.55 Q1080.89 1824.14 1080.89 1832.89 Q1080.89 1841.61 1077.81 1846.22 Q1074.75 1850.8 1068.94 1850.8 Q1063.13 1850.8 1060.05 1846.22 Q1057 1841.61 1057 1832.89 Q1057 1824.14 1060.05 1819.55 Q1063.13 1814.95 1068.94 1814.95 Z\" fill=\"#000000\" fill-rule=\"nonzero\" fill-opacity=\"1\" /><path clip-path=\"url(#clip650)\" d=\"M441.291 1913.4 Q441.291 1906.94 438.618 1903.28 Q435.976 1899.59 431.329 1899.59 Q426.682 1899.59 424.008 1903.28 Q421.367 1906.94 421.367 1913.4 Q421.367 1919.87 424.008 1923.56 Q426.682 1927.22 431.329 1927.22 Q435.976 1927.22 438.618 1923.56 Q441.291 1919.87 441.291 1913.4 M421.367 1900.96 Q423.213 1897.78 426.014 1896.25 Q428.846 1894.69 432.761 1894.69 Q439.254 1894.69 443.296 1899.85 Q447.37 1905 447.37 1913.4 Q447.37 1921.81 443.296 1926.96 Q439.254 1932.12 432.761 1932.12 Q428.846 1932.12 426.014 1930.59 Q423.213 1929.03 421.367 1925.85 L421.367 1931.2 L415.478 1931.2 L415.478 1881.67 L421.367 1881.67 L421.367 1900.96 Z\" fill=\"#000000\" fill-rule=\"nonzero\" fill-opacity=\"1\" /><path clip-path=\"url(#clip650)\" d=\"M473.279 1913.28 Q466.181 1913.28 463.444 1914.9 Q460.707 1916.52 460.707 1920.44 Q460.707 1923.56 462.744 1925.4 Q464.813 1927.22 468.345 1927.22 Q473.215 1927.22 476.143 1923.78 Q479.104 1920.31 479.104 1914.58 L479.104 1913.28 L473.279 1913.28 M484.96 1910.86 L484.96 1931.2 L479.104 1931.2 L479.104 1925.79 Q477.098 1929.03 474.106 1930.59 Q471.115 1932.12 466.786 1932.12 Q461.311 1932.12 458.065 1929.06 Q454.85 1925.98 454.85 1920.82 Q454.85 1914.8 458.861 1911.75 Q462.903 1908.69 470.892 1908.69 L479.104 1908.69 L479.104 1908.12 Q479.104 1904.08 476.43 1901.88 Q473.788 1899.65 468.982 1899.65 Q465.927 1899.65 463.03 1900.39 Q460.134 1901.12 457.46 1902.58 L457.46 1897.17 Q460.675 1895.93 463.699 1895.33 Q466.722 1894.69 469.587 1894.69 Q477.321 1894.69 481.141 1898.7 Q484.96 1902.71 484.96 1910.86 Z\" fill=\"#000000\" fill-rule=\"nonzero\" fill-opacity=\"1\" /><path clip-path=\"url(#clip650)\" d=\"M520.481 1912.96 Q520.481 1906.59 517.839 1903.09 Q515.229 1899.59 510.486 1899.59 Q505.776 1899.59 503.134 1903.09 Q500.524 1906.59 500.524 1912.96 Q500.524 1919.29 503.134 1922.79 Q505.776 1926.29 510.486 1926.29 Q515.229 1926.29 517.839 1922.79 Q520.481 1919.29 520.481 1912.96 M526.337 1926.77 Q526.337 1935.88 522.295 1940.3 Q518.253 1944.76 509.914 1944.76 Q506.826 1944.76 504.089 1944.28 Q501.352 1943.83 498.774 1942.88 L498.774 1937.18 Q501.352 1938.58 503.866 1939.25 Q506.381 1939.92 508.991 1939.92 Q514.751 1939.92 517.616 1936.89 Q520.481 1933.9 520.481 1927.82 L520.481 1924.93 Q518.666 1928.08 515.834 1929.64 Q513.001 1931.2 509.054 1931.2 Q502.497 1931.2 498.487 1926.2 Q494.477 1921.2 494.477 1912.96 Q494.477 1904.68 498.487 1899.69 Q502.497 1894.69 509.054 1894.69 Q513.001 1894.69 515.834 1896.25 Q518.666 1897.81 520.481 1900.96 L520.481 1895.55 L526.337 1895.55 L526.337 1926.77 Z\" fill=\"#000000\" fill-rule=\"nonzero\" fill-opacity=\"1\" /><path clip-path=\"url(#clip650)\" d=\"M561.858 1912.96 Q561.858 1906.59 559.216 1903.09 Q556.606 1899.59 551.864 1899.59 Q547.153 1899.59 544.511 1903.09 Q541.901 1906.59 541.901 1912.96 Q541.901 1919.29 544.511 1922.79 Q547.153 1926.29 551.864 1926.29 Q556.606 1926.29 559.216 1922.79 Q561.858 1919.29 561.858 1912.96 M567.714 1926.77 Q567.714 1935.88 563.672 1940.3 Q559.63 1944.76 551.291 1944.76 Q548.203 1944.76 545.466 1944.28 Q542.729 1943.83 540.151 1942.88 L540.151 1937.18 Q542.729 1938.58 545.243 1939.25 Q547.758 1939.92 550.368 1939.92 Q556.129 1939.92 558.993 1936.89 Q561.858 1933.9 561.858 1927.82 L561.858 1924.93 Q560.043 1928.08 557.211 1929.64 Q554.378 1931.2 550.431 1931.2 Q543.875 1931.2 539.864 1926.2 Q535.854 1921.2 535.854 1912.96 Q535.854 1904.68 539.864 1899.69 Q543.875 1894.69 550.431 1894.69 Q554.378 1894.69 557.211 1896.25 Q560.043 1897.81 561.858 1900.96 L561.858 1895.55 L567.714 1895.55 L567.714 1926.77 Z\" fill=\"#000000\" fill-rule=\"nonzero\" fill-opacity=\"1\" /><path clip-path=\"url(#clip650)\" d=\"M579.777 1895.55 L585.634 1895.55 L585.634 1931.2 L579.777 1931.2 L579.777 1895.55 M579.777 1881.67 L585.634 1881.67 L585.634 1889.09 L579.777 1889.09 L579.777 1881.67 Z\" fill=\"#000000\" fill-rule=\"nonzero\" fill-opacity=\"1\" /><path clip-path=\"url(#clip650)\" d=\"M627.52 1909.68 L627.52 1931.2 L621.664 1931.2 L621.664 1909.87 Q621.664 1904.81 619.69 1902.3 Q617.717 1899.78 613.77 1899.78 Q609.028 1899.78 606.29 1902.81 Q603.553 1905.83 603.553 1911.05 L603.553 1931.2 L597.665 1931.2 L597.665 1895.55 L603.553 1895.55 L603.553 1901.09 Q605.654 1897.87 608.487 1896.28 Q611.351 1894.69 615.075 1894.69 Q621.218 1894.69 624.369 1898.51 Q627.52 1902.3 627.52 1909.68 Z\" fill=\"#000000\" fill-rule=\"nonzero\" fill-opacity=\"1\" /><path clip-path=\"url(#clip650)\" d=\"M662.659 1912.96 Q662.659 1906.59 660.017 1903.09 Q657.407 1899.59 652.665 1899.59 Q647.954 1899.59 645.312 1903.09 Q642.702 1906.59 642.702 1912.96 Q642.702 1919.29 645.312 1922.79 Q647.954 1926.29 652.665 1926.29 Q657.407 1926.29 660.017 1922.79 Q662.659 1919.29 662.659 1912.96 M668.515 1926.77 Q668.515 1935.88 664.473 1940.3 Q660.431 1944.76 652.092 1944.76 Q649.004 1944.76 646.267 1944.28 Q643.53 1943.83 640.952 1942.88 L640.952 1937.18 Q643.53 1938.58 646.044 1939.25 Q648.559 1939.92 651.169 1939.92 Q656.93 1939.92 659.794 1936.89 Q662.659 1933.9 662.659 1927.82 L662.659 1924.93 Q660.844 1928.08 658.012 1929.64 Q655.179 1931.2 651.232 1931.2 Q644.676 1931.2 640.665 1926.2 Q636.655 1921.2 636.655 1912.96 Q636.655 1904.68 640.665 1899.69 Q644.676 1894.69 651.232 1894.69 Q655.179 1894.69 658.012 1896.25 Q660.844 1897.81 662.659 1900.96 L662.659 1895.55 L668.515 1895.55 L668.515 1926.77 Z\" fill=\"#000000\" fill-rule=\"nonzero\" fill-opacity=\"1\" /><path clip-path=\"url(#clip650)\" d=\"M707.664 1942.02 L707.664 1946.57 L673.799 1946.57 L673.799 1942.02 L707.664 1942.02 Z\" fill=\"#000000\" fill-rule=\"nonzero\" fill-opacity=\"1\" /><path clip-path=\"url(#clip650)\" d=\"M731.217 1881.67 L731.217 1886.54 L725.616 1886.54 Q722.464 1886.54 721.223 1887.81 Q720.014 1889.09 720.014 1892.4 L720.014 1895.55 L729.658 1895.55 L729.658 1900.1 L720.014 1900.1 L720.014 1931.2 L714.125 1931.2 L714.125 1900.1 L708.524 1900.1 L708.524 1895.55 L714.125 1895.55 L714.125 1893.07 Q714.125 1887.11 716.894 1884.41 Q719.664 1881.67 725.679 1881.67 L731.217 1881.67 Z\" fill=\"#000000\" fill-rule=\"nonzero\" fill-opacity=\"1\" /><path clip-path=\"url(#clip650)\" d=\"M756.776 1901.02 Q755.789 1900.45 754.611 1900.2 Q753.465 1899.91 752.065 1899.91 Q747.1 1899.91 744.426 1903.16 Q741.784 1906.37 741.784 1912.42 L741.784 1931.2 L735.896 1931.2 L735.896 1895.55 L741.784 1895.55 L741.784 1901.09 Q743.63 1897.84 746.591 1896.28 Q749.551 1894.69 753.784 1894.69 Q754.389 1894.69 755.121 1894.78 Q755.853 1894.85 756.744 1895.01 L756.776 1901.02 Z\" fill=\"#000000\" fill-rule=\"nonzero\" fill-opacity=\"1\" /><path clip-path=\"url(#clip650)\" d=\"M779.119 1913.28 Q772.022 1913.28 769.284 1914.9 Q766.547 1916.52 766.547 1920.44 Q766.547 1923.56 768.584 1925.4 Q770.653 1927.22 774.186 1927.22 Q779.056 1927.22 781.984 1923.78 Q784.944 1920.31 784.944 1914.58 L784.944 1913.28 L779.119 1913.28 M790.8 1910.86 L790.8 1931.2 L784.944 1931.2 L784.944 1925.79 Q782.939 1929.03 779.947 1930.59 Q776.955 1932.12 772.626 1932.12 Q767.152 1932.12 763.905 1929.06 Q760.691 1925.98 760.691 1920.82 Q760.691 1914.8 764.701 1911.75 Q768.743 1908.69 776.732 1908.69 L784.944 1908.69 L784.944 1908.12 Q784.944 1904.08 782.27 1901.88 Q779.629 1899.65 774.822 1899.65 Q771.767 1899.65 768.87 1900.39 Q765.974 1901.12 763.3 1902.58 L763.3 1897.17 Q766.515 1895.93 769.539 1895.33 Q772.563 1894.69 775.427 1894.69 Q783.161 1894.69 786.981 1898.7 Q790.8 1902.71 790.8 1910.86 Z\" fill=\"#000000\" fill-rule=\"nonzero\" fill-opacity=\"1\" /><path clip-path=\"url(#clip650)\" d=\"M828.517 1896.92 L828.517 1902.39 Q826.035 1901.02 823.52 1900.35 Q821.037 1899.65 818.491 1899.65 Q812.794 1899.65 809.643 1903.28 Q806.492 1906.88 806.492 1913.4 Q806.492 1919.93 809.643 1923.56 Q812.794 1927.15 818.491 1927.15 Q821.037 1927.15 823.52 1926.49 Q826.035 1925.79 828.517 1924.42 L828.517 1929.83 Q826.066 1930.97 823.425 1931.55 Q820.815 1932.12 817.855 1932.12 Q809.802 1932.12 805.06 1927.06 Q800.317 1922 800.317 1913.4 Q800.317 1904.68 805.091 1899.69 Q809.897 1894.69 818.237 1894.69 Q820.942 1894.69 823.52 1895.26 Q826.098 1895.8 828.517 1896.92 Z\" fill=\"#000000\" fill-rule=\"nonzero\" fill-opacity=\"1\" /><path clip-path=\"url(#clip650)\" d=\"M844.495 1885.43 L844.495 1895.55 L856.558 1895.55 L856.558 1900.1 L844.495 1900.1 L844.495 1919.45 Q844.495 1923.81 845.673 1925.05 Q846.882 1926.29 850.542 1926.29 L856.558 1926.29 L856.558 1931.2 L850.542 1931.2 Q843.763 1931.2 841.185 1928.68 Q838.607 1926.14 838.607 1919.45 L838.607 1900.1 L834.31 1900.1 L834.31 1895.55 L838.607 1895.55 L838.607 1885.43 L844.495 1885.43 Z\" fill=\"#000000\" fill-rule=\"nonzero\" fill-opacity=\"1\" /><path clip-path=\"url(#clip650)\" d=\"M864.261 1895.55 L870.117 1895.55 L870.117 1931.2 L864.261 1931.2 L864.261 1895.55 M864.261 1881.67 L870.117 1881.67 L870.117 1889.09 L864.261 1889.09 L864.261 1881.67 Z\" fill=\"#000000\" fill-rule=\"nonzero\" fill-opacity=\"1\" /><path clip-path=\"url(#clip650)\" d=\"M896.185 1899.65 Q891.474 1899.65 888.737 1903.35 Q885.999 1907.01 885.999 1913.4 Q885.999 1919.8 888.705 1923.49 Q891.442 1927.15 896.185 1927.15 Q900.863 1927.15 903.601 1923.46 Q906.338 1919.77 906.338 1913.4 Q906.338 1907.07 903.601 1903.38 Q900.863 1899.65 896.185 1899.65 M896.185 1894.69 Q903.823 1894.69 908.184 1899.65 Q912.544 1904.62 912.544 1913.4 Q912.544 1922.16 908.184 1927.15 Q903.823 1932.12 896.185 1932.12 Q888.514 1932.12 884.153 1927.15 Q879.825 1922.16 879.825 1913.4 Q879.825 1904.62 884.153 1899.65 Q888.514 1894.69 896.185 1894.69 Z\" fill=\"#000000\" fill-rule=\"nonzero\" fill-opacity=\"1\" /><path clip-path=\"url(#clip650)\" d=\"M951.885 1909.68 L951.885 1931.2 L946.028 1931.2 L946.028 1909.87 Q946.028 1904.81 944.055 1902.3 Q942.081 1899.78 938.135 1899.78 Q933.392 1899.78 930.655 1902.81 Q927.918 1905.83 927.918 1911.05 L927.918 1931.2 L922.029 1931.2 L922.029 1895.55 L927.918 1895.55 L927.918 1901.09 Q930.018 1897.87 932.851 1896.28 Q935.716 1894.69 939.44 1894.69 Q945.582 1894.69 948.734 1898.51 Q951.885 1902.3 951.885 1909.68 Z\" fill=\"#000000\" fill-rule=\"nonzero\" fill-opacity=\"1\" /><polyline clip-path=\"url(#clip650)\" style=\"stroke:#000000; stroke-linecap:round; stroke-linejoin:round; stroke-width:4; stroke-opacity:1; fill:none\" points=\"298.174,1789.33 298.174,1015.34 \"/>\n",
       "<polyline clip-path=\"url(#clip650)\" style=\"stroke:#000000; stroke-linecap:round; stroke-linejoin:round; stroke-width:4; stroke-opacity:1; fill:none\" points=\"1069.19,1789.33 1069.19,1015.34 \"/>\n",
       "<polyline clip-path=\"url(#clip650)\" style=\"stroke:#000000; stroke-linecap:round; stroke-linejoin:round; stroke-width:4; stroke-opacity:1; fill:none\" points=\"298.174,1767.43 317.072,1767.43 \"/>\n",
       "<polyline clip-path=\"url(#clip650)\" style=\"stroke:#000000; stroke-linecap:round; stroke-linejoin:round; stroke-width:4; stroke-opacity:1; fill:none\" points=\"298.174,1464.23 317.072,1464.23 \"/>\n",
       "<polyline clip-path=\"url(#clip650)\" style=\"stroke:#000000; stroke-linecap:round; stroke-linejoin:round; stroke-width:4; stroke-opacity:1; fill:none\" points=\"298.174,1161.03 317.072,1161.03 \"/>\n",
       "<polyline clip-path=\"url(#clip650)\" style=\"stroke:#000000; stroke-linecap:round; stroke-linejoin:round; stroke-width:4; stroke-opacity:1; fill:none\" points=\"1069.19,1767.43 1050.29,1767.43 \"/>\n",
       "<polyline clip-path=\"url(#clip650)\" style=\"stroke:#000000; stroke-linecap:round; stroke-linejoin:round; stroke-width:4; stroke-opacity:1; fill:none\" points=\"1069.19,1464.23 1050.29,1464.23 \"/>\n",
       "<polyline clip-path=\"url(#clip650)\" style=\"stroke:#000000; stroke-linecap:round; stroke-linejoin:round; stroke-width:4; stroke-opacity:1; fill:none\" points=\"1069.19,1161.03 1050.29,1161.03 \"/>\n",
       "<path clip-path=\"url(#clip650)\" d=\"M133.211 1787.22 L140.85 1787.22 L140.85 1760.85 L132.54 1762.52 L132.54 1758.26 L140.804 1756.59 L145.48 1756.59 L145.48 1787.22 L153.119 1787.22 L153.119 1791.15 L133.211 1791.15 L133.211 1787.22 Z\" fill=\"#000000\" fill-rule=\"nonzero\" fill-opacity=\"1\" /><path clip-path=\"url(#clip650)\" d=\"M172.563 1759.67 Q168.952 1759.67 167.123 1763.24 Q165.318 1766.78 165.318 1773.91 Q165.318 1781.02 167.123 1784.58 Q168.952 1788.12 172.563 1788.12 Q176.197 1788.12 178.003 1784.58 Q179.832 1781.02 179.832 1773.91 Q179.832 1766.78 178.003 1763.24 Q176.197 1759.67 172.563 1759.67 M172.563 1755.97 Q178.373 1755.97 181.429 1760.58 Q184.507 1765.16 184.507 1773.91 Q184.507 1782.64 181.429 1787.24 Q178.373 1791.83 172.563 1791.83 Q166.753 1791.83 163.674 1787.24 Q160.619 1782.64 160.619 1773.91 Q160.619 1765.16 163.674 1760.58 Q166.753 1755.97 172.563 1755.97 Z\" fill=\"#000000\" fill-rule=\"nonzero\" fill-opacity=\"1\" /><path clip-path=\"url(#clip650)\" d=\"M194.212 1738.17 Q191.278 1738.17 189.792 1741.06 Q188.325 1743.94 188.325 1749.73 Q188.325 1755.51 189.792 1758.4 Q191.278 1761.28 194.212 1761.28 Q197.165 1761.28 198.632 1758.4 Q200.118 1755.51 200.118 1749.73 Q200.118 1743.94 198.632 1741.06 Q197.165 1738.17 194.212 1738.17 M194.212 1735.16 Q198.933 1735.16 201.416 1738.9 Q203.917 1742.62 203.917 1749.73 Q203.917 1756.82 201.416 1760.57 Q198.933 1764.29 194.212 1764.29 Q189.492 1764.29 186.99 1760.57 Q184.507 1756.82 184.507 1749.73 Q184.507 1742.62 186.99 1738.9 Q189.492 1735.16 194.212 1735.16 Z\" fill=\"#000000\" fill-rule=\"nonzero\" fill-opacity=\"1\" /><path clip-path=\"url(#clip650)\" d=\"M210.594 1758.97 L214.562 1758.97 L214.562 1763.74 L210.594 1763.74 L210.594 1758.97 Z\" fill=\"#000000\" fill-rule=\"nonzero\" fill-opacity=\"1\" /><path clip-path=\"url(#clip650)\" d=\"M230.963 1738.17 Q228.029 1738.17 226.543 1741.06 Q225.076 1743.94 225.076 1749.73 Q225.076 1755.51 226.543 1758.4 Q228.029 1761.28 230.963 1761.28 Q233.915 1761.28 235.382 1758.4 Q236.868 1755.51 236.868 1749.73 Q236.868 1743.94 235.382 1741.06 Q233.915 1738.17 230.963 1738.17 M230.963 1735.16 Q235.683 1735.16 238.166 1738.9 Q240.667 1742.62 240.667 1749.73 Q240.667 1756.82 238.166 1760.57 Q235.683 1764.29 230.963 1764.29 Q226.242 1764.29 223.74 1760.57 Q221.258 1756.82 221.258 1749.73 Q221.258 1742.62 223.74 1738.9 Q226.242 1735.16 230.963 1735.16 Z\" fill=\"#000000\" fill-rule=\"nonzero\" fill-opacity=\"1\" /><path clip-path=\"url(#clip650)\" d=\"M255.469 1738.17 Q252.535 1738.17 251.049 1741.06 Q249.582 1743.94 249.582 1749.73 Q249.582 1755.51 251.049 1758.4 Q252.535 1761.28 255.469 1761.28 Q258.422 1761.28 259.889 1758.4 Q261.375 1755.51 261.375 1749.73 Q261.375 1743.94 259.889 1741.06 Q258.422 1738.17 255.469 1738.17 M255.469 1735.16 Q260.19 1735.16 262.673 1738.9 Q265.174 1742.62 265.174 1749.73 Q265.174 1756.82 262.673 1760.57 Q260.19 1764.29 255.469 1764.29 Q250.748 1764.29 248.247 1760.57 Q245.764 1756.82 245.764 1749.73 Q245.764 1742.62 248.247 1738.9 Q250.748 1735.16 255.469 1735.16 Z\" fill=\"#000000\" fill-rule=\"nonzero\" fill-opacity=\"1\" /><path clip-path=\"url(#clip650)\" d=\"M134.02 1484.02 L141.659 1484.02 L141.659 1457.65 L133.349 1459.32 L133.349 1455.06 L141.613 1453.4 L146.289 1453.4 L146.289 1484.02 L153.927 1484.02 L153.927 1487.96 L134.02 1487.96 L134.02 1484.02 Z\" fill=\"#000000\" fill-rule=\"nonzero\" fill-opacity=\"1\" /><path clip-path=\"url(#clip650)\" d=\"M173.372 1456.47 Q169.761 1456.47 167.932 1460.04 Q166.126 1463.58 166.126 1470.71 Q166.126 1477.82 167.932 1481.38 Q169.761 1484.92 173.372 1484.92 Q177.006 1484.92 178.812 1481.38 Q180.64 1477.82 180.64 1470.71 Q180.64 1463.58 178.812 1460.04 Q177.006 1456.47 173.372 1456.47 M173.372 1452.77 Q179.182 1452.77 182.238 1457.38 Q185.316 1461.96 185.316 1470.71 Q185.316 1479.44 182.238 1484.04 Q179.182 1488.63 173.372 1488.63 Q167.562 1488.63 164.483 1484.04 Q161.427 1479.44 161.427 1470.71 Q161.427 1461.96 164.483 1457.38 Q167.562 1452.77 173.372 1452.77 Z\" fill=\"#000000\" fill-rule=\"nonzero\" fill-opacity=\"1\" /><path clip-path=\"url(#clip650)\" d=\"M195.021 1434.97 Q192.087 1434.97 190.601 1437.86 Q189.134 1440.74 189.134 1446.53 Q189.134 1452.31 190.601 1455.2 Q192.087 1458.08 195.021 1458.08 Q197.974 1458.08 199.441 1455.2 Q200.927 1452.31 200.927 1446.53 Q200.927 1440.74 199.441 1437.86 Q197.974 1434.97 195.021 1434.97 M195.021 1431.96 Q199.742 1431.96 202.224 1435.7 Q204.726 1439.42 204.726 1446.53 Q204.726 1453.62 202.224 1457.37 Q199.742 1461.09 195.021 1461.09 Q190.3 1461.09 187.799 1457.37 Q185.316 1453.62 185.316 1446.53 Q185.316 1439.42 187.799 1435.7 Q190.3 1431.96 195.021 1431.96 Z\" fill=\"#000000\" fill-rule=\"nonzero\" fill-opacity=\"1\" /><path clip-path=\"url(#clip650)\" d=\"M211.403 1455.77 L215.371 1455.77 L215.371 1460.55 L211.403 1460.55 L211.403 1455.77 Z\" fill=\"#000000\" fill-rule=\"nonzero\" fill-opacity=\"1\" /><path clip-path=\"url(#clip650)\" d=\"M226.919 1457.35 L240.178 1457.35 L240.178 1460.55 L222.349 1460.55 L222.349 1457.35 Q224.512 1455.11 228.236 1451.35 Q231.978 1447.57 232.937 1446.48 Q234.762 1444.43 235.477 1443.02 Q236.21 1441.59 236.21 1440.21 Q236.21 1437.98 234.63 1436.57 Q233.069 1435.15 230.549 1435.15 Q228.762 1435.15 226.769 1435.78 Q224.794 1436.4 222.537 1437.66 L222.537 1433.82 Q224.831 1432.9 226.825 1432.43 Q228.819 1431.96 230.474 1431.96 Q234.837 1431.96 237.433 1434.14 Q240.028 1436.32 240.028 1439.97 Q240.028 1441.7 239.37 1443.26 Q238.73 1444.8 237.019 1446.91 Q236.549 1447.45 234.028 1450.07 Q231.508 1452.66 226.919 1457.35 Z\" fill=\"#000000\" fill-rule=\"nonzero\" fill-opacity=\"1\" /><path clip-path=\"url(#clip650)\" d=\"M248.191 1432.47 L263.105 1432.47 L263.105 1435.66 L251.67 1435.66 L251.67 1442.55 Q252.498 1442.26 253.325 1442.13 Q254.153 1441.98 254.98 1441.98 Q259.682 1441.98 262.428 1444.56 Q265.174 1447.14 265.174 1451.54 Q265.174 1456.07 262.353 1458.59 Q259.532 1461.09 254.397 1461.09 Q252.629 1461.09 250.786 1460.79 Q248.962 1460.49 247.006 1459.89 L247.006 1456.07 Q248.698 1456.99 250.504 1457.44 Q252.309 1457.89 254.322 1457.89 Q257.576 1457.89 259.475 1456.18 Q261.375 1454.47 261.375 1451.54 Q261.375 1448.6 259.475 1446.89 Q257.576 1445.18 254.322 1445.18 Q252.798 1445.18 251.275 1445.52 Q249.77 1445.86 248.191 1446.57 L248.191 1432.47 Z\" fill=\"#000000\" fill-rule=\"nonzero\" fill-opacity=\"1\" /><path clip-path=\"url(#clip650)\" d=\"M133.211 1180.82 L140.85 1180.82 L140.85 1154.46 L132.54 1156.12 L132.54 1151.86 L140.804 1150.2 L145.48 1150.2 L145.48 1180.82 L153.119 1180.82 L153.119 1184.76 L133.211 1184.76 L133.211 1180.82 Z\" fill=\"#000000\" fill-rule=\"nonzero\" fill-opacity=\"1\" /><path clip-path=\"url(#clip650)\" d=\"M172.563 1153.27 Q168.952 1153.27 167.123 1156.84 Q165.318 1160.38 165.318 1167.51 Q165.318 1174.62 167.123 1178.18 Q168.952 1181.72 172.563 1181.72 Q176.197 1181.72 178.003 1178.18 Q179.832 1174.62 179.832 1167.51 Q179.832 1160.38 178.003 1156.84 Q176.197 1153.27 172.563 1153.27 M172.563 1149.57 Q178.373 1149.57 181.429 1154.18 Q184.507 1158.76 184.507 1167.51 Q184.507 1176.24 181.429 1180.84 Q178.373 1185.43 172.563 1185.43 Q166.753 1185.43 163.674 1180.84 Q160.619 1176.24 160.619 1167.51 Q160.619 1158.76 163.674 1154.18 Q166.753 1149.57 172.563 1149.57 Z\" fill=\"#000000\" fill-rule=\"nonzero\" fill-opacity=\"1\" /><path clip-path=\"url(#clip650)\" d=\"M194.212 1131.77 Q191.278 1131.77 189.792 1134.66 Q188.325 1137.54 188.325 1143.33 Q188.325 1149.11 189.792 1152 Q191.278 1154.88 194.212 1154.88 Q197.165 1154.88 198.632 1152 Q200.118 1149.11 200.118 1143.33 Q200.118 1137.54 198.632 1134.66 Q197.165 1131.77 194.212 1131.77 M194.212 1128.76 Q198.933 1128.76 201.416 1132.5 Q203.917 1136.22 203.917 1143.33 Q203.917 1150.42 201.416 1154.17 Q198.933 1157.89 194.212 1157.89 Q189.492 1157.89 186.99 1154.17 Q184.507 1150.42 184.507 1143.33 Q184.507 1136.22 186.99 1132.5 Q189.492 1128.76 194.212 1128.76 Z\" fill=\"#000000\" fill-rule=\"nonzero\" fill-opacity=\"1\" /><path clip-path=\"url(#clip650)\" d=\"M210.594 1152.57 L214.562 1152.57 L214.562 1157.35 L210.594 1157.35 L210.594 1152.57 Z\" fill=\"#000000\" fill-rule=\"nonzero\" fill-opacity=\"1\" /><path clip-path=\"url(#clip650)\" d=\"M222.875 1129.27 L237.79 1129.27 L237.79 1132.46 L226.355 1132.46 L226.355 1139.35 Q227.182 1139.06 228.01 1138.93 Q228.837 1138.78 229.665 1138.78 Q234.367 1138.78 237.113 1141.36 Q239.859 1143.94 239.859 1148.34 Q239.859 1152.87 237.038 1155.39 Q234.216 1157.89 229.082 1157.89 Q227.314 1157.89 225.471 1157.59 Q223.646 1157.29 221.69 1156.69 L221.69 1152.87 Q223.383 1153.79 225.189 1154.24 Q226.994 1154.69 229.007 1154.69 Q232.26 1154.69 234.16 1152.98 Q236.06 1151.27 236.06 1148.34 Q236.06 1145.4 234.16 1143.69 Q232.26 1141.98 229.007 1141.98 Q227.483 1141.98 225.96 1142.32 Q224.455 1142.66 222.875 1143.37 L222.875 1129.27 Z\" fill=\"#000000\" fill-rule=\"nonzero\" fill-opacity=\"1\" /><path clip-path=\"url(#clip650)\" d=\"M255.469 1131.77 Q252.535 1131.77 251.049 1134.66 Q249.582 1137.54 249.582 1143.33 Q249.582 1149.11 251.049 1152 Q252.535 1154.88 255.469 1154.88 Q258.422 1154.88 259.889 1152 Q261.375 1149.11 261.375 1143.33 Q261.375 1137.54 259.889 1134.66 Q258.422 1131.77 255.469 1131.77 M255.469 1128.76 Q260.19 1128.76 262.673 1132.5 Q265.174 1136.22 265.174 1143.33 Q265.174 1150.42 262.673 1154.17 Q260.19 1157.89 255.469 1157.89 Q250.748 1157.89 248.247 1154.17 Q245.764 1150.42 245.764 1143.33 Q245.764 1136.22 248.247 1132.5 Q250.748 1128.76 255.469 1128.76 Z\" fill=\"#000000\" fill-rule=\"nonzero\" fill-opacity=\"1\" /><path clip-path=\"url(#clip650)\" d=\"M56.4793 1711.58 Q52.5326 1709.39 50.6547 1706.33 Q48.7768 1703.28 48.7768 1699.14 Q48.7768 1693.57 52.6917 1690.55 Q56.5748 1687.52 63.7681 1687.52 L85.2842 1687.52 L85.2842 1693.41 L63.959 1693.41 Q58.8346 1693.41 56.352 1695.22 Q53.8694 1697.04 53.8694 1700.76 Q53.8694 1705.31 56.8931 1707.96 Q59.9168 1710.6 65.1367 1710.6 L85.2842 1710.6 L85.2842 1716.49 L63.959 1716.49 Q58.8028 1716.49 56.352 1718.3 Q53.8694 1720.11 53.8694 1723.9 Q53.8694 1728.39 56.9249 1731.03 Q59.9486 1733.67 65.1367 1733.67 L85.2842 1733.67 L85.2842 1739.56 L49.6362 1739.56 L49.6362 1733.67 L55.1744 1733.67 Q51.896 1731.67 50.3364 1728.87 Q48.7768 1726.07 48.7768 1722.22 Q48.7768 1718.33 50.7502 1715.63 Q52.7236 1712.89 56.4793 1711.58 Z\" fill=\"#000000\" fill-rule=\"nonzero\" fill-opacity=\"1\" /><path clip-path=\"url(#clip650)\" d=\"M53.7421 1662.03 Q53.7421 1666.74 57.4342 1669.48 Q61.0945 1672.21 67.492 1672.21 Q73.8895 1672.21 77.5817 1669.51 Q81.2419 1666.77 81.2419 1662.03 Q81.2419 1657.35 77.5498 1654.61 Q73.8577 1651.87 67.492 1651.87 Q61.1581 1651.87 57.466 1654.61 Q53.7421 1657.35 53.7421 1662.03 M48.7768 1662.03 Q48.7768 1654.39 53.7421 1650.03 Q58.7073 1645.67 67.492 1645.67 Q76.2449 1645.67 81.2419 1650.03 Q86.2072 1654.39 86.2072 1662.03 Q86.2072 1669.7 81.2419 1674.06 Q76.2449 1678.39 67.492 1678.39 Q58.7073 1678.39 53.7421 1674.06 Q48.7768 1669.7 48.7768 1662.03 Z\" fill=\"#000000\" fill-rule=\"nonzero\" fill-opacity=\"1\" /><path clip-path=\"url(#clip650)\" d=\"M55.0471 1612.5 L35.759 1612.5 L35.759 1606.65 L85.2842 1606.65 L85.2842 1612.5 L79.937 1612.5 Q83.1198 1614.35 84.6794 1617.18 Q86.2072 1619.98 86.2072 1623.93 Q86.2072 1630.39 81.051 1634.46 Q75.8947 1638.51 67.492 1638.51 Q59.0893 1638.51 53.9331 1634.46 Q48.7768 1630.39 48.7768 1623.93 Q48.7768 1619.98 50.3364 1617.18 Q51.8642 1614.35 55.0471 1612.5 M67.492 1632.46 Q73.9532 1632.46 77.6453 1629.82 Q81.3056 1627.14 81.3056 1622.5 Q81.3056 1617.85 77.6453 1615.18 Q73.9532 1612.5 67.492 1612.5 Q61.0308 1612.5 57.3705 1615.18 Q53.6784 1617.85 53.6784 1622.5 Q53.6784 1627.14 57.3705 1629.82 Q61.0308 1632.46 67.492 1632.46 Z\" fill=\"#000000\" fill-rule=\"nonzero\" fill-opacity=\"1\" /><path clip-path=\"url(#clip650)\" d=\"M65.9961 1564.09 L68.8606 1564.09 L68.8606 1591.02 Q74.9081 1590.64 78.0909 1587.39 Q81.2419 1584.11 81.2419 1578.29 Q81.2419 1574.91 80.4144 1571.76 Q79.5869 1568.58 77.9318 1565.46 L83.4699 1565.46 Q84.8067 1568.61 85.507 1571.92 Q86.2072 1575.23 86.2072 1578.64 Q86.2072 1587.17 81.2419 1592.16 Q76.2767 1597.13 67.8103 1597.13 Q59.0574 1597.13 53.9331 1592.42 Q48.7768 1587.68 48.7768 1579.66 Q48.7768 1572.46 53.4238 1568.29 Q58.0389 1564.09 65.9961 1564.09 M64.2773 1569.95 Q59.4712 1570.01 56.6066 1572.65 Q53.7421 1575.26 53.7421 1579.59 Q53.7421 1584.49 56.5112 1587.45 Q59.2802 1590.38 64.3092 1590.83 L64.2773 1569.95 Z\" fill=\"#000000\" fill-rule=\"nonzero\" fill-opacity=\"1\" /><path clip-path=\"url(#clip650)\" d=\"M35.759 1554.48 L35.759 1548.62 L85.2842 1548.62 L85.2842 1554.48 L35.759 1554.48 Z\" fill=\"#000000\" fill-rule=\"nonzero\" fill-opacity=\"1\" /><path clip-path=\"url(#clip650)\" d=\"M77.1997 1535.54 L77.1997 1528.83 L85.2842 1528.83 L85.2842 1535.54 L77.1997 1535.54 Z\" fill=\"#000000\" fill-rule=\"nonzero\" fill-opacity=\"1\" /><path clip-path=\"url(#clip650)\" d=\"M63.7681 1486.02 L85.2842 1486.02 L85.2842 1491.87 L63.959 1491.87 Q58.8983 1491.87 56.3838 1493.85 Q53.8694 1495.82 53.8694 1499.77 Q53.8694 1504.51 56.8931 1507.25 Q59.9168 1509.98 65.1367 1509.98 L85.2842 1509.98 L85.2842 1515.87 L49.6362 1515.87 L49.6362 1509.98 L55.1744 1509.98 Q51.9597 1507.88 50.3683 1505.05 Q48.7768 1502.18 48.7768 1498.46 Q48.7768 1492.32 52.5963 1489.17 Q56.3838 1486.02 63.7681 1486.02 Z\" fill=\"#000000\" fill-rule=\"nonzero\" fill-opacity=\"1\" /><path clip-path=\"url(#clip650)\" d=\"M96.1059 1447.25 L100.657 1447.25 L100.657 1481.11 L96.1059 1481.11 L96.1059 1447.25 Z\" fill=\"#000000\" fill-rule=\"nonzero\" fill-opacity=\"1\" /><path clip-path=\"url(#clip650)\" d=\"M50.6865 1419.02 L56.2247 1419.02 Q54.9516 1421.5 54.315 1424.17 Q53.6784 1426.85 53.6784 1429.71 Q53.6784 1434.07 55.0152 1436.27 Q56.352 1438.43 59.0256 1438.43 Q61.0626 1438.43 62.2403 1436.87 Q63.3861 1435.31 64.4365 1430.6 L64.8821 1428.6 Q66.2189 1422.36 68.6697 1419.75 Q71.0886 1417.11 75.4491 1417.11 Q80.4144 1417.11 83.3108 1421.05 Q86.2072 1424.97 86.2072 1431.84 Q86.2072 1434.71 85.6343 1437.83 Q85.0932 1440.91 83.9792 1444.35 L77.9318 1444.35 Q79.6187 1441.11 80.478 1437.95 Q81.3056 1434.8 81.3056 1431.72 Q81.3056 1427.58 79.9051 1425.35 Q78.4729 1423.12 75.8947 1423.12 Q73.5076 1423.12 72.2345 1424.75 Q70.9613 1426.34 69.7837 1431.78 L69.3062 1433.82 Q68.1604 1439.26 65.8051 1441.68 Q63.418 1444.1 59.2802 1444.1 Q54.2513 1444.1 51.5141 1440.53 Q48.7768 1436.97 48.7768 1430.41 Q48.7768 1427.17 49.2543 1424.3 Q49.7317 1421.44 50.6865 1419.02 Z\" fill=\"#000000\" fill-rule=\"nonzero\" fill-opacity=\"1\" /><path clip-path=\"url(#clip650)\" d=\"M71.2159 1408.39 L49.6362 1408.39 L49.6362 1402.53 L70.9931 1402.53 Q76.0539 1402.53 78.6002 1400.56 Q81.1146 1398.58 81.1146 1394.64 Q81.1146 1389.89 78.0909 1387.16 Q75.0672 1384.39 69.8473 1384.39 L49.6362 1384.39 L49.6362 1378.53 L85.2842 1378.53 L85.2842 1384.39 L79.8096 1384.39 Q83.0562 1386.52 84.6476 1389.35 Q86.2072 1392.15 86.2072 1395.88 Q86.2072 1402.02 82.3878 1405.2 Q78.5683 1408.39 71.2159 1408.39 M48.7768 1393.65 L48.7768 1393.65 Z\" fill=\"#000000\" fill-rule=\"nonzero\" fill-opacity=\"1\" /><path clip-path=\"url(#clip650)\" d=\"M67.492 1340.88 Q61.0308 1340.88 57.3705 1343.55 Q53.6784 1346.19 53.6784 1350.84 Q53.6784 1355.49 57.3705 1358.16 Q61.0308 1360.8 67.492 1360.8 Q73.9532 1360.8 77.6453 1358.16 Q81.3056 1355.49 81.3056 1350.84 Q81.3056 1346.19 77.6453 1343.55 Q73.9532 1340.88 67.492 1340.88 M55.0471 1360.8 Q51.8642 1358.96 50.3364 1356.16 Q48.7768 1353.32 48.7768 1349.41 Q48.7768 1342.91 53.9331 1338.87 Q59.0893 1334.8 67.492 1334.8 Q75.8947 1334.8 81.051 1338.87 Q86.2072 1342.91 86.2072 1349.41 Q86.2072 1353.32 84.6794 1356.16 Q83.1198 1358.96 79.937 1360.8 L85.2842 1360.8 L85.2842 1366.69 L35.759 1366.69 L35.759 1360.8 L55.0471 1360.8 Z\" fill=\"#000000\" fill-rule=\"nonzero\" fill-opacity=\"1\" /><path clip-path=\"url(#clip650)\" d=\"M35.759 1307.04 L40.6287 1307.04 L40.6287 1312.65 Q40.6287 1315.8 41.9019 1317.04 Q43.175 1318.25 46.4852 1318.25 L49.6362 1318.25 L49.6362 1308.6 L54.1877 1308.6 L54.1877 1318.25 L85.2842 1318.25 L85.2842 1324.14 L54.1877 1324.14 L54.1877 1329.74 L49.6362 1329.74 L49.6362 1324.14 L47.1536 1324.14 Q41.2016 1324.14 38.4962 1321.37 Q35.759 1318.6 35.759 1312.58 L35.759 1307.04 Z\" fill=\"#000000\" fill-rule=\"nonzero\" fill-opacity=\"1\" /><path clip-path=\"url(#clip650)\" d=\"M65.9961 1271.65 L68.8606 1271.65 L68.8606 1298.58 Q74.9081 1298.2 78.0909 1294.95 Q81.2419 1291.67 81.2419 1285.85 Q81.2419 1282.47 80.4144 1279.32 Q79.5869 1276.14 77.9318 1273.02 L83.4699 1273.02 Q84.8067 1276.17 85.507 1279.48 Q86.2072 1282.79 86.2072 1286.2 Q86.2072 1294.73 81.2419 1299.72 Q76.2767 1304.69 67.8103 1304.69 Q59.0574 1304.69 53.9331 1299.98 Q48.7768 1295.24 48.7768 1287.21 Q48.7768 1280.02 53.4238 1275.85 Q58.0389 1271.65 65.9961 1271.65 M64.2773 1277.51 Q59.4712 1277.57 56.6066 1280.21 Q53.7421 1282.82 53.7421 1287.15 Q53.7421 1292.05 56.5112 1295.01 Q59.2802 1297.94 64.3092 1298.39 L64.2773 1277.51 Z\" fill=\"#000000\" fill-rule=\"nonzero\" fill-opacity=\"1\" /><path clip-path=\"url(#clip650)\" d=\"M67.3647 1245.84 Q67.3647 1252.94 68.9879 1255.67 Q70.6112 1258.41 74.5261 1258.41 Q77.6453 1258.41 79.4914 1256.37 Q81.3056 1254.3 81.3056 1250.77 Q81.3056 1245.9 77.8681 1242.97 Q74.3988 1240.01 68.6697 1240.01 L67.3647 1240.01 L67.3647 1245.84 M64.9457 1234.16 L85.2842 1234.16 L85.2842 1240.01 L79.8733 1240.01 Q83.1198 1242.02 84.6794 1245.01 Q86.2072 1248 86.2072 1252.33 Q86.2072 1257.81 83.1516 1261.05 Q80.0643 1264.27 74.9081 1264.27 Q68.8925 1264.27 65.8369 1260.26 Q62.7814 1256.21 62.7814 1248.23 L62.7814 1240.01 L62.2085 1240.01 Q58.1662 1240.01 55.9701 1242.69 Q53.7421 1245.33 53.7421 1250.13 Q53.7421 1253.19 54.4741 1256.09 Q55.2062 1258.98 56.6703 1261.66 L51.2595 1261.66 Q50.0181 1258.44 49.4134 1255.42 Q48.7768 1252.39 48.7768 1249.53 Q48.7768 1241.8 52.7872 1237.98 Q56.7976 1234.16 64.9457 1234.16 Z\" fill=\"#000000\" fill-rule=\"nonzero\" fill-opacity=\"1\" /><path clip-path=\"url(#clip650)\" d=\"M39.5147 1216.3 L49.6362 1216.3 L49.6362 1204.24 L54.1877 1204.24 L54.1877 1216.3 L73.5394 1216.3 Q77.8999 1216.3 79.1413 1215.12 Q80.3826 1213.91 80.3826 1210.25 L80.3826 1204.24 L85.2842 1204.24 L85.2842 1210.25 Q85.2842 1217.03 82.7697 1219.61 Q80.2234 1222.19 73.5394 1222.19 L54.1877 1222.19 L54.1877 1226.49 L49.6362 1226.49 L49.6362 1222.19 L39.5147 1222.19 L39.5147 1216.3 Z\" fill=\"#000000\" fill-rule=\"nonzero\" fill-opacity=\"1\" /><path clip-path=\"url(#clip650)\" d=\"M71.2159 1197.14 L49.6362 1197.14 L49.6362 1191.28 L70.9931 1191.28 Q76.0539 1191.28 78.6002 1189.31 Q81.1146 1187.34 81.1146 1183.39 Q81.1146 1178.65 78.0909 1175.91 Q75.0672 1173.14 69.8473 1173.14 L49.6362 1173.14 L49.6362 1167.29 L85.2842 1167.29 L85.2842 1173.14 L79.8096 1173.14 Q83.0562 1175.27 84.6476 1178.11 Q86.2072 1180.91 86.2072 1184.63 Q86.2072 1190.77 82.3878 1193.96 Q78.5683 1197.14 71.2159 1197.14 M48.7768 1182.4 L48.7768 1182.4 Z\" fill=\"#000000\" fill-rule=\"nonzero\" fill-opacity=\"1\" /><path clip-path=\"url(#clip650)\" d=\"M55.1107 1134.57 Q54.5378 1135.55 54.2832 1136.73 Q53.9967 1137.88 53.9967 1139.28 Q53.9967 1144.24 57.2432 1146.91 Q60.4579 1149.56 66.5053 1149.56 L85.2842 1149.56 L85.2842 1155.44 L49.6362 1155.44 L49.6362 1149.56 L55.1744 1149.56 Q51.9279 1147.71 50.3683 1144.75 Q48.7768 1141.79 48.7768 1137.56 Q48.7768 1136.95 48.8723 1136.22 Q48.936 1135.49 49.0951 1134.6 L55.1107 1134.57 Z\" fill=\"#000000\" fill-rule=\"nonzero\" fill-opacity=\"1\" /><path clip-path=\"url(#clip650)\" d=\"M65.9961 1099.36 L68.8606 1099.36 L68.8606 1126.29 Q74.9081 1125.91 78.0909 1122.66 Q81.2419 1119.38 81.2419 1113.56 Q81.2419 1110.18 80.4144 1107.03 Q79.5869 1103.85 77.9318 1100.73 L83.4699 1100.73 Q84.8067 1103.88 85.507 1107.19 Q86.2072 1110.5 86.2072 1113.91 Q86.2072 1122.44 81.2419 1127.44 Q76.2767 1132.4 67.8103 1132.4 Q59.0574 1132.4 53.9331 1127.69 Q48.7768 1122.95 48.7768 1114.93 Q48.7768 1107.73 53.4238 1103.56 Q58.0389 1099.36 65.9961 1099.36 M64.2773 1105.22 Q59.4712 1105.28 56.6066 1107.92 Q53.7421 1110.53 53.7421 1114.86 Q53.7421 1119.77 56.5112 1122.73 Q59.2802 1125.65 64.3092 1126.1 L64.2773 1105.22 Z\" fill=\"#000000\" fill-rule=\"nonzero\" fill-opacity=\"1\" /><path clip-path=\"url(#clip650)\" d=\"M50.6865 1067.03 L56.2247 1067.03 Q54.9516 1069.51 54.315 1072.18 Q53.6784 1074.86 53.6784 1077.72 Q53.6784 1082.08 55.0152 1084.28 Q56.352 1086.44 59.0256 1086.44 Q61.0626 1086.44 62.2403 1084.88 Q63.3861 1083.32 64.4365 1078.61 L64.8821 1076.61 Q66.2189 1070.37 68.6697 1067.76 Q71.0886 1065.12 75.4491 1065.12 Q80.4144 1065.12 83.3108 1069.06 Q86.2072 1072.98 86.2072 1079.85 Q86.2072 1082.72 85.6343 1085.84 Q85.0932 1088.92 83.9792 1092.36 L77.9318 1092.36 Q79.6187 1089.11 80.478 1085.96 Q81.3056 1082.81 81.3056 1079.72 Q81.3056 1075.59 79.9051 1073.36 Q78.4729 1071.13 75.8947 1071.13 Q73.5076 1071.13 72.2345 1072.75 Q70.9613 1074.35 69.7837 1079.79 L69.3062 1081.83 Q68.1604 1087.27 65.8051 1089.69 Q63.418 1092.11 59.2802 1092.11 Q54.2513 1092.11 51.5141 1088.54 Q48.7768 1084.98 48.7768 1078.42 Q48.7768 1075.17 49.2543 1072.31 Q49.7317 1069.44 50.6865 1067.03 Z\" fill=\"#000000\" fill-rule=\"nonzero\" fill-opacity=\"1\" /><circle clip-path=\"url(#clip654)\" cx=\"367.304\" cy=\"1402.34\" r=\"9.11808\" fill=\"#120a31\" fill-rule=\"evenodd\" fill-opacity=\"1\" stroke=\"#000000\" stroke-opacity=\"1\" stroke-width=\"4\"/>\n",
       "<circle clip-path=\"url(#clip654)\" cx=\"528.507\" cy=\"1767.43\" r=\"33.354\" fill=\"#b63457\" fill-rule=\"evenodd\" fill-opacity=\"1\" stroke=\"#000000\" stroke-opacity=\"1\" stroke-width=\"4\"/>\n",
       "<circle clip-path=\"url(#clip654)\" cx=\"319.995\" cy=\"1037.25\" r=\"11.2061\" fill=\"#1e0c46\" fill-rule=\"evenodd\" fill-opacity=\"1\" stroke=\"#000000\" stroke-opacity=\"1\" stroke-width=\"4\"/>\n",
       "<circle clip-path=\"url(#clip654)\" cx=\"1047.37\" cy=\"1037.25\" r=\"61.2\" fill=\"#fcfea4\" fill-rule=\"evenodd\" fill-opacity=\"1\" stroke=\"#000000\" stroke-opacity=\"1\" stroke-width=\"4\"/>\n",
       "<circle clip-path=\"url(#clip654)\" cx=\"367.304\" cy=\"1767.43\" r=\"38.0771\" fill=\"#d34742\" fill-rule=\"evenodd\" fill-opacity=\"1\" stroke=\"#000000\" stroke-opacity=\"1\" stroke-width=\"4\"/>\n",
       "<circle clip-path=\"url(#clip654)\" cx=\"723.255\" cy=\"1037.25\" r=\"24.4582\" fill=\"#791c6d\" fill-rule=\"evenodd\" fill-opacity=\"1\" stroke=\"#000000\" stroke-opacity=\"1\" stroke-width=\"4\"/>\n",
       "<circle clip-path=\"url(#clip654)\" cx=\"417.69\" cy=\"1767.43\" r=\"33.5026\" fill=\"#b73456\" fill-rule=\"evenodd\" fill-opacity=\"1\" stroke=\"#000000\" stroke-opacity=\"1\" stroke-width=\"4\"/>\n",
       "<circle clip-path=\"url(#clip654)\" cx=\"875.113\" cy=\"1767.43\" r=\"32.096\" fill=\"#ad305c\" fill-rule=\"evenodd\" fill-opacity=\"1\" stroke=\"#000000\" stroke-opacity=\"1\" stroke-width=\"4\"/>\n",
       "<circle clip-path=\"url(#clip654)\" cx=\"723.255\" cy=\"1188.78\" r=\"23.9705\" fill=\"#761b6d\" fill-rule=\"evenodd\" fill-opacity=\"1\" stroke=\"#000000\" stroke-opacity=\"1\" stroke-width=\"4\"/>\n",
       "<circle clip-path=\"url(#clip654)\" cx=\"319.995\" cy=\"1767.43\" r=\"36.7732\" fill=\"#cc4148\" fill-rule=\"evenodd\" fill-opacity=\"1\" stroke=\"#000000\" stroke-opacity=\"1\" stroke-width=\"4\"/>\n",
       "<circle clip-path=\"url(#clip654)\" cx=\"1047.37\" cy=\"1188.78\" r=\"49.591\" fill=\"#fb9a06\" fill-rule=\"evenodd\" fill-opacity=\"1\" stroke=\"#000000\" stroke-opacity=\"1\" stroke-width=\"4\"/>\n",
       "<circle clip-path=\"url(#clip654)\" cx=\"528.507\" cy=\"1037.25\" r=\"16.4367\" fill=\"#430a68\" fill-rule=\"evenodd\" fill-opacity=\"1\" stroke=\"#000000\" stroke-opacity=\"1\" stroke-width=\"4\"/>\n",
       "<circle clip-path=\"url(#clip654)\" cx=\"796.793\" cy=\"1767.43\" r=\"31.6052\" fill=\"#aa2e5d\" fill-rule=\"evenodd\" fill-opacity=\"1\" stroke=\"#000000\" stroke-opacity=\"1\" stroke-width=\"4\"/>\n",
       "<circle clip-path=\"url(#clip654)\" cx=\"471.354\" cy=\"1037.25\" r=\"14.8415\" fill=\"#370961\" fill-rule=\"evenodd\" fill-opacity=\"1\" stroke=\"#000000\" stroke-opacity=\"1\" stroke-width=\"4\"/>\n",
       "<circle clip-path=\"url(#clip654)\" cx=\"875.113\" cy=\"1037.25\" r=\"36.6\" fill=\"#cb4049\" fill-rule=\"evenodd\" fill-opacity=\"1\" stroke=\"#000000\" stroke-opacity=\"1\" stroke-width=\"4\"/>\n",
       "<circle clip-path=\"url(#clip654)\" cx=\"796.793\" cy=\"1037.25\" r=\"29.4154\" fill=\"#9b2864\" fill-rule=\"evenodd\" fill-opacity=\"1\" stroke=\"#000000\" stroke-opacity=\"1\" stroke-width=\"4\"/>\n",
       "<circle clip-path=\"url(#clip654)\" cx=\"589.378\" cy=\"1767.43\" r=\"32.0384\" fill=\"#ad305c\" fill-rule=\"evenodd\" fill-opacity=\"1\" stroke=\"#000000\" stroke-opacity=\"1\" stroke-width=\"4\"/>\n",
       "<circle clip-path=\"url(#clip654)\" cx=\"417.69\" cy=\"1037.25\" r=\"13.7332\" fill=\"#2f0a5b\" fill-rule=\"evenodd\" fill-opacity=\"1\" stroke=\"#000000\" stroke-opacity=\"1\" stroke-width=\"4\"/>\n",
       "<circle clip-path=\"url(#clip654)\" cx=\"875.113\" cy=\"1402.34\" r=\"31.0605\" fill=\"#a62d5f\" fill-rule=\"evenodd\" fill-opacity=\"1\" stroke=\"#000000\" stroke-opacity=\"1\" stroke-width=\"4\"/>\n",
       "<circle clip-path=\"url(#clip654)\" cx=\"723.255\" cy=\"1767.43\" r=\"34.4421\" fill=\"#bd3853\" fill-rule=\"evenodd\" fill-opacity=\"1\" stroke=\"#000000\" stroke-opacity=\"1\" stroke-width=\"4\"/>\n",
       "<circle clip-path=\"url(#clip654)\" cx=\"654.208\" cy=\"1402.34\" r=\"19.664\" fill=\"#59106d\" fill-rule=\"evenodd\" fill-opacity=\"1\" stroke=\"#000000\" stroke-opacity=\"1\" stroke-width=\"4\"/>\n",
       "<circle clip-path=\"url(#clip654)\" cx=\"319.995\" cy=\"1188.78\" r=\"7.68998\" fill=\"#0a0724\" fill-rule=\"evenodd\" fill-opacity=\"1\" stroke=\"#000000\" stroke-opacity=\"1\" stroke-width=\"4\"/>\n",
       "<circle clip-path=\"url(#clip654)\" cx=\"367.304\" cy=\"1188.78\" r=\"3.6\" fill=\"#000003\" fill-rule=\"evenodd\" fill-opacity=\"1\" stroke=\"#000000\" stroke-opacity=\"1\" stroke-width=\"4\"/>\n",
       "<circle clip-path=\"url(#clip654)\" cx=\"875.113\" cy=\"1188.78\" r=\"32.4284\" fill=\"#b0315a\" fill-rule=\"evenodd\" fill-opacity=\"1\" stroke=\"#000000\" stroke-opacity=\"1\" stroke-width=\"4\"/>\n",
       "<circle clip-path=\"url(#clip654)\" cx=\"367.304\" cy=\"1037.25\" r=\"13.3579\" fill=\"#2d0a58\" fill-rule=\"evenodd\" fill-opacity=\"1\" stroke=\"#000000\" stroke-opacity=\"1\" stroke-width=\"4\"/>\n",
       "<circle clip-path=\"url(#clip654)\" cx=\"654.208\" cy=\"1037.25\" r=\"20.6446\" fill=\"#5f136e\" fill-rule=\"evenodd\" fill-opacity=\"1\" stroke=\"#000000\" stroke-opacity=\"1\" stroke-width=\"4\"/>\n",
       "<circle clip-path=\"url(#clip654)\" cx=\"958.528\" cy=\"1402.34\" r=\"33.1445\" fill=\"#b43358\" fill-rule=\"evenodd\" fill-opacity=\"1\" stroke=\"#000000\" stroke-opacity=\"1\" stroke-width=\"4\"/>\n",
       "<circle clip-path=\"url(#clip654)\" cx=\"589.378\" cy=\"1402.34\" r=\"11.8056\" fill=\"#220b4b\" fill-rule=\"evenodd\" fill-opacity=\"1\" stroke=\"#000000\" stroke-opacity=\"1\" stroke-width=\"4\"/>\n",
       "<circle clip-path=\"url(#clip654)\" cx=\"319.995\" cy=\"1402.34\" r=\"9.91759\" fill=\"#160b39\" fill-rule=\"evenodd\" fill-opacity=\"1\" stroke=\"#000000\" stroke-opacity=\"1\" stroke-width=\"4\"/>\n",
       "<circle clip-path=\"url(#clip654)\" cx=\"417.69\" cy=\"1188.78\" r=\"6.70641\" fill=\"#06051b\" fill-rule=\"evenodd\" fill-opacity=\"1\" stroke=\"#000000\" stroke-opacity=\"1\" stroke-width=\"4\"/>\n",
       "<circle clip-path=\"url(#clip654)\" cx=\"471.354\" cy=\"1402.34\" r=\"14.0117\" fill=\"#31095d\" fill-rule=\"evenodd\" fill-opacity=\"1\" stroke=\"#000000\" stroke-opacity=\"1\" stroke-width=\"4\"/>\n",
       "<circle clip-path=\"url(#clip654)\" cx=\"1047.37\" cy=\"1402.34\" r=\"34.6633\" fill=\"#be3852\" fill-rule=\"evenodd\" fill-opacity=\"1\" stroke=\"#000000\" stroke-opacity=\"1\" stroke-width=\"4\"/>\n",
       "<circle clip-path=\"url(#clip654)\" cx=\"1047.37\" cy=\"1767.43\" r=\"33.7645\" fill=\"#b83555\" fill-rule=\"evenodd\" fill-opacity=\"1\" stroke=\"#000000\" stroke-opacity=\"1\" stroke-width=\"4\"/>\n",
       "<circle clip-path=\"url(#clip654)\" cx=\"654.208\" cy=\"1188.78\" r=\"17.829\" fill=\"#4c0c6b\" fill-rule=\"evenodd\" fill-opacity=\"1\" stroke=\"#000000\" stroke-opacity=\"1\" stroke-width=\"4\"/>\n",
       "<circle clip-path=\"url(#clip654)\" cx=\"796.793\" cy=\"1188.78\" r=\"28.7879\" fill=\"#972765\" fill-rule=\"evenodd\" fill-opacity=\"1\" stroke=\"#000000\" stroke-opacity=\"1\" stroke-width=\"4\"/>\n",
       "<circle clip-path=\"url(#clip654)\" cx=\"417.69\" cy=\"1402.34\" r=\"8.79686\" fill=\"#10092e\" fill-rule=\"evenodd\" fill-opacity=\"1\" stroke=\"#000000\" stroke-opacity=\"1\" stroke-width=\"4\"/>\n",
       "<circle clip-path=\"url(#clip654)\" cx=\"589.378\" cy=\"1188.78\" r=\"18.7042\" fill=\"#520e6c\" fill-rule=\"evenodd\" fill-opacity=\"1\" stroke=\"#000000\" stroke-opacity=\"1\" stroke-width=\"4\"/>\n",
       "<circle clip-path=\"url(#clip654)\" cx=\"958.528\" cy=\"1037.25\" r=\"46.5729\" fill=\"#f68111\" fill-rule=\"evenodd\" fill-opacity=\"1\" stroke=\"#000000\" stroke-opacity=\"1\" stroke-width=\"4\"/>\n",
       "<circle clip-path=\"url(#clip654)\" cx=\"471.354\" cy=\"1188.78\" r=\"11.6045\" fill=\"#200c49\" fill-rule=\"evenodd\" fill-opacity=\"1\" stroke=\"#000000\" stroke-opacity=\"1\" stroke-width=\"4\"/>\n",
       "<circle clip-path=\"url(#clip654)\" cx=\"958.528\" cy=\"1767.43\" r=\"31.8809\" fill=\"#ac2f5c\" fill-rule=\"evenodd\" fill-opacity=\"1\" stroke=\"#000000\" stroke-opacity=\"1\" stroke-width=\"4\"/>\n",
       "<circle clip-path=\"url(#clip654)\" cx=\"471.354\" cy=\"1767.43\" r=\"38.1336\" fill=\"#d44841\" fill-rule=\"evenodd\" fill-opacity=\"1\" stroke=\"#000000\" stroke-opacity=\"1\" stroke-width=\"4\"/>\n",
       "<circle clip-path=\"url(#clip654)\" cx=\"958.528\" cy=\"1188.78\" r=\"39.7524\" fill=\"#dc5139\" fill-rule=\"evenodd\" fill-opacity=\"1\" stroke=\"#000000\" stroke-opacity=\"1\" stroke-width=\"4\"/>\n",
       "<circle clip-path=\"url(#clip654)\" cx=\"654.208\" cy=\"1767.43\" r=\"29.1607\" fill=\"#992865\" fill-rule=\"evenodd\" fill-opacity=\"1\" stroke=\"#000000\" stroke-opacity=\"1\" stroke-width=\"4\"/>\n",
       "<circle clip-path=\"url(#clip654)\" cx=\"723.255\" cy=\"1402.34\" r=\"18.4789\" fill=\"#510d6c\" fill-rule=\"evenodd\" fill-opacity=\"1\" stroke=\"#000000\" stroke-opacity=\"1\" stroke-width=\"4\"/>\n",
       "<circle clip-path=\"url(#clip654)\" cx=\"528.507\" cy=\"1188.78\" r=\"16.0227\" fill=\"#400966\" fill-rule=\"evenodd\" fill-opacity=\"1\" stroke=\"#000000\" stroke-opacity=\"1\" stroke-width=\"4\"/>\n",
       "<circle clip-path=\"url(#clip654)\" cx=\"589.378\" cy=\"1037.25\" r=\"21.5393\" fill=\"#65156e\" fill-rule=\"evenodd\" fill-opacity=\"1\" stroke=\"#000000\" stroke-opacity=\"1\" stroke-width=\"4\"/>\n",
       "<circle clip-path=\"url(#clip654)\" cx=\"796.793\" cy=\"1402.34\" r=\"26.4564\" fill=\"#87216a\" fill-rule=\"evenodd\" fill-opacity=\"1\" stroke=\"#000000\" stroke-opacity=\"1\" stroke-width=\"4\"/>\n",
       "<circle clip-path=\"url(#clip654)\" cx=\"528.507\" cy=\"1402.34\" r=\"14.9153\" fill=\"#380962\" fill-rule=\"evenodd\" fill-opacity=\"1\" stroke=\"#000000\" stroke-opacity=\"1\" stroke-width=\"4\"/>\n",
       "<path clip-path=\"url(#clip650)\" d=\"M1381.74 1789.33 L2152.76 1789.33 L2152.76 1015.34 L1381.74 1015.34  Z\" fill=\"#ffffff\" fill-rule=\"evenodd\" fill-opacity=\"1\"/>\n",
       "<defs>\n",
       "  <clipPath id=\"clip655\">\n",
       "    <rect x=\"1381\" y=\"1015\" width=\"772\" height=\"775\"/>\n",
       "  </clipPath>\n",
       "</defs>\n",
       "<polyline clip-path=\"url(#clip655)\" style=\"stroke:#000000; stroke-linecap:round; stroke-linejoin:round; stroke-width:2; stroke-opacity:0.1; fill:none\" points=\"1403.56,1789.33 1403.56,1015.34 \"/>\n",
       "<polyline clip-path=\"url(#clip655)\" style=\"stroke:#000000; stroke-linecap:round; stroke-linejoin:round; stroke-width:2; stroke-opacity:0.1; fill:none\" points=\"1646.02,1789.33 1646.02,1015.34 \"/>\n",
       "<polyline clip-path=\"url(#clip655)\" style=\"stroke:#000000; stroke-linecap:round; stroke-linejoin:round; stroke-width:2; stroke-opacity:0.1; fill:none\" points=\"1888.48,1789.33 1888.48,1015.34 \"/>\n",
       "<polyline clip-path=\"url(#clip655)\" style=\"stroke:#000000; stroke-linecap:round; stroke-linejoin:round; stroke-width:2; stroke-opacity:0.1; fill:none\" points=\"2130.93,1789.33 2130.93,1015.34 \"/>\n",
       "<polyline clip-path=\"url(#clip655)\" style=\"stroke:#000000; stroke-linecap:round; stroke-linejoin:round; stroke-width:2; stroke-opacity:0.1; fill:none\" points=\"1403.56,1789.33 1403.56,1015.34 \"/>\n",
       "<polyline clip-path=\"url(#clip655)\" style=\"stroke:#000000; stroke-linecap:round; stroke-linejoin:round; stroke-width:2; stroke-opacity:0.1; fill:none\" points=\"1646.02,1789.33 1646.02,1015.34 \"/>\n",
       "<polyline clip-path=\"url(#clip655)\" style=\"stroke:#000000; stroke-linecap:round; stroke-linejoin:round; stroke-width:2; stroke-opacity:0.1; fill:none\" points=\"1888.48,1789.33 1888.48,1015.34 \"/>\n",
       "<polyline clip-path=\"url(#clip655)\" style=\"stroke:#000000; stroke-linecap:round; stroke-linejoin:round; stroke-width:2; stroke-opacity:0.1; fill:none\" points=\"2130.93,1789.33 2130.93,1015.34 \"/>\n",
       "<polyline clip-path=\"url(#clip655)\" style=\"stroke:#000000; stroke-linecap:round; stroke-linejoin:round; stroke-width:2; stroke-opacity:0.1; fill:none\" points=\"1381.74,1682.95 2152.76,1682.95 \"/>\n",
       "<polyline clip-path=\"url(#clip655)\" style=\"stroke:#000000; stroke-linecap:round; stroke-linejoin:round; stroke-width:2; stroke-opacity:0.1; fill:none\" points=\"1381.74,1550.46 2152.76,1550.46 \"/>\n",
       "<polyline clip-path=\"url(#clip655)\" style=\"stroke:#000000; stroke-linecap:round; stroke-linejoin:round; stroke-width:2; stroke-opacity:0.1; fill:none\" points=\"1381.74,1417.97 2152.76,1417.97 \"/>\n",
       "<polyline clip-path=\"url(#clip655)\" style=\"stroke:#000000; stroke-linecap:round; stroke-linejoin:round; stroke-width:2; stroke-opacity:0.1; fill:none\" points=\"1381.74,1285.49 2152.76,1285.49 \"/>\n",
       "<polyline clip-path=\"url(#clip655)\" style=\"stroke:#000000; stroke-linecap:round; stroke-linejoin:round; stroke-width:2; stroke-opacity:0.1; fill:none\" points=\"1381.74,1153 2152.76,1153 \"/>\n",
       "<polyline clip-path=\"url(#clip655)\" style=\"stroke:#000000; stroke-linecap:round; stroke-linejoin:round; stroke-width:2; stroke-opacity:0.1; fill:none\" points=\"1381.74,1020.51 2152.76,1020.51 \"/>\n",
       "<polyline clip-path=\"url(#clip655)\" style=\"stroke:#000000; stroke-linecap:round; stroke-linejoin:round; stroke-width:2; stroke-opacity:0.1; fill:none\" points=\"1381.74,1682.95 2152.76,1682.95 \"/>\n",
       "<polyline clip-path=\"url(#clip655)\" style=\"stroke:#000000; stroke-linecap:round; stroke-linejoin:round; stroke-width:2; stroke-opacity:0.1; fill:none\" points=\"1381.74,1550.46 2152.76,1550.46 \"/>\n",
       "<polyline clip-path=\"url(#clip655)\" style=\"stroke:#000000; stroke-linecap:round; stroke-linejoin:round; stroke-width:2; stroke-opacity:0.1; fill:none\" points=\"1381.74,1417.97 2152.76,1417.97 \"/>\n",
       "<polyline clip-path=\"url(#clip655)\" style=\"stroke:#000000; stroke-linecap:round; stroke-linejoin:round; stroke-width:2; stroke-opacity:0.1; fill:none\" points=\"1381.74,1285.49 2152.76,1285.49 \"/>\n",
       "<polyline clip-path=\"url(#clip655)\" style=\"stroke:#000000; stroke-linecap:round; stroke-linejoin:round; stroke-width:2; stroke-opacity:0.1; fill:none\" points=\"1381.74,1153 2152.76,1153 \"/>\n",
       "<polyline clip-path=\"url(#clip655)\" style=\"stroke:#000000; stroke-linecap:round; stroke-linejoin:round; stroke-width:2; stroke-opacity:0.1; fill:none\" points=\"1381.74,1020.51 2152.76,1020.51 \"/>\n",
       "<polyline clip-path=\"url(#clip650)\" style=\"stroke:#000000; stroke-linecap:round; stroke-linejoin:round; stroke-width:4; stroke-opacity:1; fill:none\" points=\"1381.74,1789.33 2152.76,1789.33 \"/>\n",
       "<polyline clip-path=\"url(#clip650)\" style=\"stroke:#000000; stroke-linecap:round; stroke-linejoin:round; stroke-width:4; stroke-opacity:1; fill:none\" points=\"1381.74,1015.34 2152.76,1015.34 \"/>\n",
       "<polyline clip-path=\"url(#clip650)\" style=\"stroke:#000000; stroke-linecap:round; stroke-linejoin:round; stroke-width:4; stroke-opacity:1; fill:none\" points=\"1403.56,1789.33 1403.56,1770.43 \"/>\n",
       "<polyline clip-path=\"url(#clip650)\" style=\"stroke:#000000; stroke-linecap:round; stroke-linejoin:round; stroke-width:4; stroke-opacity:1; fill:none\" points=\"1646.02,1789.33 1646.02,1770.43 \"/>\n",
       "<polyline clip-path=\"url(#clip650)\" style=\"stroke:#000000; stroke-linecap:round; stroke-linejoin:round; stroke-width:4; stroke-opacity:1; fill:none\" points=\"1888.48,1789.33 1888.48,1770.43 \"/>\n",
       "<polyline clip-path=\"url(#clip650)\" style=\"stroke:#000000; stroke-linecap:round; stroke-linejoin:round; stroke-width:4; stroke-opacity:1; fill:none\" points=\"2130.93,1789.33 2130.93,1770.43 \"/>\n",
       "<polyline clip-path=\"url(#clip650)\" style=\"stroke:#000000; stroke-linecap:round; stroke-linejoin:round; stroke-width:4; stroke-opacity:1; fill:none\" points=\"1403.56,1015.34 1403.56,1034.24 \"/>\n",
       "<polyline clip-path=\"url(#clip650)\" style=\"stroke:#000000; stroke-linecap:round; stroke-linejoin:round; stroke-width:4; stroke-opacity:1; fill:none\" points=\"1646.02,1015.34 1646.02,1034.24 \"/>\n",
       "<polyline clip-path=\"url(#clip650)\" style=\"stroke:#000000; stroke-linecap:round; stroke-linejoin:round; stroke-width:4; stroke-opacity:1; fill:none\" points=\"1888.48,1015.34 1888.48,1034.24 \"/>\n",
       "<polyline clip-path=\"url(#clip650)\" style=\"stroke:#000000; stroke-linecap:round; stroke-linejoin:round; stroke-width:4; stroke-opacity:1; fill:none\" points=\"2130.93,1015.34 2130.93,1034.24 \"/>\n",
       "<path clip-path=\"url(#clip650)\" d=\"M1393.94 1846.2 L1401.58 1846.2 L1401.58 1819.83 L1393.27 1821.5 L1393.27 1817.24 L1401.54 1815.57 L1406.21 1815.57 L1406.21 1846.2 L1413.85 1846.2 L1413.85 1850.13 L1393.94 1850.13 L1393.94 1846.2 Z\" fill=\"#000000\" fill-rule=\"nonzero\" fill-opacity=\"1\" /><path clip-path=\"url(#clip650)\" d=\"M1640.67 1846.2 L1656.99 1846.2 L1656.99 1850.13 L1635.05 1850.13 L1635.05 1846.2 Q1637.71 1843.44 1642.29 1838.81 Q1646.9 1834.16 1648.08 1832.82 Q1650.33 1830.29 1651.2 1828.56 Q1652.11 1826.8 1652.11 1825.11 Q1652.11 1822.35 1650.16 1820.62 Q1648.24 1818.88 1645.14 1818.88 Q1642.94 1818.88 1640.49 1819.65 Q1638.06 1820.41 1635.28 1821.96 L1635.28 1817.24 Q1638.1 1816.1 1640.56 1815.53 Q1643.01 1814.95 1645.05 1814.95 Q1650.42 1814.95 1653.61 1817.63 Q1656.81 1820.32 1656.81 1824.81 Q1656.81 1826.94 1656 1828.86 Q1655.21 1830.76 1653.1 1833.35 Q1652.52 1834.02 1649.42 1837.24 Q1646.32 1840.43 1640.67 1846.2 Z\" fill=\"#000000\" fill-rule=\"nonzero\" fill-opacity=\"1\" /><path clip-path=\"url(#clip650)\" d=\"M1892.72 1831.5 Q1896.08 1832.22 1897.96 1834.48 Q1899.85 1836.75 1899.85 1840.09 Q1899.85 1845.2 1896.34 1848 Q1892.82 1850.8 1886.34 1850.8 Q1884.16 1850.8 1881.85 1850.36 Q1879.55 1849.95 1877.1 1849.09 L1877.1 1844.58 Q1879.04 1845.71 1881.36 1846.29 Q1883.67 1846.87 1886.2 1846.87 Q1890.6 1846.87 1892.89 1845.13 Q1895.2 1843.4 1895.2 1840.09 Q1895.2 1837.03 1893.05 1835.32 Q1890.92 1833.58 1887.1 1833.58 L1883.07 1833.58 L1883.07 1829.74 L1887.29 1829.74 Q1890.73 1829.74 1892.56 1828.37 Q1894.39 1826.98 1894.39 1824.39 Q1894.39 1821.73 1892.49 1820.32 Q1890.62 1818.88 1887.1 1818.88 Q1885.18 1818.88 1882.98 1819.3 Q1880.78 1819.72 1878.14 1820.6 L1878.14 1816.43 Q1880.8 1815.69 1883.12 1815.32 Q1885.46 1814.95 1887.52 1814.95 Q1892.84 1814.95 1895.94 1817.38 Q1899.04 1819.79 1899.04 1823.91 Q1899.04 1826.78 1897.4 1828.77 Q1895.76 1830.73 1892.72 1831.5 Z\" fill=\"#000000\" fill-rule=\"nonzero\" fill-opacity=\"1\" /><path clip-path=\"url(#clip650)\" d=\"M2133.94 1819.65 L2122.14 1838.1 L2133.94 1838.1 L2133.94 1819.65 M2132.72 1815.57 L2138.6 1815.57 L2138.6 1838.1 L2143.53 1838.1 L2143.53 1841.98 L2138.6 1841.98 L2138.6 1850.13 L2133.94 1850.13 L2133.94 1841.98 L2118.34 1841.98 L2118.34 1837.47 L2132.72 1815.57 Z\" fill=\"#000000\" fill-rule=\"nonzero\" fill-opacity=\"1\" /><path clip-path=\"url(#clip650)\" d=\"M1458 1902.39 Q1460.2 1898.45 1463.25 1896.57 Q1466.31 1894.69 1470.45 1894.69 Q1476.02 1894.69 1479.04 1898.6 Q1482.06 1902.49 1482.06 1909.68 L1482.06 1931.2 L1476.18 1931.2 L1476.18 1909.87 Q1476.18 1904.75 1474.36 1902.26 Q1472.55 1899.78 1468.82 1899.78 Q1464.27 1899.78 1461.63 1902.81 Q1458.99 1905.83 1458.99 1911.05 L1458.99 1931.2 L1453.1 1931.2 L1453.1 1909.87 Q1453.1 1904.72 1451.29 1902.26 Q1449.47 1899.78 1445.68 1899.78 Q1441.2 1899.78 1438.56 1902.84 Q1435.91 1905.86 1435.91 1911.05 L1435.91 1931.2 L1430.03 1931.2 L1430.03 1895.55 L1435.91 1895.55 L1435.91 1901.09 Q1437.92 1897.81 1440.72 1896.25 Q1443.52 1894.69 1447.37 1894.69 Q1451.25 1894.69 1453.96 1896.66 Q1456.7 1898.64 1458 1902.39 Z\" fill=\"#000000\" fill-rule=\"nonzero\" fill-opacity=\"1\" /><path clip-path=\"url(#clip650)\" d=\"M1507.56 1899.65 Q1502.85 1899.65 1500.11 1903.35 Q1497.37 1907.01 1497.37 1913.4 Q1497.37 1919.8 1500.08 1923.49 Q1502.82 1927.15 1507.56 1927.15 Q1512.24 1927.15 1514.98 1923.46 Q1517.71 1919.77 1517.71 1913.4 Q1517.71 1907.07 1514.98 1903.38 Q1512.24 1899.65 1507.56 1899.65 M1507.56 1894.69 Q1515.2 1894.69 1519.56 1899.65 Q1523.92 1904.62 1523.92 1913.4 Q1523.92 1922.16 1519.56 1927.15 Q1515.2 1932.12 1507.56 1932.12 Q1499.89 1932.12 1495.53 1927.15 Q1491.2 1922.16 1491.2 1913.4 Q1491.2 1904.62 1495.53 1899.65 Q1499.89 1894.69 1507.56 1894.69 Z\" fill=\"#000000\" fill-rule=\"nonzero\" fill-opacity=\"1\" /><path clip-path=\"url(#clip650)\" d=\"M1557.08 1900.96 L1557.08 1881.67 L1562.94 1881.67 L1562.94 1931.2 L1557.08 1931.2 L1557.08 1925.85 Q1555.24 1929.03 1552.41 1930.59 Q1549.6 1932.12 1545.66 1932.12 Q1539.2 1932.12 1535.12 1926.96 Q1531.08 1921.81 1531.08 1913.4 Q1531.08 1905 1535.12 1899.85 Q1539.2 1894.69 1545.66 1894.69 Q1549.6 1894.69 1552.41 1896.25 Q1555.24 1897.78 1557.08 1900.96 M1537.13 1913.4 Q1537.13 1919.87 1539.77 1923.56 Q1542.44 1927.22 1547.09 1927.22 Q1551.74 1927.22 1554.41 1923.56 Q1557.08 1919.87 1557.08 1913.4 Q1557.08 1906.94 1554.41 1903.28 Q1551.74 1899.59 1547.09 1899.59 Q1542.44 1899.59 1539.77 1903.28 Q1537.13 1906.94 1537.13 1913.4 Z\" fill=\"#000000\" fill-rule=\"nonzero\" fill-opacity=\"1\" /><path clip-path=\"url(#clip650)\" d=\"M1605.5 1911.91 L1605.5 1914.77 L1578.57 1914.77 Q1578.95 1920.82 1582.2 1924 Q1585.48 1927.15 1591.3 1927.15 Q1594.67 1927.15 1597.83 1926.33 Q1601.01 1925.5 1604.13 1923.84 L1604.13 1929.38 Q1600.98 1930.72 1597.67 1931.42 Q1594.36 1932.12 1590.95 1932.12 Q1582.42 1932.12 1577.42 1927.15 Q1572.46 1922.19 1572.46 1913.72 Q1572.46 1904.97 1577.17 1899.85 Q1581.91 1894.69 1589.93 1894.69 Q1597.12 1894.69 1601.29 1899.34 Q1605.5 1903.95 1605.5 1911.91 M1599.64 1910.19 Q1599.58 1905.38 1596.93 1902.52 Q1594.32 1899.65 1590 1899.65 Q1585.09 1899.65 1582.13 1902.42 Q1579.21 1905.19 1578.76 1910.22 L1599.64 1910.19 Z\" fill=\"#000000\" fill-rule=\"nonzero\" fill-opacity=\"1\" /><path clip-path=\"url(#clip650)\" d=\"M1615.11 1881.67 L1620.96 1881.67 L1620.96 1931.2 L1615.11 1931.2 L1615.11 1881.67 Z\" fill=\"#000000\" fill-rule=\"nonzero\" fill-opacity=\"1\" /><path clip-path=\"url(#clip650)\" d=\"M1634.05 1923.11 L1640.76 1923.11 L1640.76 1931.2 L1634.05 1931.2 L1634.05 1923.11 Z\" fill=\"#000000\" fill-rule=\"nonzero\" fill-opacity=\"1\" /><path clip-path=\"url(#clip650)\" d=\"M1683.57 1909.68 L1683.57 1931.2 L1677.71 1931.2 L1677.71 1909.87 Q1677.71 1904.81 1675.74 1902.3 Q1673.77 1899.78 1669.82 1899.78 Q1665.08 1899.78 1662.34 1902.81 Q1659.6 1905.83 1659.6 1911.05 L1659.6 1931.2 L1653.72 1931.2 L1653.72 1895.55 L1659.6 1895.55 L1659.6 1901.09 Q1661.71 1897.87 1664.54 1896.28 Q1667.4 1894.69 1671.13 1894.69 Q1677.27 1894.69 1680.42 1898.51 Q1683.57 1902.3 1683.57 1909.68 Z\" fill=\"#000000\" fill-rule=\"nonzero\" fill-opacity=\"1\" /><path clip-path=\"url(#clip650)\" d=\"M1722.34 1942.02 L1722.34 1946.57 L1688.47 1946.57 L1688.47 1942.02 L1722.34 1942.02 Z\" fill=\"#000000\" fill-rule=\"nonzero\" fill-opacity=\"1\" /><path clip-path=\"url(#clip650)\" d=\"M1750.57 1896.6 L1750.57 1902.14 Q1748.09 1900.86 1745.41 1900.23 Q1742.74 1899.59 1739.88 1899.59 Q1735.52 1899.59 1733.32 1900.93 Q1731.15 1902.26 1731.15 1904.94 Q1731.15 1906.98 1732.71 1908.15 Q1734.27 1909.3 1738.98 1910.35 L1740.99 1910.79 Q1747.23 1912.13 1749.84 1914.58 Q1752.48 1917 1752.48 1921.36 Q1752.48 1926.33 1748.53 1929.22 Q1744.62 1932.12 1737.74 1932.12 Q1734.88 1932.12 1731.76 1931.55 Q1728.67 1931.01 1725.23 1929.89 L1725.23 1923.84 Q1728.48 1925.53 1731.63 1926.39 Q1734.78 1927.22 1737.87 1927.22 Q1742.01 1927.22 1744.24 1925.82 Q1746.46 1924.39 1746.46 1921.81 Q1746.46 1919.42 1744.84 1918.15 Q1743.25 1916.87 1737.81 1915.7 L1735.77 1915.22 Q1730.33 1914.07 1727.91 1911.72 Q1725.49 1909.33 1725.49 1905.19 Q1725.49 1900.16 1729.05 1897.43 Q1732.62 1894.69 1739.18 1894.69 Q1742.42 1894.69 1745.29 1895.17 Q1748.15 1895.64 1750.57 1896.6 Z\" fill=\"#000000\" fill-rule=\"nonzero\" fill-opacity=\"1\" /><path clip-path=\"url(#clip650)\" d=\"M1761.2 1917.13 L1761.2 1895.55 L1767.06 1895.55 L1767.06 1916.91 Q1767.06 1921.97 1769.03 1924.51 Q1771 1927.03 1774.95 1927.03 Q1779.69 1927.03 1782.43 1924 Q1785.2 1920.98 1785.2 1915.76 L1785.2 1895.55 L1791.06 1895.55 L1791.06 1931.2 L1785.2 1931.2 L1785.2 1925.72 Q1783.07 1928.97 1780.23 1930.56 Q1777.43 1932.12 1773.71 1932.12 Q1767.57 1932.12 1764.38 1928.3 Q1761.2 1924.48 1761.2 1917.13 M1775.94 1894.69 L1775.94 1894.69 Z\" fill=\"#000000\" fill-rule=\"nonzero\" fill-opacity=\"1\" /><path clip-path=\"url(#clip650)\" d=\"M1828.71 1913.4 Q1828.71 1906.94 1826.04 1903.28 Q1823.39 1899.59 1818.75 1899.59 Q1814.1 1899.59 1811.43 1903.28 Q1808.78 1906.94 1808.78 1913.4 Q1808.78 1919.87 1811.43 1923.56 Q1814.1 1927.22 1818.75 1927.22 Q1823.39 1927.22 1826.04 1923.56 Q1828.71 1919.87 1828.71 1913.4 M1808.78 1900.96 Q1810.63 1897.78 1813.43 1896.25 Q1816.26 1894.69 1820.18 1894.69 Q1826.67 1894.69 1830.71 1899.85 Q1834.79 1905 1834.79 1913.4 Q1834.79 1921.81 1830.71 1926.96 Q1826.67 1932.12 1820.18 1932.12 Q1816.26 1932.12 1813.43 1930.59 Q1810.63 1929.03 1808.78 1925.85 L1808.78 1931.2 L1802.9 1931.2 L1802.9 1881.67 L1808.78 1881.67 L1808.78 1900.96 Z\" fill=\"#000000\" fill-rule=\"nonzero\" fill-opacity=\"1\" /><path clip-path=\"url(#clip650)\" d=\"M1862.54 1881.67 L1862.54 1886.54 L1856.94 1886.54 Q1853.79 1886.54 1852.55 1887.81 Q1851.34 1889.09 1851.34 1892.4 L1851.34 1895.55 L1860.98 1895.55 L1860.98 1900.1 L1851.34 1900.1 L1851.34 1931.2 L1845.45 1931.2 L1845.45 1900.1 L1839.85 1900.1 L1839.85 1895.55 L1845.45 1895.55 L1845.45 1893.07 Q1845.45 1887.11 1848.22 1884.41 Q1850.99 1881.67 1857 1881.67 L1862.54 1881.67 Z\" fill=\"#000000\" fill-rule=\"nonzero\" fill-opacity=\"1\" /><path clip-path=\"url(#clip650)\" d=\"M1897.94 1911.91 L1897.94 1914.77 L1871.01 1914.77 Q1871.39 1920.82 1874.64 1924 Q1877.92 1927.15 1883.74 1927.15 Q1887.11 1927.15 1890.27 1926.33 Q1893.45 1925.5 1896.57 1923.84 L1896.57 1929.38 Q1893.42 1930.72 1890.11 1931.42 Q1886.8 1932.12 1883.39 1932.12 Q1874.86 1932.12 1869.86 1927.15 Q1864.9 1922.19 1864.9 1913.72 Q1864.9 1904.97 1869.61 1899.85 Q1874.35 1894.69 1882.37 1894.69 Q1889.57 1894.69 1893.74 1899.34 Q1897.94 1903.95 1897.94 1911.91 M1892.08 1910.19 Q1892.02 1905.38 1889.37 1902.52 Q1886.76 1899.65 1882.44 1899.65 Q1877.53 1899.65 1874.57 1902.42 Q1871.65 1905.19 1871.2 1910.22 L1892.08 1910.19 Z\" fill=\"#000000\" fill-rule=\"nonzero\" fill-opacity=\"1\" /><path clip-path=\"url(#clip650)\" d=\"M1923.75 1913.28 Q1916.65 1913.28 1913.91 1914.9 Q1911.18 1916.52 1911.18 1920.44 Q1911.18 1923.56 1913.21 1925.4 Q1915.28 1927.22 1918.82 1927.22 Q1923.69 1927.22 1926.61 1923.78 Q1929.57 1920.31 1929.57 1914.58 L1929.57 1913.28 L1923.75 1913.28 M1935.43 1910.86 L1935.43 1931.2 L1929.57 1931.2 L1929.57 1925.79 Q1927.57 1929.03 1924.58 1930.59 Q1921.59 1932.12 1917.26 1932.12 Q1911.78 1932.12 1908.54 1929.06 Q1905.32 1925.98 1905.32 1920.82 Q1905.32 1914.8 1909.33 1911.75 Q1913.37 1908.69 1921.36 1908.69 L1929.57 1908.69 L1929.57 1908.12 Q1929.57 1904.08 1926.9 1901.88 Q1924.26 1899.65 1919.45 1899.65 Q1916.4 1899.65 1913.5 1900.39 Q1910.6 1901.12 1907.93 1902.58 L1907.93 1897.17 Q1911.15 1895.93 1914.17 1895.33 Q1917.19 1894.69 1920.06 1894.69 Q1927.79 1894.69 1931.61 1898.7 Q1935.43 1902.71 1935.43 1910.86 Z\" fill=\"#000000\" fill-rule=\"nonzero\" fill-opacity=\"1\" /><path clip-path=\"url(#clip650)\" d=\"M1953.29 1885.43 L1953.29 1895.55 L1965.35 1895.55 L1965.35 1900.1 L1953.29 1900.1 L1953.29 1919.45 Q1953.29 1923.81 1954.46 1925.05 Q1955.67 1926.29 1959.33 1926.29 L1965.35 1926.29 L1965.35 1931.2 L1959.33 1931.2 Q1952.55 1931.2 1949.98 1928.68 Q1947.4 1926.14 1947.4 1919.45 L1947.4 1900.1 L1943.1 1900.1 L1943.1 1895.55 L1947.4 1895.55 L1947.4 1885.43 L1953.29 1885.43 Z\" fill=\"#000000\" fill-rule=\"nonzero\" fill-opacity=\"1\" /><path clip-path=\"url(#clip650)\" d=\"M1972.45 1917.13 L1972.45 1895.55 L1978.3 1895.55 L1978.3 1916.91 Q1978.3 1921.97 1980.28 1924.51 Q1982.25 1927.03 1986.2 1927.03 Q1990.94 1927.03 1993.68 1924 Q1996.45 1920.98 1996.45 1915.76 L1996.45 1895.55 L2002.3 1895.55 L2002.3 1931.2 L1996.45 1931.2 L1996.45 1925.72 Q1994.31 1928.97 1991.48 1930.56 Q1988.68 1932.12 1984.96 1932.12 Q1978.81 1932.12 1975.63 1928.3 Q1972.45 1924.48 1972.45 1917.13 M1987.18 1894.69 L1987.18 1894.69 Z\" fill=\"#000000\" fill-rule=\"nonzero\" fill-opacity=\"1\" /><path clip-path=\"url(#clip650)\" d=\"M2035.02 1901.02 Q2034.04 1900.45 2032.86 1900.2 Q2031.71 1899.91 2030.31 1899.91 Q2025.35 1899.91 2022.67 1903.16 Q2020.03 1906.37 2020.03 1912.42 L2020.03 1931.2 L2014.14 1931.2 L2014.14 1895.55 L2020.03 1895.55 L2020.03 1901.09 Q2021.88 1897.84 2024.84 1896.28 Q2027.8 1894.69 2032.03 1894.69 Q2032.63 1894.69 2033.37 1894.78 Q2034.1 1894.85 2034.99 1895.01 L2035.02 1901.02 Z\" fill=\"#000000\" fill-rule=\"nonzero\" fill-opacity=\"1\" /><path clip-path=\"url(#clip650)\" d=\"M2070.22 1911.91 L2070.22 1914.77 L2043.3 1914.77 Q2043.68 1920.82 2046.93 1924 Q2050.2 1927.15 2056.03 1927.15 Q2059.4 1927.15 2062.55 1926.33 Q2065.74 1925.5 2068.86 1923.84 L2068.86 1929.38 Q2065.7 1930.72 2062.39 1931.42 Q2059.08 1932.12 2055.68 1932.12 Q2047.15 1932.12 2042.15 1927.15 Q2037.19 1922.19 2037.19 1913.72 Q2037.19 1904.97 2041.9 1899.85 Q2046.64 1894.69 2054.66 1894.69 Q2061.85 1894.69 2066.02 1899.34 Q2070.22 1903.95 2070.22 1911.91 M2064.37 1910.19 Q2064.3 1905.38 2061.66 1902.52 Q2059.05 1899.65 2054.72 1899.65 Q2049.82 1899.65 2046.86 1902.42 Q2043.93 1905.19 2043.49 1910.22 L2064.37 1910.19 Z\" fill=\"#000000\" fill-rule=\"nonzero\" fill-opacity=\"1\" /><path clip-path=\"url(#clip650)\" d=\"M2102.56 1896.6 L2102.56 1902.14 Q2100.08 1900.86 2097.41 1900.23 Q2094.73 1899.59 2091.87 1899.59 Q2087.51 1899.59 2085.31 1900.93 Q2083.15 1902.26 2083.15 1904.94 Q2083.15 1906.98 2084.71 1908.15 Q2086.27 1909.3 2090.98 1910.35 L2092.98 1910.79 Q2099.22 1912.13 2101.83 1914.58 Q2104.47 1917 2104.47 1921.36 Q2104.47 1926.33 2100.53 1929.22 Q2096.61 1932.12 2089.74 1932.12 Q2086.87 1932.12 2083.75 1931.55 Q2080.66 1931.01 2077.23 1929.89 L2077.23 1923.84 Q2080.47 1925.53 2083.62 1926.39 Q2086.78 1927.22 2089.86 1927.22 Q2094 1927.22 2096.23 1925.82 Q2098.46 1924.39 2098.46 1921.81 Q2098.46 1919.42 2096.83 1918.15 Q2095.24 1916.87 2089.8 1915.7 L2087.76 1915.22 Q2082.32 1914.07 2079.9 1911.72 Q2077.48 1909.33 2077.48 1905.19 Q2077.48 1900.16 2081.05 1897.43 Q2084.61 1894.69 2091.17 1894.69 Q2094.41 1894.69 2097.28 1895.17 Q2100.14 1895.64 2102.56 1896.6 Z\" fill=\"#000000\" fill-rule=\"nonzero\" fill-opacity=\"1\" /><polyline clip-path=\"url(#clip650)\" style=\"stroke:#000000; stroke-linecap:round; stroke-linejoin:round; stroke-width:4; stroke-opacity:1; fill:none\" points=\"1381.74,1789.33 1381.74,1015.34 \"/>\n",
       "<polyline clip-path=\"url(#clip650)\" style=\"stroke:#000000; stroke-linecap:round; stroke-linejoin:round; stroke-width:4; stroke-opacity:1; fill:none\" points=\"2152.76,1789.33 2152.76,1015.34 \"/>\n",
       "<polyline clip-path=\"url(#clip650)\" style=\"stroke:#000000; stroke-linecap:round; stroke-linejoin:round; stroke-width:4; stroke-opacity:1; fill:none\" points=\"1381.74,1682.95 1400.64,1682.95 \"/>\n",
       "<polyline clip-path=\"url(#clip650)\" style=\"stroke:#000000; stroke-linecap:round; stroke-linejoin:round; stroke-width:4; stroke-opacity:1; fill:none\" points=\"1381.74,1550.46 1400.64,1550.46 \"/>\n",
       "<polyline clip-path=\"url(#clip650)\" style=\"stroke:#000000; stroke-linecap:round; stroke-linejoin:round; stroke-width:4; stroke-opacity:1; fill:none\" points=\"1381.74,1417.97 1400.64,1417.97 \"/>\n",
       "<polyline clip-path=\"url(#clip650)\" style=\"stroke:#000000; stroke-linecap:round; stroke-linejoin:round; stroke-width:4; stroke-opacity:1; fill:none\" points=\"1381.74,1285.49 1400.64,1285.49 \"/>\n",
       "<polyline clip-path=\"url(#clip650)\" style=\"stroke:#000000; stroke-linecap:round; stroke-linejoin:round; stroke-width:4; stroke-opacity:1; fill:none\" points=\"1381.74,1153 1400.64,1153 \"/>\n",
       "<polyline clip-path=\"url(#clip650)\" style=\"stroke:#000000; stroke-linecap:round; stroke-linejoin:round; stroke-width:4; stroke-opacity:1; fill:none\" points=\"1381.74,1020.51 1400.64,1020.51 \"/>\n",
       "<polyline clip-path=\"url(#clip650)\" style=\"stroke:#000000; stroke-linecap:round; stroke-linejoin:round; stroke-width:4; stroke-opacity:1; fill:none\" points=\"2152.76,1682.95 2133.86,1682.95 \"/>\n",
       "<polyline clip-path=\"url(#clip650)\" style=\"stroke:#000000; stroke-linecap:round; stroke-linejoin:round; stroke-width:4; stroke-opacity:1; fill:none\" points=\"2152.76,1550.46 2133.86,1550.46 \"/>\n",
       "<polyline clip-path=\"url(#clip650)\" style=\"stroke:#000000; stroke-linecap:round; stroke-linejoin:round; stroke-width:4; stroke-opacity:1; fill:none\" points=\"2152.76,1417.97 2133.86,1417.97 \"/>\n",
       "<polyline clip-path=\"url(#clip650)\" style=\"stroke:#000000; stroke-linecap:round; stroke-linejoin:round; stroke-width:4; stroke-opacity:1; fill:none\" points=\"2152.76,1285.49 2133.86,1285.49 \"/>\n",
       "<polyline clip-path=\"url(#clip650)\" style=\"stroke:#000000; stroke-linecap:round; stroke-linejoin:round; stroke-width:4; stroke-opacity:1; fill:none\" points=\"2152.76,1153 2133.86,1153 \"/>\n",
       "<polyline clip-path=\"url(#clip650)\" style=\"stroke:#000000; stroke-linecap:round; stroke-linejoin:round; stroke-width:4; stroke-opacity:1; fill:none\" points=\"2152.76,1020.51 2133.86,1020.51 \"/>\n",
       "<path clip-path=\"url(#clip650)\" d=\"M1261.4 1668.75 Q1257.79 1668.75 1255.96 1672.31 Q1254.16 1675.86 1254.16 1682.99 Q1254.16 1690.09 1255.96 1693.66 Q1257.79 1697.2 1261.4 1697.2 Q1265.04 1697.2 1266.84 1693.66 Q1268.67 1690.09 1268.67 1682.99 Q1268.67 1675.86 1266.84 1672.31 Q1265.04 1668.75 1261.4 1668.75 M1261.4 1665.05 Q1267.21 1665.05 1270.27 1669.65 Q1273.35 1674.24 1273.35 1682.99 Q1273.35 1691.71 1270.27 1696.32 Q1267.21 1700.9 1261.4 1700.9 Q1255.59 1700.9 1252.51 1696.32 Q1249.46 1691.71 1249.46 1682.99 Q1249.46 1674.24 1252.51 1669.65 Q1255.59 1665.05 1261.4 1665.05 Z\" fill=\"#000000\" fill-rule=\"nonzero\" fill-opacity=\"1\" /><path clip-path=\"url(#clip650)\" d=\"M1281.57 1694.35 L1286.45 1694.35 L1286.45 1700.23 L1281.57 1700.23 L1281.57 1694.35 Z\" fill=\"#000000\" fill-rule=\"nonzero\" fill-opacity=\"1\" /><path clip-path=\"url(#clip650)\" d=\"M1297.45 1696.3 L1305.08 1696.3 L1305.08 1669.93 L1296.77 1671.6 L1296.77 1667.34 L1305.04 1665.67 L1309.71 1665.67 L1309.71 1696.3 L1317.35 1696.3 L1317.35 1700.23 L1297.45 1700.23 L1297.45 1696.3 Z\" fill=\"#000000\" fill-rule=\"nonzero\" fill-opacity=\"1\" /><path clip-path=\"url(#clip650)\" d=\"M1336.8 1668.75 Q1333.19 1668.75 1331.36 1672.31 Q1329.55 1675.86 1329.55 1682.99 Q1329.55 1690.09 1331.36 1693.66 Q1333.19 1697.2 1336.8 1697.2 Q1340.43 1697.2 1342.24 1693.66 Q1344.07 1690.09 1344.07 1682.99 Q1344.07 1675.86 1342.24 1672.31 Q1340.43 1668.75 1336.8 1668.75 M1336.8 1665.05 Q1342.61 1665.05 1345.66 1669.65 Q1348.74 1674.24 1348.74 1682.99 Q1348.74 1691.71 1345.66 1696.32 Q1342.61 1700.9 1336.8 1700.9 Q1330.99 1700.9 1327.91 1696.32 Q1324.85 1691.71 1324.85 1682.99 Q1324.85 1674.24 1327.91 1669.65 Q1330.99 1665.05 1336.8 1665.05 Z\" fill=\"#000000\" fill-rule=\"nonzero\" fill-opacity=\"1\" /><path clip-path=\"url(#clip650)\" d=\"M1262.63 1536.26 Q1259.02 1536.26 1257.19 1539.83 Q1255.39 1543.37 1255.39 1550.5 Q1255.39 1557.6 1257.19 1561.17 Q1259.02 1564.71 1262.63 1564.71 Q1266.26 1564.71 1268.07 1561.17 Q1269.9 1557.6 1269.9 1550.5 Q1269.9 1543.37 1268.07 1539.83 Q1266.26 1536.26 1262.63 1536.26 M1262.63 1532.56 Q1268.44 1532.56 1271.5 1537.16 Q1274.57 1541.75 1274.57 1550.5 Q1274.57 1559.22 1271.5 1563.83 Q1268.44 1568.41 1262.63 1568.41 Q1256.82 1568.41 1253.74 1563.83 Q1250.69 1559.22 1250.69 1550.5 Q1250.69 1541.75 1253.74 1537.16 Q1256.82 1532.56 1262.63 1532.56 Z\" fill=\"#000000\" fill-rule=\"nonzero\" fill-opacity=\"1\" /><path clip-path=\"url(#clip650)\" d=\"M1282.79 1561.86 L1287.68 1561.86 L1287.68 1567.74 L1282.79 1567.74 L1282.79 1561.86 Z\" fill=\"#000000\" fill-rule=\"nonzero\" fill-opacity=\"1\" /><path clip-path=\"url(#clip650)\" d=\"M1298.67 1563.81 L1306.31 1563.81 L1306.31 1537.44 L1298 1539.11 L1298 1534.85 L1306.26 1533.18 L1310.94 1533.18 L1310.94 1563.81 L1318.58 1563.81 L1318.58 1567.74 L1298.67 1567.74 L1298.67 1563.81 Z\" fill=\"#000000\" fill-rule=\"nonzero\" fill-opacity=\"1\" /><path clip-path=\"url(#clip650)\" d=\"M1328.83 1563.81 L1336.47 1563.81 L1336.47 1537.44 L1328.16 1539.11 L1328.16 1534.85 L1336.43 1533.18 L1341.1 1533.18 L1341.1 1563.81 L1348.74 1563.81 L1348.74 1567.74 L1328.83 1567.74 L1328.83 1563.81 Z\" fill=\"#000000\" fill-rule=\"nonzero\" fill-opacity=\"1\" /><path clip-path=\"url(#clip650)\" d=\"M1263 1403.77 Q1259.39 1403.77 1257.56 1407.34 Q1255.76 1410.88 1255.76 1418.01 Q1255.76 1425.12 1257.56 1428.68 Q1259.39 1432.22 1263 1432.22 Q1266.64 1432.22 1268.44 1428.68 Q1270.27 1425.12 1270.27 1418.01 Q1270.27 1410.88 1268.44 1407.34 Q1266.64 1403.77 1263 1403.77 M1263 1400.07 Q1268.81 1400.07 1271.87 1404.68 Q1274.95 1409.26 1274.95 1418.01 Q1274.95 1426.74 1271.87 1431.34 Q1268.81 1435.93 1263 1435.93 Q1257.19 1435.93 1254.11 1431.34 Q1251.06 1426.74 1251.06 1418.01 Q1251.06 1409.26 1254.11 1404.68 Q1257.19 1400.07 1263 1400.07 Z\" fill=\"#000000\" fill-rule=\"nonzero\" fill-opacity=\"1\" /><path clip-path=\"url(#clip650)\" d=\"M1283.16 1429.37 L1288.05 1429.37 L1288.05 1435.25 L1283.16 1435.25 L1283.16 1429.37 Z\" fill=\"#000000\" fill-rule=\"nonzero\" fill-opacity=\"1\" /><path clip-path=\"url(#clip650)\" d=\"M1299.04 1431.32 L1306.68 1431.32 L1306.68 1404.95 L1298.37 1406.62 L1298.37 1402.36 L1306.63 1400.69 L1311.31 1400.69 L1311.31 1431.32 L1318.95 1431.32 L1318.95 1435.25 L1299.04 1435.25 L1299.04 1431.32 Z\" fill=\"#000000\" fill-rule=\"nonzero\" fill-opacity=\"1\" /><path clip-path=\"url(#clip650)\" d=\"M1332.42 1431.32 L1348.74 1431.32 L1348.74 1435.25 L1326.8 1435.25 L1326.8 1431.32 Q1329.46 1428.56 1334.04 1423.93 Q1338.65 1419.28 1339.83 1417.94 Q1342.07 1415.42 1342.95 1413.68 Q1343.86 1411.92 1343.86 1410.23 Q1343.86 1407.48 1341.91 1405.74 Q1339.99 1404 1336.89 1404 Q1334.69 1404 1332.24 1404.77 Q1329.81 1405.53 1327.03 1407.08 L1327.03 1402.36 Q1329.85 1401.23 1332.31 1400.65 Q1334.76 1400.07 1336.8 1400.07 Q1342.17 1400.07 1345.36 1402.75 Q1348.56 1405.44 1348.56 1409.93 Q1348.56 1412.06 1347.75 1413.98 Q1346.96 1415.88 1344.85 1418.47 Q1344.27 1419.14 1341.17 1422.36 Q1338.07 1425.56 1332.42 1431.32 Z\" fill=\"#000000\" fill-rule=\"nonzero\" fill-opacity=\"1\" /><path clip-path=\"url(#clip650)\" d=\"M1262.05 1271.28 Q1258.44 1271.28 1256.61 1274.85 Q1254.81 1278.39 1254.81 1285.52 Q1254.81 1292.63 1256.61 1296.19 Q1258.44 1299.73 1262.05 1299.73 Q1265.69 1299.73 1267.49 1296.19 Q1269.32 1292.63 1269.32 1285.52 Q1269.32 1278.39 1267.49 1274.85 Q1265.69 1271.28 1262.05 1271.28 M1262.05 1267.58 Q1267.86 1267.58 1270.92 1272.19 Q1274 1276.77 1274 1285.52 Q1274 1294.25 1270.92 1298.85 Q1267.86 1303.44 1262.05 1303.44 Q1256.24 1303.44 1253.16 1298.85 Q1250.11 1294.25 1250.11 1285.52 Q1250.11 1276.77 1253.16 1272.19 Q1256.24 1267.58 1262.05 1267.58 Z\" fill=\"#000000\" fill-rule=\"nonzero\" fill-opacity=\"1\" /><path clip-path=\"url(#clip650)\" d=\"M1282.21 1296.89 L1287.1 1296.89 L1287.1 1302.77 L1282.21 1302.77 L1282.21 1296.89 Z\" fill=\"#000000\" fill-rule=\"nonzero\" fill-opacity=\"1\" /><path clip-path=\"url(#clip650)\" d=\"M1298.09 1298.83 L1305.73 1298.83 L1305.73 1272.47 L1297.42 1274.13 L1297.42 1269.87 L1305.69 1268.21 L1310.36 1268.21 L1310.36 1298.83 L1318 1298.83 L1318 1302.77 L1298.09 1302.77 L1298.09 1298.83 Z\" fill=\"#000000\" fill-rule=\"nonzero\" fill-opacity=\"1\" /><path clip-path=\"url(#clip650)\" d=\"M1341.61 1284.13 Q1344.97 1284.85 1346.84 1287.12 Q1348.74 1289.39 1348.74 1292.72 Q1348.74 1297.84 1345.22 1300.64 Q1341.7 1303.44 1335.22 1303.44 Q1333.05 1303.44 1330.73 1303 Q1328.44 1302.58 1325.99 1301.72 L1325.99 1297.21 Q1327.93 1298.34 1330.25 1298.92 Q1332.56 1299.5 1335.08 1299.5 Q1339.48 1299.5 1341.77 1297.77 Q1344.09 1296.03 1344.09 1292.72 Q1344.09 1289.66 1341.94 1287.95 Q1339.81 1286.22 1335.99 1286.22 L1331.96 1286.22 L1331.96 1282.37 L1336.17 1282.37 Q1339.62 1282.37 1341.45 1281.01 Q1343.28 1279.62 1343.28 1277.03 Q1343.28 1274.36 1341.38 1272.95 Q1339.51 1271.52 1335.99 1271.52 Q1334.07 1271.52 1331.87 1271.93 Q1329.67 1272.35 1327.03 1273.23 L1327.03 1269.06 Q1329.69 1268.32 1332.01 1267.95 Q1334.34 1267.58 1336.4 1267.58 Q1341.73 1267.58 1344.83 1270.01 Q1347.93 1272.42 1347.93 1276.54 Q1347.93 1279.41 1346.29 1281.4 Q1344.64 1283.37 1341.61 1284.13 Z\" fill=\"#000000\" fill-rule=\"nonzero\" fill-opacity=\"1\" /><path clip-path=\"url(#clip650)\" d=\"M1260.92 1138.8 Q1257.31 1138.8 1255.48 1142.36 Q1253.67 1145.9 1253.67 1153.03 Q1253.67 1160.14 1255.48 1163.7 Q1257.31 1167.25 1260.92 1167.25 Q1264.55 1167.25 1266.36 1163.7 Q1268.19 1160.14 1268.19 1153.03 Q1268.19 1145.9 1266.36 1142.36 Q1264.55 1138.8 1260.92 1138.8 M1260.92 1135.09 Q1266.73 1135.09 1269.78 1139.7 Q1272.86 1144.28 1272.86 1153.03 Q1272.86 1161.76 1269.78 1166.37 Q1266.73 1170.95 1260.92 1170.95 Q1255.11 1170.95 1252.03 1166.37 Q1248.97 1161.76 1248.97 1153.03 Q1248.97 1144.28 1252.03 1139.7 Q1255.11 1135.09 1260.92 1135.09 Z\" fill=\"#000000\" fill-rule=\"nonzero\" fill-opacity=\"1\" /><path clip-path=\"url(#clip650)\" d=\"M1281.08 1164.4 L1285.96 1164.4 L1285.96 1170.28 L1281.08 1170.28 L1281.08 1164.4 Z\" fill=\"#000000\" fill-rule=\"nonzero\" fill-opacity=\"1\" /><path clip-path=\"url(#clip650)\" d=\"M1296.96 1166.34 L1304.6 1166.34 L1304.6 1139.98 L1296.29 1141.64 L1296.29 1137.38 L1304.55 1135.72 L1309.23 1135.72 L1309.23 1166.34 L1316.87 1166.34 L1316.87 1170.28 L1296.96 1170.28 L1296.96 1166.34 Z\" fill=\"#000000\" fill-rule=\"nonzero\" fill-opacity=\"1\" /><path clip-path=\"url(#clip650)\" d=\"M1339.16 1139.79 L1327.35 1158.24 L1339.16 1158.24 L1339.16 1139.79 M1337.93 1135.72 L1343.81 1135.72 L1343.81 1158.24 L1348.74 1158.24 L1348.74 1162.13 L1343.81 1162.13 L1343.81 1170.28 L1339.16 1170.28 L1339.16 1162.13 L1323.56 1162.13 L1323.56 1157.62 L1337.93 1135.72 Z\" fill=\"#000000\" fill-rule=\"nonzero\" fill-opacity=\"1\" /><path clip-path=\"url(#clip650)\" d=\"M1262.4 1006.31 Q1258.79 1006.31 1256.96 1009.87 Q1255.15 1013.41 1255.15 1020.54 Q1255.15 1027.65 1256.96 1031.22 Q1258.79 1034.76 1262.4 1034.76 Q1266.03 1034.76 1267.84 1031.22 Q1269.67 1027.65 1269.67 1020.54 Q1269.67 1013.41 1267.84 1009.87 Q1266.03 1006.31 1262.4 1006.31 M1262.4 1002.6 Q1268.21 1002.6 1271.26 1007.21 Q1274.34 1011.79 1274.34 1020.54 Q1274.34 1029.27 1271.26 1033.88 Q1268.21 1038.46 1262.4 1038.46 Q1256.59 1038.46 1253.51 1033.88 Q1250.45 1029.27 1250.45 1020.54 Q1250.45 1011.79 1253.51 1007.21 Q1256.59 1002.6 1262.4 1002.6 Z\" fill=\"#000000\" fill-rule=\"nonzero\" fill-opacity=\"1\" /><path clip-path=\"url(#clip650)\" d=\"M1282.56 1031.91 L1287.45 1031.91 L1287.45 1037.79 L1282.56 1037.79 L1282.56 1031.91 Z\" fill=\"#000000\" fill-rule=\"nonzero\" fill-opacity=\"1\" /><path clip-path=\"url(#clip650)\" d=\"M1298.44 1033.85 L1306.08 1033.85 L1306.08 1007.49 L1297.77 1009.16 L1297.77 1004.9 L1306.03 1003.23 L1310.71 1003.23 L1310.71 1033.85 L1318.35 1033.85 L1318.35 1037.79 L1298.44 1037.79 L1298.44 1033.85 Z\" fill=\"#000000\" fill-rule=\"nonzero\" fill-opacity=\"1\" /><path clip-path=\"url(#clip650)\" d=\"M1327.84 1003.23 L1346.19 1003.23 L1346.19 1007.16 L1332.12 1007.16 L1332.12 1015.64 Q1333.14 1015.29 1334.16 1015.13 Q1335.18 1014.94 1336.19 1014.94 Q1341.98 1014.94 1345.36 1018.11 Q1348.74 1021.29 1348.74 1026.7 Q1348.74 1032.28 1345.27 1035.38 Q1341.8 1038.46 1335.48 1038.46 Q1333.3 1038.46 1331.03 1038.09 Q1328.79 1037.72 1326.38 1036.98 L1326.38 1032.28 Q1328.46 1033.41 1330.69 1033.97 Q1332.91 1034.53 1335.38 1034.53 Q1339.39 1034.53 1341.73 1032.42 Q1344.07 1030.31 1344.07 1026.7 Q1344.07 1023.09 1341.73 1020.98 Q1339.39 1018.88 1335.38 1018.88 Q1333.51 1018.88 1331.63 1019.29 Q1329.78 1019.71 1327.84 1020.59 L1327.84 1003.23 Z\" fill=\"#000000\" fill-rule=\"nonzero\" fill-opacity=\"1\" /><path clip-path=\"url(#clip650)\" d=\"M1179.02 1565.09 L1196.43 1565.09 L1196.43 1554.78 Q1196.43 1549.59 1194.3 1547.11 Q1192.14 1544.6 1187.71 1544.6 Q1183.26 1544.6 1181.16 1547.11 Q1179.02 1549.59 1179.02 1554.78 L1179.02 1565.09 M1159.48 1565.09 L1173.8 1565.09 L1173.8 1555.58 Q1173.8 1550.87 1172.05 1548.57 Q1170.27 1546.25 1166.64 1546.25 Q1163.05 1546.25 1161.26 1548.57 Q1159.48 1550.87 1159.48 1555.58 L1159.48 1565.09 M1154.2 1571.52 L1154.2 1555.1 Q1154.2 1547.75 1157.25 1543.77 Q1160.31 1539.79 1165.94 1539.79 Q1170.3 1539.79 1172.88 1541.83 Q1175.46 1543.86 1176.1 1547.81 Q1177.11 1543.07 1180.36 1540.46 Q1183.57 1537.82 1188.41 1537.82 Q1194.78 1537.82 1198.25 1542.15 Q1201.72 1546.47 1201.72 1554.46 L1201.72 1571.52 L1154.2 1571.52 Z\" fill=\"#000000\" fill-rule=\"nonzero\" fill-opacity=\"1\" /><path clip-path=\"url(#clip650)\" d=\"M1171.54 1506.4 Q1170.97 1507.39 1170.72 1508.57 Q1170.43 1509.71 1170.43 1511.11 Q1170.43 1516.08 1173.68 1518.75 Q1176.89 1521.39 1182.94 1521.39 L1201.72 1521.39 L1201.72 1527.28 L1166.07 1527.28 L1166.07 1521.39 L1171.61 1521.39 Q1168.36 1519.55 1166.8 1516.59 Q1165.21 1513.63 1165.21 1509.39 Q1165.21 1508.79 1165.31 1508.06 Q1165.37 1507.33 1165.53 1506.43 L1171.54 1506.4 Z\" fill=\"#000000\" fill-rule=\"nonzero\" fill-opacity=\"1\" /><path clip-path=\"url(#clip650)\" d=\"M1166.07 1500.26 L1166.07 1494.4 L1201.72 1494.4 L1201.72 1500.26 L1166.07 1500.26 M1152.19 1500.26 L1152.19 1494.4 L1159.61 1494.4 L1159.61 1500.26 L1152.19 1500.26 Z\" fill=\"#000000\" fill-rule=\"nonzero\" fill-opacity=\"1\" /><path clip-path=\"url(#clip650)\" d=\"M1182.43 1451.66 L1185.29 1451.66 L1185.29 1478.58 Q1191.34 1478.2 1194.52 1474.96 Q1197.67 1471.68 1197.67 1465.85 Q1197.67 1462.48 1196.85 1459.33 Q1196.02 1456.14 1194.36 1453.03 L1199.9 1453.03 Q1201.24 1456.18 1201.94 1459.49 Q1202.64 1462.8 1202.64 1466.2 Q1202.64 1474.73 1197.67 1479.73 Q1192.71 1484.7 1184.24 1484.7 Q1175.49 1484.7 1170.37 1479.98 Q1165.21 1475.24 1165.21 1467.22 Q1165.21 1460.03 1169.86 1455.86 Q1174.47 1451.66 1182.43 1451.66 M1180.71 1457.51 Q1175.9 1457.58 1173.04 1460.22 Q1170.18 1462.83 1170.18 1467.16 Q1170.18 1472.06 1172.94 1475.02 Q1175.71 1477.95 1180.74 1478.39 L1180.71 1457.51 Z\" fill=\"#000000\" fill-rule=\"nonzero\" fill-opacity=\"1\" /><path clip-path=\"url(#clip650)\" d=\"M1171.54 1421.39 Q1170.97 1422.37 1170.72 1423.55 Q1170.43 1424.7 1170.43 1426.1 Q1170.43 1431.06 1173.68 1433.74 Q1176.89 1436.38 1182.94 1436.38 L1201.72 1436.38 L1201.72 1442.27 L1166.07 1442.27 L1166.07 1436.38 L1171.61 1436.38 Q1168.36 1434.53 1166.8 1431.57 Q1165.21 1428.61 1165.21 1424.38 Q1165.21 1423.78 1165.31 1423.04 Q1165.37 1422.31 1165.53 1421.42 L1171.54 1421.39 Z\" fill=\"#000000\" fill-rule=\"nonzero\" fill-opacity=\"1\" /><path clip-path=\"url(#clip650)\" d=\"M1154.2 1414.99 L1154.2 1408.56 L1196.31 1408.56 L1196.31 1385.42 L1201.72 1385.42 L1201.72 1414.99 L1154.2 1414.99 Z\" fill=\"#000000\" fill-rule=\"nonzero\" fill-opacity=\"1\" /><path clip-path=\"url(#clip650)\" d=\"M1170.18 1366.26 Q1170.18 1370.97 1173.87 1373.71 Q1177.53 1376.45 1183.92 1376.45 Q1190.32 1376.45 1194.01 1373.74 Q1197.67 1371 1197.67 1366.26 Q1197.67 1361.58 1193.98 1358.85 Q1190.29 1356.11 1183.92 1356.11 Q1177.59 1356.11 1173.9 1358.85 Q1170.18 1361.58 1170.18 1366.26 M1165.21 1366.26 Q1165.21 1358.62 1170.18 1354.26 Q1175.14 1349.9 1183.92 1349.9 Q1192.68 1349.9 1197.67 1354.26 Q1202.64 1358.62 1202.64 1366.26 Q1202.64 1373.93 1197.67 1378.29 Q1192.68 1382.62 1183.92 1382.62 Q1175.14 1382.62 1170.18 1378.29 Q1165.21 1373.93 1165.21 1366.26 Z\" fill=\"#000000\" fill-rule=\"nonzero\" fill-opacity=\"1\" /><path clip-path=\"url(#clip650)\" d=\"M1167.12 1317.47 L1172.66 1317.47 Q1171.38 1319.95 1170.75 1322.62 Q1170.11 1325.3 1170.11 1328.16 Q1170.11 1332.52 1171.45 1334.72 Q1172.78 1336.88 1175.46 1336.88 Q1177.5 1336.88 1178.67 1335.32 Q1179.82 1333.76 1180.87 1329.05 L1181.31 1327.05 Q1182.65 1320.81 1185.1 1318.2 Q1187.52 1315.56 1191.88 1315.56 Q1196.85 1315.56 1199.74 1319.51 Q1202.64 1323.42 1202.64 1330.29 Q1202.64 1333.16 1202.07 1336.28 Q1201.53 1339.37 1200.41 1342.8 L1194.36 1342.8 Q1196.05 1339.56 1196.91 1336.41 Q1197.74 1333.25 1197.74 1330.17 Q1197.74 1326.03 1196.34 1323.8 Q1194.91 1321.57 1192.33 1321.57 Q1189.94 1321.57 1188.67 1323.2 Q1187.39 1324.79 1186.22 1330.23 L1185.74 1332.27 Q1184.59 1337.71 1182.24 1340.13 Q1179.85 1342.55 1175.71 1342.55 Q1170.68 1342.55 1167.95 1338.98 Q1165.21 1335.42 1165.21 1328.86 Q1165.21 1325.62 1165.69 1322.75 Q1166.16 1319.89 1167.12 1317.47 Z\" fill=\"#000000\" fill-rule=\"nonzero\" fill-opacity=\"1\" /><path clip-path=\"url(#clip650)\" d=\"M1167.12 1283.51 L1172.66 1283.51 Q1171.38 1285.99 1170.75 1288.66 Q1170.11 1291.34 1170.11 1294.2 Q1170.11 1298.56 1171.45 1300.76 Q1172.78 1302.92 1175.46 1302.92 Q1177.5 1302.92 1178.67 1301.36 Q1179.82 1299.8 1180.87 1295.09 L1181.31 1293.09 Q1182.65 1286.85 1185.1 1284.24 Q1187.52 1281.6 1191.88 1281.6 Q1196.85 1281.6 1199.74 1285.54 Q1202.64 1289.46 1202.64 1296.33 Q1202.64 1299.2 1202.07 1302.32 Q1201.53 1305.4 1200.41 1308.84 L1194.36 1308.84 Q1196.05 1305.6 1196.91 1302.44 Q1197.74 1299.29 1197.74 1296.21 Q1197.74 1292.07 1196.34 1289.84 Q1194.91 1287.61 1192.33 1287.61 Q1189.94 1287.61 1188.67 1289.24 Q1187.39 1290.83 1186.22 1296.27 L1185.74 1298.31 Q1184.59 1303.75 1182.24 1306.17 Q1179.85 1308.59 1175.71 1308.59 Q1170.68 1308.59 1167.95 1305.02 Q1165.21 1301.46 1165.21 1294.9 Q1165.21 1291.66 1165.69 1288.79 Q1166.16 1285.93 1167.12 1283.51 Z\" fill=\"#000000\" fill-rule=\"nonzero\" fill-opacity=\"1\" /><path clip-path=\"url(#clip650)\" d=\"M1152.26 1258.2 Q1159.58 1262.47 1166.74 1264.54 Q1173.9 1266.61 1181.25 1266.61 Q1188.6 1266.61 1195.83 1264.54 Q1203.02 1262.44 1210.31 1258.2 L1210.31 1263.3 Q1202.83 1268.07 1195.61 1270.46 Q1188.38 1272.81 1181.25 1272.81 Q1174.15 1272.81 1166.96 1270.46 Q1159.77 1268.1 1152.26 1263.3 L1152.26 1258.2 Z\" fill=\"#000000\" fill-rule=\"nonzero\" fill-opacity=\"1\" /><path clip-path=\"url(#clip650)\" d=\"M1152.26 1247.76 L1152.26 1242.67 Q1159.77 1237.9 1166.96 1235.54 Q1174.15 1233.15 1181.25 1233.15 Q1188.38 1233.15 1195.61 1235.54 Q1202.83 1237.9 1210.31 1242.67 L1210.31 1247.76 Q1203.02 1243.53 1195.83 1241.46 Q1188.6 1239.36 1181.25 1239.36 Q1173.9 1239.36 1166.74 1241.46 Q1159.58 1243.53 1152.26 1247.76 Z\" fill=\"#000000\" fill-rule=\"nonzero\" fill-opacity=\"1\" /><circle clip-path=\"url(#clip655)\" cx=\"1646.02\" cy=\"1704.76\" r=\"14.4\" fill=\"#009af9\" fill-rule=\"evenodd\" fill-opacity=\"1\" stroke=\"#000000\" stroke-opacity=\"1\" stroke-width=\"4\"/>\n",
       "<circle clip-path=\"url(#clip655)\" cx=\"1403.56\" cy=\"1411.25\" r=\"14.4\" fill=\"#009af9\" fill-rule=\"evenodd\" fill-opacity=\"1\" stroke=\"#000000\" stroke-opacity=\"1\" stroke-width=\"4\"/>\n",
       "<circle clip-path=\"url(#clip655)\" cx=\"2130.93\" cy=\"1680.65\" r=\"14.4\" fill=\"#009af9\" fill-rule=\"evenodd\" fill-opacity=\"1\" stroke=\"#000000\" stroke-opacity=\"1\" stroke-width=\"4\"/>\n",
       "<circle clip-path=\"url(#clip655)\" cx=\"2130.93\" cy=\"1037.25\" r=\"14.4\" fill=\"#009af9\" fill-rule=\"evenodd\" fill-opacity=\"1\" stroke=\"#000000\" stroke-opacity=\"1\" stroke-width=\"4\"/>\n",
       "<circle clip-path=\"url(#clip655)\" cx=\"1403.56\" cy=\"1350.59\" r=\"14.4\" fill=\"#009af9\" fill-rule=\"evenodd\" fill-opacity=\"1\" stroke=\"#000000\" stroke-opacity=\"1\" stroke-width=\"4\"/>\n",
       "<circle clip-path=\"url(#clip655)\" cx=\"2130.93\" cy=\"1522.45\" r=\"14.4\" fill=\"#009af9\" fill-rule=\"evenodd\" fill-opacity=\"1\" stroke=\"#000000\" stroke-opacity=\"1\" stroke-width=\"4\"/>\n",
       "<circle clip-path=\"url(#clip655)\" cx=\"1403.56\" cy=\"1409.36\" r=\"14.4\" fill=\"#009af9\" fill-rule=\"evenodd\" fill-opacity=\"1\" stroke=\"#000000\" stroke-opacity=\"1\" stroke-width=\"4\"/>\n",
       "<circle clip-path=\"url(#clip655)\" cx=\"1403.56\" cy=\"1427.22\" r=\"14.4\" fill=\"#009af9\" fill-rule=\"evenodd\" fill-opacity=\"1\" stroke=\"#000000\" stroke-opacity=\"1\" stroke-width=\"4\"/>\n",
       "<circle clip-path=\"url(#clip655)\" cx=\"1888.48\" cy=\"1528.43\" r=\"14.4\" fill=\"#009af9\" fill-rule=\"evenodd\" fill-opacity=\"1\" stroke=\"#000000\" stroke-opacity=\"1\" stroke-width=\"4\"/>\n",
       "<circle clip-path=\"url(#clip655)\" cx=\"1403.56\" cy=\"1367.45\" r=\"14.4\" fill=\"#009af9\" fill-rule=\"evenodd\" fill-opacity=\"1\" stroke=\"#000000\" stroke-opacity=\"1\" stroke-width=\"4\"/>\n",
       "<circle clip-path=\"url(#clip655)\" cx=\"1888.48\" cy=\"1197.95\" r=\"14.4\" fill=\"#009af9\" fill-rule=\"evenodd\" fill-opacity=\"1\" stroke=\"#000000\" stroke-opacity=\"1\" stroke-width=\"4\"/>\n",
       "<circle clip-path=\"url(#clip655)\" cx=\"2130.93\" cy=\"1619.27\" r=\"14.4\" fill=\"#009af9\" fill-rule=\"evenodd\" fill-opacity=\"1\" stroke=\"#000000\" stroke-opacity=\"1\" stroke-width=\"4\"/>\n",
       "<circle clip-path=\"url(#clip655)\" cx=\"1403.56\" cy=\"1433.43\" r=\"14.4\" fill=\"#009af9\" fill-rule=\"evenodd\" fill-opacity=\"1\" stroke=\"#000000\" stroke-opacity=\"1\" stroke-width=\"4\"/>\n",
       "<circle clip-path=\"url(#clip655)\" cx=\"2130.93\" cy=\"1638.14\" r=\"14.4\" fill=\"#009af9\" fill-rule=\"evenodd\" fill-opacity=\"1\" stroke=\"#000000\" stroke-opacity=\"1\" stroke-width=\"4\"/>\n",
       "<circle clip-path=\"url(#clip655)\" cx=\"2130.93\" cy=\"1369.68\" r=\"14.4\" fill=\"#009af9\" fill-rule=\"evenodd\" fill-opacity=\"1\" stroke=\"#000000\" stroke-opacity=\"1\" stroke-width=\"4\"/>\n",
       "<circle clip-path=\"url(#clip655)\" cx=\"2130.93\" cy=\"1460.98\" r=\"14.4\" fill=\"#009af9\" fill-rule=\"evenodd\" fill-opacity=\"1\" stroke=\"#000000\" stroke-opacity=\"1\" stroke-width=\"4\"/>\n",
       "<circle clip-path=\"url(#clip655)\" cx=\"1403.56\" cy=\"1427.95\" r=\"14.4\" fill=\"#009af9\" fill-rule=\"evenodd\" fill-opacity=\"1\" stroke=\"#000000\" stroke-opacity=\"1\" stroke-width=\"4\"/>\n",
       "<circle clip-path=\"url(#clip655)\" cx=\"2130.93\" cy=\"1651.17\" r=\"14.4\" fill=\"#009af9\" fill-rule=\"evenodd\" fill-opacity=\"1\" stroke=\"#000000\" stroke-opacity=\"1\" stroke-width=\"4\"/>\n",
       "<circle clip-path=\"url(#clip655)\" cx=\"1646.02\" cy=\"1440.3\" r=\"14.4\" fill=\"#009af9\" fill-rule=\"evenodd\" fill-opacity=\"1\" stroke=\"#000000\" stroke-opacity=\"1\" stroke-width=\"4\"/>\n",
       "<circle clip-path=\"url(#clip655)\" cx=\"1403.56\" cy=\"1397.38\" r=\"14.4\" fill=\"#009af9\" fill-rule=\"evenodd\" fill-opacity=\"1\" stroke=\"#000000\" stroke-opacity=\"1\" stroke-width=\"4\"/>\n",
       "<circle clip-path=\"url(#clip655)\" cx=\"1646.02\" cy=\"1580.71\" r=\"14.4\" fill=\"#009af9\" fill-rule=\"evenodd\" fill-opacity=\"1\" stroke=\"#000000\" stroke-opacity=\"1\" stroke-width=\"4\"/>\n",
       "<circle clip-path=\"url(#clip655)\" cx=\"1888.48\" cy=\"1721.13\" r=\"14.4\" fill=\"#009af9\" fill-rule=\"evenodd\" fill-opacity=\"1\" stroke=\"#000000\" stroke-opacity=\"1\" stroke-width=\"4\"/>\n",
       "<circle clip-path=\"url(#clip655)\" cx=\"1888.48\" cy=\"1767.43\" r=\"14.4\" fill=\"#009af9\" fill-rule=\"evenodd\" fill-opacity=\"1\" stroke=\"#000000\" stroke-opacity=\"1\" stroke-width=\"4\"/>\n",
       "<circle clip-path=\"url(#clip655)\" cx=\"1888.48\" cy=\"1423.01\" r=\"14.4\" fill=\"#009af9\" fill-rule=\"evenodd\" fill-opacity=\"1\" stroke=\"#000000\" stroke-opacity=\"1\" stroke-width=\"4\"/>\n",
       "<circle clip-path=\"url(#clip655)\" cx=\"2130.93\" cy=\"1655.57\" r=\"14.4\" fill=\"#009af9\" fill-rule=\"evenodd\" fill-opacity=\"1\" stroke=\"#000000\" stroke-opacity=\"1\" stroke-width=\"4\"/>\n",
       "<circle clip-path=\"url(#clip655)\" cx=\"2130.93\" cy=\"1568.89\" r=\"14.4\" fill=\"#009af9\" fill-rule=\"evenodd\" fill-opacity=\"1\" stroke=\"#000000\" stroke-opacity=\"1\" stroke-width=\"4\"/>\n",
       "<circle clip-path=\"url(#clip655)\" cx=\"1646.02\" cy=\"1413.92\" r=\"14.4\" fill=\"#009af9\" fill-rule=\"evenodd\" fill-opacity=\"1\" stroke=\"#000000\" stroke-opacity=\"1\" stroke-width=\"4\"/>\n",
       "<circle clip-path=\"url(#clip655)\" cx=\"1646.02\" cy=\"1673.68\" r=\"14.4\" fill=\"#009af9\" fill-rule=\"evenodd\" fill-opacity=\"1\" stroke=\"#000000\" stroke-opacity=\"1\" stroke-width=\"4\"/>\n",
       "<circle clip-path=\"url(#clip655)\" cx=\"1646.02\" cy=\"1695.56\" r=\"14.4\" fill=\"#009af9\" fill-rule=\"evenodd\" fill-opacity=\"1\" stroke=\"#000000\" stroke-opacity=\"1\" stroke-width=\"4\"/>\n",
       "<circle clip-path=\"url(#clip655)\" cx=\"1888.48\" cy=\"1732.34\" r=\"14.4\" fill=\"#009af9\" fill-rule=\"evenodd\" fill-opacity=\"1\" stroke=\"#000000\" stroke-opacity=\"1\" stroke-width=\"4\"/>\n",
       "<circle clip-path=\"url(#clip655)\" cx=\"1646.02\" cy=\"1647.9\" r=\"14.4\" fill=\"#009af9\" fill-rule=\"evenodd\" fill-opacity=\"1\" stroke=\"#000000\" stroke-opacity=\"1\" stroke-width=\"4\"/>\n",
       "<circle clip-path=\"url(#clip655)\" cx=\"1646.02\" cy=\"1394.55\" r=\"14.4\" fill=\"#009af9\" fill-rule=\"evenodd\" fill-opacity=\"1\" stroke=\"#000000\" stroke-opacity=\"1\" stroke-width=\"4\"/>\n",
       "<circle clip-path=\"url(#clip655)\" cx=\"1403.56\" cy=\"1406.02\" r=\"14.4\" fill=\"#009af9\" fill-rule=\"evenodd\" fill-opacity=\"1\" stroke=\"#000000\" stroke-opacity=\"1\" stroke-width=\"4\"/>\n",
       "<circle clip-path=\"url(#clip655)\" cx=\"1888.48\" cy=\"1602.7\" r=\"14.4\" fill=\"#009af9\" fill-rule=\"evenodd\" fill-opacity=\"1\" stroke=\"#000000\" stroke-opacity=\"1\" stroke-width=\"4\"/>\n",
       "<circle clip-path=\"url(#clip655)\" cx=\"1888.48\" cy=\"1468.83\" r=\"14.4\" fill=\"#009af9\" fill-rule=\"evenodd\" fill-opacity=\"1\" stroke=\"#000000\" stroke-opacity=\"1\" stroke-width=\"4\"/>\n",
       "<circle clip-path=\"url(#clip655)\" cx=\"1646.02\" cy=\"1708.45\" r=\"14.4\" fill=\"#009af9\" fill-rule=\"evenodd\" fill-opacity=\"1\" stroke=\"#000000\" stroke-opacity=\"1\" stroke-width=\"4\"/>\n",
       "<circle clip-path=\"url(#clip655)\" cx=\"1888.48\" cy=\"1592.23\" r=\"14.4\" fill=\"#009af9\" fill-rule=\"evenodd\" fill-opacity=\"1\" stroke=\"#000000\" stroke-opacity=\"1\" stroke-width=\"4\"/>\n",
       "<circle clip-path=\"url(#clip655)\" cx=\"2130.93\" cy=\"1238.61\" r=\"14.4\" fill=\"#009af9\" fill-rule=\"evenodd\" fill-opacity=\"1\" stroke=\"#000000\" stroke-opacity=\"1\" stroke-width=\"4\"/>\n",
       "<circle clip-path=\"url(#clip655)\" cx=\"1888.48\" cy=\"1676.02\" r=\"14.4\" fill=\"#009af9\" fill-rule=\"evenodd\" fill-opacity=\"1\" stroke=\"#000000\" stroke-opacity=\"1\" stroke-width=\"4\"/>\n",
       "<circle clip-path=\"url(#clip655)\" cx=\"1403.56\" cy=\"1429.94\" r=\"14.4\" fill=\"#009af9\" fill-rule=\"evenodd\" fill-opacity=\"1\" stroke=\"#000000\" stroke-opacity=\"1\" stroke-width=\"4\"/>\n",
       "<circle clip-path=\"url(#clip655)\" cx=\"1403.56\" cy=\"1349.85\" r=\"14.4\" fill=\"#009af9\" fill-rule=\"evenodd\" fill-opacity=\"1\" stroke=\"#000000\" stroke-opacity=\"1\" stroke-width=\"4\"/>\n",
       "<circle clip-path=\"url(#clip655)\" cx=\"1888.48\" cy=\"1328.8\" r=\"14.4\" fill=\"#009af9\" fill-rule=\"evenodd\" fill-opacity=\"1\" stroke=\"#000000\" stroke-opacity=\"1\" stroke-width=\"4\"/>\n",
       "<circle clip-path=\"url(#clip655)\" cx=\"1403.56\" cy=\"1464.17\" r=\"14.4\" fill=\"#009af9\" fill-rule=\"evenodd\" fill-opacity=\"1\" stroke=\"#000000\" stroke-opacity=\"1\" stroke-width=\"4\"/>\n",
       "<circle clip-path=\"url(#clip655)\" cx=\"1646.02\" cy=\"1594.93\" r=\"14.4\" fill=\"#009af9\" fill-rule=\"evenodd\" fill-opacity=\"1\" stroke=\"#000000\" stroke-opacity=\"1\" stroke-width=\"4\"/>\n",
       "<circle clip-path=\"url(#clip655)\" cx=\"1888.48\" cy=\"1624.18\" r=\"14.4\" fill=\"#009af9\" fill-rule=\"evenodd\" fill-opacity=\"1\" stroke=\"#000000\" stroke-opacity=\"1\" stroke-width=\"4\"/>\n",
       "<circle clip-path=\"url(#clip655)\" cx=\"2130.93\" cy=\"1558.06\" r=\"14.4\" fill=\"#009af9\" fill-rule=\"evenodd\" fill-opacity=\"1\" stroke=\"#000000\" stroke-opacity=\"1\" stroke-width=\"4\"/>\n",
       "<circle clip-path=\"url(#clip655)\" cx=\"1646.02\" cy=\"1497.82\" r=\"14.4\" fill=\"#009af9\" fill-rule=\"evenodd\" fill-opacity=\"1\" stroke=\"#000000\" stroke-opacity=\"1\" stroke-width=\"4\"/>\n",
       "<circle clip-path=\"url(#clip655)\" cx=\"1646.02\" cy=\"1637.27\" r=\"14.4\" fill=\"#009af9\" fill-rule=\"evenodd\" fill-opacity=\"1\" stroke=\"#000000\" stroke-opacity=\"1\" stroke-width=\"4\"/>\n",
       "</svg>\n"
      ]
     },
     "metadata": {},
     "output_type": "display_data"
    }
   ],
   "source": [
    "using Plots\n",
    "plot(mach)"
   ]
  },
  {
   "cell_type": "markdown",
   "metadata": {},
   "source": [
    "Predicción sobre nuevos datos utilizando el modelo optimizado entrenado sobre todos los datos:"
   ]
  },
  {
   "cell_type": "code",
   "execution_count": 64,
   "metadata": {},
   "outputs": [
    {
     "data": {
      "text/plain": [
       "3-element CategoricalDistributions.UnivariateFiniteVector{Multiclass{3}, String, UInt32, Float64}:\n",
       " UnivariateFinite{Multiclass{3}}(setosa=>1.0, versicolor=>0.0, virginica=>0.0)\n",
       " UnivariateFinite{Multiclass{3}}(setosa=>0.533, versicolor=>0.42, virginica=>0.0467)\n",
       " UnivariateFinite{Multiclass{3}}(setosa=>1.0, versicolor=>0.0, virginica=>0.0)"
      ]
     },
     "metadata": {},
     "output_type": "display_data"
    }
   ],
   "source": [
    "predict(mach, Xnew)"
   ]
  },
  {
   "cell_type": "markdown",
   "metadata": {},
   "source": [
    "## Construcción de pipelines lineales"
   ]
  },
  {
   "cell_type": "markdown",
   "metadata": {},
   "source": [
    "Construcción de una pipeline lineal (no ramificada) con una transformación/transformación inversa objetivo *aprendida*:"
   ]
  },
  {
   "cell_type": "code",
   "execution_count": 65,
   "metadata": {},
   "outputs": [
    {
     "name": "stdout",
     "output_type": "stream",
     "text": [
      "import NearestNeighborModels ✔\n"
     ]
    },
    {
     "name": "stderr",
     "output_type": "stream",
     "text": [
      "┌ Info: For silent loading, specify `verbosity=0`. \n",
      "└ @ Main C:\\Users\\fsancho\\.julia\\packages\\MLJModels\\8W54X\\src\\loading.jl:159\n"
     ]
    },
    {
     "data": {
      "text/plain": [
       "TransformedTargetModelDeterministic(\n",
       "  model = KNNRegressor(\n",
       "        K = 3, \n",
       "        algorithm = :kdtree, \n",
       "        metric = Distances.Euclidean(0.0), \n",
       "        leafsize = 10, \n",
       "        reorder = true, \n",
       "        weights = NearestNeighborModels.Uniform()), \n",
       "  transformer = Standardizer(\n",
       "        features = Symbol[], \n",
       "        ignore = false, \n",
       "        ordered_factor = false, \n",
       "        count = false), \n",
       "  inverse = nothing, \n",
       "  cache = true)"
      ]
     },
     "metadata": {},
     "output_type": "display_data"
    }
   ],
   "source": [
    "X, y = @load_reduced_ames\n",
    "KNN = @load KNNRegressor\n",
    "knn_with_target = TransformedTargetModel(model=KNN(K=3), transformer=Standardizer())"
   ]
  },
  {
   "cell_type": "code",
   "execution_count": 66,
   "metadata": {},
   "outputs": [
    {
     "data": {
      "text/plain": [
       "DeterministicPipeline(\n",
       "  f = var\"#27#28\"(), \n",
       "  one_hot_encoder = OneHotEncoder(\n",
       "        features = Symbol[], \n",
       "        drop_last = false, \n",
       "        ordered_factor = true, \n",
       "        ignore = false), \n",
       "  transformed_target_model_deterministic = TransformedTargetModelDeterministic(\n",
       "        model = KNNRegressor(K = 3, …), \n",
       "        transformer = Standardizer(features = Symbol[], …), \n",
       "        inverse = nothing, \n",
       "        cache = true), \n",
       "  cache = true)"
      ]
     },
     "metadata": {},
     "output_type": "display_data"
    }
   ],
   "source": [
    "pipe = (X -> coerce(X, :age=>Continuous)) |> OneHotEncoder() |> knn_with_target"
   ]
  },
  {
   "cell_type": "markdown",
   "metadata": {},
   "source": [
    "Evaluar el pipeline (como se haría con cualquier otro modelo):"
   ]
  },
  {
   "cell_type": "code",
   "execution_count": 67,
   "metadata": {},
   "outputs": [
    {
     "name": "stderr",
     "output_type": "stream",
     "text": [
      "┌ Info: Training machine(DeterministicPipeline(f = #27, …), …).\n",
      "└ @ MLJBase C:\\Users\\fsancho\\.julia\\packages\\MLJBase\\7nGJF\\src\\machines.jl:499\n",
      "┌ Info: Training machine(:one_hot_encoder, …).\n",
      "└ @ MLJBase C:\\Users\\fsancho\\.julia\\packages\\MLJBase\\7nGJF\\src\\machines.jl:499\n",
      "┌ Info: Spawning 9 sub-features to one-hot encode feature :OverallQual.\n",
      "└ @ MLJModels C:\\Users\\fsancho\\.julia\\packages\\MLJModels\\8W54X\\src\\builtins\\Transformers.jl:795\n",
      "┌ Info: Spawning 24 sub-features to one-hot encode feature :Neighborhood.\n",
      "└ @ MLJModels C:\\Users\\fsancho\\.julia\\packages\\MLJModels\\8W54X\\src\\builtins\\Transformers.jl:795\n",
      "┌ Info: Spawning 14 sub-features to one-hot encode feature :MSSubClass.\n",
      "└ @ MLJModels C:\\Users\\fsancho\\.julia\\packages\\MLJModels\\8W54X\\src\\builtins\\Transformers.jl:795\n",
      "┌ Info: Training machine(:transformed_target_model_deterministic, …).\n",
      "└ @ MLJBase C:\\Users\\fsancho\\.julia\\packages\\MLJBase\\7nGJF\\src\\machines.jl:499\n",
      "┌ Info: Training machine(:transformer, …).\n",
      "└ @ MLJBase C:\\Users\\fsancho\\.julia\\packages\\MLJBase\\7nGJF\\src\\machines.jl:499\n",
      "┌ Info: Training machine(:model, …).\n",
      "└ @ MLJBase C:\\Users\\fsancho\\.julia\\packages\\MLJBase\\7nGJF\\src\\machines.jl:499\n"
     ]
    },
    {
     "data": {
      "text/plain": [
       "PerformanceEvaluation object with these fields:\n",
       "  model, measure, operation,\n",
       "  measurement, per_fold, per_observation,\n",
       "  fitted_params_per_fold, report_per_fold,\n",
       "  train_test_rows, resampling, repeats\n",
       "Extract:\n",
       "┌────────────────────────┬───────────┬─────────────┐\n",
       "│\u001b[22m measure                \u001b[0m│\u001b[22m operation \u001b[0m│\u001b[22m measurement \u001b[0m│\n",
       "├────────────────────────┼───────────┼─────────────┤\n",
       "│ RootMeanSquaredError() │ predict   │ 51200.0     │\n",
       "└────────────────────────┴───────────┴─────────────┘\n"
      ]
     },
     "metadata": {},
     "output_type": "display_data"
    }
   ],
   "source": [
    "pipe.one_hot_encoder.drop_last = true # muta un hiperparámetro encajado\n",
    "evaluate(pipe, X, y, resampling=Holdout(), measure=RootMeanSquaredError(), verbosity=2)"
   ]
  },
  {
   "cell_type": "markdown",
   "metadata": {},
   "source": [
    "Inspección de los parámetros aprendidos en una pipeline:"
   ]
  },
  {
   "cell_type": "code",
   "execution_count": 68,
   "metadata": {},
   "outputs": [
    {
     "name": "stderr",
     "output_type": "stream",
     "text": [
      "┌ Info: Training machine(DeterministicPipeline(f = #27, …), …).\n",
      "└ @ MLJBase C:\\Users\\fsancho\\.julia\\packages\\MLJBase\\7nGJF\\src\\machines.jl:499\n",
      "┌ Info: Training machine(:one_hot_encoder, …).\n",
      "└ @ MLJBase C:\\Users\\fsancho\\.julia\\packages\\MLJBase\\7nGJF\\src\\machines.jl:499\n",
      "┌ Info: Spawning 9 sub-features to one-hot encode feature :OverallQual.\n",
      "└ @ MLJModels C:\\Users\\fsancho\\.julia\\packages\\MLJModels\\8W54X\\src\\builtins\\Transformers.jl:795\n",
      "┌ Info: Spawning 24 sub-features to one-hot encode feature :Neighborhood.\n",
      "└ @ MLJModels C:\\Users\\fsancho\\.julia\\packages\\MLJModels\\8W54X\\src\\builtins\\Transformers.jl:795\n",
      "┌ Info: Spawning 14 sub-features to one-hot encode feature :MSSubClass.\n",
      "└ @ MLJModels C:\\Users\\fsancho\\.julia\\packages\\MLJModels\\8W54X\\src\\builtins\\Transformers.jl:795\n",
      "┌ Info: Training machine(:transformed_target_model_deterministic, …).\n",
      "└ @ MLJBase C:\\Users\\fsancho\\.julia\\packages\\MLJBase\\7nGJF\\src\\machines.jl:499\n",
      "┌ Info: Training machine(:transformer, …).\n",
      "└ @ MLJBase C:\\Users\\fsancho\\.julia\\packages\\MLJBase\\7nGJF\\src\\machines.jl:499\n",
      "┌ Info: Training machine(:model, …).\n",
      "└ @ MLJBase C:\\Users\\fsancho\\.julia\\packages\\MLJBase\\7nGJF\\src\\machines.jl:499\n"
     ]
    },
    {
     "data": {
      "text/plain": [
       "(tree = NearestNeighbors.KDTree{StaticArraysCore.SVector{56, Float64}, Distances.Euclidean, Float64, StaticArraysCore.SVector{56, Float64}}\n",
       "  Number of points: 1456\n",
       "  Dimensions: 56\n",
       "  Metric: Distances.Euclidean(0.0)\n",
       "  Reordered: true,)"
      ]
     },
     "metadata": {},
     "output_type": "display_data"
    }
   ],
   "source": [
    "mach = machine(pipe, X, y) |> fit!\n",
    "F = fitted_params(mach)\n",
    "F.transformed_target_model_deterministic.model"
   ]
  },
  {
   "cell_type": "markdown",
   "metadata": {},
   "source": [
    "Construcción de una pipeline lineal (no ramificada) con una transformación/transformación inversa objetivo *estática* (no aprendida):"
   ]
  },
  {
   "cell_type": "code",
   "execution_count": 69,
   "metadata": {},
   "outputs": [
    {
     "data": {
      "text/plain": [
       "DeterministicPipeline(\n",
       "  f = var\"#33#34\"(), \n",
       "  one_hot_encoder = OneHotEncoder(\n",
       "        features = Symbol[], \n",
       "        drop_last = false, \n",
       "        ordered_factor = true, \n",
       "        ignore = false), \n",
       "  transformed_target_model_deterministic = TransformedTargetModelDeterministic(\n",
       "        model = DecisionTreeRegressor(max_depth = -1, …), \n",
       "        transformer = var\"#29#31\"(), \n",
       "        inverse = var\"#30#32\"(), \n",
       "        cache = true), \n",
       "  cache = true)"
      ]
     },
     "metadata": {},
     "output_type": "display_data"
    }
   ],
   "source": [
    "Tree = @load DecisionTreeRegressor pkg=DecisionTree verbosity=0\n",
    "tree_with_target = TransformedTargetModel(model=Tree(),\n",
    "                                          transformer=y -> log.(y),\n",
    "                                          inverse = z -> exp.(z))\n",
    "pipe2 = (X -> coerce(X, :age=>Continuous)) |> OneHotEncoder() |> tree_with_target"
   ]
  },
  {
   "cell_type": "markdown",
   "metadata": {},
   "source": [
    "## Creación de un conjunto homogéneo de modelos"
   ]
  },
  {
   "cell_type": "code",
   "execution_count": 70,
   "metadata": {},
   "outputs": [
    {
     "name": "stdout",
     "output_type": "stream",
     "text": [
      "import MLJDecisionTreeInterface ✔"
     ]
    },
    {
     "name": "stderr",
     "output_type": "stream",
     "text": [
      "┌ Info: For silent loading, specify `verbosity=0`. \n",
      "└ @ Main C:\\Users\\fsancho\\.julia\\packages\\MLJModels\\8W54X\\src\\loading.jl:159\n",
      "\u001b[33mEvaluating over 6 folds:  33%[========>                ]  ETA: 0:00:00\u001b[39m\u001b[K"
     ]
    },
    {
     "name": "stdout",
     "output_type": "stream",
     "text": [
      "\n"
     ]
    },
    {
     "name": "stderr",
     "output_type": "stream",
     "text": [
      "\u001b[33mEvaluating over 6 folds: 100%[=========================] Time: 0:00:00\u001b[39m\u001b[K\n"
     ]
    },
    {
     "data": {
      "text/plain": [
       "PerformanceEvaluation object with these fields:\n",
       "  model, measure, operation,\n",
       "  measurement, per_fold, per_observation,\n",
       "  fitted_params_per_fold, report_per_fold,\n",
       "  train_test_rows, resampling, repeats\n",
       "Extract:\n",
       "┌──────────────────────┬───────────┬─────────────┐\n",
       "│\u001b[22m measure              \u001b[0m│\u001b[22m operation \u001b[0m│\u001b[22m measurement \u001b[0m│\n",
       "├──────────────────────┼───────────┼─────────────┤\n",
       "│ LogLoss(             │ predict   │ 0.43        │\n",
       "│   tol = 2.22045e-16) │           │             │\n",
       "└──────────────────────┴───────────┴─────────────┘\n",
       "┌─────────────────────────────────────────────────┬─────────┐\n",
       "│\u001b[22m per_fold                                        \u001b[0m│\u001b[22m 1.96*SE \u001b[0m│\n",
       "├─────────────────────────────────────────────────┼─────────┤\n",
       "│ [3.89e-15, 3.89e-15, 0.302, 1.62, 0.341, 0.312] │ 0.531   │\n",
       "└─────────────────────────────────────────────────┴─────────┘\n"
      ]
     },
     "metadata": {},
     "output_type": "display_data"
    }
   ],
   "source": [
    "X, y = @load_iris\n",
    "Tree = @load DecisionTreeClassifier pkg=DecisionTree\n",
    "tree = Tree()\n",
    "forest = EnsembleModel(model=tree, bagging_fraction=0.8, n=300)\n",
    "mach = machine(forest, X, y)\n",
    "evaluate!(mach, measure=LogLoss())"
   ]
  },
  {
   "cell_type": "markdown",
   "metadata": {},
   "source": [
    "## Curvas de rendimiento"
   ]
  },
  {
   "cell_type": "markdown",
   "metadata": {},
   "source": [
    "Generar un gráfico de rendimiento, en función de algún hiperparámetro (basándose en el ejemplo anterior).\n",
    "\n",
    "Curva de rendimiento única:"
   ]
  },
  {
   "cell_type": "code",
   "execution_count": 71,
   "metadata": {},
   "outputs": [
    {
     "data": {
      "text/plain": [
       "(parameter_name = \"n\",\n",
       " parameter_scale = :log10,\n",
       " parameter_values = [1, 2, 3, 4, 5, 6, 7, 8, 10, 11  …  281, 324, 373, 429, 494, 569, 655, 754, 869, 1000],\n",
       " measurements = [9.611640903764574, 7.347360113935419, 7.424677601406042, 5.913396673344481, 5.864931813191956, 5.842088246099716, 5.850947799923275, 5.868590892644992, 5.835619031404115, 2.8266222940695958  …  1.2501198748648863, 1.2461889923416434, 1.242108636115014, 1.24144347038632, 1.2310689584585255, 1.2372565365183619, 1.2385988169865667, 1.2417516097745116, 1.2443517172188028, 1.2436942741328947],)"
      ]
     },
     "metadata": {},
     "output_type": "display_data"
    }
   ],
   "source": [
    "r = range(forest, :n, lower=1, upper=1000, scale=:log10)\n",
    "curve = learning_curve(mach,\n",
    "                       range=r,\n",
    "                       resampling=Holdout(),\n",
    "                       resolution=50,\n",
    "                       measure=LogLoss(),\n",
    "                       verbosity=0)"
   ]
  },
  {
   "cell_type": "code",
   "execution_count": 72,
   "metadata": {},
   "outputs": [
    {
     "data": {
      "image/png": "[encoded data removed]",
      "image/svg+xml": [
       "<?xml version=\"1.0\" encoding=\"utf-8\"?>\n",
       "<svg xmlns=\"http://www.w3.org/2000/svg\" xmlns:xlink=\"http://www.w3.org/1999/xlink\" width=\"600\" height=\"400\" viewBox=\"0 0 2400 1600\">\n",
       "<defs>\n",
       "  <clipPath id=\"clip690\">\n",
       "    <rect x=\"0\" y=\"0\" width=\"2400\" height=\"1600\"/>\n",
       "  </clipPath>\n",
       "</defs>\n",
       "<path clip-path=\"url(#clip690)\" d=\"M0 1600 L2400 1600 L2400 0 L0 0  Z\" fill=\"#ffffff\" fill-rule=\"evenodd\" fill-opacity=\"1\"/>\n",
       "<defs>\n",
       "  <clipPath id=\"clip691\">\n",
       "    <rect x=\"480\" y=\"0\" width=\"1681\" height=\"1600\"/>\n",
       "  </clipPath>\n",
       "</defs>\n",
       "<path clip-path=\"url(#clip690)\" d=\"M112.177 1410.9 L2352.76 1410.9 L2352.76 47.2441 L112.177 47.2441  Z\" fill=\"#ffffff\" fill-rule=\"evenodd\" fill-opacity=\"1\"/>\n",
       "<defs>\n",
       "  <clipPath id=\"clip692\">\n",
       "    <rect x=\"112\" y=\"47\" width=\"2242\" height=\"1365\"/>\n",
       "  </clipPath>\n",
       "</defs>\n",
       "<polyline clip-path=\"url(#clip692)\" style=\"stroke:#000000; stroke-linecap:round; stroke-linejoin:round; stroke-width:2; stroke-opacity:0.1; fill:none\" points=\"175.59,1410.9 175.59,47.2441 \"/>\n",
       "<polyline clip-path=\"url(#clip692)\" style=\"stroke:#000000; stroke-linecap:round; stroke-linejoin:round; stroke-width:2; stroke-opacity:0.1; fill:none\" points=\"1584.76,1410.9 1584.76,47.2441 \"/>\n",
       "<polyline clip-path=\"url(#clip692)\" style=\"stroke:#000000; stroke-linecap:round; stroke-linejoin:round; stroke-width:2; stroke-opacity:0.1; fill:none\" points=\"112.177,1254.27 2352.76,1254.27 \"/>\n",
       "<polyline clip-path=\"url(#clip692)\" style=\"stroke:#000000; stroke-linecap:round; stroke-linejoin:round; stroke-width:2; stroke-opacity:0.1; fill:none\" points=\"112.177,947.256 2352.76,947.256 \"/>\n",
       "<polyline clip-path=\"url(#clip692)\" style=\"stroke:#000000; stroke-linecap:round; stroke-linejoin:round; stroke-width:2; stroke-opacity:0.1; fill:none\" points=\"112.177,640.245 2352.76,640.245 \"/>\n",
       "<polyline clip-path=\"url(#clip692)\" style=\"stroke:#000000; stroke-linecap:round; stroke-linejoin:round; stroke-width:2; stroke-opacity:0.1; fill:none\" points=\"112.177,333.234 2352.76,333.234 \"/>\n",
       "<polyline clip-path=\"url(#clip690)\" style=\"stroke:#000000; stroke-linecap:round; stroke-linejoin:round; stroke-width:4; stroke-opacity:1; fill:none\" points=\"112.177,1410.9 2352.76,1410.9 \"/>\n",
       "<polyline clip-path=\"url(#clip690)\" style=\"stroke:#000000; stroke-linecap:round; stroke-linejoin:round; stroke-width:4; stroke-opacity:1; fill:none\" points=\"175.59,1410.9 175.59,1392 \"/>\n",
       "<polyline clip-path=\"url(#clip690)\" style=\"stroke:#000000; stroke-linecap:round; stroke-linejoin:round; stroke-width:4; stroke-opacity:1; fill:none\" points=\"1584.76,1410.9 1584.76,1392 \"/>\n",
       "<path clip-path=\"url(#clip690)\" d=\"M140.573 1485.02 L148.211 1485.02 L148.211 1458.66 L139.901 1460.32 L139.901 1456.06 L148.165 1454.4 L152.841 1454.4 L152.841 1485.02 L160.48 1485.02 L160.48 1488.96 L140.573 1488.96 L140.573 1485.02 Z\" fill=\"#000000\" fill-rule=\"nonzero\" fill-opacity=\"1\" /><path clip-path=\"url(#clip690)\" d=\"M179.924 1457.48 Q176.313 1457.48 174.484 1461.04 Q172.679 1464.58 172.679 1471.71 Q172.679 1478.82 174.484 1482.38 Q176.313 1485.92 179.924 1485.92 Q183.558 1485.92 185.364 1482.38 Q187.193 1478.82 187.193 1471.71 Q187.193 1464.58 185.364 1461.04 Q183.558 1457.48 179.924 1457.48 M179.924 1453.77 Q185.734 1453.77 188.79 1458.38 Q191.869 1462.96 191.869 1471.71 Q191.869 1480.44 188.79 1485.04 Q185.734 1489.63 179.924 1489.63 Q174.114 1489.63 171.035 1485.04 Q167.98 1480.44 167.98 1471.71 Q167.98 1462.96 171.035 1458.38 Q174.114 1453.77 179.924 1453.77 Z\" fill=\"#000000\" fill-rule=\"nonzero\" fill-opacity=\"1\" /><path clip-path=\"url(#clip690)\" d=\"M201.573 1435.97 Q198.639 1435.97 197.154 1438.86 Q195.687 1441.74 195.687 1447.53 Q195.687 1453.31 197.154 1456.2 Q198.639 1459.08 201.573 1459.08 Q204.526 1459.08 205.993 1456.2 Q207.479 1453.31 207.479 1447.53 Q207.479 1441.74 205.993 1438.86 Q204.526 1435.97 201.573 1435.97 M201.573 1432.96 Q206.294 1432.96 208.777 1436.7 Q211.278 1440.43 211.278 1447.53 Q211.278 1454.62 208.777 1458.37 Q206.294 1462.09 201.573 1462.09 Q196.853 1462.09 194.351 1458.37 Q191.869 1454.62 191.869 1447.53 Q191.869 1440.43 194.351 1436.7 Q196.853 1432.96 201.573 1432.96 Z\" fill=\"#000000\" fill-rule=\"nonzero\" fill-opacity=\"1\" /><path clip-path=\"url(#clip690)\" d=\"M1550.53 1485.02 L1558.17 1485.02 L1558.17 1458.66 L1549.86 1460.32 L1549.86 1456.06 L1558.12 1454.4 L1562.8 1454.4 L1562.8 1485.02 L1570.44 1485.02 L1570.44 1488.96 L1550.53 1488.96 L1550.53 1485.02 Z\" fill=\"#000000\" fill-rule=\"nonzero\" fill-opacity=\"1\" /><path clip-path=\"url(#clip690)\" d=\"M1589.88 1457.48 Q1586.27 1457.48 1584.44 1461.04 Q1582.64 1464.58 1582.64 1471.71 Q1582.64 1478.82 1584.44 1482.38 Q1586.27 1485.92 1589.88 1485.92 Q1593.52 1485.92 1595.32 1482.38 Q1597.15 1478.82 1597.15 1471.71 Q1597.15 1464.58 1595.32 1461.04 Q1593.52 1457.48 1589.88 1457.48 M1589.88 1453.77 Q1595.69 1453.77 1598.75 1458.38 Q1601.83 1462.96 1601.83 1471.71 Q1601.83 1480.44 1598.75 1485.04 Q1595.69 1489.63 1589.88 1489.63 Q1584.07 1489.63 1580.99 1485.04 Q1577.94 1480.44 1577.94 1471.71 Q1577.94 1462.96 1580.99 1458.38 Q1584.07 1453.77 1589.88 1453.77 Z\" fill=\"#000000\" fill-rule=\"nonzero\" fill-opacity=\"1\" /><path clip-path=\"url(#clip690)\" d=\"M1606.4 1458.35 L1619.66 1458.35 L1619.66 1461.55 L1601.83 1461.55 L1601.83 1458.35 Q1603.99 1456.11 1607.71 1452.35 Q1611.46 1448.57 1612.42 1447.48 Q1614.24 1445.43 1614.96 1444.02 Q1615.69 1442.59 1615.69 1441.22 Q1615.69 1438.98 1614.11 1437.57 Q1612.55 1436.16 1610.03 1436.16 Q1608.24 1436.16 1606.25 1436.78 Q1604.27 1437.4 1602.02 1438.66 L1602.02 1434.82 Q1604.31 1433.9 1606.3 1433.43 Q1608.3 1432.96 1609.95 1432.96 Q1614.32 1432.96 1616.91 1435.14 Q1619.51 1437.32 1619.51 1440.97 Q1619.51 1442.7 1618.85 1444.26 Q1618.21 1445.8 1616.5 1447.91 Q1616.03 1448.46 1613.51 1451.07 Q1610.99 1453.67 1606.4 1458.35 Z\" fill=\"#000000\" fill-rule=\"nonzero\" fill-opacity=\"1\" /><path clip-path=\"url(#clip690)\" d=\"M1247.39 1552.67 L1247.39 1574.19 L1241.54 1574.19 L1241.54 1552.86 Q1241.54 1547.8 1239.56 1545.29 Q1237.59 1542.77 1233.64 1542.77 Q1228.9 1542.77 1226.16 1545.79 Q1223.43 1548.82 1223.43 1554.04 L1223.43 1574.19 L1217.54 1574.19 L1217.54 1538.54 L1223.43 1538.54 L1223.43 1544.08 Q1225.53 1540.86 1228.36 1539.27 Q1231.23 1537.68 1234.95 1537.68 Q1241.09 1537.68 1244.24 1541.5 Q1247.39 1545.29 1247.39 1552.67 Z\" fill=\"#000000\" fill-rule=\"nonzero\" fill-opacity=\"1\" /><polyline clip-path=\"url(#clip690)\" style=\"stroke:#000000; stroke-linecap:round; stroke-linejoin:round; stroke-width:4; stroke-opacity:1; fill:none\" points=\"112.177,1410.9 112.177,47.2441 \"/>\n",
       "<polyline clip-path=\"url(#clip690)\" style=\"stroke:#000000; stroke-linecap:round; stroke-linejoin:round; stroke-width:4; stroke-opacity:1; fill:none\" points=\"112.177,1254.27 131.075,1254.27 \"/>\n",
       "<polyline clip-path=\"url(#clip690)\" style=\"stroke:#000000; stroke-linecap:round; stroke-linejoin:round; stroke-width:4; stroke-opacity:1; fill:none\" points=\"112.177,947.256 131.075,947.256 \"/>\n",
       "<polyline clip-path=\"url(#clip690)\" style=\"stroke:#000000; stroke-linecap:round; stroke-linejoin:round; stroke-width:4; stroke-opacity:1; fill:none\" points=\"112.177,640.245 131.075,640.245 \"/>\n",
       "<polyline clip-path=\"url(#clip690)\" style=\"stroke:#000000; stroke-linecap:round; stroke-linejoin:round; stroke-width:4; stroke-opacity:1; fill:none\" points=\"112.177,333.234 131.075,333.234 \"/>\n",
       "<path clip-path=\"url(#clip690)\" d=\"M59.8578 1267.61 L76.1772 1267.61 L76.1772 1271.55 L54.2328 1271.55 L54.2328 1267.61 Q56.8949 1264.86 61.4782 1260.23 Q66.0846 1255.58 67.2652 1254.23 Q69.5105 1251.71 70.3902 1249.97 Q71.2929 1248.21 71.2929 1246.52 Q71.2929 1243.77 69.3485 1242.03 Q67.4272 1240.3 64.3254 1240.3 Q62.1263 1240.3 59.6726 1241.06 Q57.2421 1241.83 54.4643 1243.38 L54.4643 1238.65 Q57.2884 1237.52 59.7421 1236.94 Q62.1958 1236.36 64.2328 1236.36 Q69.6031 1236.36 72.7976 1239.05 Q75.992 1241.73 75.992 1246.22 Q75.992 1248.35 75.1818 1250.27 Q74.3948 1252.17 72.2883 1254.77 Q71.7096 1255.44 68.6078 1258.65 Q65.5059 1261.85 59.8578 1267.61 Z\" fill=\"#000000\" fill-rule=\"nonzero\" fill-opacity=\"1\" /><path clip-path=\"url(#clip690)\" d=\"M66.5939 934.05 L54.7884 952.499 L66.5939 952.499 L66.5939 934.05 M65.367 929.976 L71.2466 929.976 L71.2466 952.499 L76.1772 952.499 L76.1772 956.388 L71.2466 956.388 L71.2466 964.536 L66.5939 964.536 L66.5939 956.388 L50.9921 956.388 L50.9921 951.874 L65.367 929.976 Z\" fill=\"#000000\" fill-rule=\"nonzero\" fill-opacity=\"1\" /><path clip-path=\"url(#clip690)\" d=\"M64.6495 638.382 Q61.5013 638.382 59.6495 640.534 Q57.8208 642.687 57.8208 646.437 Q57.8208 650.164 59.6495 652.34 Q61.5013 654.493 64.6495 654.493 Q67.7976 654.493 69.6263 652.34 Q71.4781 650.164 71.4781 646.437 Q71.4781 642.687 69.6263 640.534 Q67.7976 638.382 64.6495 638.382 M73.9318 623.729 L73.9318 627.988 Q72.1726 627.155 70.367 626.715 Q68.5846 626.275 66.8254 626.275 Q62.1958 626.275 59.7421 629.4 Q57.3115 632.525 56.9643 638.845 Q58.33 636.831 60.3902 635.766 Q62.4504 634.678 64.9272 634.678 Q70.1355 634.678 73.1448 637.849 Q76.1772 640.997 76.1772 646.437 Q76.1772 651.761 73.029 654.979 Q69.8809 658.196 64.6495 658.196 Q58.6541 658.196 55.4828 653.613 Q52.3116 649.007 52.3116 640.28 Q52.3116 632.085 56.2004 627.224 Q60.0893 622.34 66.6402 622.34 Q68.3994 622.34 70.1818 622.687 Q71.9874 623.035 73.9318 623.729 Z\" fill=\"#000000\" fill-rule=\"nonzero\" fill-opacity=\"1\" /><path clip-path=\"url(#clip690)\" d=\"M64.3254 334.102 Q60.9921 334.102 59.0708 335.884 Q57.1726 337.667 57.1726 340.792 Q57.1726 343.917 59.0708 345.699 Q60.9921 347.482 64.3254 347.482 Q67.6587 347.482 69.58 345.699 Q71.5013 343.894 71.5013 340.792 Q71.5013 337.667 69.58 335.884 Q67.6819 334.102 64.3254 334.102 M59.6495 332.111 Q56.6402 331.371 54.9504 329.31 Q53.2838 327.25 53.2838 324.287 Q53.2838 320.144 56.2236 317.736 Q59.1865 315.329 64.3254 315.329 Q69.4874 315.329 72.4272 317.736 Q75.367 320.144 75.367 324.287 Q75.367 327.25 73.6772 329.31 Q72.0105 331.371 69.0244 332.111 Q72.404 332.898 74.279 335.19 Q76.1772 337.482 76.1772 340.792 Q76.1772 345.815 73.0985 348.5 Q70.0429 351.185 64.3254 351.185 Q58.6078 351.185 55.5291 348.5 Q52.4736 345.815 52.4736 340.792 Q52.4736 337.482 54.3717 335.19 Q56.2699 332.898 59.6495 332.111 M57.9365 324.727 Q57.9365 327.412 59.6032 328.917 Q61.293 330.421 64.3254 330.421 Q67.3346 330.421 69.0244 328.917 Q70.7374 327.412 70.7374 324.727 Q70.7374 322.042 69.0244 320.537 Q67.3346 319.033 64.3254 319.033 Q61.293 319.033 59.6032 320.537 Q57.9365 322.042 57.9365 324.727 Z\" fill=\"#000000\" fill-rule=\"nonzero\" fill-opacity=\"1\" /><polyline clip-path=\"url(#clip692)\" style=\"stroke:#009af9; stroke-linecap:round; stroke-linejoin:round; stroke-width:4; stroke-opacity:1; fill:none\" points=\"175.59,85.838 387.691,433.418 511.762,421.549 599.792,653.539 668.073,660.979 723.863,664.485 771.033,663.125 811.893,660.417 880.174,665.479 909.339,1127.38 960.457,1126.85 1004.25,1135.57 1042.55,1248.36 1076.58,1252.06 1121.44,1248.84 1172.56,1360.66 1205.97,1358.2 1254.65,1356.38 1296.63,1355.04 1340.42,1356.02 1384.66,1357.62 1428.45,1355.54 1471.21,1357.12 1512.63,1356.97 1555.9,1359.81 1599.69,1361.91 1643.09,1360.21 1685.52,1358.78 1728.58,1363.14 1771.35,1364.5 1814.69,1365.67 1857.71,1368.74 1900.91,1369.38 1944.48,1369.98 1987.58,1370.61 2030.38,1370.71 2073.55,1372.3 2116.8,1371.35 2159.87,1371.15 2202.94,1370.66 2246.38,1370.26 2289.34,1370.36 \"/>\n",
       "<path clip-path=\"url(#clip690)\" d=\"M2001.58 196.379 L2278.07 196.379 L2278.07 92.6992 L2001.58 92.6992  Z\" fill=\"#ffffff\" fill-rule=\"evenodd\" fill-opacity=\"1\"/>\n",
       "<polyline clip-path=\"url(#clip690)\" style=\"stroke:#000000; stroke-linecap:round; stroke-linejoin:round; stroke-width:4; stroke-opacity:1; fill:none\" points=\"2001.58,196.379 2278.07,196.379 2278.07,92.6992 2001.58,92.6992 2001.58,196.379 \"/>\n",
       "<polyline clip-path=\"url(#clip690)\" style=\"stroke:#009af9; stroke-linecap:round; stroke-linejoin:round; stroke-width:4; stroke-opacity:1; fill:none\" points=\"2026.48,144.539 2175.85,144.539 \"/>\n",
       "<path clip-path=\"url(#clip690)\" d=\"M2214.59 164.227 Q2212.78 168.856 2211.07 170.268 Q2209.36 171.68 2206.49 171.68 L2203.08 171.68 L2203.08 168.115 L2205.58 168.115 Q2207.34 168.115 2208.31 167.282 Q2209.29 166.449 2210.47 163.347 L2211.23 161.403 L2200.74 135.893 L2205.26 135.893 L2213.36 156.171 L2221.46 135.893 L2225.98 135.893 L2214.59 164.227 Z\" fill=\"#000000\" fill-rule=\"nonzero\" fill-opacity=\"1\" /><path clip-path=\"url(#clip690)\" d=\"M2233.27 157.884 L2240.91 157.884 L2240.91 131.518 L2232.6 133.185 L2232.6 128.926 L2240.86 127.259 L2245.54 127.259 L2245.54 157.884 L2253.17 157.884 L2253.17 161.819 L2233.27 161.819 L2233.27 157.884 Z\" fill=\"#000000\" fill-rule=\"nonzero\" fill-opacity=\"1\" /></svg>\n"
      ],
      "text/html": [
       "<?xml version=\"1.0\" encoding=\"utf-8\"?>\n",
       "<svg xmlns=\"http://www.w3.org/2000/svg\" xmlns:xlink=\"http://www.w3.org/1999/xlink\" width=\"600\" height=\"400\" viewBox=\"0 0 2400 1600\">\n",
       "<defs>\n",
       "  <clipPath id=\"clip740\">\n",
       "    <rect x=\"0\" y=\"0\" width=\"2400\" height=\"1600\"/>\n",
       "  </clipPath>\n",
       "</defs>\n",
       "<path clip-path=\"url(#clip740)\" d=\"M0 1600 L2400 1600 L2400 0 L0 0  Z\" fill=\"#ffffff\" fill-rule=\"evenodd\" fill-opacity=\"1\"/>\n",
       "<defs>\n",
       "  <clipPath id=\"clip741\">\n",
       "    <rect x=\"480\" y=\"0\" width=\"1681\" height=\"1600\"/>\n",
       "  </clipPath>\n",
       "</defs>\n",
       "<path clip-path=\"url(#clip740)\" d=\"M112.177 1410.9 L2352.76 1410.9 L2352.76 47.2441 L112.177 47.2441  Z\" fill=\"#ffffff\" fill-rule=\"evenodd\" fill-opacity=\"1\"/>\n",
       "<defs>\n",
       "  <clipPath id=\"clip742\">\n",
       "    <rect x=\"112\" y=\"47\" width=\"2242\" height=\"1365\"/>\n",
       "  </clipPath>\n",
       "</defs>\n",
       "<polyline clip-path=\"url(#clip742)\" style=\"stroke:#000000; stroke-linecap:round; stroke-linejoin:round; stroke-width:2; stroke-opacity:0.1; fill:none\" points=\"175.59,1410.9 175.59,47.2441 \"/>\n",
       "<polyline clip-path=\"url(#clip742)\" style=\"stroke:#000000; stroke-linecap:round; stroke-linejoin:round; stroke-width:2; stroke-opacity:0.1; fill:none\" points=\"1584.76,1410.9 1584.76,47.2441 \"/>\n",
       "<polyline clip-path=\"url(#clip742)\" style=\"stroke:#000000; stroke-linecap:round; stroke-linejoin:round; stroke-width:2; stroke-opacity:0.1; fill:none\" points=\"112.177,1254.27 2352.76,1254.27 \"/>\n",
       "<polyline clip-path=\"url(#clip742)\" style=\"stroke:#000000; stroke-linecap:round; stroke-linejoin:round; stroke-width:2; stroke-opacity:0.1; fill:none\" points=\"112.177,947.256 2352.76,947.256 \"/>\n",
       "<polyline clip-path=\"url(#clip742)\" style=\"stroke:#000000; stroke-linecap:round; stroke-linejoin:round; stroke-width:2; stroke-opacity:0.1; fill:none\" points=\"112.177,640.245 2352.76,640.245 \"/>\n",
       "<polyline clip-path=\"url(#clip742)\" style=\"stroke:#000000; stroke-linecap:round; stroke-linejoin:round; stroke-width:2; stroke-opacity:0.1; fill:none\" points=\"112.177,333.234 2352.76,333.234 \"/>\n",
       "<polyline clip-path=\"url(#clip740)\" style=\"stroke:#000000; stroke-linecap:round; stroke-linejoin:round; stroke-width:4; stroke-opacity:1; fill:none\" points=\"112.177,1410.9 2352.76,1410.9 \"/>\n",
       "<polyline clip-path=\"url(#clip740)\" style=\"stroke:#000000; stroke-linecap:round; stroke-linejoin:round; stroke-width:4; stroke-opacity:1; fill:none\" points=\"175.59,1410.9 175.59,1392 \"/>\n",
       "<polyline clip-path=\"url(#clip740)\" style=\"stroke:#000000; stroke-linecap:round; stroke-linejoin:round; stroke-width:4; stroke-opacity:1; fill:none\" points=\"1584.76,1410.9 1584.76,1392 \"/>\n",
       "<path clip-path=\"url(#clip740)\" d=\"M140.573 1485.02 L148.211 1485.02 L148.211 1458.66 L139.901 1460.32 L139.901 1456.06 L148.165 1454.4 L152.841 1454.4 L152.841 1485.02 L160.48 1485.02 L160.48 1488.96 L140.573 1488.96 L140.573 1485.02 Z\" fill=\"#000000\" fill-rule=\"nonzero\" fill-opacity=\"1\" /><path clip-path=\"url(#clip740)\" d=\"M179.924 1457.48 Q176.313 1457.48 174.484 1461.04 Q172.679 1464.58 172.679 1471.71 Q172.679 1478.82 174.484 1482.38 Q176.313 1485.92 179.924 1485.92 Q183.558 1485.92 185.364 1482.38 Q187.193 1478.82 187.193 1471.71 Q187.193 1464.58 185.364 1461.04 Q183.558 1457.48 179.924 1457.48 M179.924 1453.77 Q185.734 1453.77 188.79 1458.38 Q191.869 1462.96 191.869 1471.71 Q191.869 1480.44 188.79 1485.04 Q185.734 1489.63 179.924 1489.63 Q174.114 1489.63 171.035 1485.04 Q167.98 1480.44 167.98 1471.71 Q167.98 1462.96 171.035 1458.38 Q174.114 1453.77 179.924 1453.77 Z\" fill=\"#000000\" fill-rule=\"nonzero\" fill-opacity=\"1\" /><path clip-path=\"url(#clip740)\" d=\"M201.573 1435.97 Q198.639 1435.97 197.154 1438.86 Q195.687 1441.74 195.687 1447.53 Q195.687 1453.31 197.154 1456.2 Q198.639 1459.08 201.573 1459.08 Q204.526 1459.08 205.993 1456.2 Q207.479 1453.31 207.479 1447.53 Q207.479 1441.74 205.993 1438.86 Q204.526 1435.97 201.573 1435.97 M201.573 1432.96 Q206.294 1432.96 208.777 1436.7 Q211.278 1440.43 211.278 1447.53 Q211.278 1454.62 208.777 1458.37 Q206.294 1462.09 201.573 1462.09 Q196.853 1462.09 194.351 1458.37 Q191.869 1454.62 191.869 1447.53 Q191.869 1440.43 194.351 1436.7 Q196.853 1432.96 201.573 1432.96 Z\" fill=\"#000000\" fill-rule=\"nonzero\" fill-opacity=\"1\" /><path clip-path=\"url(#clip740)\" d=\"M1550.53 1485.02 L1558.17 1485.02 L1558.17 1458.66 L1549.86 1460.32 L1549.86 1456.06 L1558.12 1454.4 L1562.8 1454.4 L1562.8 1485.02 L1570.44 1485.02 L1570.44 1488.96 L1550.53 1488.96 L1550.53 1485.02 Z\" fill=\"#000000\" fill-rule=\"nonzero\" fill-opacity=\"1\" /><path clip-path=\"url(#clip740)\" d=\"M1589.88 1457.48 Q1586.27 1457.48 1584.44 1461.04 Q1582.64 1464.58 1582.64 1471.71 Q1582.64 1478.82 1584.44 1482.38 Q1586.27 1485.92 1589.88 1485.92 Q1593.52 1485.92 1595.32 1482.38 Q1597.15 1478.82 1597.15 1471.71 Q1597.15 1464.58 1595.32 1461.04 Q1593.52 1457.48 1589.88 1457.48 M1589.88 1453.77 Q1595.69 1453.77 1598.75 1458.38 Q1601.83 1462.96 1601.83 1471.71 Q1601.83 1480.44 1598.75 1485.04 Q1595.69 1489.63 1589.88 1489.63 Q1584.07 1489.63 1580.99 1485.04 Q1577.94 1480.44 1577.94 1471.71 Q1577.94 1462.96 1580.99 1458.38 Q1584.07 1453.77 1589.88 1453.77 Z\" fill=\"#000000\" fill-rule=\"nonzero\" fill-opacity=\"1\" /><path clip-path=\"url(#clip740)\" d=\"M1606.4 1458.35 L1619.66 1458.35 L1619.66 1461.55 L1601.83 1461.55 L1601.83 1458.35 Q1603.99 1456.11 1607.71 1452.35 Q1611.46 1448.57 1612.42 1447.48 Q1614.24 1445.43 1614.96 1444.02 Q1615.69 1442.59 1615.69 1441.22 Q1615.69 1438.98 1614.11 1437.57 Q1612.55 1436.16 1610.03 1436.16 Q1608.24 1436.16 1606.25 1436.78 Q1604.27 1437.4 1602.02 1438.66 L1602.02 1434.82 Q1604.31 1433.9 1606.3 1433.43 Q1608.3 1432.96 1609.95 1432.96 Q1614.32 1432.96 1616.91 1435.14 Q1619.51 1437.32 1619.51 1440.97 Q1619.51 1442.7 1618.85 1444.26 Q1618.21 1445.8 1616.5 1447.91 Q1616.03 1448.46 1613.51 1451.07 Q1610.99 1453.67 1606.4 1458.35 Z\" fill=\"#000000\" fill-rule=\"nonzero\" fill-opacity=\"1\" /><path clip-path=\"url(#clip740)\" d=\"M1247.39 1552.67 L1247.39 1574.19 L1241.54 1574.19 L1241.54 1552.86 Q1241.54 1547.8 1239.56 1545.29 Q1237.59 1542.77 1233.64 1542.77 Q1228.9 1542.77 1226.16 1545.79 Q1223.43 1548.82 1223.43 1554.04 L1223.43 1574.19 L1217.54 1574.19 L1217.54 1538.54 L1223.43 1538.54 L1223.43 1544.08 Q1225.53 1540.86 1228.36 1539.27 Q1231.23 1537.68 1234.95 1537.68 Q1241.09 1537.68 1244.24 1541.5 Q1247.39 1545.29 1247.39 1552.67 Z\" fill=\"#000000\" fill-rule=\"nonzero\" fill-opacity=\"1\" /><polyline clip-path=\"url(#clip740)\" style=\"stroke:#000000; stroke-linecap:round; stroke-linejoin:round; stroke-width:4; stroke-opacity:1; fill:none\" points=\"112.177,1410.9 112.177,47.2441 \"/>\n",
       "<polyline clip-path=\"url(#clip740)\" style=\"stroke:#000000; stroke-linecap:round; stroke-linejoin:round; stroke-width:4; stroke-opacity:1; fill:none\" points=\"112.177,1254.27 131.075,1254.27 \"/>\n",
       "<polyline clip-path=\"url(#clip740)\" style=\"stroke:#000000; stroke-linecap:round; stroke-linejoin:round; stroke-width:4; stroke-opacity:1; fill:none\" points=\"112.177,947.256 131.075,947.256 \"/>\n",
       "<polyline clip-path=\"url(#clip740)\" style=\"stroke:#000000; stroke-linecap:round; stroke-linejoin:round; stroke-width:4; stroke-opacity:1; fill:none\" points=\"112.177,640.245 131.075,640.245 \"/>\n",
       "<polyline clip-path=\"url(#clip740)\" style=\"stroke:#000000; stroke-linecap:round; stroke-linejoin:round; stroke-width:4; stroke-opacity:1; fill:none\" points=\"112.177,333.234 131.075,333.234 \"/>\n",
       "<path clip-path=\"url(#clip740)\" d=\"M59.8578 1267.61 L76.1772 1267.61 L76.1772 1271.55 L54.2328 1271.55 L54.2328 1267.61 Q56.8949 1264.86 61.4782 1260.23 Q66.0846 1255.58 67.2652 1254.23 Q69.5105 1251.71 70.3902 1249.97 Q71.2929 1248.21 71.2929 1246.52 Q71.2929 1243.77 69.3485 1242.03 Q67.4272 1240.3 64.3254 1240.3 Q62.1263 1240.3 59.6726 1241.06 Q57.2421 1241.83 54.4643 1243.38 L54.4643 1238.65 Q57.2884 1237.52 59.7421 1236.94 Q62.1958 1236.36 64.2328 1236.36 Q69.6031 1236.36 72.7976 1239.05 Q75.992 1241.73 75.992 1246.22 Q75.992 1248.35 75.1818 1250.27 Q74.3948 1252.17 72.2883 1254.77 Q71.7096 1255.44 68.6078 1258.65 Q65.5059 1261.85 59.8578 1267.61 Z\" fill=\"#000000\" fill-rule=\"nonzero\" fill-opacity=\"1\" /><path clip-path=\"url(#clip740)\" d=\"M66.5939 934.05 L54.7884 952.499 L66.5939 952.499 L66.5939 934.05 M65.367 929.976 L71.2466 929.976 L71.2466 952.499 L76.1772 952.499 L76.1772 956.388 L71.2466 956.388 L71.2466 964.536 L66.5939 964.536 L66.5939 956.388 L50.9921 956.388 L50.9921 951.874 L65.367 929.976 Z\" fill=\"#000000\" fill-rule=\"nonzero\" fill-opacity=\"1\" /><path clip-path=\"url(#clip740)\" d=\"M64.6495 638.382 Q61.5013 638.382 59.6495 640.534 Q57.8208 642.687 57.8208 646.437 Q57.8208 650.164 59.6495 652.34 Q61.5013 654.493 64.6495 654.493 Q67.7976 654.493 69.6263 652.34 Q71.4781 650.164 71.4781 646.437 Q71.4781 642.687 69.6263 640.534 Q67.7976 638.382 64.6495 638.382 M73.9318 623.729 L73.9318 627.988 Q72.1726 627.155 70.367 626.715 Q68.5846 626.275 66.8254 626.275 Q62.1958 626.275 59.7421 629.4 Q57.3115 632.525 56.9643 638.845 Q58.33 636.831 60.3902 635.766 Q62.4504 634.678 64.9272 634.678 Q70.1355 634.678 73.1448 637.849 Q76.1772 640.997 76.1772 646.437 Q76.1772 651.761 73.029 654.979 Q69.8809 658.196 64.6495 658.196 Q58.6541 658.196 55.4828 653.613 Q52.3116 649.007 52.3116 640.28 Q52.3116 632.085 56.2004 627.224 Q60.0893 622.34 66.6402 622.34 Q68.3994 622.34 70.1818 622.687 Q71.9874 623.035 73.9318 623.729 Z\" fill=\"#000000\" fill-rule=\"nonzero\" fill-opacity=\"1\" /><path clip-path=\"url(#clip740)\" d=\"M64.3254 334.102 Q60.9921 334.102 59.0708 335.884 Q57.1726 337.667 57.1726 340.792 Q57.1726 343.917 59.0708 345.699 Q60.9921 347.482 64.3254 347.482 Q67.6587 347.482 69.58 345.699 Q71.5013 343.894 71.5013 340.792 Q71.5013 337.667 69.58 335.884 Q67.6819 334.102 64.3254 334.102 M59.6495 332.111 Q56.6402 331.371 54.9504 329.31 Q53.2838 327.25 53.2838 324.287 Q53.2838 320.144 56.2236 317.736 Q59.1865 315.329 64.3254 315.329 Q69.4874 315.329 72.4272 317.736 Q75.367 320.144 75.367 324.287 Q75.367 327.25 73.6772 329.31 Q72.0105 331.371 69.0244 332.111 Q72.404 332.898 74.279 335.19 Q76.1772 337.482 76.1772 340.792 Q76.1772 345.815 73.0985 348.5 Q70.0429 351.185 64.3254 351.185 Q58.6078 351.185 55.5291 348.5 Q52.4736 345.815 52.4736 340.792 Q52.4736 337.482 54.3717 335.19 Q56.2699 332.898 59.6495 332.111 M57.9365 324.727 Q57.9365 327.412 59.6032 328.917 Q61.293 330.421 64.3254 330.421 Q67.3346 330.421 69.0244 328.917 Q70.7374 327.412 70.7374 324.727 Q70.7374 322.042 69.0244 320.537 Q67.3346 319.033 64.3254 319.033 Q61.293 319.033 59.6032 320.537 Q57.9365 322.042 57.9365 324.727 Z\" fill=\"#000000\" fill-rule=\"nonzero\" fill-opacity=\"1\" /><polyline clip-path=\"url(#clip742)\" style=\"stroke:#009af9; stroke-linecap:round; stroke-linejoin:round; stroke-width:4; stroke-opacity:1; fill:none\" points=\"175.59,85.838 387.691,433.418 511.762,421.549 599.792,653.539 668.073,660.979 723.863,664.485 771.033,663.125 811.893,660.417 880.174,665.479 909.339,1127.38 960.457,1126.85 1004.25,1135.57 1042.55,1248.36 1076.58,1252.06 1121.44,1248.84 1172.56,1360.66 1205.97,1358.2 1254.65,1356.38 1296.63,1355.04 1340.42,1356.02 1384.66,1357.62 1428.45,1355.54 1471.21,1357.12 1512.63,1356.97 1555.9,1359.81 1599.69,1361.91 1643.09,1360.21 1685.52,1358.78 1728.58,1363.14 1771.35,1364.5 1814.69,1365.67 1857.71,1368.74 1900.91,1369.38 1944.48,1369.98 1987.58,1370.61 2030.38,1370.71 2073.55,1372.3 2116.8,1371.35 2159.87,1371.15 2202.94,1370.66 2246.38,1370.26 2289.34,1370.36 \"/>\n",
       "<path clip-path=\"url(#clip740)\" d=\"M2001.58 196.379 L2278.07 196.379 L2278.07 92.6992 L2001.58 92.6992  Z\" fill=\"#ffffff\" fill-rule=\"evenodd\" fill-opacity=\"1\"/>\n",
       "<polyline clip-path=\"url(#clip740)\" style=\"stroke:#000000; stroke-linecap:round; stroke-linejoin:round; stroke-width:4; stroke-opacity:1; fill:none\" points=\"2001.58,196.379 2278.07,196.379 2278.07,92.6992 2001.58,92.6992 2001.58,196.379 \"/>\n",
       "<polyline clip-path=\"url(#clip740)\" style=\"stroke:#009af9; stroke-linecap:round; stroke-linejoin:round; stroke-width:4; stroke-opacity:1; fill:none\" points=\"2026.48,144.539 2175.85,144.539 \"/>\n",
       "<path clip-path=\"url(#clip740)\" d=\"M2214.59 164.227 Q2212.78 168.856 2211.07 170.268 Q2209.36 171.68 2206.49 171.68 L2203.08 171.68 L2203.08 168.115 L2205.58 168.115 Q2207.34 168.115 2208.31 167.282 Q2209.29 166.449 2210.47 163.347 L2211.23 161.403 L2200.74 135.893 L2205.26 135.893 L2213.36 156.171 L2221.46 135.893 L2225.98 135.893 L2214.59 164.227 Z\" fill=\"#000000\" fill-rule=\"nonzero\" fill-opacity=\"1\" /><path clip-path=\"url(#clip740)\" d=\"M2233.27 157.884 L2240.91 157.884 L2240.91 131.518 L2232.6 133.185 L2232.6 128.926 L2240.86 127.259 L2245.54 127.259 L2245.54 157.884 L2253.17 157.884 L2253.17 161.819 L2233.27 161.819 L2233.27 157.884 Z\" fill=\"#000000\" fill-rule=\"nonzero\" fill-opacity=\"1\" /></svg>\n"
      ]
     },
     "metadata": {},
     "output_type": "display_data"
    }
   ],
   "source": [
    "using Plots\n",
    "plot(curve.parameter_values, curve.measurements,\n",
    "     xlab=curve.parameter_name, xscale=curve.parameter_scale)"
   ]
  },
  {
   "cell_type": "markdown",
   "metadata": {},
   "source": [
    "Curvas múltiples:"
   ]
  },
  {
   "cell_type": "code",
   "execution_count": 73,
   "metadata": {},
   "outputs": [
    {
     "data": {
      "text/plain": [
       "(parameter_name = \"n\",\n",
       " parameter_scale = :log10,\n",
       " parameter_values = [1, 2, 3, 4, 5, 6, 7, 8, 10, 11  …  281, 324, 373, 429, 494, 569, 655, 754, 869, 1000],\n",
       " measurements = [4.004850376568572 9.611640903764574 16.820371581588002 9.611640903764574; 4.004850376568572 8.040507294495367 9.087929700674836 9.611640903764574; … ; 1.2054173243412156 1.2344732956339899 1.2623951829446378 1.2810218589470879; 1.211372410840192 1.2366023368521541 1.265007388225465 1.2788029336545665],)"
      ]
     },
     "metadata": {},
     "output_type": "display_data"
    }
   ],
   "source": [
    "curve = learning_curve(mach,\n",
    "                       range=r,\n",
    "                       resampling=Holdout(),\n",
    "                       measure=LogLoss(),\n",
    "                       resolution=50,\n",
    "                       rng_name=:rng,\n",
    "                       rngs=4,\n",
    "                       verbosity=0)"
   ]
  },
  {
   "cell_type": "code",
   "execution_count": 74,
   "metadata": {},
   "outputs": [
    {
     "data": {
      "image/png": "[encoded data removed]",
      "image/svg+xml": [
       "<?xml version=\"1.0\" encoding=\"utf-8\"?>\n",
       "<svg xmlns=\"http://www.w3.org/2000/svg\" xmlns:xlink=\"http://www.w3.org/1999/xlink\" width=\"600\" height=\"400\" viewBox=\"0 0 2400 1600\">\n",
       "<defs>\n",
       "  <clipPath id=\"clip780\">\n",
       "    <rect x=\"0\" y=\"0\" width=\"2400\" height=\"1600\"/>\n",
       "  </clipPath>\n",
       "</defs>\n",
       "<path clip-path=\"url(#clip780)\" d=\"M0 1600 L2400 1600 L2400 0 L0 0  Z\" fill=\"#ffffff\" fill-rule=\"evenodd\" fill-opacity=\"1\"/>\n",
       "<defs>\n",
       "  <clipPath id=\"clip781\">\n",
       "    <rect x=\"480\" y=\"0\" width=\"1681\" height=\"1600\"/>\n",
       "  </clipPath>\n",
       "</defs>\n",
       "<path clip-path=\"url(#clip780)\" d=\"M137.964 1410.9 L2352.76 1410.9 L2352.76 47.2441 L137.964 47.2441  Z\" fill=\"#ffffff\" fill-rule=\"evenodd\" fill-opacity=\"1\"/>\n",
       "<defs>\n",
       "  <clipPath id=\"clip782\">\n",
       "    <rect x=\"137\" y=\"47\" width=\"2216\" height=\"1365\"/>\n",
       "  </clipPath>\n",
       "</defs>\n",
       "<polyline clip-path=\"url(#clip782)\" style=\"stroke:#000000; stroke-linecap:round; stroke-linejoin:round; stroke-width:2; stroke-opacity:0.1; fill:none\" points=\"200.647,1410.9 200.647,47.2441 \"/>\n",
       "<polyline clip-path=\"url(#clip782)\" style=\"stroke:#000000; stroke-linecap:round; stroke-linejoin:round; stroke-width:2; stroke-opacity:0.1; fill:none\" points=\"1593.6,1410.9 1593.6,47.2441 \"/>\n",
       "<polyline clip-path=\"url(#clip782)\" style=\"stroke:#000000; stroke-linecap:round; stroke-linejoin:round; stroke-width:2; stroke-opacity:0.1; fill:none\" points=\"137.964,1220.97 2352.76,1220.97 \"/>\n",
       "<polyline clip-path=\"url(#clip782)\" style=\"stroke:#000000; stroke-linecap:round; stroke-linejoin:round; stroke-width:2; stroke-opacity:0.1; fill:none\" points=\"137.964,974.564 2352.76,974.564 \"/>\n",
       "<polyline clip-path=\"url(#clip782)\" style=\"stroke:#000000; stroke-linecap:round; stroke-linejoin:round; stroke-width:2; stroke-opacity:0.1; fill:none\" points=\"137.964,728.16 2352.76,728.16 \"/>\n",
       "<polyline clip-path=\"url(#clip782)\" style=\"stroke:#000000; stroke-linecap:round; stroke-linejoin:round; stroke-width:2; stroke-opacity:0.1; fill:none\" points=\"137.964,481.757 2352.76,481.757 \"/>\n",
       "<polyline clip-path=\"url(#clip782)\" style=\"stroke:#000000; stroke-linecap:round; stroke-linejoin:round; stroke-width:2; stroke-opacity:0.1; fill:none\" points=\"137.964,235.353 2352.76,235.353 \"/>\n",
       "<polyline clip-path=\"url(#clip780)\" style=\"stroke:#000000; stroke-linecap:round; stroke-linejoin:round; stroke-width:4; stroke-opacity:1; fill:none\" points=\"137.964,1410.9 2352.76,1410.9 \"/>\n",
       "<polyline clip-path=\"url(#clip780)\" style=\"stroke:#000000; stroke-linecap:round; stroke-linejoin:round; stroke-width:4; stroke-opacity:1; fill:none\" points=\"200.647,1410.9 200.647,1392 \"/>\n",
       "<polyline clip-path=\"url(#clip780)\" style=\"stroke:#000000; stroke-linecap:round; stroke-linejoin:round; stroke-width:4; stroke-opacity:1; fill:none\" points=\"1593.6,1410.9 1593.6,1392 \"/>\n",
       "<path clip-path=\"url(#clip780)\" d=\"M165.63 1485.02 L173.269 1485.02 L173.269 1458.66 L164.958 1460.32 L164.958 1456.06 L173.222 1454.4 L177.898 1454.4 L177.898 1485.02 L185.537 1485.02 L185.537 1488.96 L165.63 1488.96 L165.63 1485.02 Z\" fill=\"#000000\" fill-rule=\"nonzero\" fill-opacity=\"1\" /><path clip-path=\"url(#clip780)\" d=\"M204.981 1457.48 Q201.37 1457.48 199.542 1461.04 Q197.736 1464.58 197.736 1471.71 Q197.736 1478.82 199.542 1482.38 Q201.37 1485.92 204.981 1485.92 Q208.616 1485.92 210.421 1482.38 Q212.25 1478.82 212.25 1471.71 Q212.25 1464.58 210.421 1461.04 Q208.616 1457.48 204.981 1457.48 M204.981 1453.77 Q210.791 1453.77 213.847 1458.38 Q216.926 1462.96 216.926 1471.71 Q216.926 1480.44 213.847 1485.04 Q210.791 1489.63 204.981 1489.63 Q199.171 1489.63 196.092 1485.04 Q193.037 1480.44 193.037 1471.71 Q193.037 1462.96 196.092 1458.38 Q199.171 1453.77 204.981 1453.77 Z\" fill=\"#000000\" fill-rule=\"nonzero\" fill-opacity=\"1\" /><path clip-path=\"url(#clip780)\" d=\"M226.631 1435.97 Q223.697 1435.97 222.211 1438.86 Q220.744 1441.74 220.744 1447.53 Q220.744 1453.31 222.211 1456.2 Q223.697 1459.08 226.631 1459.08 Q229.583 1459.08 231.05 1456.2 Q232.536 1453.31 232.536 1447.53 Q232.536 1441.74 231.05 1438.86 Q229.583 1435.97 226.631 1435.97 M226.631 1432.96 Q231.351 1432.96 233.834 1436.7 Q236.335 1440.43 236.335 1447.53 Q236.335 1454.62 233.834 1458.37 Q231.351 1462.09 226.631 1462.09 Q221.91 1462.09 219.408 1458.37 Q216.926 1454.62 216.926 1447.53 Q216.926 1440.43 219.408 1436.7 Q221.91 1432.96 226.631 1432.96 Z\" fill=\"#000000\" fill-rule=\"nonzero\" fill-opacity=\"1\" /><path clip-path=\"url(#clip780)\" d=\"M1559.37 1485.02 L1567.01 1485.02 L1567.01 1458.66 L1558.7 1460.32 L1558.7 1456.06 L1566.96 1454.4 L1571.64 1454.4 L1571.64 1485.02 L1579.28 1485.02 L1579.28 1488.96 L1559.37 1488.96 L1559.37 1485.02 Z\" fill=\"#000000\" fill-rule=\"nonzero\" fill-opacity=\"1\" /><path clip-path=\"url(#clip780)\" d=\"M1598.72 1457.48 Q1595.11 1457.48 1593.28 1461.04 Q1591.48 1464.58 1591.48 1471.71 Q1591.48 1478.82 1593.28 1482.38 Q1595.11 1485.92 1598.72 1485.92 Q1602.36 1485.92 1604.16 1482.38 Q1605.99 1478.82 1605.99 1471.71 Q1605.99 1464.58 1604.16 1461.04 Q1602.36 1457.48 1598.72 1457.48 M1598.72 1453.77 Q1604.53 1453.77 1607.59 1458.38 Q1610.67 1462.96 1610.67 1471.71 Q1610.67 1480.44 1607.59 1485.04 Q1604.53 1489.63 1598.72 1489.63 Q1592.91 1489.63 1589.83 1485.04 Q1586.78 1480.44 1586.78 1471.71 Q1586.78 1462.96 1589.83 1458.38 Q1592.91 1453.77 1598.72 1453.77 Z\" fill=\"#000000\" fill-rule=\"nonzero\" fill-opacity=\"1\" /><path clip-path=\"url(#clip780)\" d=\"M1615.24 1458.35 L1628.5 1458.35 L1628.5 1461.55 L1610.67 1461.55 L1610.67 1458.35 Q1612.83 1456.11 1616.55 1452.35 Q1620.3 1448.57 1621.26 1447.48 Q1623.08 1445.43 1623.79 1444.02 Q1624.53 1442.59 1624.53 1441.22 Q1624.53 1438.98 1622.95 1437.57 Q1621.39 1436.16 1618.87 1436.16 Q1617.08 1436.16 1615.09 1436.78 Q1613.11 1437.4 1610.85 1438.66 L1610.85 1434.82 Q1613.15 1433.9 1615.14 1433.43 Q1617.14 1432.96 1618.79 1432.96 Q1623.15 1432.96 1625.75 1435.14 Q1628.35 1437.32 1628.35 1440.97 Q1628.35 1442.7 1627.69 1444.26 Q1627.05 1445.8 1625.34 1447.91 Q1624.87 1448.46 1622.35 1451.07 Q1619.83 1453.67 1615.24 1458.35 Z\" fill=\"#000000\" fill-rule=\"nonzero\" fill-opacity=\"1\" /><path clip-path=\"url(#clip780)\" d=\"M1260.29 1552.67 L1260.29 1574.19 L1254.43 1574.19 L1254.43 1552.86 Q1254.43 1547.8 1252.46 1545.29 Q1250.48 1542.77 1246.54 1542.77 Q1241.8 1542.77 1239.06 1545.79 Q1236.32 1548.82 1236.32 1554.04 L1236.32 1574.19 L1230.43 1574.19 L1230.43 1538.54 L1236.32 1538.54 L1236.32 1544.08 Q1238.42 1540.86 1241.25 1539.27 Q1244.12 1537.68 1247.84 1537.68 Q1253.99 1537.68 1257.14 1541.5 Q1260.29 1545.29 1260.29 1552.67 Z\" fill=\"#000000\" fill-rule=\"nonzero\" fill-opacity=\"1\" /><polyline clip-path=\"url(#clip780)\" style=\"stroke:#000000; stroke-linecap:round; stroke-linejoin:round; stroke-width:4; stroke-opacity:1; fill:none\" points=\"137.964,1410.9 137.964,47.2441 \"/>\n",
       "<polyline clip-path=\"url(#clip780)\" style=\"stroke:#000000; stroke-linecap:round; stroke-linejoin:round; stroke-width:4; stroke-opacity:1; fill:none\" points=\"137.964,1220.97 156.862,1220.97 \"/>\n",
       "<polyline clip-path=\"url(#clip780)\" style=\"stroke:#000000; stroke-linecap:round; stroke-linejoin:round; stroke-width:4; stroke-opacity:1; fill:none\" points=\"137.964,974.564 156.862,974.564 \"/>\n",
       "<polyline clip-path=\"url(#clip780)\" style=\"stroke:#000000; stroke-linecap:round; stroke-linejoin:round; stroke-width:4; stroke-opacity:1; fill:none\" points=\"137.964,728.16 156.862,728.16 \"/>\n",
       "<polyline clip-path=\"url(#clip780)\" style=\"stroke:#000000; stroke-linecap:round; stroke-linejoin:round; stroke-width:4; stroke-opacity:1; fill:none\" points=\"137.964,481.757 156.862,481.757 \"/>\n",
       "<polyline clip-path=\"url(#clip780)\" style=\"stroke:#000000; stroke-linecap:round; stroke-linejoin:round; stroke-width:4; stroke-opacity:1; fill:none\" points=\"137.964,235.353 156.862,235.353 \"/>\n",
       "<path clip-path=\"url(#clip780)\" d=\"M94.8345 1219.61 Q98.1909 1220.33 100.066 1222.6 Q101.964 1224.87 101.964 1228.2 Q101.964 1233.32 98.4456 1236.12 Q94.9271 1238.92 88.4456 1238.92 Q86.2697 1238.92 83.9549 1238.48 Q81.6633 1238.06 79.2096 1237.21 L79.2096 1232.69 Q81.154 1233.83 83.4688 1234.4 Q85.7836 1234.98 88.3067 1234.98 Q92.7049 1234.98 94.9965 1233.25 Q97.3113 1231.51 97.3113 1228.2 Q97.3113 1225.15 95.1586 1223.43 Q93.0289 1221.7 89.2095 1221.7 L85.1818 1221.7 L85.1818 1217.85 L89.3947 1217.85 Q92.8438 1217.85 94.6724 1216.49 Q96.5011 1215.1 96.5011 1212.51 Q96.5011 1209.84 94.603 1208.43 Q92.728 1207 89.2095 1207 Q87.2882 1207 85.0892 1207.41 Q82.8901 1207.83 80.2512 1208.71 L80.2512 1204.54 Q82.9133 1203.8 85.2281 1203.43 Q87.566 1203.06 89.6262 1203.06 Q94.9502 1203.06 98.0521 1205.49 Q101.154 1207.9 101.154 1212.02 Q101.154 1214.89 99.5104 1216.88 Q97.8669 1218.85 94.8345 1219.61 Z\" fill=\"#000000\" fill-rule=\"nonzero\" fill-opacity=\"1\" /><path clip-path=\"url(#clip780)\" d=\"M90.4364 972.701 Q87.2882 972.701 85.4364 974.853 Q83.6077 977.006 83.6077 980.756 Q83.6077 984.483 85.4364 986.659 Q87.2882 988.812 90.4364 988.812 Q93.5845 988.812 95.4132 986.659 Q97.265 984.483 97.265 980.756 Q97.265 977.006 95.4132 974.853 Q93.5845 972.701 90.4364 972.701 M99.7187 958.048 L99.7187 962.307 Q97.9595 961.474 96.1539 961.034 Q94.3715 960.594 92.6123 960.594 Q87.9827 960.594 85.529 963.719 Q83.0984 966.844 82.7512 973.164 Q84.1169 971.15 86.1771 970.085 Q88.2373 968.997 90.7141 968.997 Q95.9224 968.997 98.9317 972.168 Q101.964 975.316 101.964 980.756 Q101.964 986.08 98.8159 989.298 Q95.6678 992.515 90.4364 992.515 Q84.441 992.515 81.2697 987.932 Q78.0985 983.326 78.0985 974.599 Q78.0985 966.404 81.9873 961.543 Q85.8762 956.659 92.4271 956.659 Q94.1863 956.659 95.9687 957.006 Q97.7743 957.353 99.7187 958.048 Z\" fill=\"#000000\" fill-rule=\"nonzero\" fill-opacity=\"1\" /><path clip-path=\"url(#clip780)\" d=\"M80.3438 744.723 L80.3438 740.464 Q82.1031 741.297 83.9086 741.737 Q85.7142 742.177 87.4503 742.177 Q92.0799 742.177 94.5104 739.075 Q96.9641 735.95 97.3113 729.607 Q95.9687 731.598 93.9086 732.663 Q91.8484 733.728 89.3484 733.728 Q84.1632 733.728 81.1309 730.603 Q78.1216 727.454 78.1216 722.015 Q78.1216 716.691 81.2697 713.473 Q84.4179 710.255 89.6493 710.255 Q95.6447 710.255 98.7928 714.862 Q101.964 719.445 101.964 728.195 Q101.964 736.366 98.0752 741.251 Q94.2095 746.112 87.6586 746.112 Q85.8993 746.112 84.0938 745.765 Q82.2883 745.417 80.3438 744.723 M89.6493 730.07 Q92.7975 730.07 94.6262 727.917 Q96.478 725.765 96.478 722.015 Q96.478 718.288 94.6262 716.135 Q92.7975 713.959 89.6493 713.959 Q86.5012 713.959 84.6494 716.135 Q82.8207 718.288 82.8207 722.015 Q82.8207 725.765 84.6494 727.917 Q86.5012 730.07 89.6493 730.07 Z\" fill=\"#000000\" fill-rule=\"nonzero\" fill-opacity=\"1\" /><path clip-path=\"url(#clip780)\" d=\"M52.2653 495.102 L59.9041 495.102 L59.9041 468.736 L51.594 470.403 L51.594 466.144 L59.8578 464.477 L64.5337 464.477 L64.5337 495.102 L72.1726 495.102 L72.1726 499.037 L52.2653 499.037 L52.2653 495.102 Z\" fill=\"#000000\" fill-rule=\"nonzero\" fill-opacity=\"1\" /><path clip-path=\"url(#clip780)\" d=\"M85.6447 495.102 L101.964 495.102 L101.964 499.037 L80.0197 499.037 L80.0197 495.102 Q82.6818 492.347 87.2651 487.718 Q91.8715 483.065 93.0521 481.722 Q95.2974 479.199 96.1771 477.463 Q97.0798 475.704 97.0798 474.014 Q97.0798 471.259 95.1354 469.523 Q93.2141 467.787 90.1123 467.787 Q87.9132 467.787 85.4595 468.551 Q83.029 469.315 80.2512 470.866 L80.2512 466.144 Q83.0753 465.009 85.529 464.431 Q87.9827 463.852 90.0197 463.852 Q95.39 463.852 98.5845 466.537 Q101.779 469.222 101.779 473.713 Q101.779 475.843 100.969 477.764 Q100.182 479.662 98.0752 482.255 Q97.4965 482.926 94.3947 486.143 Q91.2928 489.338 85.6447 495.102 Z\" fill=\"#000000\" fill-rule=\"nonzero\" fill-opacity=\"1\" /><path clip-path=\"url(#clip780)\" d=\"M51.6634 248.698 L59.3023 248.698 L59.3023 222.333 L50.9921 223.999 L50.9921 219.74 L59.256 218.073 L63.9319 218.073 L63.9319 248.698 L71.5707 248.698 L71.5707 252.633 L51.6634 252.633 L51.6634 248.698 Z\" fill=\"#000000\" fill-rule=\"nonzero\" fill-opacity=\"1\" /><path clip-path=\"url(#clip780)\" d=\"M81.0614 218.073 L99.4178 218.073 L99.4178 222.009 L85.3438 222.009 L85.3438 230.481 Q86.3623 230.133 87.3808 229.971 Q88.3993 229.786 89.4178 229.786 Q95.2049 229.786 98.5845 232.958 Q101.964 236.129 101.964 241.545 Q101.964 247.124 98.4919 250.226 Q95.0197 253.305 88.7003 253.305 Q86.5243 253.305 84.2558 252.934 Q82.0105 252.564 79.6031 251.823 L79.6031 247.124 Q81.6864 248.258 83.9086 248.814 Q86.1308 249.37 88.6077 249.37 Q92.6123 249.37 94.9502 247.263 Q97.2882 245.157 97.2882 241.545 Q97.2882 237.934 94.9502 235.828 Q92.6123 233.721 88.6077 233.721 Q86.7327 233.721 84.8577 234.138 Q83.0058 234.555 81.0614 235.434 L81.0614 218.073 Z\" fill=\"#000000\" fill-rule=\"nonzero\" fill-opacity=\"1\" /><polyline clip-path=\"url(#clip782)\" style=\"stroke:#009af9; stroke-linecap:round; stroke-linejoin:round; stroke-width:4; stroke-opacity:1; fill:none\" points=\"200.647,1138.43 410.307,1138.43 532.95,1138.43 619.967,1138.43 687.462,1138.43 742.61,1138.43 789.237,1138.43 829.627,1138.43 897.122,1138.43 925.951,1138.43 976.481,1138.43 1019.77,1138.43 1057.62,1138.43 1091.27,1138.43 1135.61,1137.59 1186.14,1316.73 1219.17,1319.58 1267.28,1317.78 1308.78,1318.68 1352.07,1318.63 1395.8,1316.83 1439.09,1316.48 1481.36,1317.07 1522.3,1317.47 1565.07,1316.94 1608.36,1316.36 1651.26,1315.4 1693.2,1315 1735.76,1371.52 1778.04,1372.11 1820.88,1372.3 1863.41,1372.12 1906.11,1371.87 1949.18,1371.52 1991.78,1371.13 2034.09,1370.63 2076.76,1370.01 2119.51,1369.51 2162.09,1369.05 2204.67,1368.62 2247.6,1368.36 2290.07,1367.88 \"/>\n",
       "<polyline clip-path=\"url(#clip782)\" style=\"stroke:#e26f46; stroke-linecap:round; stroke-linejoin:round; stroke-width:4; stroke-opacity:1; fill:none\" points=\"200.647,677.924 410.307,806.968 532.95,805.488 619.967,806.968 687.462,807.633 742.61,808.018 789.237,808.27 829.627,807.783 897.122,868.064 925.951,867.652 976.481,867.78 1019.77,867.61 1057.62,867.385 1091.27,867.509 1135.61,867.506 1186.14,986.206 1219.17,985.675 1267.28,986.895 1308.78,987.675 1352.07,988.136 1395.8,1340.72 1439.09,1348.41 1481.36,1352.75 1522.3,1353.48 1565.07,1357.47 1608.36,1360.84 1651.26,1361.74 1693.2,1363.37 1735.76,1364.62 1778.04,1365.66 1820.88,1365.93 1863.41,1365.43 1906.11,1365.01 1949.18,1365.44 1991.78,1365.45 2034.09,1365.65 2076.76,1365.56 2119.51,1365.72 2162.09,1365.76 2204.67,1365.96 2247.6,1365.98 2290.07,1365.8 \"/>\n",
       "<polyline clip-path=\"url(#clip782)\" style=\"stroke:#3da44d; stroke-linecap:round; stroke-linejoin:round; stroke-width:4; stroke-opacity:1; fill:none\" points=\"200.647,85.838 410.307,720.938 532.95,720.269 619.967,718.218 687.462,716.138 742.61,714.22 789.237,712.484 829.627,718.218 897.122,1215.45 925.951,1213.36 976.481,1223.2 1019.77,1228.21 1057.62,1231.32 1091.27,1233.4 1135.61,1237.17 1186.14,1241.02 1219.17,1242.46 1267.28,1245.17 1308.78,1247.01 1352.07,1306.76 1395.8,1306.96 1439.09,1308.53 1481.36,1309.37 1522.3,1309.68 1565.07,1309.66 1608.36,1309.42 1651.26,1309.77 1693.2,1309.39 1735.76,1308.9 1778.04,1309.21 1820.88,1308.88 1863.41,1309.3 1906.11,1309.39 1949.18,1309.23 1991.78,1308.98 2034.09,1308.5 2076.76,1362.68 2119.51,1363.5 2162.09,1363.79 2204.67,1363.78 2247.6,1363.68 2290.07,1363.47 \"/>\n",
       "<polyline clip-path=\"url(#clip782)\" style=\"stroke:#c271d2; stroke-linecap:round; stroke-linejoin:round; stroke-width:4; stroke-opacity:1; fill:none\" points=\"200.647,677.924 410.307,677.924 532.95,677.924 619.967,804.438 687.462,806.153 742.61,805.488 789.237,806.405 829.627,806.968 897.122,806.968 925.951,806.62 976.481,806.676 1019.77,806.716 1057.62,806.259 1091.27,806.771 1135.61,925.762 1186.14,1226.78 1219.17,1226.27 1267.28,1231.53 1308.78,1234.41 1352.07,1235.92 1395.8,1236.67 1439.09,1237.05 1481.36,1295.37 1522.3,1297.35 1565.07,1297.95 1608.36,1298.21 1651.26,1298.11 1693.2,1298.45 1735.76,1299.09 1778.04,1299.95 1820.88,1299.97 1863.41,1356.09 1906.11,1357.39 1949.18,1358.45 1991.78,1359.45 2034.09,1360.23 2076.76,1361.28 2119.51,1361.73 2162.09,1361.99 2204.67,1362.13 2247.6,1362.16 2290.07,1362.34 \"/>\n",
       "<path clip-path=\"url(#clip780)\" d=\"M2003.31 351.899 L2278.93 351.899 L2278.93 92.6992 L2003.31 92.6992  Z\" fill=\"#ffffff\" fill-rule=\"evenodd\" fill-opacity=\"1\"/>\n",
       "<polyline clip-path=\"url(#clip780)\" style=\"stroke:#000000; stroke-linecap:round; stroke-linejoin:round; stroke-width:4; stroke-opacity:1; fill:none\" points=\"2003.31,351.899 2278.93,351.899 2278.93,92.6992 2003.31,92.6992 2003.31,351.899 \"/>\n",
       "<polyline clip-path=\"url(#clip780)\" style=\"stroke:#009af9; stroke-linecap:round; stroke-linejoin:round; stroke-width:4; stroke-opacity:1; fill:none\" points=\"2027.92,144.539 2175.57,144.539 \"/>\n",
       "<path clip-path=\"url(#clip780)\" d=\"M2214.02 164.227 Q2212.21 168.856 2210.5 170.268 Q2208.79 171.68 2205.92 171.68 L2202.52 171.68 L2202.52 168.115 L2205.02 168.115 Q2206.77 168.115 2207.75 167.282 Q2208.72 166.449 2209.9 163.347 L2210.66 161.403 L2200.18 135.893 L2204.69 135.893 L2212.79 156.171 L2220.89 135.893 L2225.41 135.893 L2214.02 164.227 Z\" fill=\"#000000\" fill-rule=\"nonzero\" fill-opacity=\"1\" /><path clip-path=\"url(#clip780)\" d=\"M2232.7 157.884 L2240.34 157.884 L2240.34 131.518 L2232.03 133.185 L2232.03 128.926 L2240.29 127.259 L2244.97 127.259 L2244.97 157.884 L2252.61 157.884 L2252.61 161.819 L2232.7 161.819 L2232.7 157.884 Z\" fill=\"#000000\" fill-rule=\"nonzero\" fill-opacity=\"1\" /><polyline clip-path=\"url(#clip780)\" style=\"stroke:#e26f46; stroke-linecap:round; stroke-linejoin:round; stroke-width:4; stroke-opacity:1; fill:none\" points=\"2027.92,196.379 2175.57,196.379 \"/>\n",
       "<path clip-path=\"url(#clip780)\" d=\"M2214.02 216.067 Q2212.21 220.696 2210.5 222.108 Q2208.79 223.52 2205.92 223.52 L2202.52 223.52 L2202.52 219.955 L2205.02 219.955 Q2206.77 219.955 2207.75 219.122 Q2208.72 218.289 2209.9 215.187 L2210.66 213.243 L2200.18 187.733 L2204.69 187.733 L2212.79 208.011 L2220.89 187.733 L2225.41 187.733 L2214.02 216.067 Z\" fill=\"#000000\" fill-rule=\"nonzero\" fill-opacity=\"1\" /><path clip-path=\"url(#clip780)\" d=\"M2235.92 209.724 L2252.24 209.724 L2252.24 213.659 L2230.29 213.659 L2230.29 209.724 Q2232.96 206.969 2237.54 202.34 Q2242.14 197.687 2243.33 196.344 Q2245.57 193.821 2246.45 192.085 Q2247.35 190.326 2247.35 188.636 Q2247.35 185.882 2245.41 184.145 Q2243.49 182.409 2240.39 182.409 Q2238.19 182.409 2235.73 183.173 Q2233.3 183.937 2230.52 185.488 L2230.52 180.766 Q2233.35 179.632 2235.8 179.053 Q2238.26 178.474 2240.29 178.474 Q2245.66 178.474 2248.86 181.159 Q2252.05 183.845 2252.05 188.335 Q2252.05 190.465 2251.24 192.386 Q2250.45 194.284 2248.35 196.877 Q2247.77 197.548 2244.67 200.766 Q2241.57 203.96 2235.92 209.724 Z\" fill=\"#000000\" fill-rule=\"nonzero\" fill-opacity=\"1\" /><polyline clip-path=\"url(#clip780)\" style=\"stroke:#3da44d; stroke-linecap:round; stroke-linejoin:round; stroke-width:4; stroke-opacity:1; fill:none\" points=\"2027.92,248.219 2175.57,248.219 \"/>\n",
       "<path clip-path=\"url(#clip780)\" d=\"M2214.02 267.907 Q2212.21 272.536 2210.5 273.948 Q2208.79 275.36 2205.92 275.36 L2202.52 275.36 L2202.52 271.795 L2205.02 271.795 Q2206.77 271.795 2207.75 270.962 Q2208.72 270.129 2209.9 267.027 L2210.66 265.083 L2200.18 239.573 L2204.69 239.573 L2212.79 259.851 L2220.89 239.573 L2225.41 239.573 L2214.02 267.907 Z\" fill=\"#000000\" fill-rule=\"nonzero\" fill-opacity=\"1\" /><path clip-path=\"url(#clip780)\" d=\"M2246.06 246.865 Q2249.41 247.583 2251.29 249.851 Q2253.19 252.12 2253.19 255.453 Q2253.19 260.569 2249.67 263.37 Q2246.15 266.17 2239.67 266.17 Q2237.49 266.17 2235.18 265.731 Q2232.89 265.314 2230.43 264.458 L2230.43 259.944 Q2232.38 261.078 2234.69 261.657 Q2237.01 262.235 2239.53 262.235 Q2243.93 262.235 2246.22 260.499 Q2248.53 258.763 2248.53 255.453 Q2248.53 252.397 2246.38 250.684 Q2244.25 248.948 2240.43 248.948 L2236.4 248.948 L2236.4 245.106 L2240.62 245.106 Q2244.07 245.106 2245.89 243.74 Q2247.72 242.351 2247.72 239.759 Q2247.72 237.097 2245.83 235.685 Q2243.95 234.249 2240.43 234.249 Q2238.51 234.249 2236.31 234.666 Q2234.11 235.083 2231.47 235.962 L2231.47 231.796 Q2234.14 231.055 2236.45 230.685 Q2238.79 230.314 2240.85 230.314 Q2246.17 230.314 2249.27 232.745 Q2252.38 235.152 2252.38 239.272 Q2252.38 242.143 2250.73 244.134 Q2249.09 246.101 2246.06 246.865 Z\" fill=\"#000000\" fill-rule=\"nonzero\" fill-opacity=\"1\" /><polyline clip-path=\"url(#clip780)\" style=\"stroke:#c271d2; stroke-linecap:round; stroke-linejoin:round; stroke-width:4; stroke-opacity:1; fill:none\" points=\"2027.92,300.059 2175.57,300.059 \"/>\n",
       "<path clip-path=\"url(#clip780)\" d=\"M2214.02 319.747 Q2212.21 324.376 2210.5 325.788 Q2208.79 327.2 2205.92 327.2 L2202.52 327.2 L2202.52 323.635 L2205.02 323.635 Q2206.77 323.635 2207.75 322.802 Q2208.72 321.969 2209.9 318.867 L2210.66 316.923 L2200.18 291.413 L2204.69 291.413 L2212.79 311.691 L2220.89 291.413 L2225.41 291.413 L2214.02 319.747 Z\" fill=\"#000000\" fill-rule=\"nonzero\" fill-opacity=\"1\" /><path clip-path=\"url(#clip780)\" d=\"M2244.74 286.853 L2232.93 305.302 L2244.74 305.302 L2244.74 286.853 M2243.51 282.779 L2249.39 282.779 L2249.39 305.302 L2254.32 305.302 L2254.32 309.191 L2249.39 309.191 L2249.39 317.339 L2244.74 317.339 L2244.74 309.191 L2229.14 309.191 L2229.14 304.677 L2243.51 282.779 Z\" fill=\"#000000\" fill-rule=\"nonzero\" fill-opacity=\"1\" /></svg>\n"
      ],
      "text/html": [
       "<?xml version=\"1.0\" encoding=\"utf-8\"?>\n",
       "<svg xmlns=\"http://www.w3.org/2000/svg\" xmlns:xlink=\"http://www.w3.org/1999/xlink\" width=\"600\" height=\"400\" viewBox=\"0 0 2400 1600\">\n",
       "<defs>\n",
       "  <clipPath id=\"clip830\">\n",
       "    <rect x=\"0\" y=\"0\" width=\"2400\" height=\"1600\"/>\n",
       "  </clipPath>\n",
       "</defs>\n",
       "<path clip-path=\"url(#clip830)\" d=\"M0 1600 L2400 1600 L2400 0 L0 0  Z\" fill=\"#ffffff\" fill-rule=\"evenodd\" fill-opacity=\"1\"/>\n",
       "<defs>\n",
       "  <clipPath id=\"clip831\">\n",
       "    <rect x=\"480\" y=\"0\" width=\"1681\" height=\"1600\"/>\n",
       "  </clipPath>\n",
       "</defs>\n",
       "<path clip-path=\"url(#clip830)\" d=\"M137.964 1410.9 L2352.76 1410.9 L2352.76 47.2441 L137.964 47.2441  Z\" fill=\"#ffffff\" fill-rule=\"evenodd\" fill-opacity=\"1\"/>\n",
       "<defs>\n",
       "  <clipPath id=\"clip832\">\n",
       "    <rect x=\"137\" y=\"47\" width=\"2216\" height=\"1365\"/>\n",
       "  </clipPath>\n",
       "</defs>\n",
       "<polyline clip-path=\"url(#clip832)\" style=\"stroke:#000000; stroke-linecap:round; stroke-linejoin:round; stroke-width:2; stroke-opacity:0.1; fill:none\" points=\"200.647,1410.9 200.647,47.2441 \"/>\n",
       "<polyline clip-path=\"url(#clip832)\" style=\"stroke:#000000; stroke-linecap:round; stroke-linejoin:round; stroke-width:2; stroke-opacity:0.1; fill:none\" points=\"1593.6,1410.9 1593.6,47.2441 \"/>\n",
       "<polyline clip-path=\"url(#clip832)\" style=\"stroke:#000000; stroke-linecap:round; stroke-linejoin:round; stroke-width:2; stroke-opacity:0.1; fill:none\" points=\"137.964,1220.97 2352.76,1220.97 \"/>\n",
       "<polyline clip-path=\"url(#clip832)\" style=\"stroke:#000000; stroke-linecap:round; stroke-linejoin:round; stroke-width:2; stroke-opacity:0.1; fill:none\" points=\"137.964,974.564 2352.76,974.564 \"/>\n",
       "<polyline clip-path=\"url(#clip832)\" style=\"stroke:#000000; stroke-linecap:round; stroke-linejoin:round; stroke-width:2; stroke-opacity:0.1; fill:none\" points=\"137.964,728.16 2352.76,728.16 \"/>\n",
       "<polyline clip-path=\"url(#clip832)\" style=\"stroke:#000000; stroke-linecap:round; stroke-linejoin:round; stroke-width:2; stroke-opacity:0.1; fill:none\" points=\"137.964,481.757 2352.76,481.757 \"/>\n",
       "<polyline clip-path=\"url(#clip832)\" style=\"stroke:#000000; stroke-linecap:round; stroke-linejoin:round; stroke-width:2; stroke-opacity:0.1; fill:none\" points=\"137.964,235.353 2352.76,235.353 \"/>\n",
       "<polyline clip-path=\"url(#clip830)\" style=\"stroke:#000000; stroke-linecap:round; stroke-linejoin:round; stroke-width:4; stroke-opacity:1; fill:none\" points=\"137.964,1410.9 2352.76,1410.9 \"/>\n",
       "<polyline clip-path=\"url(#clip830)\" style=\"stroke:#000000; stroke-linecap:round; stroke-linejoin:round; stroke-width:4; stroke-opacity:1; fill:none\" points=\"200.647,1410.9 200.647,1392 \"/>\n",
       "<polyline clip-path=\"url(#clip830)\" style=\"stroke:#000000; stroke-linecap:round; stroke-linejoin:round; stroke-width:4; stroke-opacity:1; fill:none\" points=\"1593.6,1410.9 1593.6,1392 \"/>\n",
       "<path clip-path=\"url(#clip830)\" d=\"M165.63 1485.02 L173.269 1485.02 L173.269 1458.66 L164.958 1460.32 L164.958 1456.06 L173.222 1454.4 L177.898 1454.4 L177.898 1485.02 L185.537 1485.02 L185.537 1488.96 L165.63 1488.96 L165.63 1485.02 Z\" fill=\"#000000\" fill-rule=\"nonzero\" fill-opacity=\"1\" /><path clip-path=\"url(#clip830)\" d=\"M204.981 1457.48 Q201.37 1457.48 199.542 1461.04 Q197.736 1464.58 197.736 1471.71 Q197.736 1478.82 199.542 1482.38 Q201.37 1485.92 204.981 1485.92 Q208.616 1485.92 210.421 1482.38 Q212.25 1478.82 212.25 1471.71 Q212.25 1464.58 210.421 1461.04 Q208.616 1457.48 204.981 1457.48 M204.981 1453.77 Q210.791 1453.77 213.847 1458.38 Q216.926 1462.96 216.926 1471.71 Q216.926 1480.44 213.847 1485.04 Q210.791 1489.63 204.981 1489.63 Q199.171 1489.63 196.092 1485.04 Q193.037 1480.44 193.037 1471.71 Q193.037 1462.96 196.092 1458.38 Q199.171 1453.77 204.981 1453.77 Z\" fill=\"#000000\" fill-rule=\"nonzero\" fill-opacity=\"1\" /><path clip-path=\"url(#clip830)\" d=\"M226.631 1435.97 Q223.697 1435.97 222.211 1438.86 Q220.744 1441.74 220.744 1447.53 Q220.744 1453.31 222.211 1456.2 Q223.697 1459.08 226.631 1459.08 Q229.583 1459.08 231.05 1456.2 Q232.536 1453.31 232.536 1447.53 Q232.536 1441.74 231.05 1438.86 Q229.583 1435.97 226.631 1435.97 M226.631 1432.96 Q231.351 1432.96 233.834 1436.7 Q236.335 1440.43 236.335 1447.53 Q236.335 1454.62 233.834 1458.37 Q231.351 1462.09 226.631 1462.09 Q221.91 1462.09 219.408 1458.37 Q216.926 1454.62 216.926 1447.53 Q216.926 1440.43 219.408 1436.7 Q221.91 1432.96 226.631 1432.96 Z\" fill=\"#000000\" fill-rule=\"nonzero\" fill-opacity=\"1\" /><path clip-path=\"url(#clip830)\" d=\"M1559.37 1485.02 L1567.01 1485.02 L1567.01 1458.66 L1558.7 1460.32 L1558.7 1456.06 L1566.96 1454.4 L1571.64 1454.4 L1571.64 1485.02 L1579.28 1485.02 L1579.28 1488.96 L1559.37 1488.96 L1559.37 1485.02 Z\" fill=\"#000000\" fill-rule=\"nonzero\" fill-opacity=\"1\" /><path clip-path=\"url(#clip830)\" d=\"M1598.72 1457.48 Q1595.11 1457.48 1593.28 1461.04 Q1591.48 1464.58 1591.48 1471.71 Q1591.48 1478.82 1593.28 1482.38 Q1595.11 1485.92 1598.72 1485.92 Q1602.36 1485.92 1604.16 1482.38 Q1605.99 1478.82 1605.99 1471.71 Q1605.99 1464.58 1604.16 1461.04 Q1602.36 1457.48 1598.72 1457.48 M1598.72 1453.77 Q1604.53 1453.77 1607.59 1458.38 Q1610.67 1462.96 1610.67 1471.71 Q1610.67 1480.44 1607.59 1485.04 Q1604.53 1489.63 1598.72 1489.63 Q1592.91 1489.63 1589.83 1485.04 Q1586.78 1480.44 1586.78 1471.71 Q1586.78 1462.96 1589.83 1458.38 Q1592.91 1453.77 1598.72 1453.77 Z\" fill=\"#000000\" fill-rule=\"nonzero\" fill-opacity=\"1\" /><path clip-path=\"url(#clip830)\" d=\"M1615.24 1458.35 L1628.5 1458.35 L1628.5 1461.55 L1610.67 1461.55 L1610.67 1458.35 Q1612.83 1456.11 1616.55 1452.35 Q1620.3 1448.57 1621.26 1447.48 Q1623.08 1445.43 1623.79 1444.02 Q1624.53 1442.59 1624.53 1441.22 Q1624.53 1438.98 1622.95 1437.57 Q1621.39 1436.16 1618.87 1436.16 Q1617.08 1436.16 1615.09 1436.78 Q1613.11 1437.4 1610.85 1438.66 L1610.85 1434.82 Q1613.15 1433.9 1615.14 1433.43 Q1617.14 1432.96 1618.79 1432.96 Q1623.15 1432.96 1625.75 1435.14 Q1628.35 1437.32 1628.35 1440.97 Q1628.35 1442.7 1627.69 1444.26 Q1627.05 1445.8 1625.34 1447.91 Q1624.87 1448.46 1622.35 1451.07 Q1619.83 1453.67 1615.24 1458.35 Z\" fill=\"#000000\" fill-rule=\"nonzero\" fill-opacity=\"1\" /><path clip-path=\"url(#clip830)\" d=\"M1260.29 1552.67 L1260.29 1574.19 L1254.43 1574.19 L1254.43 1552.86 Q1254.43 1547.8 1252.46 1545.29 Q1250.48 1542.77 1246.54 1542.77 Q1241.8 1542.77 1239.06 1545.79 Q1236.32 1548.82 1236.32 1554.04 L1236.32 1574.19 L1230.43 1574.19 L1230.43 1538.54 L1236.32 1538.54 L1236.32 1544.08 Q1238.42 1540.86 1241.25 1539.27 Q1244.12 1537.68 1247.84 1537.68 Q1253.99 1537.68 1257.14 1541.5 Q1260.29 1545.29 1260.29 1552.67 Z\" fill=\"#000000\" fill-rule=\"nonzero\" fill-opacity=\"1\" /><polyline clip-path=\"url(#clip830)\" style=\"stroke:#000000; stroke-linecap:round; stroke-linejoin:round; stroke-width:4; stroke-opacity:1; fill:none\" points=\"137.964,1410.9 137.964,47.2441 \"/>\n",
       "<polyline clip-path=\"url(#clip830)\" style=\"stroke:#000000; stroke-linecap:round; stroke-linejoin:round; stroke-width:4; stroke-opacity:1; fill:none\" points=\"137.964,1220.97 156.862,1220.97 \"/>\n",
       "<polyline clip-path=\"url(#clip830)\" style=\"stroke:#000000; stroke-linecap:round; stroke-linejoin:round; stroke-width:4; stroke-opacity:1; fill:none\" points=\"137.964,974.564 156.862,974.564 \"/>\n",
       "<polyline clip-path=\"url(#clip830)\" style=\"stroke:#000000; stroke-linecap:round; stroke-linejoin:round; stroke-width:4; stroke-opacity:1; fill:none\" points=\"137.964,728.16 156.862,728.16 \"/>\n",
       "<polyline clip-path=\"url(#clip830)\" style=\"stroke:#000000; stroke-linecap:round; stroke-linejoin:round; stroke-width:4; stroke-opacity:1; fill:none\" points=\"137.964,481.757 156.862,481.757 \"/>\n",
       "<polyline clip-path=\"url(#clip830)\" style=\"stroke:#000000; stroke-linecap:round; stroke-linejoin:round; stroke-width:4; stroke-opacity:1; fill:none\" points=\"137.964,235.353 156.862,235.353 \"/>\n",
       "<path clip-path=\"url(#clip830)\" d=\"M94.8345 1219.61 Q98.1909 1220.33 100.066 1222.6 Q101.964 1224.87 101.964 1228.2 Q101.964 1233.32 98.4456 1236.12 Q94.9271 1238.92 88.4456 1238.92 Q86.2697 1238.92 83.9549 1238.48 Q81.6633 1238.06 79.2096 1237.21 L79.2096 1232.69 Q81.154 1233.83 83.4688 1234.4 Q85.7836 1234.98 88.3067 1234.98 Q92.7049 1234.98 94.9965 1233.25 Q97.3113 1231.51 97.3113 1228.2 Q97.3113 1225.15 95.1586 1223.43 Q93.0289 1221.7 89.2095 1221.7 L85.1818 1221.7 L85.1818 1217.85 L89.3947 1217.85 Q92.8438 1217.85 94.6724 1216.49 Q96.5011 1215.1 96.5011 1212.51 Q96.5011 1209.84 94.603 1208.43 Q92.728 1207 89.2095 1207 Q87.2882 1207 85.0892 1207.41 Q82.8901 1207.83 80.2512 1208.71 L80.2512 1204.54 Q82.9133 1203.8 85.2281 1203.43 Q87.566 1203.06 89.6262 1203.06 Q94.9502 1203.06 98.0521 1205.49 Q101.154 1207.9 101.154 1212.02 Q101.154 1214.89 99.5104 1216.88 Q97.8669 1218.85 94.8345 1219.61 Z\" fill=\"#000000\" fill-rule=\"nonzero\" fill-opacity=\"1\" /><path clip-path=\"url(#clip830)\" d=\"M90.4364 972.701 Q87.2882 972.701 85.4364 974.853 Q83.6077 977.006 83.6077 980.756 Q83.6077 984.483 85.4364 986.659 Q87.2882 988.812 90.4364 988.812 Q93.5845 988.812 95.4132 986.659 Q97.265 984.483 97.265 980.756 Q97.265 977.006 95.4132 974.853 Q93.5845 972.701 90.4364 972.701 M99.7187 958.048 L99.7187 962.307 Q97.9595 961.474 96.1539 961.034 Q94.3715 960.594 92.6123 960.594 Q87.9827 960.594 85.529 963.719 Q83.0984 966.844 82.7512 973.164 Q84.1169 971.15 86.1771 970.085 Q88.2373 968.997 90.7141 968.997 Q95.9224 968.997 98.9317 972.168 Q101.964 975.316 101.964 980.756 Q101.964 986.08 98.8159 989.298 Q95.6678 992.515 90.4364 992.515 Q84.441 992.515 81.2697 987.932 Q78.0985 983.326 78.0985 974.599 Q78.0985 966.404 81.9873 961.543 Q85.8762 956.659 92.4271 956.659 Q94.1863 956.659 95.9687 957.006 Q97.7743 957.353 99.7187 958.048 Z\" fill=\"#000000\" fill-rule=\"nonzero\" fill-opacity=\"1\" /><path clip-path=\"url(#clip830)\" d=\"M80.3438 744.723 L80.3438 740.464 Q82.1031 741.297 83.9086 741.737 Q85.7142 742.177 87.4503 742.177 Q92.0799 742.177 94.5104 739.075 Q96.9641 735.95 97.3113 729.607 Q95.9687 731.598 93.9086 732.663 Q91.8484 733.728 89.3484 733.728 Q84.1632 733.728 81.1309 730.603 Q78.1216 727.454 78.1216 722.015 Q78.1216 716.691 81.2697 713.473 Q84.4179 710.255 89.6493 710.255 Q95.6447 710.255 98.7928 714.862 Q101.964 719.445 101.964 728.195 Q101.964 736.366 98.0752 741.251 Q94.2095 746.112 87.6586 746.112 Q85.8993 746.112 84.0938 745.765 Q82.2883 745.417 80.3438 744.723 M89.6493 730.07 Q92.7975 730.07 94.6262 727.917 Q96.478 725.765 96.478 722.015 Q96.478 718.288 94.6262 716.135 Q92.7975 713.959 89.6493 713.959 Q86.5012 713.959 84.6494 716.135 Q82.8207 718.288 82.8207 722.015 Q82.8207 725.765 84.6494 727.917 Q86.5012 730.07 89.6493 730.07 Z\" fill=\"#000000\" fill-rule=\"nonzero\" fill-opacity=\"1\" /><path clip-path=\"url(#clip830)\" d=\"M52.2653 495.102 L59.9041 495.102 L59.9041 468.736 L51.594 470.403 L51.594 466.144 L59.8578 464.477 L64.5337 464.477 L64.5337 495.102 L72.1726 495.102 L72.1726 499.037 L52.2653 499.037 L52.2653 495.102 Z\" fill=\"#000000\" fill-rule=\"nonzero\" fill-opacity=\"1\" /><path clip-path=\"url(#clip830)\" d=\"M85.6447 495.102 L101.964 495.102 L101.964 499.037 L80.0197 499.037 L80.0197 495.102 Q82.6818 492.347 87.2651 487.718 Q91.8715 483.065 93.0521 481.722 Q95.2974 479.199 96.1771 477.463 Q97.0798 475.704 97.0798 474.014 Q97.0798 471.259 95.1354 469.523 Q93.2141 467.787 90.1123 467.787 Q87.9132 467.787 85.4595 468.551 Q83.029 469.315 80.2512 470.866 L80.2512 466.144 Q83.0753 465.009 85.529 464.431 Q87.9827 463.852 90.0197 463.852 Q95.39 463.852 98.5845 466.537 Q101.779 469.222 101.779 473.713 Q101.779 475.843 100.969 477.764 Q100.182 479.662 98.0752 482.255 Q97.4965 482.926 94.3947 486.143 Q91.2928 489.338 85.6447 495.102 Z\" fill=\"#000000\" fill-rule=\"nonzero\" fill-opacity=\"1\" /><path clip-path=\"url(#clip830)\" d=\"M51.6634 248.698 L59.3023 248.698 L59.3023 222.333 L50.9921 223.999 L50.9921 219.74 L59.256 218.073 L63.9319 218.073 L63.9319 248.698 L71.5707 248.698 L71.5707 252.633 L51.6634 252.633 L51.6634 248.698 Z\" fill=\"#000000\" fill-rule=\"nonzero\" fill-opacity=\"1\" /><path clip-path=\"url(#clip830)\" d=\"M81.0614 218.073 L99.4178 218.073 L99.4178 222.009 L85.3438 222.009 L85.3438 230.481 Q86.3623 230.133 87.3808 229.971 Q88.3993 229.786 89.4178 229.786 Q95.2049 229.786 98.5845 232.958 Q101.964 236.129 101.964 241.545 Q101.964 247.124 98.4919 250.226 Q95.0197 253.305 88.7003 253.305 Q86.5243 253.305 84.2558 252.934 Q82.0105 252.564 79.6031 251.823 L79.6031 247.124 Q81.6864 248.258 83.9086 248.814 Q86.1308 249.37 88.6077 249.37 Q92.6123 249.37 94.9502 247.263 Q97.2882 245.157 97.2882 241.545 Q97.2882 237.934 94.9502 235.828 Q92.6123 233.721 88.6077 233.721 Q86.7327 233.721 84.8577 234.138 Q83.0058 234.555 81.0614 235.434 L81.0614 218.073 Z\" fill=\"#000000\" fill-rule=\"nonzero\" fill-opacity=\"1\" /><polyline clip-path=\"url(#clip832)\" style=\"stroke:#009af9; stroke-linecap:round; stroke-linejoin:round; stroke-width:4; stroke-opacity:1; fill:none\" points=\"200.647,1138.43 410.307,1138.43 532.95,1138.43 619.967,1138.43 687.462,1138.43 742.61,1138.43 789.237,1138.43 829.627,1138.43 897.122,1138.43 925.951,1138.43 976.481,1138.43 1019.77,1138.43 1057.62,1138.43 1091.27,1138.43 1135.61,1137.59 1186.14,1316.73 1219.17,1319.58 1267.28,1317.78 1308.78,1318.68 1352.07,1318.63 1395.8,1316.83 1439.09,1316.48 1481.36,1317.07 1522.3,1317.47 1565.07,1316.94 1608.36,1316.36 1651.26,1315.4 1693.2,1315 1735.76,1371.52 1778.04,1372.11 1820.88,1372.3 1863.41,1372.12 1906.11,1371.87 1949.18,1371.52 1991.78,1371.13 2034.09,1370.63 2076.76,1370.01 2119.51,1369.51 2162.09,1369.05 2204.67,1368.62 2247.6,1368.36 2290.07,1367.88 \"/>\n",
       "<polyline clip-path=\"url(#clip832)\" style=\"stroke:#e26f46; stroke-linecap:round; stroke-linejoin:round; stroke-width:4; stroke-opacity:1; fill:none\" points=\"200.647,677.924 410.307,806.968 532.95,805.488 619.967,806.968 687.462,807.633 742.61,808.018 789.237,808.27 829.627,807.783 897.122,868.064 925.951,867.652 976.481,867.78 1019.77,867.61 1057.62,867.385 1091.27,867.509 1135.61,867.506 1186.14,986.206 1219.17,985.675 1267.28,986.895 1308.78,987.675 1352.07,988.136 1395.8,1340.72 1439.09,1348.41 1481.36,1352.75 1522.3,1353.48 1565.07,1357.47 1608.36,1360.84 1651.26,1361.74 1693.2,1363.37 1735.76,1364.62 1778.04,1365.66 1820.88,1365.93 1863.41,1365.43 1906.11,1365.01 1949.18,1365.44 1991.78,1365.45 2034.09,1365.65 2076.76,1365.56 2119.51,1365.72 2162.09,1365.76 2204.67,1365.96 2247.6,1365.98 2290.07,1365.8 \"/>\n",
       "<polyline clip-path=\"url(#clip832)\" style=\"stroke:#3da44d; stroke-linecap:round; stroke-linejoin:round; stroke-width:4; stroke-opacity:1; fill:none\" points=\"200.647,85.838 410.307,720.938 532.95,720.269 619.967,718.218 687.462,716.138 742.61,714.22 789.237,712.484 829.627,718.218 897.122,1215.45 925.951,1213.36 976.481,1223.2 1019.77,1228.21 1057.62,1231.32 1091.27,1233.4 1135.61,1237.17 1186.14,1241.02 1219.17,1242.46 1267.28,1245.17 1308.78,1247.01 1352.07,1306.76 1395.8,1306.96 1439.09,1308.53 1481.36,1309.37 1522.3,1309.68 1565.07,1309.66 1608.36,1309.42 1651.26,1309.77 1693.2,1309.39 1735.76,1308.9 1778.04,1309.21 1820.88,1308.88 1863.41,1309.3 1906.11,1309.39 1949.18,1309.23 1991.78,1308.98 2034.09,1308.5 2076.76,1362.68 2119.51,1363.5 2162.09,1363.79 2204.67,1363.78 2247.6,1363.68 2290.07,1363.47 \"/>\n",
       "<polyline clip-path=\"url(#clip832)\" style=\"stroke:#c271d2; stroke-linecap:round; stroke-linejoin:round; stroke-width:4; stroke-opacity:1; fill:none\" points=\"200.647,677.924 410.307,677.924 532.95,677.924 619.967,804.438 687.462,806.153 742.61,805.488 789.237,806.405 829.627,806.968 897.122,806.968 925.951,806.62 976.481,806.676 1019.77,806.716 1057.62,806.259 1091.27,806.771 1135.61,925.762 1186.14,1226.78 1219.17,1226.27 1267.28,1231.53 1308.78,1234.41 1352.07,1235.92 1395.8,1236.67 1439.09,1237.05 1481.36,1295.37 1522.3,1297.35 1565.07,1297.95 1608.36,1298.21 1651.26,1298.11 1693.2,1298.45 1735.76,1299.09 1778.04,1299.95 1820.88,1299.97 1863.41,1356.09 1906.11,1357.39 1949.18,1358.45 1991.78,1359.45 2034.09,1360.23 2076.76,1361.28 2119.51,1361.73 2162.09,1361.99 2204.67,1362.13 2247.6,1362.16 2290.07,1362.34 \"/>\n",
       "<path clip-path=\"url(#clip830)\" d=\"M2003.31 351.899 L2278.93 351.899 L2278.93 92.6992 L2003.31 92.6992  Z\" fill=\"#ffffff\" fill-rule=\"evenodd\" fill-opacity=\"1\"/>\n",
       "<polyline clip-path=\"url(#clip830)\" style=\"stroke:#000000; stroke-linecap:round; stroke-linejoin:round; stroke-width:4; stroke-opacity:1; fill:none\" points=\"2003.31,351.899 2278.93,351.899 2278.93,92.6992 2003.31,92.6992 2003.31,351.899 \"/>\n",
       "<polyline clip-path=\"url(#clip830)\" style=\"stroke:#009af9; stroke-linecap:round; stroke-linejoin:round; stroke-width:4; stroke-opacity:1; fill:none\" points=\"2027.92,144.539 2175.57,144.539 \"/>\n",
       "<path clip-path=\"url(#clip830)\" d=\"M2214.02 164.227 Q2212.21 168.856 2210.5 170.268 Q2208.79 171.68 2205.92 171.68 L2202.52 171.68 L2202.52 168.115 L2205.02 168.115 Q2206.77 168.115 2207.75 167.282 Q2208.72 166.449 2209.9 163.347 L2210.66 161.403 L2200.18 135.893 L2204.69 135.893 L2212.79 156.171 L2220.89 135.893 L2225.41 135.893 L2214.02 164.227 Z\" fill=\"#000000\" fill-rule=\"nonzero\" fill-opacity=\"1\" /><path clip-path=\"url(#clip830)\" d=\"M2232.7 157.884 L2240.34 157.884 L2240.34 131.518 L2232.03 133.185 L2232.03 128.926 L2240.29 127.259 L2244.97 127.259 L2244.97 157.884 L2252.61 157.884 L2252.61 161.819 L2232.7 161.819 L2232.7 157.884 Z\" fill=\"#000000\" fill-rule=\"nonzero\" fill-opacity=\"1\" /><polyline clip-path=\"url(#clip830)\" style=\"stroke:#e26f46; stroke-linecap:round; stroke-linejoin:round; stroke-width:4; stroke-opacity:1; fill:none\" points=\"2027.92,196.379 2175.57,196.379 \"/>\n",
       "<path clip-path=\"url(#clip830)\" d=\"M2214.02 216.067 Q2212.21 220.696 2210.5 222.108 Q2208.79 223.52 2205.92 223.52 L2202.52 223.52 L2202.52 219.955 L2205.02 219.955 Q2206.77 219.955 2207.75 219.122 Q2208.72 218.289 2209.9 215.187 L2210.66 213.243 L2200.18 187.733 L2204.69 187.733 L2212.79 208.011 L2220.89 187.733 L2225.41 187.733 L2214.02 216.067 Z\" fill=\"#000000\" fill-rule=\"nonzero\" fill-opacity=\"1\" /><path clip-path=\"url(#clip830)\" d=\"M2235.92 209.724 L2252.24 209.724 L2252.24 213.659 L2230.29 213.659 L2230.29 209.724 Q2232.96 206.969 2237.54 202.34 Q2242.14 197.687 2243.33 196.344 Q2245.57 193.821 2246.45 192.085 Q2247.35 190.326 2247.35 188.636 Q2247.35 185.882 2245.41 184.145 Q2243.49 182.409 2240.39 182.409 Q2238.19 182.409 2235.73 183.173 Q2233.3 183.937 2230.52 185.488 L2230.52 180.766 Q2233.35 179.632 2235.8 179.053 Q2238.26 178.474 2240.29 178.474 Q2245.66 178.474 2248.86 181.159 Q2252.05 183.845 2252.05 188.335 Q2252.05 190.465 2251.24 192.386 Q2250.45 194.284 2248.35 196.877 Q2247.77 197.548 2244.67 200.766 Q2241.57 203.96 2235.92 209.724 Z\" fill=\"#000000\" fill-rule=\"nonzero\" fill-opacity=\"1\" /><polyline clip-path=\"url(#clip830)\" style=\"stroke:#3da44d; stroke-linecap:round; stroke-linejoin:round; stroke-width:4; stroke-opacity:1; fill:none\" points=\"2027.92,248.219 2175.57,248.219 \"/>\n",
       "<path clip-path=\"url(#clip830)\" d=\"M2214.02 267.907 Q2212.21 272.536 2210.5 273.948 Q2208.79 275.36 2205.92 275.36 L2202.52 275.36 L2202.52 271.795 L2205.02 271.795 Q2206.77 271.795 2207.75 270.962 Q2208.72 270.129 2209.9 267.027 L2210.66 265.083 L2200.18 239.573 L2204.69 239.573 L2212.79 259.851 L2220.89 239.573 L2225.41 239.573 L2214.02 267.907 Z\" fill=\"#000000\" fill-rule=\"nonzero\" fill-opacity=\"1\" /><path clip-path=\"url(#clip830)\" d=\"M2246.06 246.865 Q2249.41 247.583 2251.29 249.851 Q2253.19 252.12 2253.19 255.453 Q2253.19 260.569 2249.67 263.37 Q2246.15 266.17 2239.67 266.17 Q2237.49 266.17 2235.18 265.731 Q2232.89 265.314 2230.43 264.458 L2230.43 259.944 Q2232.38 261.078 2234.69 261.657 Q2237.01 262.235 2239.53 262.235 Q2243.93 262.235 2246.22 260.499 Q2248.53 258.763 2248.53 255.453 Q2248.53 252.397 2246.38 250.684 Q2244.25 248.948 2240.43 248.948 L2236.4 248.948 L2236.4 245.106 L2240.62 245.106 Q2244.07 245.106 2245.89 243.74 Q2247.72 242.351 2247.72 239.759 Q2247.72 237.097 2245.83 235.685 Q2243.95 234.249 2240.43 234.249 Q2238.51 234.249 2236.31 234.666 Q2234.11 235.083 2231.47 235.962 L2231.47 231.796 Q2234.14 231.055 2236.45 230.685 Q2238.79 230.314 2240.85 230.314 Q2246.17 230.314 2249.27 232.745 Q2252.38 235.152 2252.38 239.272 Q2252.38 242.143 2250.73 244.134 Q2249.09 246.101 2246.06 246.865 Z\" fill=\"#000000\" fill-rule=\"nonzero\" fill-opacity=\"1\" /><polyline clip-path=\"url(#clip830)\" style=\"stroke:#c271d2; stroke-linecap:round; stroke-linejoin:round; stroke-width:4; stroke-opacity:1; fill:none\" points=\"2027.92,300.059 2175.57,300.059 \"/>\n",
       "<path clip-path=\"url(#clip830)\" d=\"M2214.02 319.747 Q2212.21 324.376 2210.5 325.788 Q2208.79 327.2 2205.92 327.2 L2202.52 327.2 L2202.52 323.635 L2205.02 323.635 Q2206.77 323.635 2207.75 322.802 Q2208.72 321.969 2209.9 318.867 L2210.66 316.923 L2200.18 291.413 L2204.69 291.413 L2212.79 311.691 L2220.89 291.413 L2225.41 291.413 L2214.02 319.747 Z\" fill=\"#000000\" fill-rule=\"nonzero\" fill-opacity=\"1\" /><path clip-path=\"url(#clip830)\" d=\"M2244.74 286.853 L2232.93 305.302 L2244.74 305.302 L2244.74 286.853 M2243.51 282.779 L2249.39 282.779 L2249.39 305.302 L2254.32 305.302 L2254.32 309.191 L2249.39 309.191 L2249.39 317.339 L2244.74 317.339 L2244.74 309.191 L2229.14 309.191 L2229.14 304.677 L2243.51 282.779 Z\" fill=\"#000000\" fill-rule=\"nonzero\" fill-opacity=\"1\" /></svg>\n"
      ]
     },
     "metadata": {},
     "output_type": "display_data"
    }
   ],
   "source": [
    "plot(curve.parameter_values, curve.measurements,\n",
    "     xlab=curve.parameter_name, xscale=curve.parameter_scale)"
   ]
  }
 ],
 "metadata": {
  "kernelspec": {
   "display_name": "Julia 1.10.5",
   "language": "julia",
   "name": "julia-1.10"
  },
  "language_info": {
   "file_extension": ".jl",
   "mimetype": "application/julia",
   "name": "julia",
   "version": "1.10.5"
  }
 },
 "nbformat": 4,
 "nbformat_minor": 2
}
